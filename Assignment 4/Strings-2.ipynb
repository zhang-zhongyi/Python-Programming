{
 "cells": [
  {
   "cell_type": "markdown",
   "metadata": {},
   "source": [
    "# String applications"
   ]
  },
  {
   "cell_type": "code",
   "execution_count": 1,
   "metadata": {},
   "outputs": [
    {
     "name": "stdout",
     "output_type": "stream",
     "text": [
      "47\n"
     ]
    }
   ],
   "source": [
    "# Function to calculate the length of a string\n",
    "def string_length(str1):  \n",
    "    count = 0  \n",
    "    for char in str1:  \n",
    "        count += 1  \n",
    "    return count  \n",
    "print(string_length('My first function: count the length of a string'))  "
   ]
  },
  {
   "cell_type": "code",
   "execution_count": 2,
   "metadata": {},
   "outputs": [
    {
     "name": "stdout",
     "output_type": "stream",
     "text": [
      "False\n"
     ]
    }
   ],
   "source": [
    "# Check whether a string starts with specified characters\n",
    "string = \"MyPython\"  \n",
    "print(string.startswith(\"my\")) "
   ]
  },
  {
   "cell_type": "code",
   "execution_count": 3,
   "metadata": {},
   "outputs": [
    {
     "name": "stdout",
     "output_type": "stream",
     "text": [
      "dog lazy the over jumps fox brown quick The\n",
      "Exercises Python\n"
     ]
    }
   ],
   "source": [
    "# Function to Reverse words in a string\n",
    "def reverse_string_words(text):  \n",
    "    for line in text.split('\\n'):  \n",
    "        return(' '.join(line.split()[::-1]))  \n",
    "print(reverse_string_words(\"The quick brown fox jumps over the lazy dog\"))  \n",
    "print(reverse_string_words(\"Python Exercises\")) "
   ]
  },
  {
   "cell_type": "code",
   "execution_count": 4,
   "metadata": {},
   "outputs": [
    {
     "name": "stdout",
     "output_type": "stream",
     "text": [
      "Helon\n",
      "wwwww\n",
      "\n"
     ]
    }
   ],
   "source": [
    "# Find a string made of the first 3 and the last 2 chars from a given a string\n",
    "def string_both_ends(str):  \n",
    "  if len(str) < 3:  \n",
    "    return ''   \n",
    "  return str[0:3] + str[-2:]    \n",
    "print(string_both_ends('Hello world in Python'))  \n",
    "print(string_both_ends('www'))  \n",
    "print(string_both_ends('12'))"
   ]
  },
  {
   "cell_type": "code",
   "execution_count": 5,
   "metadata": {},
   "outputs": [
    {
     "name": "stdout",
     "output_type": "stream",
     "text": [
      "ython\n",
      "Pyton\n",
      "Pytho\n"
     ]
    }
   ],
   "source": [
    "# Remove the nth index character from a non empty string\n",
    "def remove_char(str, n):  \n",
    "      first_part = str[:n]   \n",
    "      last_pasrt = str[n+1:]  \n",
    "      return first_part + last_pasrt  \n",
    "print(remove_char('Python', 0))  \n",
    "print(remove_char('Python', 3))  \n",
    "print(remove_char('Python', 5))  "
   ]
  },
  {
   "cell_type": "code",
   "execution_count": 6,
   "metadata": {},
   "outputs": [
    {
     "name": "stdout",
     "output_type": "stream",
     "text": [
      "dbca\n",
      "52341\n"
     ]
    }
   ],
   "source": [
    "# Change a given string to a new string where the first and last chars have been exchanged\n",
    "def change_sring(str1):  \n",
    "      return str1[-1:] + str1[1:-1] + str1[:1]  \n",
    "        \n",
    "print(change_sring('abcd'))  \n",
    "print(change_sring('12345')) "
   ]
  },
  {
   "cell_type": "code",
   "execution_count": 7,
   "metadata": {},
   "outputs": [
    {
     "name": "stdout",
     "output_type": "stream",
     "text": [
      "13579\n",
      "Pto\n"
     ]
    }
   ],
   "source": [
    "# Remove the characters of odd index values of a given string\n",
    "def odd_values_string(str):  \n",
    "  result = \"\"   \n",
    "  for i in range(len(str)):  \n",
    "    if i % 2 == 0:  \n",
    "      result = result + str[i]  \n",
    "  return result  \n",
    "  \n",
    "print(odd_values_string('123456789'))  \n",
    "print(odd_values_string('Python'))  "
   ]
  },
  {
   "cell_type": "code",
   "execution_count": 8,
   "metadata": {},
   "outputs": [
    {
     "name": "stdout",
     "output_type": "stream",
     "text": [
      "{'the': 2, 'quick': 1, 'brown': 1, 'fox': 1, 'jumps': 1, 'over': 1, 'lazy': 1, 'dog.': 1}\n"
     ]
    }
   ],
   "source": [
    "# Count the occurrences of each word in a given sentence\n",
    "def word_count(str):  \n",
    "    counts = dict()  \n",
    "    words = str.split()  \n",
    "  \n",
    "    for word in words:  \n",
    "        if word in counts:  \n",
    "            counts[word] += 1  \n",
    "        else:  \n",
    "            counts[word] = 1  \n",
    "  \n",
    "    return counts  \n",
    "  \n",
    "print( word_count('the quick brown fox jumps over the lazy dog.'))  "
   ]
  },
  {
   "cell_type": "code",
   "execution_count": null,
   "metadata": {},
   "outputs": [],
   "source": []
  }
 ],
 "metadata": {
  "kernelspec": {
   "display_name": "Python 3",
   "language": "python",
   "name": "python3"
  },
  "language_info": {
   "codemirror_mode": {
    "name": "ipython",
    "version": 3
   },
   "file_extension": ".py",
   "mimetype": "text/x-python",
   "name": "python",
   "nbconvert_exporter": "python",
   "pygments_lexer": "ipython3",
   "version": "3.6.4"
  }
 },
 "nbformat": 4,
 "nbformat_minor": 1
}

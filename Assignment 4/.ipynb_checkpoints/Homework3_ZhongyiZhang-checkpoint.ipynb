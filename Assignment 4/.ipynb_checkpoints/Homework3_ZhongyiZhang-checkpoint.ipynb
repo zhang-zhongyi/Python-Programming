{
 "cells": [
  {
   "cell_type": "markdown",
   "metadata": {},
   "source": [
    "# Concepts in Computer Programming - Homework 3"
   ]
  },
  {
   "cell_type": "markdown",
   "metadata": {},
   "source": [
    "Name: Zhongyi Zhang      \n",
    "UCID: 12216279  \n",
    "Netid: zhongyiz@uchicago.edu"
   ]
  },
  {
   "cell_type": "markdown",
   "metadata": {},
   "source": [
    "# Questions:"
   ]
  },
  {
   "cell_type": "markdown",
   "metadata": {},
   "source": [
    "1. What is the output when following statement is executed ? WHY?   \n",
    "a) a  \n",
    "b) ab   \n",
    "c) cd   \n",
    "d) dc  \n",
    "\n",
    "The answer is \"c)\".  \n",
    "String Index Value: a is 0, b is 1, c is 2, d is 3 ;   \n",
    "[2:] means print all the letters from letter index value 2 (included) to the right end. ---> cd"
   ]
  },
  {
   "cell_type": "code",
   "execution_count": 1,
   "metadata": {},
   "outputs": [
    {
     "data": {
      "text/plain": [
       "'cd'"
      ]
     },
     "execution_count": 1,
     "metadata": {},
     "output_type": "execute_result"
    }
   ],
   "source": [
    "\"abcd\"[2:]  #a-0, b-1, c-2, d-3 ;  [2:] means print all the letters from letter index value 2 (included) to the right end."
   ]
  },
  {
   "cell_type": "markdown",
   "metadata": {},
   "source": [
    "2.What arithmetic operators cannot be used with strings ? (multiple answers)   \n",
    "a) +  \n",
    "b) *  \n",
    "c) –  \n",
    "d) **  \n",
    "\n",
    "The answer is \"c), d)\"."
   ]
  },
  {
   "cell_type": "code",
   "execution_count": 2,
   "metadata": {},
   "outputs": [
    {
     "name": "stdout",
     "output_type": "stream",
     "text": [
      "helloworld\n",
      "hellohellohellohellohelloworldworld\n"
     ]
    }
   ],
   "source": [
    "a = 'hello'\n",
    "b = 'world'\n",
    "c = 'wor'\n",
    "print(str(a)+str(b))\n",
    "print(str(a) * 5 + str(b) * 2)"
   ]
  },
  {
   "cell_type": "markdown",
   "metadata": {},
   "source": [
    "3.What is the output when following statement is executed ? WHY?  \n",
    "a) Error  \n",
    "b) Output equivalent to print ‘new\\nline’  \n",
    "c) newline  \n",
    "d) new line  \n",
    "\n",
    "The answer is \"c)\".  \n",
    "\"print ('new' 'line')\" work same as \"print ('new' + 'line')\", which combines two strings together."
   ]
  },
  {
   "cell_type": "code",
   "execution_count": 3,
   "metadata": {},
   "outputs": [
    {
     "name": "stdout",
     "output_type": "stream",
     "text": [
      "newline\n"
     ]
    }
   ],
   "source": [
    "print ('new''line')"
   ]
  },
  {
   "cell_type": "markdown",
   "metadata": {},
   "source": [
    "4.What is the output when following code is executed ? WHY?  \n",
    "a) dlrowolleh  \n",
    "b) hello  \n",
    "c) world  \n",
    "d) helloworld  \n",
    "\n",
    "The answer is \"a)\".   \n",
    "String Index value: h is -10, e is -9,  l is -8,  l is -7,  o is -6,  w is -5,  o is -4,  r is -3,  l is -2,  d is -1  \n",
    "\"str[::-1]\" means to print all the string contents from the letter index value -1 to all left end. ---> dlrowolleh"
   ]
  },
  {
   "cell_type": "code",
   "execution_count": 4,
   "metadata": {},
   "outputs": [
    {
     "data": {
      "text/plain": [
       "'dlrowolleh'"
      ]
     },
     "execution_count": 4,
     "metadata": {},
     "output_type": "execute_result"
    }
   ],
   "source": [
    "str1=\"helloworld\"\n",
    "str1[::-1]"
   ]
  },
  {
   "cell_type": "markdown",
   "metadata": {},
   "source": [
    "5.What is the result print(0xA + 0xB + 0xC) WHY? :  \n",
    "a) 0xA0xB0xC  \n",
    "b) Error  \n",
    "c) 0x22   \n",
    "d) 33  \n",
    "\n",
    "The answer is \"d)\".  \n",
    "If I don't define 0xA, 0xB, and 0xC to be strings, 0xA, 0xB, and 0xC will be recognized as the hexadecimal digit A, B, and C. With the code \"print(0xA + 0xB + 0xC)\", the computer will sum up all three numbers A + B + C = 10+11+12 = 33.  \n",
    "\n",
    "ps.If I want them to be strings, I can put print('0xA'+'0xB'+'0xC')\n",
    "The answer for this question is choice \"d) 33\"."
   ]
  },
  {
   "cell_type": "code",
   "execution_count": 5,
   "metadata": {},
   "outputs": [
    {
     "name": "stdout",
     "output_type": "stream",
     "text": [
      "33\n"
     ]
    }
   ],
   "source": [
    "print(0xA + 0xB + 0xC)"
   ]
  },
  {
   "cell_type": "markdown",
   "metadata": {},
   "source": [
    "----------------------------------------------------------------------------------------------------------------------"
   ]
  },
  {
   "cell_type": "markdown",
   "metadata": {},
   "source": [
    "#######  FYI  \n",
    "If it is \"oxA, oxB, oxC\" instead of \"0xA, 0xB, 0xC\",   \n",
    "5.What is the result print(oxA + oxB + oxC) WHY? :  \n",
    "a) oxAoxBoxC  \n",
    "b) Error  \n",
    "c) ox22  \n",
    "d) 33  \n",
    "\n",
    "The answer will be \"b)\".  \n",
    "If I don't define \"oxA, oxB, and oxC\", oxA, oxB, and oxC will be recognized as variables. The computer will give error without defining them.  "
   ]
  },
  {
   "cell_type": "code",
   "execution_count": 6,
   "metadata": {},
   "outputs": [],
   "source": [
    "#print(oxA + oxB + oxC) "
   ]
  },
  {
   "cell_type": "markdown",
   "metadata": {},
   "source": [
    "# Problems"
   ]
  },
  {
   "cell_type": "markdown",
   "metadata": {},
   "source": [
    "1. Given an input string from the console (not hardcoded!), modify it is such away that the character, or characters in the middle of the string is(are) exactly as the first character(s) of the initial string! Print the modified string!  "
   ]
  },
  {
   "cell_type": "code",
   "execution_count": 7,
   "metadata": {},
   "outputs": [
    {
     "name": "stdout",
     "output_type": "stream",
     "text": [
      "Please input a string: python\n",
      "pypyon\n"
     ]
    }
   ],
   "source": [
    "a = input('Please input a string: ')\n",
    "\n",
    "if len(a) == 0:\n",
    "    print(\"You need to type in a string!\")\n",
    "elif len(a) % 2 != 0:\n",
    "    print(a[0:len(a)//2]+a[0]+a[len(a)//2+1::])\n",
    "elif len(a) % 2 == 0:\n",
    "    print(a[0:len(a)//2-1]+a[0]+ a[1] + a[len(a)//2+1::])"
   ]
  },
  {
   "cell_type": "code",
   "execution_count": null,
   "metadata": {},
   "outputs": [],
   "source": []
  },
  {
   "cell_type": "markdown",
   "metadata": {
    "collapsed": true
   },
   "source": [
    "2.Given an input string from the console (not hardcoded!), remove the characters of even index values and replace them with the character ‘i’. Print the modified string!"
   ]
  },
  {
   "cell_type": "code",
   "execution_count": 8,
   "metadata": {},
   "outputs": [
    {
     "name": "stdout",
     "output_type": "stream",
     "text": [
      "Please input a string: helloworld\n",
      "ieiliwirid\n"
     ]
    }
   ],
   "source": [
    "b = input('Please input a string: ')\n",
    "c = list(b)\n",
    "\n",
    "for i in range(len(c)):\n",
    "    if (i+1) % 2 != 0:\n",
    "        c[i] = 'i'\n",
    "\n",
    "b = ''.join(c)\n",
    "print(b)"
   ]
  },
  {
   "cell_type": "markdown",
   "metadata": {
    "collapsed": true
   },
   "source": [
    "3. Write a function that takes a string and reverse its characters. Use at least 3 different implementations!"
   ]
  },
  {
   "cell_type": "code",
   "execution_count": 9,
   "metadata": {},
   "outputs": [
    {
     "name": "stdout",
     "output_type": "stream",
     "text": [
      "Pls enter: helloworld\n"
     ]
    },
    {
     "data": {
      "text/plain": [
       "'dlrowolleh'"
      ]
     },
     "execution_count": 9,
     "metadata": {},
     "output_type": "execute_result"
    }
   ],
   "source": [
    "#Implementation 1:\n",
    "\n",
    "def rev1(s1):\n",
    "    m=[]\n",
    "    for i in range(-1, -len(s1)-1, -1):\n",
    "        m.append(s1[i])\n",
    "    return ''.join(m)\n",
    "\n",
    "n = input(\"Pls enter: \")\n",
    "rev1(n)"
   ]
  },
  {
   "cell_type": "code",
   "execution_count": 10,
   "metadata": {},
   "outputs": [
    {
     "name": "stdout",
     "output_type": "stream",
     "text": [
      "Pls enter: superman\n",
      "namrepus\n"
     ]
    }
   ],
   "source": [
    "#Implementation 2:\n",
    "\n",
    "def rev2(s2):\n",
    "    p = str()\n",
    "    for i in reversed(s2):\n",
    "        p = p +str(i)\n",
    "    print(p)\n",
    "    \n",
    "q = input(\"Pls enter: \")\n",
    "rev2(q)   "
   ]
  },
  {
   "cell_type": "code",
   "execution_count": 11,
   "metadata": {},
   "outputs": [
    {
     "name": "stdout",
     "output_type": "stream",
     "text": [
      "Pls enter: I am the best student.\n"
     ]
    },
    {
     "data": {
      "text/plain": [
       "'.tneduts tseb eht ma I'"
      ]
     },
     "execution_count": 11,
     "metadata": {},
     "output_type": "execute_result"
    }
   ],
   "source": [
    "#Implementation 3:\n",
    "\n",
    "def rev3(s3):\n",
    "    x = str()\n",
    "    for i in s3[::-1]:\n",
    "        x = x + str(i)\n",
    "    return x\n",
    "\n",
    "y = input(\"Pls enter: \")\n",
    "rev3(y)"
   ]
  },
  {
   "cell_type": "code",
   "execution_count": null,
   "metadata": {},
   "outputs": [],
   "source": []
  },
  {
   "cell_type": "markdown",
   "metadata": {},
   "source": [
    "# --------------------------------------------------------------------------------------------"
   ]
  },
  {
   "cell_type": "markdown",
   "metadata": {},
   "source": [
    "----------------------------------------------------------------------------------------------------------------------"
   ]
  },
  {
   "cell_type": "code",
   "execution_count": null,
   "metadata": {},
   "outputs": [],
   "source": []
  },
  {
   "cell_type": "code",
   "execution_count": null,
   "metadata": {},
   "outputs": [],
   "source": []
  },
  {
   "cell_type": "markdown",
   "metadata": {},
   "source": [
    "----------------------------------------------------------------------------------------------------------------------"
   ]
  }
 ],
 "metadata": {
  "kernelspec": {
   "display_name": "Python 3",
   "language": "python",
   "name": "python3"
  },
  "language_info": {
   "codemirror_mode": {
    "name": "ipython",
    "version": 3
   },
   "file_extension": ".py",
   "mimetype": "text/x-python",
   "name": "python",
   "nbconvert_exporter": "python",
   "pygments_lexer": "ipython3",
   "version": "3.6.5"
  }
 },
 "nbformat": 4,
 "nbformat_minor": 2
}

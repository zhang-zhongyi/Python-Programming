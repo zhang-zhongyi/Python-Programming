{
 "cells": [
  {
   "cell_type": "markdown",
   "metadata": {},
   "source": [
    "iloc is for integers   \n",
    "iloc doesn't find list or array   \n",
    "loc find a list or an array"
   ]
  },
  {
   "cell_type": "markdown",
   "metadata": {},
   "source": [
    "# Using pandas"
   ]
  },
  {
   "cell_type": "code",
   "execution_count": 3,
   "metadata": {},
   "outputs": [],
   "source": [
    "import pandas as pd\n",
    "import numpy as np\n",
    "import matplotlib.pyplot as plt"
   ]
  },
  {
   "cell_type": "markdown",
   "metadata": {},
   "source": [
    "## Creating a Series object"
   ]
  },
  {
   "cell_type": "code",
   "execution_count": 4,
   "metadata": {},
   "outputs": [
    {
     "data": {
      "text/plain": [
       "0     1.0\n",
       "1     3.0\n",
       "2     5.0\n",
       "3     NaN\n",
       "4     9.0\n",
       "5    11.0\n",
       "6     NaN\n",
       "7    15.0\n",
       "dtype: float64"
      ]
     },
     "execution_count": 4,
     "metadata": {},
     "output_type": "execute_result"
    }
   ],
   "source": [
    "s = pd.Series([1,3,5,np.nan,9,11,np.nan,15])\n",
    "s"
   ]
  },
  {
   "cell_type": "code",
   "execution_count": 5,
   "metadata": {},
   "outputs": [
    {
     "data": {
      "text/plain": [
       "DatetimeIndex(['2018-05-11', '2018-05-12', '2018-05-13', '2018-05-14',\n",
       "               '2018-05-15', '2018-05-16', '2018-05-17', '2018-05-18',\n",
       "               '2018-05-19', '2018-05-20'],\n",
       "              dtype='datetime64[ns]', freq='D')"
      ]
     },
     "execution_count": 5,
     "metadata": {},
     "output_type": "execute_result"
    }
   ],
   "source": [
    "dates = pd.date_range('20180511', periods=10)\n",
    "dates"
   ]
  },
  {
   "cell_type": "code",
   "execution_count": 8,
   "metadata": {},
   "outputs": [
    {
     "data": {
      "text/plain": [
       "DatetimeIndex(['2018-05-31', '2018-10-31', '2019-03-31', '2019-08-31',\n",
       "               '2020-01-31', '2020-06-30', '2020-11-30', '2021-04-30',\n",
       "               '2021-09-30', '2022-02-28', '2022-07-31', '2022-12-31',\n",
       "               '2023-05-31', '2023-10-31', '2024-03-31', '2024-08-31',\n",
       "               '2025-01-31', '2025-06-30', '2025-11-30', '2026-04-30',\n",
       "               '2026-09-30', '2027-02-28', '2027-07-31', '2027-12-31',\n",
       "               '2028-05-31', '2028-10-31', '2029-03-31', '2029-08-31',\n",
       "               '2030-01-31', '2030-06-30', '2030-11-30', '2031-04-30',\n",
       "               '2031-09-30', '2032-02-29', '2032-07-31', '2032-12-31',\n",
       "               '2033-05-31', '2033-10-31', '2034-03-31', '2034-08-31',\n",
       "               '2035-01-31', '2035-06-30', '2035-11-30', '2036-04-30',\n",
       "               '2036-09-30', '2037-02-28', '2037-07-31', '2037-12-31',\n",
       "               '2038-05-31', '2038-10-31', '2039-03-31', '2039-08-31',\n",
       "               '2040-01-31', '2040-06-30', '2040-11-30', '2041-04-30',\n",
       "               '2041-09-30', '2042-02-28', '2042-07-31', '2042-12-31',\n",
       "               '2043-05-31', '2043-10-31', '2044-03-31', '2044-08-31',\n",
       "               '2045-01-31', '2045-06-30', '2045-11-30', '2046-04-30',\n",
       "               '2046-09-30', '2047-02-28', '2047-07-31', '2047-12-31'],\n",
       "              dtype='datetime64[ns]', freq='5M')"
      ]
     },
     "execution_count": 8,
     "metadata": {},
     "output_type": "execute_result"
    }
   ],
   "source": [
    "dates = pd.date_range('20180511', periods=72,freq='5M')\n",
    "dates"
   ]
  },
  {
   "cell_type": "code",
   "execution_count": null,
   "metadata": {},
   "outputs": [],
   "source": []
  },
  {
   "cell_type": "markdown",
   "metadata": {},
   "source": [
    "## Creating a Dataframe"
   ]
  },
  {
   "cell_type": "code",
   "execution_count": 72,
   "metadata": {},
   "outputs": [
    {
     "data": {
      "text/html": [
       "<div>\n",
       "<style scoped>\n",
       "    .dataframe tbody tr th:only-of-type {\n",
       "        vertical-align: middle;\n",
       "    }\n",
       "\n",
       "    .dataframe tbody tr th {\n",
       "        vertical-align: top;\n",
       "    }\n",
       "\n",
       "    .dataframe thead th {\n",
       "        text-align: right;\n",
       "    }\n",
       "</style>\n",
       "<table border=\"1\" class=\"dataframe\">\n",
       "  <thead>\n",
       "    <tr style=\"text-align: right;\">\n",
       "      <th></th>\n",
       "      <th>A</th>\n",
       "      <th>B</th>\n",
       "      <th>C</th>\n",
       "      <th>D</th>\n",
       "    </tr>\n",
       "  </thead>\n",
       "  <tbody>\n",
       "    <tr>\n",
       "      <th>2018-05-11</th>\n",
       "      <td>-0.499544</td>\n",
       "      <td>-1.358460</td>\n",
       "      <td>-0.873614</td>\n",
       "      <td>0.339101</td>\n",
       "    </tr>\n",
       "    <tr>\n",
       "      <th>2018-05-12</th>\n",
       "      <td>-0.802525</td>\n",
       "      <td>0.213348</td>\n",
       "      <td>0.243502</td>\n",
       "      <td>-1.342743</td>\n",
       "    </tr>\n",
       "    <tr>\n",
       "      <th>2018-05-13</th>\n",
       "      <td>-0.490006</td>\n",
       "      <td>-0.354449</td>\n",
       "      <td>1.480566</td>\n",
       "      <td>0.636756</td>\n",
       "    </tr>\n",
       "    <tr>\n",
       "      <th>2018-05-14</th>\n",
       "      <td>-0.551111</td>\n",
       "      <td>-0.377055</td>\n",
       "      <td>-1.748702</td>\n",
       "      <td>0.690637</td>\n",
       "    </tr>\n",
       "    <tr>\n",
       "      <th>2018-05-15</th>\n",
       "      <td>0.582433</td>\n",
       "      <td>0.912320</td>\n",
       "      <td>-0.022746</td>\n",
       "      <td>-0.707480</td>\n",
       "    </tr>\n",
       "    <tr>\n",
       "      <th>2018-05-16</th>\n",
       "      <td>0.499103</td>\n",
       "      <td>-1.462131</td>\n",
       "      <td>0.581690</td>\n",
       "      <td>1.115929</td>\n",
       "    </tr>\n",
       "    <tr>\n",
       "      <th>2018-05-17</th>\n",
       "      <td>0.410211</td>\n",
       "      <td>-0.454990</td>\n",
       "      <td>-0.971550</td>\n",
       "      <td>0.037585</td>\n",
       "    </tr>\n",
       "    <tr>\n",
       "      <th>2018-05-18</th>\n",
       "      <td>-1.793233</td>\n",
       "      <td>0.691043</td>\n",
       "      <td>-0.155686</td>\n",
       "      <td>-0.381418</td>\n",
       "    </tr>\n",
       "    <tr>\n",
       "      <th>2018-05-19</th>\n",
       "      <td>1.817606</td>\n",
       "      <td>-0.753846</td>\n",
       "      <td>0.784366</td>\n",
       "      <td>0.376144</td>\n",
       "    </tr>\n",
       "    <tr>\n",
       "      <th>2018-05-20</th>\n",
       "      <td>1.319829</td>\n",
       "      <td>-0.016522</td>\n",
       "      <td>0.286870</td>\n",
       "      <td>-1.228270</td>\n",
       "    </tr>\n",
       "  </tbody>\n",
       "</table>\n",
       "</div>"
      ],
      "text/plain": [
       "                   A         B         C         D\n",
       "2018-05-11 -0.499544 -1.358460 -0.873614  0.339101\n",
       "2018-05-12 -0.802525  0.213348  0.243502 -1.342743\n",
       "2018-05-13 -0.490006 -0.354449  1.480566  0.636756\n",
       "2018-05-14 -0.551111 -0.377055 -1.748702  0.690637\n",
       "2018-05-15  0.582433  0.912320 -0.022746 -0.707480\n",
       "2018-05-16  0.499103 -1.462131  0.581690  1.115929\n",
       "2018-05-17  0.410211 -0.454990 -0.971550  0.037585\n",
       "2018-05-18 -1.793233  0.691043 -0.155686 -0.381418\n",
       "2018-05-19  1.817606 -0.753846  0.784366  0.376144\n",
       "2018-05-20  1.319829 -0.016522  0.286870 -1.228270"
      ]
     },
     "execution_count": 72,
     "metadata": {},
     "output_type": "execute_result"
    }
   ],
   "source": [
    "df = pd.DataFrame(np.random.randn(10,4), index=dates, columns=list('ABCD'))\n",
    "df"
   ]
  },
  {
   "cell_type": "code",
   "execution_count": 73,
   "metadata": {},
   "outputs": [
    {
     "data": {
      "text/plain": [
       "<bound method NDFrame.head of                    A         B         C         D\n",
       "2018-05-11 -0.499544 -1.358460 -0.873614  0.339101\n",
       "2018-05-12 -0.802525  0.213348  0.243502 -1.342743\n",
       "2018-05-13 -0.490006 -0.354449  1.480566  0.636756\n",
       "2018-05-14 -0.551111 -0.377055 -1.748702  0.690637\n",
       "2018-05-15  0.582433  0.912320 -0.022746 -0.707480\n",
       "2018-05-16  0.499103 -1.462131  0.581690  1.115929\n",
       "2018-05-17  0.410211 -0.454990 -0.971550  0.037585\n",
       "2018-05-18 -1.793233  0.691043 -0.155686 -0.381418\n",
       "2018-05-19  1.817606 -0.753846  0.784366  0.376144\n",
       "2018-05-20  1.319829 -0.016522  0.286870 -1.228270>"
      ]
     },
     "execution_count": 73,
     "metadata": {},
     "output_type": "execute_result"
    }
   ],
   "source": [
    "df.head"
   ]
  },
  {
   "cell_type": "code",
   "execution_count": 74,
   "metadata": {},
   "outputs": [
    {
     "data": {
      "text/html": [
       "<div>\n",
       "<style scoped>\n",
       "    .dataframe tbody tr th:only-of-type {\n",
       "        vertical-align: middle;\n",
       "    }\n",
       "\n",
       "    .dataframe tbody tr th {\n",
       "        vertical-align: top;\n",
       "    }\n",
       "\n",
       "    .dataframe thead th {\n",
       "        text-align: right;\n",
       "    }\n",
       "</style>\n",
       "<table border=\"1\" class=\"dataframe\">\n",
       "  <thead>\n",
       "    <tr style=\"text-align: right;\">\n",
       "      <th></th>\n",
       "      <th>A</th>\n",
       "      <th>B</th>\n",
       "      <th>C</th>\n",
       "      <th>D</th>\n",
       "      <th>E</th>\n",
       "      <th>F</th>\n",
       "    </tr>\n",
       "  </thead>\n",
       "  <tbody>\n",
       "    <tr>\n",
       "      <th>0</th>\n",
       "      <td>1.0</td>\n",
       "      <td>2018-05-11</td>\n",
       "      <td>1.0</td>\n",
       "      <td>3</td>\n",
       "      <td>test</td>\n",
       "      <td>foo</td>\n",
       "    </tr>\n",
       "    <tr>\n",
       "      <th>1</th>\n",
       "      <td>1.0</td>\n",
       "      <td>2018-05-11</td>\n",
       "      <td>1.0</td>\n",
       "      <td>3</td>\n",
       "      <td>train</td>\n",
       "      <td>foo</td>\n",
       "    </tr>\n",
       "    <tr>\n",
       "      <th>2</th>\n",
       "      <td>1.0</td>\n",
       "      <td>2018-05-11</td>\n",
       "      <td>1.0</td>\n",
       "      <td>3</td>\n",
       "      <td>test</td>\n",
       "      <td>foo</td>\n",
       "    </tr>\n",
       "    <tr>\n",
       "      <th>3</th>\n",
       "      <td>1.0</td>\n",
       "      <td>2018-05-11</td>\n",
       "      <td>1.0</td>\n",
       "      <td>3</td>\n",
       "      <td>train</td>\n",
       "      <td>foo</td>\n",
       "    </tr>\n",
       "  </tbody>\n",
       "</table>\n",
       "</div>"
      ],
      "text/plain": [
       "     A          B    C  D      E    F\n",
       "0  1.0 2018-05-11  1.0  3   test  foo\n",
       "1  1.0 2018-05-11  1.0  3  train  foo\n",
       "2  1.0 2018-05-11  1.0  3   test  foo\n",
       "3  1.0 2018-05-11  1.0  3  train  foo"
      ]
     },
     "execution_count": 74,
     "metadata": {},
     "output_type": "execute_result"
    }
   ],
   "source": [
    "df2 = pd.DataFrame({ 'A' : 1.,\n",
    "   ....:                      'B' : pd.Timestamp('20180511'),\n",
    "   ....:                      'C' : pd.Series(1,index=list(range(4)),dtype='float32'),\n",
    "   ....:                      'D' : np.array([3] * 4,dtype='int32'),\n",
    "   ....:                      'E' : pd.Categorical([\"test\",\"train\",\"test\",\"train\"]),\n",
    "   ....:                      'F' : 'foo' })\n",
    "df2"
   ]
  },
  {
   "cell_type": "code",
   "execution_count": 75,
   "metadata": {},
   "outputs": [
    {
     "data": {
      "text/plain": [
       "A           float64\n",
       "B    datetime64[ns]\n",
       "C           float32\n",
       "D             int32\n",
       "E          category\n",
       "F            object\n",
       "dtype: object"
      ]
     },
     "execution_count": 75,
     "metadata": {},
     "output_type": "execute_result"
    }
   ],
   "source": [
    "df2.dtypes"
   ]
  },
  {
   "cell_type": "code",
   "execution_count": 76,
   "metadata": {},
   "outputs": [
    {
     "data": {
      "text/plain": [
       "<bound method NDFrame.head of      A          B    C  D      E    F\n",
       "0  1.0 2018-05-11  1.0  3   test  foo\n",
       "1  1.0 2018-05-11  1.0  3  train  foo\n",
       "2  1.0 2018-05-11  1.0  3   test  foo\n",
       "3  1.0 2018-05-11  1.0  3  train  foo>"
      ]
     },
     "execution_count": 76,
     "metadata": {},
     "output_type": "execute_result"
    }
   ],
   "source": [
    "df2.head"
   ]
  },
  {
   "cell_type": "code",
   "execution_count": 77,
   "metadata": {},
   "outputs": [
    {
     "data": {
      "text/html": [
       "<div>\n",
       "<style scoped>\n",
       "    .dataframe tbody tr th:only-of-type {\n",
       "        vertical-align: middle;\n",
       "    }\n",
       "\n",
       "    .dataframe tbody tr th {\n",
       "        vertical-align: top;\n",
       "    }\n",
       "\n",
       "    .dataframe thead th {\n",
       "        text-align: right;\n",
       "    }\n",
       "</style>\n",
       "<table border=\"1\" class=\"dataframe\">\n",
       "  <thead>\n",
       "    <tr style=\"text-align: right;\">\n",
       "      <th></th>\n",
       "      <th>A</th>\n",
       "      <th>B</th>\n",
       "      <th>C</th>\n",
       "      <th>D</th>\n",
       "      <th>E</th>\n",
       "      <th>F</th>\n",
       "    </tr>\n",
       "  </thead>\n",
       "  <tbody>\n",
       "    <tr>\n",
       "      <th>0</th>\n",
       "      <td>1.0</td>\n",
       "      <td>2018-05-11</td>\n",
       "      <td>1.0</td>\n",
       "      <td>3</td>\n",
       "      <td>test</td>\n",
       "      <td>foo</td>\n",
       "    </tr>\n",
       "    <tr>\n",
       "      <th>1</th>\n",
       "      <td>1.0</td>\n",
       "      <td>2018-05-11</td>\n",
       "      <td>1.0</td>\n",
       "      <td>3</td>\n",
       "      <td>train</td>\n",
       "      <td>foo</td>\n",
       "    </tr>\n",
       "    <tr>\n",
       "      <th>2</th>\n",
       "      <td>1.0</td>\n",
       "      <td>2018-05-11</td>\n",
       "      <td>1.0</td>\n",
       "      <td>3</td>\n",
       "      <td>test</td>\n",
       "      <td>foo</td>\n",
       "    </tr>\n",
       "    <tr>\n",
       "      <th>3</th>\n",
       "      <td>1.0</td>\n",
       "      <td>2018-05-11</td>\n",
       "      <td>1.0</td>\n",
       "      <td>3</td>\n",
       "      <td>train</td>\n",
       "      <td>foo</td>\n",
       "    </tr>\n",
       "  </tbody>\n",
       "</table>\n",
       "</div>"
      ],
      "text/plain": [
       "     A          B    C  D      E    F\n",
       "0  1.0 2018-05-11  1.0  3   test  foo\n",
       "1  1.0 2018-05-11  1.0  3  train  foo\n",
       "2  1.0 2018-05-11  1.0  3   test  foo\n",
       "3  1.0 2018-05-11  1.0  3  train  foo"
      ]
     },
     "execution_count": 77,
     "metadata": {},
     "output_type": "execute_result"
    }
   ],
   "source": [
    "df2.tail(5)"
   ]
  },
  {
   "cell_type": "code",
   "execution_count": 78,
   "metadata": {},
   "outputs": [
    {
     "data": {
      "text/plain": [
       "DatetimeIndex(['2018-05-11', '2018-05-12', '2018-05-13', '2018-05-14',\n",
       "               '2018-05-15', '2018-05-16', '2018-05-17', '2018-05-18',\n",
       "               '2018-05-19', '2018-05-20'],\n",
       "              dtype='datetime64[ns]', freq='D')"
      ]
     },
     "execution_count": 78,
     "metadata": {},
     "output_type": "execute_result"
    }
   ],
   "source": [
    "df.index"
   ]
  },
  {
   "cell_type": "code",
   "execution_count": 79,
   "metadata": {},
   "outputs": [
    {
     "data": {
      "text/plain": [
       "Index(['A', 'B', 'C', 'D'], dtype='object')"
      ]
     },
     "execution_count": 79,
     "metadata": {},
     "output_type": "execute_result"
    }
   ],
   "source": [
    "df.columns"
   ]
  },
  {
   "cell_type": "code",
   "execution_count": 80,
   "metadata": {},
   "outputs": [
    {
     "data": {
      "text/plain": [
       "array([[-0.49954405, -1.3584598 , -0.87361447,  0.33910056],\n",
       "       [-0.80252487,  0.21334822,  0.24350203, -1.3427426 ],\n",
       "       [-0.49000615, -0.35444924,  1.48056644,  0.63675608],\n",
       "       [-0.55111085, -0.37705502, -1.74870164,  0.6906366 ],\n",
       "       [ 0.58243292,  0.91231975, -0.02274647, -0.70747964],\n",
       "       [ 0.49910345, -1.46213103,  0.58169011,  1.11592868],\n",
       "       [ 0.41021103, -0.45499004, -0.97154955,  0.03758505],\n",
       "       [-1.79323318,  0.69104265, -0.15568568, -0.38141781],\n",
       "       [ 1.81760631, -0.75384586,  0.78436558,  0.37614415],\n",
       "       [ 1.31982935, -0.01652184,  0.28686974, -1.22827003]])"
      ]
     },
     "execution_count": 80,
     "metadata": {},
     "output_type": "execute_result"
    }
   ],
   "source": [
    "df.values"
   ]
  },
  {
   "cell_type": "code",
   "execution_count": 81,
   "metadata": {},
   "outputs": [
    {
     "data": {
      "text/plain": [
       "<bound method NDFrame.describe of                    A         B         C         D\n",
       "2018-05-11 -0.499544 -1.358460 -0.873614  0.339101\n",
       "2018-05-12 -0.802525  0.213348  0.243502 -1.342743\n",
       "2018-05-13 -0.490006 -0.354449  1.480566  0.636756\n",
       "2018-05-14 -0.551111 -0.377055 -1.748702  0.690637\n",
       "2018-05-15  0.582433  0.912320 -0.022746 -0.707480\n",
       "2018-05-16  0.499103 -1.462131  0.581690  1.115929\n",
       "2018-05-17  0.410211 -0.454990 -0.971550  0.037585\n",
       "2018-05-18 -1.793233  0.691043 -0.155686 -0.381418\n",
       "2018-05-19  1.817606 -0.753846  0.784366  0.376144\n",
       "2018-05-20  1.319829 -0.016522  0.286870 -1.228270>"
      ]
     },
     "execution_count": 81,
     "metadata": {},
     "output_type": "execute_result"
    }
   ],
   "source": [
    "df.describe"
   ]
  },
  {
   "cell_type": "code",
   "execution_count": 82,
   "metadata": {},
   "outputs": [
    {
     "data": {
      "text/html": [
       "<div>\n",
       "<style scoped>\n",
       "    .dataframe tbody tr th:only-of-type {\n",
       "        vertical-align: middle;\n",
       "    }\n",
       "\n",
       "    .dataframe tbody tr th {\n",
       "        vertical-align: top;\n",
       "    }\n",
       "\n",
       "    .dataframe thead th {\n",
       "        text-align: right;\n",
       "    }\n",
       "</style>\n",
       "<table border=\"1\" class=\"dataframe\">\n",
       "  <thead>\n",
       "    <tr style=\"text-align: right;\">\n",
       "      <th></th>\n",
       "      <th>D</th>\n",
       "      <th>C</th>\n",
       "      <th>B</th>\n",
       "      <th>A</th>\n",
       "    </tr>\n",
       "  </thead>\n",
       "  <tbody>\n",
       "    <tr>\n",
       "      <th>2018-05-11</th>\n",
       "      <td>0.339101</td>\n",
       "      <td>-0.873614</td>\n",
       "      <td>-1.358460</td>\n",
       "      <td>-0.499544</td>\n",
       "    </tr>\n",
       "    <tr>\n",
       "      <th>2018-05-12</th>\n",
       "      <td>-1.342743</td>\n",
       "      <td>0.243502</td>\n",
       "      <td>0.213348</td>\n",
       "      <td>-0.802525</td>\n",
       "    </tr>\n",
       "    <tr>\n",
       "      <th>2018-05-13</th>\n",
       "      <td>0.636756</td>\n",
       "      <td>1.480566</td>\n",
       "      <td>-0.354449</td>\n",
       "      <td>-0.490006</td>\n",
       "    </tr>\n",
       "    <tr>\n",
       "      <th>2018-05-14</th>\n",
       "      <td>0.690637</td>\n",
       "      <td>-1.748702</td>\n",
       "      <td>-0.377055</td>\n",
       "      <td>-0.551111</td>\n",
       "    </tr>\n",
       "    <tr>\n",
       "      <th>2018-05-15</th>\n",
       "      <td>-0.707480</td>\n",
       "      <td>-0.022746</td>\n",
       "      <td>0.912320</td>\n",
       "      <td>0.582433</td>\n",
       "    </tr>\n",
       "    <tr>\n",
       "      <th>2018-05-16</th>\n",
       "      <td>1.115929</td>\n",
       "      <td>0.581690</td>\n",
       "      <td>-1.462131</td>\n",
       "      <td>0.499103</td>\n",
       "    </tr>\n",
       "    <tr>\n",
       "      <th>2018-05-17</th>\n",
       "      <td>0.037585</td>\n",
       "      <td>-0.971550</td>\n",
       "      <td>-0.454990</td>\n",
       "      <td>0.410211</td>\n",
       "    </tr>\n",
       "    <tr>\n",
       "      <th>2018-05-18</th>\n",
       "      <td>-0.381418</td>\n",
       "      <td>-0.155686</td>\n",
       "      <td>0.691043</td>\n",
       "      <td>-1.793233</td>\n",
       "    </tr>\n",
       "    <tr>\n",
       "      <th>2018-05-19</th>\n",
       "      <td>0.376144</td>\n",
       "      <td>0.784366</td>\n",
       "      <td>-0.753846</td>\n",
       "      <td>1.817606</td>\n",
       "    </tr>\n",
       "    <tr>\n",
       "      <th>2018-05-20</th>\n",
       "      <td>-1.228270</td>\n",
       "      <td>0.286870</td>\n",
       "      <td>-0.016522</td>\n",
       "      <td>1.319829</td>\n",
       "    </tr>\n",
       "  </tbody>\n",
       "</table>\n",
       "</div>"
      ],
      "text/plain": [
       "                   D         C         B         A\n",
       "2018-05-11  0.339101 -0.873614 -1.358460 -0.499544\n",
       "2018-05-12 -1.342743  0.243502  0.213348 -0.802525\n",
       "2018-05-13  0.636756  1.480566 -0.354449 -0.490006\n",
       "2018-05-14  0.690637 -1.748702 -0.377055 -0.551111\n",
       "2018-05-15 -0.707480 -0.022746  0.912320  0.582433\n",
       "2018-05-16  1.115929  0.581690 -1.462131  0.499103\n",
       "2018-05-17  0.037585 -0.971550 -0.454990  0.410211\n",
       "2018-05-18 -0.381418 -0.155686  0.691043 -1.793233\n",
       "2018-05-19  0.376144  0.784366 -0.753846  1.817606\n",
       "2018-05-20 -1.228270  0.286870 -0.016522  1.319829"
      ]
     },
     "execution_count": 82,
     "metadata": {},
     "output_type": "execute_result"
    }
   ],
   "source": [
    "df.sort_index(axis=1, ascending=False)"
   ]
  },
  {
   "cell_type": "code",
   "execution_count": 83,
   "metadata": {},
   "outputs": [
    {
     "data": {
      "text/html": [
       "<div>\n",
       "<style scoped>\n",
       "    .dataframe tbody tr th:only-of-type {\n",
       "        vertical-align: middle;\n",
       "    }\n",
       "\n",
       "    .dataframe tbody tr th {\n",
       "        vertical-align: top;\n",
       "    }\n",
       "\n",
       "    .dataframe thead th {\n",
       "        text-align: right;\n",
       "    }\n",
       "</style>\n",
       "<table border=\"1\" class=\"dataframe\">\n",
       "  <thead>\n",
       "    <tr style=\"text-align: right;\">\n",
       "      <th></th>\n",
       "      <th>A</th>\n",
       "      <th>B</th>\n",
       "      <th>C</th>\n",
       "      <th>D</th>\n",
       "    </tr>\n",
       "  </thead>\n",
       "  <tbody>\n",
       "    <tr>\n",
       "      <th>2018-05-14</th>\n",
       "      <td>-0.551111</td>\n",
       "      <td>-0.377055</td>\n",
       "      <td>-1.748702</td>\n",
       "      <td>0.690637</td>\n",
       "    </tr>\n",
       "    <tr>\n",
       "      <th>2018-05-17</th>\n",
       "      <td>0.410211</td>\n",
       "      <td>-0.454990</td>\n",
       "      <td>-0.971550</td>\n",
       "      <td>0.037585</td>\n",
       "    </tr>\n",
       "    <tr>\n",
       "      <th>2018-05-11</th>\n",
       "      <td>-0.499544</td>\n",
       "      <td>-1.358460</td>\n",
       "      <td>-0.873614</td>\n",
       "      <td>0.339101</td>\n",
       "    </tr>\n",
       "    <tr>\n",
       "      <th>2018-05-18</th>\n",
       "      <td>-1.793233</td>\n",
       "      <td>0.691043</td>\n",
       "      <td>-0.155686</td>\n",
       "      <td>-0.381418</td>\n",
       "    </tr>\n",
       "    <tr>\n",
       "      <th>2018-05-15</th>\n",
       "      <td>0.582433</td>\n",
       "      <td>0.912320</td>\n",
       "      <td>-0.022746</td>\n",
       "      <td>-0.707480</td>\n",
       "    </tr>\n",
       "    <tr>\n",
       "      <th>2018-05-12</th>\n",
       "      <td>-0.802525</td>\n",
       "      <td>0.213348</td>\n",
       "      <td>0.243502</td>\n",
       "      <td>-1.342743</td>\n",
       "    </tr>\n",
       "    <tr>\n",
       "      <th>2018-05-20</th>\n",
       "      <td>1.319829</td>\n",
       "      <td>-0.016522</td>\n",
       "      <td>0.286870</td>\n",
       "      <td>-1.228270</td>\n",
       "    </tr>\n",
       "    <tr>\n",
       "      <th>2018-05-16</th>\n",
       "      <td>0.499103</td>\n",
       "      <td>-1.462131</td>\n",
       "      <td>0.581690</td>\n",
       "      <td>1.115929</td>\n",
       "    </tr>\n",
       "    <tr>\n",
       "      <th>2018-05-19</th>\n",
       "      <td>1.817606</td>\n",
       "      <td>-0.753846</td>\n",
       "      <td>0.784366</td>\n",
       "      <td>0.376144</td>\n",
       "    </tr>\n",
       "    <tr>\n",
       "      <th>2018-05-13</th>\n",
       "      <td>-0.490006</td>\n",
       "      <td>-0.354449</td>\n",
       "      <td>1.480566</td>\n",
       "      <td>0.636756</td>\n",
       "    </tr>\n",
       "  </tbody>\n",
       "</table>\n",
       "</div>"
      ],
      "text/plain": [
       "                   A         B         C         D\n",
       "2018-05-14 -0.551111 -0.377055 -1.748702  0.690637\n",
       "2018-05-17  0.410211 -0.454990 -0.971550  0.037585\n",
       "2018-05-11 -0.499544 -1.358460 -0.873614  0.339101\n",
       "2018-05-18 -1.793233  0.691043 -0.155686 -0.381418\n",
       "2018-05-15  0.582433  0.912320 -0.022746 -0.707480\n",
       "2018-05-12 -0.802525  0.213348  0.243502 -1.342743\n",
       "2018-05-20  1.319829 -0.016522  0.286870 -1.228270\n",
       "2018-05-16  0.499103 -1.462131  0.581690  1.115929\n",
       "2018-05-19  1.817606 -0.753846  0.784366  0.376144\n",
       "2018-05-13 -0.490006 -0.354449  1.480566  0.636756"
      ]
     },
     "execution_count": 83,
     "metadata": {},
     "output_type": "execute_result"
    }
   ],
   "source": [
    "df.sort_values(by='C')"
   ]
  },
  {
   "cell_type": "markdown",
   "metadata": {},
   "source": [
    "## SELECTION"
   ]
  },
  {
   "cell_type": "code",
   "execution_count": 84,
   "metadata": {},
   "outputs": [
    {
     "data": {
      "text/plain": [
       "2018-05-11   -0.499544\n",
       "2018-05-12   -0.802525\n",
       "2018-05-13   -0.490006\n",
       "2018-05-14   -0.551111\n",
       "2018-05-15    0.582433\n",
       "2018-05-16    0.499103\n",
       "2018-05-17    0.410211\n",
       "2018-05-18   -1.793233\n",
       "2018-05-19    1.817606\n",
       "2018-05-20    1.319829\n",
       "Freq: D, Name: A, dtype: float64"
      ]
     },
     "execution_count": 84,
     "metadata": {},
     "output_type": "execute_result"
    }
   ],
   "source": [
    "df['A']"
   ]
  },
  {
   "cell_type": "code",
   "execution_count": 85,
   "metadata": {},
   "outputs": [
    {
     "data": {
      "text/html": [
       "<div>\n",
       "<style scoped>\n",
       "    .dataframe tbody tr th:only-of-type {\n",
       "        vertical-align: middle;\n",
       "    }\n",
       "\n",
       "    .dataframe tbody tr th {\n",
       "        vertical-align: top;\n",
       "    }\n",
       "\n",
       "    .dataframe thead th {\n",
       "        text-align: right;\n",
       "    }\n",
       "</style>\n",
       "<table border=\"1\" class=\"dataframe\">\n",
       "  <thead>\n",
       "    <tr style=\"text-align: right;\">\n",
       "      <th></th>\n",
       "      <th>A</th>\n",
       "      <th>B</th>\n",
       "      <th>C</th>\n",
       "      <th>D</th>\n",
       "    </tr>\n",
       "  </thead>\n",
       "  <tbody>\n",
       "    <tr>\n",
       "      <th>2018-05-11</th>\n",
       "      <td>-0.499544</td>\n",
       "      <td>-1.358460</td>\n",
       "      <td>-0.873614</td>\n",
       "      <td>0.339101</td>\n",
       "    </tr>\n",
       "    <tr>\n",
       "      <th>2018-05-12</th>\n",
       "      <td>-0.802525</td>\n",
       "      <td>0.213348</td>\n",
       "      <td>0.243502</td>\n",
       "      <td>-1.342743</td>\n",
       "    </tr>\n",
       "    <tr>\n",
       "      <th>2018-05-13</th>\n",
       "      <td>-0.490006</td>\n",
       "      <td>-0.354449</td>\n",
       "      <td>1.480566</td>\n",
       "      <td>0.636756</td>\n",
       "    </tr>\n",
       "    <tr>\n",
       "      <th>2018-05-14</th>\n",
       "      <td>-0.551111</td>\n",
       "      <td>-0.377055</td>\n",
       "      <td>-1.748702</td>\n",
       "      <td>0.690637</td>\n",
       "    </tr>\n",
       "    <tr>\n",
       "      <th>2018-05-15</th>\n",
       "      <td>0.582433</td>\n",
       "      <td>0.912320</td>\n",
       "      <td>-0.022746</td>\n",
       "      <td>-0.707480</td>\n",
       "    </tr>\n",
       "    <tr>\n",
       "      <th>2018-05-16</th>\n",
       "      <td>0.499103</td>\n",
       "      <td>-1.462131</td>\n",
       "      <td>0.581690</td>\n",
       "      <td>1.115929</td>\n",
       "    </tr>\n",
       "    <tr>\n",
       "      <th>2018-05-17</th>\n",
       "      <td>0.410211</td>\n",
       "      <td>-0.454990</td>\n",
       "      <td>-0.971550</td>\n",
       "      <td>0.037585</td>\n",
       "    </tr>\n",
       "  </tbody>\n",
       "</table>\n",
       "</div>"
      ],
      "text/plain": [
       "                   A         B         C         D\n",
       "2018-05-11 -0.499544 -1.358460 -0.873614  0.339101\n",
       "2018-05-12 -0.802525  0.213348  0.243502 -1.342743\n",
       "2018-05-13 -0.490006 -0.354449  1.480566  0.636756\n",
       "2018-05-14 -0.551111 -0.377055 -1.748702  0.690637\n",
       "2018-05-15  0.582433  0.912320 -0.022746 -0.707480\n",
       "2018-05-16  0.499103 -1.462131  0.581690  1.115929\n",
       "2018-05-17  0.410211 -0.454990 -0.971550  0.037585"
      ]
     },
     "execution_count": 85,
     "metadata": {},
     "output_type": "execute_result"
    }
   ],
   "source": [
    "df[0:7]"
   ]
  },
  {
   "cell_type": "code",
   "execution_count": 86,
   "metadata": {},
   "outputs": [
    {
     "data": {
      "text/plain": [
       "A   -0.499544\n",
       "B   -1.358460\n",
       "C   -0.873614\n",
       "D    0.339101\n",
       "Name: 2018-05-11 00:00:00, dtype: float64"
      ]
     },
     "execution_count": 86,
     "metadata": {},
     "output_type": "execute_result"
    }
   ],
   "source": [
    "df.loc[dates[0]]"
   ]
  },
  {
   "cell_type": "code",
   "execution_count": 87,
   "metadata": {},
   "outputs": [
    {
     "data": {
      "text/html": [
       "<div>\n",
       "<style scoped>\n",
       "    .dataframe tbody tr th:only-of-type {\n",
       "        vertical-align: middle;\n",
       "    }\n",
       "\n",
       "    .dataframe tbody tr th {\n",
       "        vertical-align: top;\n",
       "    }\n",
       "\n",
       "    .dataframe thead th {\n",
       "        text-align: right;\n",
       "    }\n",
       "</style>\n",
       "<table border=\"1\" class=\"dataframe\">\n",
       "  <thead>\n",
       "    <tr style=\"text-align: right;\">\n",
       "      <th></th>\n",
       "      <th>A</th>\n",
       "      <th>B</th>\n",
       "    </tr>\n",
       "  </thead>\n",
       "  <tbody>\n",
       "    <tr>\n",
       "      <th>2018-05-11</th>\n",
       "      <td>-0.499544</td>\n",
       "      <td>-1.358460</td>\n",
       "    </tr>\n",
       "    <tr>\n",
       "      <th>2018-05-12</th>\n",
       "      <td>-0.802525</td>\n",
       "      <td>0.213348</td>\n",
       "    </tr>\n",
       "    <tr>\n",
       "      <th>2018-05-13</th>\n",
       "      <td>-0.490006</td>\n",
       "      <td>-0.354449</td>\n",
       "    </tr>\n",
       "    <tr>\n",
       "      <th>2018-05-14</th>\n",
       "      <td>-0.551111</td>\n",
       "      <td>-0.377055</td>\n",
       "    </tr>\n",
       "    <tr>\n",
       "      <th>2018-05-15</th>\n",
       "      <td>0.582433</td>\n",
       "      <td>0.912320</td>\n",
       "    </tr>\n",
       "    <tr>\n",
       "      <th>2018-05-16</th>\n",
       "      <td>0.499103</td>\n",
       "      <td>-1.462131</td>\n",
       "    </tr>\n",
       "    <tr>\n",
       "      <th>2018-05-17</th>\n",
       "      <td>0.410211</td>\n",
       "      <td>-0.454990</td>\n",
       "    </tr>\n",
       "    <tr>\n",
       "      <th>2018-05-18</th>\n",
       "      <td>-1.793233</td>\n",
       "      <td>0.691043</td>\n",
       "    </tr>\n",
       "    <tr>\n",
       "      <th>2018-05-19</th>\n",
       "      <td>1.817606</td>\n",
       "      <td>-0.753846</td>\n",
       "    </tr>\n",
       "    <tr>\n",
       "      <th>2018-05-20</th>\n",
       "      <td>1.319829</td>\n",
       "      <td>-0.016522</td>\n",
       "    </tr>\n",
       "  </tbody>\n",
       "</table>\n",
       "</div>"
      ],
      "text/plain": [
       "                   A         B\n",
       "2018-05-11 -0.499544 -1.358460\n",
       "2018-05-12 -0.802525  0.213348\n",
       "2018-05-13 -0.490006 -0.354449\n",
       "2018-05-14 -0.551111 -0.377055\n",
       "2018-05-15  0.582433  0.912320\n",
       "2018-05-16  0.499103 -1.462131\n",
       "2018-05-17  0.410211 -0.454990\n",
       "2018-05-18 -1.793233  0.691043\n",
       "2018-05-19  1.817606 -0.753846\n",
       "2018-05-20  1.319829 -0.016522"
      ]
     },
     "execution_count": 87,
     "metadata": {},
     "output_type": "execute_result"
    }
   ],
   "source": [
    "df.loc[:,['A','B']]"
   ]
  },
  {
   "cell_type": "code",
   "execution_count": 88,
   "metadata": {},
   "outputs": [
    {
     "data": {
      "text/html": [
       "<div>\n",
       "<style scoped>\n",
       "    .dataframe tbody tr th:only-of-type {\n",
       "        vertical-align: middle;\n",
       "    }\n",
       "\n",
       "    .dataframe tbody tr th {\n",
       "        vertical-align: top;\n",
       "    }\n",
       "\n",
       "    .dataframe thead th {\n",
       "        text-align: right;\n",
       "    }\n",
       "</style>\n",
       "<table border=\"1\" class=\"dataframe\">\n",
       "  <thead>\n",
       "    <tr style=\"text-align: right;\">\n",
       "      <th></th>\n",
       "      <th>A</th>\n",
       "      <th>B</th>\n",
       "    </tr>\n",
       "  </thead>\n",
       "  <tbody>\n",
       "    <tr>\n",
       "      <th>2018-05-12</th>\n",
       "      <td>-0.802525</td>\n",
       "      <td>0.213348</td>\n",
       "    </tr>\n",
       "    <tr>\n",
       "      <th>2018-05-13</th>\n",
       "      <td>-0.490006</td>\n",
       "      <td>-0.354449</td>\n",
       "    </tr>\n",
       "    <tr>\n",
       "      <th>2018-05-14</th>\n",
       "      <td>-0.551111</td>\n",
       "      <td>-0.377055</td>\n",
       "    </tr>\n",
       "    <tr>\n",
       "      <th>2018-05-15</th>\n",
       "      <td>0.582433</td>\n",
       "      <td>0.912320</td>\n",
       "    </tr>\n",
       "    <tr>\n",
       "      <th>2018-05-16</th>\n",
       "      <td>0.499103</td>\n",
       "      <td>-1.462131</td>\n",
       "    </tr>\n",
       "    <tr>\n",
       "      <th>2018-05-17</th>\n",
       "      <td>0.410211</td>\n",
       "      <td>-0.454990</td>\n",
       "    </tr>\n",
       "    <tr>\n",
       "      <th>2018-05-18</th>\n",
       "      <td>-1.793233</td>\n",
       "      <td>0.691043</td>\n",
       "    </tr>\n",
       "    <tr>\n",
       "      <th>2018-05-19</th>\n",
       "      <td>1.817606</td>\n",
       "      <td>-0.753846</td>\n",
       "    </tr>\n",
       "  </tbody>\n",
       "</table>\n",
       "</div>"
      ],
      "text/plain": [
       "                   A         B\n",
       "2018-05-12 -0.802525  0.213348\n",
       "2018-05-13 -0.490006 -0.354449\n",
       "2018-05-14 -0.551111 -0.377055\n",
       "2018-05-15  0.582433  0.912320\n",
       "2018-05-16  0.499103 -1.462131\n",
       "2018-05-17  0.410211 -0.454990\n",
       "2018-05-18 -1.793233  0.691043\n",
       "2018-05-19  1.817606 -0.753846"
      ]
     },
     "execution_count": 88,
     "metadata": {},
     "output_type": "execute_result"
    }
   ],
   "source": [
    "df.loc['20180512':'20180519',['A','B']]"
   ]
  },
  {
   "cell_type": "code",
   "execution_count": 89,
   "metadata": {},
   "outputs": [
    {
     "data": {
      "text/plain": [
       "A   -0.490006\n",
       "C    1.480566\n",
       "Name: 2018-05-13 00:00:00, dtype: float64"
      ]
     },
     "execution_count": 89,
     "metadata": {},
     "output_type": "execute_result"
    }
   ],
   "source": [
    "df.loc['20180513',['A','C']]"
   ]
  },
  {
   "cell_type": "code",
   "execution_count": 90,
   "metadata": {},
   "outputs": [
    {
     "data": {
      "text/plain": [
       "-0.4995440535904397"
      ]
     },
     "execution_count": 90,
     "metadata": {},
     "output_type": "execute_result"
    }
   ],
   "source": [
    "df.loc[dates[0],'A']"
   ]
  },
  {
   "cell_type": "code",
   "execution_count": 91,
   "metadata": {},
   "outputs": [
    {
     "data": {
      "text/plain": [
       "A   -0.551111\n",
       "B   -0.377055\n",
       "C   -1.748702\n",
       "D    0.690637\n",
       "Name: 2018-05-14 00:00:00, dtype: float64"
      ]
     },
     "execution_count": 91,
     "metadata": {},
     "output_type": "execute_result"
    }
   ],
   "source": [
    "df.iloc[3]"
   ]
  },
  {
   "cell_type": "code",
   "execution_count": 92,
   "metadata": {},
   "outputs": [
    {
     "data": {
      "text/html": [
       "<div>\n",
       "<style scoped>\n",
       "    .dataframe tbody tr th:only-of-type {\n",
       "        vertical-align: middle;\n",
       "    }\n",
       "\n",
       "    .dataframe tbody tr th {\n",
       "        vertical-align: top;\n",
       "    }\n",
       "\n",
       "    .dataframe thead th {\n",
       "        text-align: right;\n",
       "    }\n",
       "</style>\n",
       "<table border=\"1\" class=\"dataframe\">\n",
       "  <thead>\n",
       "    <tr style=\"text-align: right;\">\n",
       "      <th></th>\n",
       "      <th>A</th>\n",
       "      <th>B</th>\n",
       "    </tr>\n",
       "  </thead>\n",
       "  <tbody>\n",
       "    <tr>\n",
       "      <th>2018-05-14</th>\n",
       "      <td>-0.551111</td>\n",
       "      <td>-0.377055</td>\n",
       "    </tr>\n",
       "    <tr>\n",
       "      <th>2018-05-15</th>\n",
       "      <td>0.582433</td>\n",
       "      <td>0.912320</td>\n",
       "    </tr>\n",
       "  </tbody>\n",
       "</table>\n",
       "</div>"
      ],
      "text/plain": [
       "                   A         B\n",
       "2018-05-14 -0.551111 -0.377055\n",
       "2018-05-15  0.582433  0.912320"
      ]
     },
     "execution_count": 92,
     "metadata": {},
     "output_type": "execute_result"
    }
   ],
   "source": [
    "df.iloc[3:5,0:2]"
   ]
  },
  {
   "cell_type": "code",
   "execution_count": 93,
   "metadata": {},
   "outputs": [
    {
     "data": {
      "text/html": [
       "<div>\n",
       "<style scoped>\n",
       "    .dataframe tbody tr th:only-of-type {\n",
       "        vertical-align: middle;\n",
       "    }\n",
       "\n",
       "    .dataframe tbody tr th {\n",
       "        vertical-align: top;\n",
       "    }\n",
       "\n",
       "    .dataframe thead th {\n",
       "        text-align: right;\n",
       "    }\n",
       "</style>\n",
       "<table border=\"1\" class=\"dataframe\">\n",
       "  <thead>\n",
       "    <tr style=\"text-align: right;\">\n",
       "      <th></th>\n",
       "      <th>A</th>\n",
       "      <th>B</th>\n",
       "      <th>C</th>\n",
       "      <th>D</th>\n",
       "    </tr>\n",
       "  </thead>\n",
       "  <tbody>\n",
       "    <tr>\n",
       "      <th>2018-05-12</th>\n",
       "      <td>-0.802525</td>\n",
       "      <td>0.213348</td>\n",
       "      <td>0.243502</td>\n",
       "      <td>-1.342743</td>\n",
       "    </tr>\n",
       "    <tr>\n",
       "      <th>2018-05-13</th>\n",
       "      <td>-0.490006</td>\n",
       "      <td>-0.354449</td>\n",
       "      <td>1.480566</td>\n",
       "      <td>0.636756</td>\n",
       "    </tr>\n",
       "  </tbody>\n",
       "</table>\n",
       "</div>"
      ],
      "text/plain": [
       "                   A         B         C         D\n",
       "2018-05-12 -0.802525  0.213348  0.243502 -1.342743\n",
       "2018-05-13 -0.490006 -0.354449  1.480566  0.636756"
      ]
     },
     "execution_count": 93,
     "metadata": {},
     "output_type": "execute_result"
    }
   ],
   "source": [
    "df.iloc[1:3,:]"
   ]
  },
  {
   "cell_type": "code",
   "execution_count": 94,
   "metadata": {},
   "outputs": [
    {
     "data": {
      "text/html": [
       "<div>\n",
       "<style scoped>\n",
       "    .dataframe tbody tr th:only-of-type {\n",
       "        vertical-align: middle;\n",
       "    }\n",
       "\n",
       "    .dataframe tbody tr th {\n",
       "        vertical-align: top;\n",
       "    }\n",
       "\n",
       "    .dataframe thead th {\n",
       "        text-align: right;\n",
       "    }\n",
       "</style>\n",
       "<table border=\"1\" class=\"dataframe\">\n",
       "  <thead>\n",
       "    <tr style=\"text-align: right;\">\n",
       "      <th></th>\n",
       "      <th>B</th>\n",
       "      <th>C</th>\n",
       "    </tr>\n",
       "  </thead>\n",
       "  <tbody>\n",
       "    <tr>\n",
       "      <th>2018-05-11</th>\n",
       "      <td>-1.358460</td>\n",
       "      <td>-0.873614</td>\n",
       "    </tr>\n",
       "    <tr>\n",
       "      <th>2018-05-12</th>\n",
       "      <td>0.213348</td>\n",
       "      <td>0.243502</td>\n",
       "    </tr>\n",
       "    <tr>\n",
       "      <th>2018-05-13</th>\n",
       "      <td>-0.354449</td>\n",
       "      <td>1.480566</td>\n",
       "    </tr>\n",
       "    <tr>\n",
       "      <th>2018-05-14</th>\n",
       "      <td>-0.377055</td>\n",
       "      <td>-1.748702</td>\n",
       "    </tr>\n",
       "    <tr>\n",
       "      <th>2018-05-15</th>\n",
       "      <td>0.912320</td>\n",
       "      <td>-0.022746</td>\n",
       "    </tr>\n",
       "    <tr>\n",
       "      <th>2018-05-16</th>\n",
       "      <td>-1.462131</td>\n",
       "      <td>0.581690</td>\n",
       "    </tr>\n",
       "    <tr>\n",
       "      <th>2018-05-17</th>\n",
       "      <td>-0.454990</td>\n",
       "      <td>-0.971550</td>\n",
       "    </tr>\n",
       "    <tr>\n",
       "      <th>2018-05-18</th>\n",
       "      <td>0.691043</td>\n",
       "      <td>-0.155686</td>\n",
       "    </tr>\n",
       "    <tr>\n",
       "      <th>2018-05-19</th>\n",
       "      <td>-0.753846</td>\n",
       "      <td>0.784366</td>\n",
       "    </tr>\n",
       "    <tr>\n",
       "      <th>2018-05-20</th>\n",
       "      <td>-0.016522</td>\n",
       "      <td>0.286870</td>\n",
       "    </tr>\n",
       "  </tbody>\n",
       "</table>\n",
       "</div>"
      ],
      "text/plain": [
       "                   B         C\n",
       "2018-05-11 -1.358460 -0.873614\n",
       "2018-05-12  0.213348  0.243502\n",
       "2018-05-13 -0.354449  1.480566\n",
       "2018-05-14 -0.377055 -1.748702\n",
       "2018-05-15  0.912320 -0.022746\n",
       "2018-05-16 -1.462131  0.581690\n",
       "2018-05-17 -0.454990 -0.971550\n",
       "2018-05-18  0.691043 -0.155686\n",
       "2018-05-19 -0.753846  0.784366\n",
       "2018-05-20 -0.016522  0.286870"
      ]
     },
     "execution_count": 94,
     "metadata": {},
     "output_type": "execute_result"
    }
   ],
   "source": [
    "df.iloc[:,1:3]"
   ]
  },
  {
   "cell_type": "markdown",
   "metadata": {},
   "source": [
    "## Creating a new series"
   ]
  },
  {
   "cell_type": "code",
   "execution_count": 95,
   "metadata": {},
   "outputs": [],
   "source": [
    "s1 = pd.Series([1,2,3,4,5,6], index=pd.date_range('20180515', periods=6))"
   ]
  },
  {
   "cell_type": "code",
   "execution_count": 96,
   "metadata": {},
   "outputs": [],
   "source": [
    "df.at[dates[0],'A'] = 0"
   ]
  },
  {
   "cell_type": "code",
   "execution_count": 97,
   "metadata": {},
   "outputs": [],
   "source": [
    "df.iat[0,1] = 0"
   ]
  },
  {
   "cell_type": "code",
   "execution_count": 98,
   "metadata": {},
   "outputs": [
    {
     "data": {
      "text/html": [
       "<div>\n",
       "<style scoped>\n",
       "    .dataframe tbody tr th:only-of-type {\n",
       "        vertical-align: middle;\n",
       "    }\n",
       "\n",
       "    .dataframe tbody tr th {\n",
       "        vertical-align: top;\n",
       "    }\n",
       "\n",
       "    .dataframe thead th {\n",
       "        text-align: right;\n",
       "    }\n",
       "</style>\n",
       "<table border=\"1\" class=\"dataframe\">\n",
       "  <thead>\n",
       "    <tr style=\"text-align: right;\">\n",
       "      <th></th>\n",
       "      <th>A</th>\n",
       "      <th>B</th>\n",
       "      <th>C</th>\n",
       "      <th>D</th>\n",
       "    </tr>\n",
       "  </thead>\n",
       "  <tbody>\n",
       "    <tr>\n",
       "      <th>2018-05-11</th>\n",
       "      <td>0.000000</td>\n",
       "      <td>0.000000</td>\n",
       "      <td>-0.873614</td>\n",
       "      <td>0.339101</td>\n",
       "    </tr>\n",
       "    <tr>\n",
       "      <th>2018-05-12</th>\n",
       "      <td>-0.802525</td>\n",
       "      <td>0.213348</td>\n",
       "      <td>0.243502</td>\n",
       "      <td>-1.342743</td>\n",
       "    </tr>\n",
       "    <tr>\n",
       "      <th>2018-05-13</th>\n",
       "      <td>-0.490006</td>\n",
       "      <td>-0.354449</td>\n",
       "      <td>1.480566</td>\n",
       "      <td>0.636756</td>\n",
       "    </tr>\n",
       "    <tr>\n",
       "      <th>2018-05-14</th>\n",
       "      <td>-0.551111</td>\n",
       "      <td>-0.377055</td>\n",
       "      <td>-1.748702</td>\n",
       "      <td>0.690637</td>\n",
       "    </tr>\n",
       "    <tr>\n",
       "      <th>2018-05-15</th>\n",
       "      <td>0.582433</td>\n",
       "      <td>0.912320</td>\n",
       "      <td>-0.022746</td>\n",
       "      <td>-0.707480</td>\n",
       "    </tr>\n",
       "    <tr>\n",
       "      <th>2018-05-16</th>\n",
       "      <td>0.499103</td>\n",
       "      <td>-1.462131</td>\n",
       "      <td>0.581690</td>\n",
       "      <td>1.115929</td>\n",
       "    </tr>\n",
       "    <tr>\n",
       "      <th>2018-05-17</th>\n",
       "      <td>0.410211</td>\n",
       "      <td>-0.454990</td>\n",
       "      <td>-0.971550</td>\n",
       "      <td>0.037585</td>\n",
       "    </tr>\n",
       "    <tr>\n",
       "      <th>2018-05-18</th>\n",
       "      <td>-1.793233</td>\n",
       "      <td>0.691043</td>\n",
       "      <td>-0.155686</td>\n",
       "      <td>-0.381418</td>\n",
       "    </tr>\n",
       "    <tr>\n",
       "      <th>2018-05-19</th>\n",
       "      <td>1.817606</td>\n",
       "      <td>-0.753846</td>\n",
       "      <td>0.784366</td>\n",
       "      <td>0.376144</td>\n",
       "    </tr>\n",
       "    <tr>\n",
       "      <th>2018-05-20</th>\n",
       "      <td>1.319829</td>\n",
       "      <td>-0.016522</td>\n",
       "      <td>0.286870</td>\n",
       "      <td>-1.228270</td>\n",
       "    </tr>\n",
       "  </tbody>\n",
       "</table>\n",
       "</div>"
      ],
      "text/plain": [
       "                   A         B         C         D\n",
       "2018-05-11  0.000000  0.000000 -0.873614  0.339101\n",
       "2018-05-12 -0.802525  0.213348  0.243502 -1.342743\n",
       "2018-05-13 -0.490006 -0.354449  1.480566  0.636756\n",
       "2018-05-14 -0.551111 -0.377055 -1.748702  0.690637\n",
       "2018-05-15  0.582433  0.912320 -0.022746 -0.707480\n",
       "2018-05-16  0.499103 -1.462131  0.581690  1.115929\n",
       "2018-05-17  0.410211 -0.454990 -0.971550  0.037585\n",
       "2018-05-18 -1.793233  0.691043 -0.155686 -0.381418\n",
       "2018-05-19  1.817606 -0.753846  0.784366  0.376144\n",
       "2018-05-20  1.319829 -0.016522  0.286870 -1.228270"
      ]
     },
     "execution_count": 98,
     "metadata": {},
     "output_type": "execute_result"
    }
   ],
   "source": [
    "df"
   ]
  },
  {
   "cell_type": "code",
   "execution_count": 99,
   "metadata": {},
   "outputs": [
    {
     "data": {
      "text/html": [
       "<div>\n",
       "<style scoped>\n",
       "    .dataframe tbody tr th:only-of-type {\n",
       "        vertical-align: middle;\n",
       "    }\n",
       "\n",
       "    .dataframe tbody tr th {\n",
       "        vertical-align: top;\n",
       "    }\n",
       "\n",
       "    .dataframe thead th {\n",
       "        text-align: right;\n",
       "    }\n",
       "</style>\n",
       "<table border=\"1\" class=\"dataframe\">\n",
       "  <thead>\n",
       "    <tr style=\"text-align: right;\">\n",
       "      <th></th>\n",
       "      <th>A</th>\n",
       "      <th>B</th>\n",
       "      <th>C</th>\n",
       "      <th>D</th>\n",
       "      <th>E</th>\n",
       "    </tr>\n",
       "  </thead>\n",
       "  <tbody>\n",
       "    <tr>\n",
       "      <th>2018-05-11</th>\n",
       "      <td>0.000000</td>\n",
       "      <td>0.000000</td>\n",
       "      <td>-0.873614</td>\n",
       "      <td>0.339101</td>\n",
       "      <td>1.0</td>\n",
       "    </tr>\n",
       "    <tr>\n",
       "      <th>2018-05-12</th>\n",
       "      <td>-0.802525</td>\n",
       "      <td>0.213348</td>\n",
       "      <td>0.243502</td>\n",
       "      <td>-1.342743</td>\n",
       "      <td>1.0</td>\n",
       "    </tr>\n",
       "    <tr>\n",
       "      <th>2018-05-13</th>\n",
       "      <td>-0.490006</td>\n",
       "      <td>-0.354449</td>\n",
       "      <td>1.480566</td>\n",
       "      <td>0.636756</td>\n",
       "      <td>NaN</td>\n",
       "    </tr>\n",
       "    <tr>\n",
       "      <th>2018-05-14</th>\n",
       "      <td>-0.551111</td>\n",
       "      <td>-0.377055</td>\n",
       "      <td>-1.748702</td>\n",
       "      <td>0.690637</td>\n",
       "      <td>NaN</td>\n",
       "    </tr>\n",
       "  </tbody>\n",
       "</table>\n",
       "</div>"
      ],
      "text/plain": [
       "                   A         B         C         D    E\n",
       "2018-05-11  0.000000  0.000000 -0.873614  0.339101  1.0\n",
       "2018-05-12 -0.802525  0.213348  0.243502 -1.342743  1.0\n",
       "2018-05-13 -0.490006 -0.354449  1.480566  0.636756  NaN\n",
       "2018-05-14 -0.551111 -0.377055 -1.748702  0.690637  NaN"
      ]
     },
     "execution_count": 99,
     "metadata": {},
     "output_type": "execute_result"
    }
   ],
   "source": [
    "df1 = df.reindex(index=dates[0:4], columns=list(df.columns) + ['E'])\n",
    "df1.loc[dates[0]:dates[1],'E'] = 1\n",
    "df1"
   ]
  },
  {
   "cell_type": "code",
   "execution_count": 100,
   "metadata": {},
   "outputs": [
    {
     "data": {
      "text/html": [
       "<div>\n",
       "<style scoped>\n",
       "    .dataframe tbody tr th:only-of-type {\n",
       "        vertical-align: middle;\n",
       "    }\n",
       "\n",
       "    .dataframe tbody tr th {\n",
       "        vertical-align: top;\n",
       "    }\n",
       "\n",
       "    .dataframe thead th {\n",
       "        text-align: right;\n",
       "    }\n",
       "</style>\n",
       "<table border=\"1\" class=\"dataframe\">\n",
       "  <thead>\n",
       "    <tr style=\"text-align: right;\">\n",
       "      <th></th>\n",
       "      <th>A</th>\n",
       "      <th>B</th>\n",
       "      <th>C</th>\n",
       "      <th>D</th>\n",
       "      <th>E</th>\n",
       "    </tr>\n",
       "  </thead>\n",
       "  <tbody>\n",
       "    <tr>\n",
       "      <th>2018-05-11</th>\n",
       "      <td>0.000000</td>\n",
       "      <td>0.000000</td>\n",
       "      <td>-0.873614</td>\n",
       "      <td>0.339101</td>\n",
       "      <td>1.0</td>\n",
       "    </tr>\n",
       "    <tr>\n",
       "      <th>2018-05-12</th>\n",
       "      <td>-0.802525</td>\n",
       "      <td>0.213348</td>\n",
       "      <td>0.243502</td>\n",
       "      <td>-1.342743</td>\n",
       "      <td>1.0</td>\n",
       "    </tr>\n",
       "  </tbody>\n",
       "</table>\n",
       "</div>"
      ],
      "text/plain": [
       "                   A         B         C         D    E\n",
       "2018-05-11  0.000000  0.000000 -0.873614  0.339101  1.0\n",
       "2018-05-12 -0.802525  0.213348  0.243502 -1.342743  1.0"
      ]
     },
     "execution_count": 100,
     "metadata": {},
     "output_type": "execute_result"
    }
   ],
   "source": [
    "df1.dropna(how='any')   # replace something"
   ]
  },
  {
   "cell_type": "code",
   "execution_count": 57,
   "metadata": {},
   "outputs": [
    {
     "data": {
      "text/html": [
       "<div>\n",
       "<style scoped>\n",
       "    .dataframe tbody tr th:only-of-type {\n",
       "        vertical-align: middle;\n",
       "    }\n",
       "\n",
       "    .dataframe tbody tr th {\n",
       "        vertical-align: top;\n",
       "    }\n",
       "\n",
       "    .dataframe thead th {\n",
       "        text-align: right;\n",
       "    }\n",
       "</style>\n",
       "<table border=\"1\" class=\"dataframe\">\n",
       "  <thead>\n",
       "    <tr style=\"text-align: right;\">\n",
       "      <th></th>\n",
       "      <th>A</th>\n",
       "      <th>B</th>\n",
       "      <th>C</th>\n",
       "      <th>D</th>\n",
       "      <th>E</th>\n",
       "    </tr>\n",
       "  </thead>\n",
       "  <tbody>\n",
       "    <tr>\n",
       "      <th>2018-05-11</th>\n",
       "      <td>0.000000</td>\n",
       "      <td>0.000000</td>\n",
       "      <td>-2.619231</td>\n",
       "      <td>0.624822</td>\n",
       "      <td>1.0</td>\n",
       "    </tr>\n",
       "    <tr>\n",
       "      <th>2018-05-12</th>\n",
       "      <td>-0.076758</td>\n",
       "      <td>-1.591250</td>\n",
       "      <td>-1.128442</td>\n",
       "      <td>1.642125</td>\n",
       "      <td>1.0</td>\n",
       "    </tr>\n",
       "    <tr>\n",
       "      <th>2018-05-13</th>\n",
       "      <td>-2.172027</td>\n",
       "      <td>-0.860780</td>\n",
       "      <td>0.227131</td>\n",
       "      <td>-0.610435</td>\n",
       "      <td>5.0</td>\n",
       "    </tr>\n",
       "    <tr>\n",
       "      <th>2018-05-14</th>\n",
       "      <td>-1.763110</td>\n",
       "      <td>0.384726</td>\n",
       "      <td>-0.382422</td>\n",
       "      <td>-0.134499</td>\n",
       "      <td>5.0</td>\n",
       "    </tr>\n",
       "  </tbody>\n",
       "</table>\n",
       "</div>"
      ],
      "text/plain": [
       "                   A         B         C         D    E\n",
       "2018-05-11  0.000000  0.000000 -2.619231  0.624822  1.0\n",
       "2018-05-12 -0.076758 -1.591250 -1.128442  1.642125  1.0\n",
       "2018-05-13 -2.172027 -0.860780  0.227131 -0.610435  5.0\n",
       "2018-05-14 -1.763110  0.384726 -0.382422 -0.134499  5.0"
      ]
     },
     "execution_count": 57,
     "metadata": {},
     "output_type": "execute_result"
    }
   ],
   "source": [
    "df1.fillna(value=5)"
   ]
  },
  {
   "cell_type": "markdown",
   "metadata": {},
   "source": [
    "## OPERATIONS"
   ]
  },
  {
   "cell_type": "code",
   "execution_count": 101,
   "metadata": {},
   "outputs": [
    {
     "data": {
      "text/plain": [
       "A    0.099231\n",
       "B   -0.160228\n",
       "C   -0.039530\n",
       "D   -0.046376\n",
       "dtype: float64"
      ]
     },
     "execution_count": 101,
     "metadata": {},
     "output_type": "execute_result"
    }
   ],
   "source": [
    "df.mean()"
   ]
  },
  {
   "cell_type": "code",
   "execution_count": 104,
   "metadata": {},
   "outputs": [
    {
     "name": "stdout",
     "output_type": "stream",
     "text": [
      "                   A         B         C         D\n",
      "2018-05-11  0.000000  0.000000 -0.873614  0.339101\n",
      "2018-05-12 -0.802525  0.213348  0.243502 -1.342743\n",
      "2018-05-13 -0.490006 -0.354449  1.480566  0.636756\n",
      "2018-05-14 -0.551111 -0.377055 -1.748702  0.690637\n",
      "2018-05-15  0.582433  0.912320 -0.022746 -0.707480\n",
      "2018-05-16  0.499103 -1.462131  0.581690  1.115929\n",
      "2018-05-17  0.410211 -0.454990 -0.971550  0.037585\n",
      "2018-05-18 -1.793233  0.691043 -0.155686 -0.381418\n",
      "2018-05-19  1.817606 -0.753846  0.784366  0.376144\n",
      "2018-05-20  1.319829 -0.016522  0.286870 -1.228270\n"
     ]
    },
    {
     "data": {
      "text/html": [
       "<div>\n",
       "<style scoped>\n",
       "    .dataframe tbody tr th:only-of-type {\n",
       "        vertical-align: middle;\n",
       "    }\n",
       "\n",
       "    .dataframe tbody tr th {\n",
       "        vertical-align: top;\n",
       "    }\n",
       "\n",
       "    .dataframe thead th {\n",
       "        text-align: right;\n",
       "    }\n",
       "</style>\n",
       "<table border=\"1\" class=\"dataframe\">\n",
       "  <thead>\n",
       "    <tr style=\"text-align: right;\">\n",
       "      <th></th>\n",
       "      <th>A</th>\n",
       "      <th>B</th>\n",
       "      <th>C</th>\n",
       "      <th>D</th>\n",
       "    </tr>\n",
       "  </thead>\n",
       "  <tbody>\n",
       "    <tr>\n",
       "      <th>2018-05-11</th>\n",
       "      <td>0.000000</td>\n",
       "      <td>0.000000</td>\n",
       "      <td>-0.873614</td>\n",
       "      <td>0.339101</td>\n",
       "    </tr>\n",
       "    <tr>\n",
       "      <th>2018-05-12</th>\n",
       "      <td>-0.802525</td>\n",
       "      <td>0.213348</td>\n",
       "      <td>-0.630112</td>\n",
       "      <td>-1.003642</td>\n",
       "    </tr>\n",
       "    <tr>\n",
       "      <th>2018-05-13</th>\n",
       "      <td>-1.292531</td>\n",
       "      <td>-0.141101</td>\n",
       "      <td>0.850454</td>\n",
       "      <td>-0.366886</td>\n",
       "    </tr>\n",
       "    <tr>\n",
       "      <th>2018-05-14</th>\n",
       "      <td>-1.843642</td>\n",
       "      <td>-0.518156</td>\n",
       "      <td>-0.898248</td>\n",
       "      <td>0.323751</td>\n",
       "    </tr>\n",
       "    <tr>\n",
       "      <th>2018-05-15</th>\n",
       "      <td>-1.261209</td>\n",
       "      <td>0.394164</td>\n",
       "      <td>-0.920994</td>\n",
       "      <td>-0.383729</td>\n",
       "    </tr>\n",
       "    <tr>\n",
       "      <th>2018-05-16</th>\n",
       "      <td>-0.762105</td>\n",
       "      <td>-1.067967</td>\n",
       "      <td>-0.339304</td>\n",
       "      <td>0.732200</td>\n",
       "    </tr>\n",
       "    <tr>\n",
       "      <th>2018-05-17</th>\n",
       "      <td>-0.351894</td>\n",
       "      <td>-1.522957</td>\n",
       "      <td>-1.310854</td>\n",
       "      <td>0.769785</td>\n",
       "    </tr>\n",
       "    <tr>\n",
       "      <th>2018-05-18</th>\n",
       "      <td>-2.145128</td>\n",
       "      <td>-0.831915</td>\n",
       "      <td>-1.466539</td>\n",
       "      <td>0.388367</td>\n",
       "    </tr>\n",
       "    <tr>\n",
       "      <th>2018-05-19</th>\n",
       "      <td>-0.327521</td>\n",
       "      <td>-1.585761</td>\n",
       "      <td>-0.682174</td>\n",
       "      <td>0.764511</td>\n",
       "    </tr>\n",
       "    <tr>\n",
       "      <th>2018-05-20</th>\n",
       "      <td>0.992308</td>\n",
       "      <td>-1.602282</td>\n",
       "      <td>-0.395304</td>\n",
       "      <td>-0.463759</td>\n",
       "    </tr>\n",
       "  </tbody>\n",
       "</table>\n",
       "</div>"
      ],
      "text/plain": [
       "                   A         B         C         D\n",
       "2018-05-11  0.000000  0.000000 -0.873614  0.339101\n",
       "2018-05-12 -0.802525  0.213348 -0.630112 -1.003642\n",
       "2018-05-13 -1.292531 -0.141101  0.850454 -0.366886\n",
       "2018-05-14 -1.843642 -0.518156 -0.898248  0.323751\n",
       "2018-05-15 -1.261209  0.394164 -0.920994 -0.383729\n",
       "2018-05-16 -0.762105 -1.067967 -0.339304  0.732200\n",
       "2018-05-17 -0.351894 -1.522957 -1.310854  0.769785\n",
       "2018-05-18 -2.145128 -0.831915 -1.466539  0.388367\n",
       "2018-05-19 -0.327521 -1.585761 -0.682174  0.764511\n",
       "2018-05-20  0.992308 -1.602282 -0.395304 -0.463759"
      ]
     },
     "execution_count": 104,
     "metadata": {},
     "output_type": "execute_result"
    }
   ],
   "source": [
    "# Applying functions to data\n",
    "print(df)\n",
    "df.apply(np.cumsum)"
   ]
  },
  {
   "cell_type": "code",
   "execution_count": 60,
   "metadata": {},
   "outputs": [
    {
     "data": {
      "text/plain": [
       "A    2.664326\n",
       "B    3.101988\n",
       "C    5.186908\n",
       "D    3.020620\n",
       "dtype: float64"
      ]
     },
     "execution_count": 60,
     "metadata": {},
     "output_type": "execute_result"
    }
   ],
   "source": [
    "df.apply(lambda x: x.max() - x.min())"
   ]
  },
  {
   "cell_type": "code",
   "execution_count": 61,
   "metadata": {},
   "outputs": [
    {
     "data": {
      "text/html": [
       "<div>\n",
       "<style scoped>\n",
       "    .dataframe tbody tr th:only-of-type {\n",
       "        vertical-align: middle;\n",
       "    }\n",
       "\n",
       "    .dataframe tbody tr th {\n",
       "        vertical-align: top;\n",
       "    }\n",
       "\n",
       "    .dataframe thead th {\n",
       "        text-align: right;\n",
       "    }\n",
       "</style>\n",
       "<table border=\"1\" class=\"dataframe\">\n",
       "  <thead>\n",
       "    <tr style=\"text-align: right;\">\n",
       "      <th></th>\n",
       "      <th>A</th>\n",
       "      <th>B</th>\n",
       "      <th>C</th>\n",
       "      <th>D</th>\n",
       "    </tr>\n",
       "  </thead>\n",
       "  <tbody>\n",
       "    <tr>\n",
       "      <th>2018-05-11</th>\n",
       "      <td>0.000000</td>\n",
       "      <td>0.000000</td>\n",
       "      <td>-2.619231</td>\n",
       "      <td>0.624822</td>\n",
       "    </tr>\n",
       "    <tr>\n",
       "      <th>2018-05-12</th>\n",
       "      <td>-0.076758</td>\n",
       "      <td>-1.591250</td>\n",
       "      <td>-1.128442</td>\n",
       "      <td>1.642125</td>\n",
       "    </tr>\n",
       "    <tr>\n",
       "      <th>2018-05-13</th>\n",
       "      <td>-2.172027</td>\n",
       "      <td>-0.860780</td>\n",
       "      <td>0.227131</td>\n",
       "      <td>-0.610435</td>\n",
       "    </tr>\n",
       "    <tr>\n",
       "      <th>2018-05-14</th>\n",
       "      <td>-1.763110</td>\n",
       "      <td>0.384726</td>\n",
       "      <td>-0.382422</td>\n",
       "      <td>-0.134499</td>\n",
       "    </tr>\n",
       "    <tr>\n",
       "      <th>2018-05-15</th>\n",
       "      <td>-0.494355</td>\n",
       "      <td>0.774647</td>\n",
       "      <td>0.442719</td>\n",
       "      <td>0.782930</td>\n",
       "    </tr>\n",
       "    <tr>\n",
       "      <th>2018-05-16</th>\n",
       "      <td>0.354404</td>\n",
       "      <td>-0.454679</td>\n",
       "      <td>0.777708</td>\n",
       "      <td>-1.378496</td>\n",
       "    </tr>\n",
       "    <tr>\n",
       "      <th>2018-05-17</th>\n",
       "      <td>0.207377</td>\n",
       "      <td>0.901403</td>\n",
       "      <td>2.567677</td>\n",
       "      <td>0.901294</td>\n",
       "    </tr>\n",
       "    <tr>\n",
       "      <th>2018-05-18</th>\n",
       "      <td>-0.737707</td>\n",
       "      <td>1.510738</td>\n",
       "      <td>-0.528836</td>\n",
       "      <td>-1.130004</td>\n",
       "    </tr>\n",
       "    <tr>\n",
       "      <th>2018-05-19</th>\n",
       "      <td>-0.477602</td>\n",
       "      <td>0.335522</td>\n",
       "      <td>0.551757</td>\n",
       "      <td>0.877463</td>\n",
       "    </tr>\n",
       "    <tr>\n",
       "      <th>2018-05-20</th>\n",
       "      <td>0.492299</td>\n",
       "      <td>0.211947</td>\n",
       "      <td>-1.572639</td>\n",
       "      <td>1.111819</td>\n",
       "    </tr>\n",
       "  </tbody>\n",
       "</table>\n",
       "</div>"
      ],
      "text/plain": [
       "                   A         B         C         D\n",
       "2018-05-11  0.000000  0.000000 -2.619231  0.624822\n",
       "2018-05-12 -0.076758 -1.591250 -1.128442  1.642125\n",
       "2018-05-13 -2.172027 -0.860780  0.227131 -0.610435\n",
       "2018-05-14 -1.763110  0.384726 -0.382422 -0.134499\n",
       "2018-05-15 -0.494355  0.774647  0.442719  0.782930\n",
       "2018-05-16  0.354404 -0.454679  0.777708 -1.378496\n",
       "2018-05-17  0.207377  0.901403  2.567677  0.901294\n",
       "2018-05-18 -0.737707  1.510738 -0.528836 -1.130004\n",
       "2018-05-19 -0.477602  0.335522  0.551757  0.877463\n",
       "2018-05-20  0.492299  0.211947 -1.572639  1.111819"
      ]
     },
     "execution_count": 61,
     "metadata": {},
     "output_type": "execute_result"
    }
   ],
   "source": [
    "df"
   ]
  },
  {
   "cell_type": "markdown",
   "metadata": {},
   "source": [
    "## Another series"
   ]
  },
  {
   "cell_type": "code",
   "execution_count": 46,
   "metadata": {},
   "outputs": [
    {
     "data": {
      "text/plain": [
       "3    3\n",
       "6    2\n",
       "5    2\n",
       "1    2\n",
       "0    1\n",
       "dtype: int64"
      ]
     },
     "execution_count": 46,
     "metadata": {},
     "output_type": "execute_result"
    }
   ],
   "source": [
    "s = pd.Series(np.random.randint(0, 7, size=10))\n",
    "s\n",
    "s.value_counts()"
   ]
  },
  {
   "cell_type": "code",
   "execution_count": 47,
   "metadata": {},
   "outputs": [
    {
     "data": {
      "text/html": [
       "<div>\n",
       "<style scoped>\n",
       "    .dataframe tbody tr th:only-of-type {\n",
       "        vertical-align: middle;\n",
       "    }\n",
       "\n",
       "    .dataframe tbody tr th {\n",
       "        vertical-align: top;\n",
       "    }\n",
       "\n",
       "    .dataframe thead th {\n",
       "        text-align: right;\n",
       "    }\n",
       "</style>\n",
       "<table border=\"1\" class=\"dataframe\">\n",
       "  <thead>\n",
       "    <tr style=\"text-align: right;\">\n",
       "      <th></th>\n",
       "      <th>0</th>\n",
       "      <th>1</th>\n",
       "      <th>2</th>\n",
       "      <th>3</th>\n",
       "    </tr>\n",
       "  </thead>\n",
       "  <tbody>\n",
       "    <tr>\n",
       "      <th>0</th>\n",
       "      <td>-1.166250</td>\n",
       "      <td>-0.528759</td>\n",
       "      <td>1.231871</td>\n",
       "      <td>-0.721886</td>\n",
       "    </tr>\n",
       "    <tr>\n",
       "      <th>1</th>\n",
       "      <td>1.172810</td>\n",
       "      <td>-0.082963</td>\n",
       "      <td>-1.708758</td>\n",
       "      <td>0.640661</td>\n",
       "    </tr>\n",
       "    <tr>\n",
       "      <th>2</th>\n",
       "      <td>-0.893173</td>\n",
       "      <td>-1.038782</td>\n",
       "      <td>2.084987</td>\n",
       "      <td>1.852629</td>\n",
       "    </tr>\n",
       "    <tr>\n",
       "      <th>3</th>\n",
       "      <td>0.174615</td>\n",
       "      <td>-0.975408</td>\n",
       "      <td>0.719229</td>\n",
       "      <td>0.829640</td>\n",
       "    </tr>\n",
       "    <tr>\n",
       "      <th>4</th>\n",
       "      <td>-0.131030</td>\n",
       "      <td>-0.110203</td>\n",
       "      <td>0.152307</td>\n",
       "      <td>1.410980</td>\n",
       "    </tr>\n",
       "    <tr>\n",
       "      <th>5</th>\n",
       "      <td>0.214999</td>\n",
       "      <td>0.717407</td>\n",
       "      <td>-1.048302</td>\n",
       "      <td>-0.022229</td>\n",
       "    </tr>\n",
       "    <tr>\n",
       "      <th>6</th>\n",
       "      <td>-0.847476</td>\n",
       "      <td>2.234333</td>\n",
       "      <td>1.585888</td>\n",
       "      <td>-1.143454</td>\n",
       "    </tr>\n",
       "    <tr>\n",
       "      <th>7</th>\n",
       "      <td>1.623195</td>\n",
       "      <td>1.190761</td>\n",
       "      <td>-0.814088</td>\n",
       "      <td>-0.022341</td>\n",
       "    </tr>\n",
       "    <tr>\n",
       "      <th>8</th>\n",
       "      <td>0.707384</td>\n",
       "      <td>0.861776</td>\n",
       "      <td>-0.286391</td>\n",
       "      <td>0.913370</td>\n",
       "    </tr>\n",
       "    <tr>\n",
       "      <th>9</th>\n",
       "      <td>-0.747629</td>\n",
       "      <td>-0.782515</td>\n",
       "      <td>-0.685221</td>\n",
       "      <td>-0.762465</td>\n",
       "    </tr>\n",
       "  </tbody>\n",
       "</table>\n",
       "</div>"
      ],
      "text/plain": [
       "          0         1         2         3\n",
       "0 -1.166250 -0.528759  1.231871 -0.721886\n",
       "1  1.172810 -0.082963 -1.708758  0.640661\n",
       "2 -0.893173 -1.038782  2.084987  1.852629\n",
       "3  0.174615 -0.975408  0.719229  0.829640\n",
       "4 -0.131030 -0.110203  0.152307  1.410980\n",
       "5  0.214999  0.717407 -1.048302 -0.022229\n",
       "6 -0.847476  2.234333  1.585888 -1.143454\n",
       "7  1.623195  1.190761 -0.814088 -0.022341\n",
       "8  0.707384  0.861776 -0.286391  0.913370\n",
       "9 -0.747629 -0.782515 -0.685221 -0.762465"
      ]
     },
     "execution_count": 47,
     "metadata": {},
     "output_type": "execute_result"
    }
   ],
   "source": [
    "df = pd.DataFrame(np.random.randn(10, 4))\n",
    "df"
   ]
  },
  {
   "cell_type": "code",
   "execution_count": 48,
   "metadata": {},
   "outputs": [
    {
     "data": {
      "text/html": [
       "<div>\n",
       "<style scoped>\n",
       "    .dataframe tbody tr th:only-of-type {\n",
       "        vertical-align: middle;\n",
       "    }\n",
       "\n",
       "    .dataframe tbody tr th {\n",
       "        vertical-align: top;\n",
       "    }\n",
       "\n",
       "    .dataframe thead th {\n",
       "        text-align: right;\n",
       "    }\n",
       "</style>\n",
       "<table border=\"1\" class=\"dataframe\">\n",
       "  <thead>\n",
       "    <tr style=\"text-align: right;\">\n",
       "      <th></th>\n",
       "      <th>0</th>\n",
       "      <th>1</th>\n",
       "      <th>2</th>\n",
       "      <th>3</th>\n",
       "    </tr>\n",
       "  </thead>\n",
       "  <tbody>\n",
       "    <tr>\n",
       "      <th>0</th>\n",
       "      <td>-1.166250</td>\n",
       "      <td>-0.528759</td>\n",
       "      <td>1.231871</td>\n",
       "      <td>-0.721886</td>\n",
       "    </tr>\n",
       "    <tr>\n",
       "      <th>1</th>\n",
       "      <td>1.172810</td>\n",
       "      <td>-0.082963</td>\n",
       "      <td>-1.708758</td>\n",
       "      <td>0.640661</td>\n",
       "    </tr>\n",
       "    <tr>\n",
       "      <th>2</th>\n",
       "      <td>-0.893173</td>\n",
       "      <td>-1.038782</td>\n",
       "      <td>2.084987</td>\n",
       "      <td>1.852629</td>\n",
       "    </tr>\n",
       "    <tr>\n",
       "      <th>3</th>\n",
       "      <td>0.174615</td>\n",
       "      <td>-0.975408</td>\n",
       "      <td>0.719229</td>\n",
       "      <td>0.829640</td>\n",
       "    </tr>\n",
       "    <tr>\n",
       "      <th>4</th>\n",
       "      <td>-0.131030</td>\n",
       "      <td>-0.110203</td>\n",
       "      <td>0.152307</td>\n",
       "      <td>1.410980</td>\n",
       "    </tr>\n",
       "    <tr>\n",
       "      <th>5</th>\n",
       "      <td>0.214999</td>\n",
       "      <td>0.717407</td>\n",
       "      <td>-1.048302</td>\n",
       "      <td>-0.022229</td>\n",
       "    </tr>\n",
       "    <tr>\n",
       "      <th>6</th>\n",
       "      <td>-0.847476</td>\n",
       "      <td>2.234333</td>\n",
       "      <td>1.585888</td>\n",
       "      <td>-1.143454</td>\n",
       "    </tr>\n",
       "    <tr>\n",
       "      <th>7</th>\n",
       "      <td>1.623195</td>\n",
       "      <td>1.190761</td>\n",
       "      <td>-0.814088</td>\n",
       "      <td>-0.022341</td>\n",
       "    </tr>\n",
       "    <tr>\n",
       "      <th>8</th>\n",
       "      <td>0.707384</td>\n",
       "      <td>0.861776</td>\n",
       "      <td>-0.286391</td>\n",
       "      <td>0.913370</td>\n",
       "    </tr>\n",
       "    <tr>\n",
       "      <th>9</th>\n",
       "      <td>-0.747629</td>\n",
       "      <td>-0.782515</td>\n",
       "      <td>-0.685221</td>\n",
       "      <td>-0.762465</td>\n",
       "    </tr>\n",
       "  </tbody>\n",
       "</table>\n",
       "</div>"
      ],
      "text/plain": [
       "          0         1         2         3\n",
       "0 -1.166250 -0.528759  1.231871 -0.721886\n",
       "1  1.172810 -0.082963 -1.708758  0.640661\n",
       "2 -0.893173 -1.038782  2.084987  1.852629\n",
       "3  0.174615 -0.975408  0.719229  0.829640\n",
       "4 -0.131030 -0.110203  0.152307  1.410980\n",
       "5  0.214999  0.717407 -1.048302 -0.022229\n",
       "6 -0.847476  2.234333  1.585888 -1.143454\n",
       "7  1.623195  1.190761 -0.814088 -0.022341\n",
       "8  0.707384  0.861776 -0.286391  0.913370\n",
       "9 -0.747629 -0.782515 -0.685221 -0.762465"
      ]
     },
     "execution_count": 48,
     "metadata": {},
     "output_type": "execute_result"
    }
   ],
   "source": [
    "pieces = [df[:3], df[3:7], df[7:]]\n",
    "pd.concat(pieces)"
   ]
  },
  {
   "cell_type": "markdown",
   "metadata": {},
   "source": [
    "## APPENDING"
   ]
  },
  {
   "cell_type": "code",
   "execution_count": 49,
   "metadata": {},
   "outputs": [
    {
     "data": {
      "text/html": [
       "<div>\n",
       "<style scoped>\n",
       "    .dataframe tbody tr th:only-of-type {\n",
       "        vertical-align: middle;\n",
       "    }\n",
       "\n",
       "    .dataframe tbody tr th {\n",
       "        vertical-align: top;\n",
       "    }\n",
       "\n",
       "    .dataframe thead th {\n",
       "        text-align: right;\n",
       "    }\n",
       "</style>\n",
       "<table border=\"1\" class=\"dataframe\">\n",
       "  <thead>\n",
       "    <tr style=\"text-align: right;\">\n",
       "      <th></th>\n",
       "      <th>A</th>\n",
       "      <th>B</th>\n",
       "      <th>C</th>\n",
       "      <th>D</th>\n",
       "    </tr>\n",
       "  </thead>\n",
       "  <tbody>\n",
       "    <tr>\n",
       "      <th>0</th>\n",
       "      <td>1.457729</td>\n",
       "      <td>2.059263</td>\n",
       "      <td>0.919351</td>\n",
       "      <td>-2.294536</td>\n",
       "    </tr>\n",
       "    <tr>\n",
       "      <th>1</th>\n",
       "      <td>1.741405</td>\n",
       "      <td>0.008476</td>\n",
       "      <td>-1.497512</td>\n",
       "      <td>1.690716</td>\n",
       "    </tr>\n",
       "    <tr>\n",
       "      <th>2</th>\n",
       "      <td>0.736971</td>\n",
       "      <td>0.848973</td>\n",
       "      <td>0.431270</td>\n",
       "      <td>-0.297923</td>\n",
       "    </tr>\n",
       "    <tr>\n",
       "      <th>3</th>\n",
       "      <td>-0.654854</td>\n",
       "      <td>0.480828</td>\n",
       "      <td>0.145424</td>\n",
       "      <td>-0.438577</td>\n",
       "    </tr>\n",
       "    <tr>\n",
       "      <th>4</th>\n",
       "      <td>-0.544582</td>\n",
       "      <td>0.458022</td>\n",
       "      <td>0.015837</td>\n",
       "      <td>0.552394</td>\n",
       "    </tr>\n",
       "    <tr>\n",
       "      <th>5</th>\n",
       "      <td>1.369516</td>\n",
       "      <td>-1.361380</td>\n",
       "      <td>-0.864753</td>\n",
       "      <td>0.798148</td>\n",
       "    </tr>\n",
       "    <tr>\n",
       "      <th>6</th>\n",
       "      <td>-0.512657</td>\n",
       "      <td>0.140665</td>\n",
       "      <td>0.862769</td>\n",
       "      <td>-1.085328</td>\n",
       "    </tr>\n",
       "    <tr>\n",
       "      <th>7</th>\n",
       "      <td>1.982859</td>\n",
       "      <td>0.436286</td>\n",
       "      <td>-0.357846</td>\n",
       "      <td>1.953912</td>\n",
       "    </tr>\n",
       "  </tbody>\n",
       "</table>\n",
       "</div>"
      ],
      "text/plain": [
       "          A         B         C         D\n",
       "0  1.457729  2.059263  0.919351 -2.294536\n",
       "1  1.741405  0.008476 -1.497512  1.690716\n",
       "2  0.736971  0.848973  0.431270 -0.297923\n",
       "3 -0.654854  0.480828  0.145424 -0.438577\n",
       "4 -0.544582  0.458022  0.015837  0.552394\n",
       "5  1.369516 -1.361380 -0.864753  0.798148\n",
       "6 -0.512657  0.140665  0.862769 -1.085328\n",
       "7  1.982859  0.436286 -0.357846  1.953912"
      ]
     },
     "execution_count": 49,
     "metadata": {},
     "output_type": "execute_result"
    }
   ],
   "source": [
    "df = pd.DataFrame(np.random.randn(8, 4), columns=['A','B','C','D'])\n",
    "df"
   ]
  },
  {
   "cell_type": "code",
   "execution_count": 50,
   "metadata": {},
   "outputs": [
    {
     "data": {
      "text/html": [
       "<div>\n",
       "<style scoped>\n",
       "    .dataframe tbody tr th:only-of-type {\n",
       "        vertical-align: middle;\n",
       "    }\n",
       "\n",
       "    .dataframe tbody tr th {\n",
       "        vertical-align: top;\n",
       "    }\n",
       "\n",
       "    .dataframe thead th {\n",
       "        text-align: right;\n",
       "    }\n",
       "</style>\n",
       "<table border=\"1\" class=\"dataframe\">\n",
       "  <thead>\n",
       "    <tr style=\"text-align: right;\">\n",
       "      <th></th>\n",
       "      <th>A</th>\n",
       "      <th>B</th>\n",
       "      <th>C</th>\n",
       "      <th>D</th>\n",
       "    </tr>\n",
       "  </thead>\n",
       "  <tbody>\n",
       "    <tr>\n",
       "      <th>0</th>\n",
       "      <td>1.457729</td>\n",
       "      <td>2.059263</td>\n",
       "      <td>0.919351</td>\n",
       "      <td>-2.294536</td>\n",
       "    </tr>\n",
       "    <tr>\n",
       "      <th>1</th>\n",
       "      <td>1.741405</td>\n",
       "      <td>0.008476</td>\n",
       "      <td>-1.497512</td>\n",
       "      <td>1.690716</td>\n",
       "    </tr>\n",
       "    <tr>\n",
       "      <th>2</th>\n",
       "      <td>0.736971</td>\n",
       "      <td>0.848973</td>\n",
       "      <td>0.431270</td>\n",
       "      <td>-0.297923</td>\n",
       "    </tr>\n",
       "    <tr>\n",
       "      <th>3</th>\n",
       "      <td>-0.654854</td>\n",
       "      <td>0.480828</td>\n",
       "      <td>0.145424</td>\n",
       "      <td>-0.438577</td>\n",
       "    </tr>\n",
       "    <tr>\n",
       "      <th>4</th>\n",
       "      <td>-0.544582</td>\n",
       "      <td>0.458022</td>\n",
       "      <td>0.015837</td>\n",
       "      <td>0.552394</td>\n",
       "    </tr>\n",
       "    <tr>\n",
       "      <th>5</th>\n",
       "      <td>1.369516</td>\n",
       "      <td>-1.361380</td>\n",
       "      <td>-0.864753</td>\n",
       "      <td>0.798148</td>\n",
       "    </tr>\n",
       "    <tr>\n",
       "      <th>6</th>\n",
       "      <td>-0.512657</td>\n",
       "      <td>0.140665</td>\n",
       "      <td>0.862769</td>\n",
       "      <td>-1.085328</td>\n",
       "    </tr>\n",
       "    <tr>\n",
       "      <th>7</th>\n",
       "      <td>1.982859</td>\n",
       "      <td>0.436286</td>\n",
       "      <td>-0.357846</td>\n",
       "      <td>1.953912</td>\n",
       "    </tr>\n",
       "    <tr>\n",
       "      <th>8</th>\n",
       "      <td>-0.654854</td>\n",
       "      <td>0.480828</td>\n",
       "      <td>0.145424</td>\n",
       "      <td>-0.438577</td>\n",
       "    </tr>\n",
       "  </tbody>\n",
       "</table>\n",
       "</div>"
      ],
      "text/plain": [
       "          A         B         C         D\n",
       "0  1.457729  2.059263  0.919351 -2.294536\n",
       "1  1.741405  0.008476 -1.497512  1.690716\n",
       "2  0.736971  0.848973  0.431270 -0.297923\n",
       "3 -0.654854  0.480828  0.145424 -0.438577\n",
       "4 -0.544582  0.458022  0.015837  0.552394\n",
       "5  1.369516 -1.361380 -0.864753  0.798148\n",
       "6 -0.512657  0.140665  0.862769 -1.085328\n",
       "7  1.982859  0.436286 -0.357846  1.953912\n",
       "8 -0.654854  0.480828  0.145424 -0.438577"
      ]
     },
     "execution_count": 50,
     "metadata": {},
     "output_type": "execute_result"
    }
   ],
   "source": [
    "s = df.iloc[3]\n",
    "df.append(s, ignore_index=True)"
   ]
  },
  {
   "cell_type": "markdown",
   "metadata": {},
   "source": [
    "## PLOTTING"
   ]
  },
  {
   "cell_type": "code",
   "execution_count": 51,
   "metadata": {},
   "outputs": [],
   "source": [
    "%matplotlib inline"
   ]
  },
  {
   "cell_type": "code",
   "execution_count": 52,
   "metadata": {
    "scrolled": false
   },
   "outputs": [
    {
     "data": {
      "text/plain": [
       "<matplotlib.axes._subplots.AxesSubplot at 0x1a690ae14a8>"
      ]
     },
     "execution_count": 52,
     "metadata": {},
     "output_type": "execute_result"
    },
    {
     "data": {
      "image/png": "[encoded data removed]",
      "text/plain": [
       "<matplotlib.figure.Figure at 0x1a690ad0eb8>"
      ]
     },
     "metadata": {},
     "output_type": "display_data"
    }
   ],
   "source": [
    "ts = pd.Series(np.random.randn(1000), index=pd.date_range('20150101', periods=1000))\n",
    "ts = ts.cumsum()\n",
    "ts.plot()"
   ]
  },
  {
   "cell_type": "code",
   "execution_count": 53,
   "metadata": {},
   "outputs": [
    {
     "data": {
      "text/plain": [
       "<matplotlib.legend.Legend at 0x1a690e76518>"
      ]
     },
     "execution_count": 53,
     "metadata": {},
     "output_type": "execute_result"
    },
    {
     "data": {
      "text/plain": [
       "<matplotlib.figure.Figure at 0x1a690e317f0>"
      ]
     },
     "metadata": {},
     "output_type": "display_data"
    },
    {
     "data": {
      "image/png": "[encoded data removed]",
      "text/plain": [
       "<matplotlib.figure.Figure at 0x1a690e57518>"
      ]
     },
     "metadata": {},
     "output_type": "display_data"
    }
   ],
   "source": [
    "df = pd.DataFrame(np.random.randn(1000, 4), index=ts.index, columns=['A', 'B', 'C', 'D'])\n",
    "df = df.cumsum()\n",
    "plt.figure(); df.plot(); plt.legend(loc='best')"
   ]
  },
  {
   "cell_type": "code",
   "execution_count": null,
   "metadata": {
    "collapsed": true
   },
   "outputs": [],
   "source": []
  }
 ],
 "metadata": {
  "anaconda-cloud": {},
  "kernelspec": {
   "display_name": "Python 3",
   "language": "python",
   "name": "python3"
  },
  "language_info": {
   "codemirror_mode": {
    "name": "ipython",
    "version": 3
   },
   "file_extension": ".py",
   "mimetype": "text/x-python",
   "name": "python",
   "nbconvert_exporter": "python",
   "pygments_lexer": "ipython3",
   "version": "3.6.5"
  }
 },
 "nbformat": 4,
 "nbformat_minor": 1
}

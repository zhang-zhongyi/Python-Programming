{
 "cells": [
  {
   "cell_type": "markdown",
   "metadata": {},
   "source": [
    "# Convert pandas dataframe to a list of Dictionaries"
   ]
  },
  {
   "cell_type": "code",
   "execution_count": 1,
   "metadata": {},
   "outputs": [],
   "source": [
    "import pandas as pd\n",
    "import numpy as np\n",
    "import matplotlib.pyplot as plt"
   ]
  },
  {
   "cell_type": "code",
   "execution_count": 6,
   "metadata": {},
   "outputs": [],
   "source": [
    "df = pd.DataFrame({ 'col-1': [1, 2, 4, 6, 10], 'col-2': [0.5, 0.75, -1.25, -3.0, 2.75]}, index=['row-1', 'row-2', 'row-3', 'row-4', 'row-5'])"
   ]
  },
  {
   "cell_type": "code",
   "execution_count": 7,
   "metadata": {},
   "outputs": [
    {
     "name": "stdout",
     "output_type": "stream",
     "text": [
      "       col-1  col-2\n",
      "row-1      1   0.50\n",
      "row-2      2   0.75\n",
      "row-3      4  -1.25\n",
      "row-4      6  -3.00\n",
      "row-5     10   2.75\n"
     ]
    }
   ],
   "source": [
    "print(df)"
   ]
  },
  {
   "cell_type": "markdown",
   "metadata": {},
   "source": [
    "## Convert dataframe to Dictionary"
   ]
  },
  {
   "cell_type": "code",
   "execution_count": 8,
   "metadata": {},
   "outputs": [
    {
     "data": {
      "text/plain": [
       "{'col-1': {'row-1': 1, 'row-2': 2, 'row-3': 4, 'row-4': 6, 'row-5': 10},\n",
       " 'col-2': {'row-1': 0.5,\n",
       "  'row-2': 0.75,\n",
       "  'row-3': -1.25,\n",
       "  'row-4': -3.0,\n",
       "  'row-5': 2.75}}"
      ]
     },
     "execution_count": 8,
     "metadata": {},
     "output_type": "execute_result"
    }
   ],
   "source": [
    " df.to_dict()"
   ]
  },
  {
   "cell_type": "markdown",
   "metadata": {},
   "source": [
    "### Specify orientation of return"
   ]
  },
  {
   "cell_type": "code",
   "execution_count": 9,
   "metadata": {},
   "outputs": [
    {
     "data": {
      "text/plain": [
       "{'col-1': row-1     1\n",
       " row-2     2\n",
       " row-3     4\n",
       " row-4     6\n",
       " row-5    10\n",
       " Name: col-1, dtype: int64, 'col-2': row-1    0.50\n",
       " row-2    0.75\n",
       " row-3   -1.25\n",
       " row-4   -3.00\n",
       " row-5    2.75\n",
       " Name: col-2, dtype: float64}"
      ]
     },
     "execution_count": 9,
     "metadata": {},
     "output_type": "execute_result"
    }
   ],
   "source": [
    "df.to_dict('series')"
   ]
  },
  {
   "cell_type": "code",
   "execution_count": 10,
   "metadata": {},
   "outputs": [
    {
     "data": {
      "text/plain": [
       "{'index': ['row-1', 'row-2', 'row-3', 'row-4', 'row-5'],\n",
       " 'columns': ['col-1', 'col-2'],\n",
       " 'data': [[1.0, 0.5], [2.0, 0.75], [4.0, -1.25], [6.0, -3.0], [10.0, 2.75]]}"
      ]
     },
     "execution_count": 10,
     "metadata": {},
     "output_type": "execute_result"
    }
   ],
   "source": [
    "df.to_dict('split')"
   ]
  },
  {
   "cell_type": "code",
   "execution_count": 11,
   "metadata": {},
   "outputs": [
    {
     "data": {
      "text/plain": [
       "[{'col-1': 1.0, 'col-2': 0.5},\n",
       " {'col-1': 2.0, 'col-2': 0.75},\n",
       " {'col-1': 4.0, 'col-2': -1.25},\n",
       " {'col-1': 6.0, 'col-2': -3.0},\n",
       " {'col-1': 10.0, 'col-2': 2.75}]"
      ]
     },
     "execution_count": 11,
     "metadata": {},
     "output_type": "execute_result"
    }
   ],
   "source": [
    "df.to_dict('records')"
   ]
  },
  {
   "cell_type": "code",
   "execution_count": 12,
   "metadata": {},
   "outputs": [
    {
     "data": {
      "text/plain": [
       "{'row-1': {'col-1': 1, 'col-2': 0.5},\n",
       " 'row-2': {'col-1': 2, 'col-2': 0.75},\n",
       " 'row-3': {'col-1': 4, 'col-2': -1.25},\n",
       " 'row-4': {'col-1': 6, 'col-2': -3.0},\n",
       " 'row-5': {'col-1': 10, 'col-2': 2.75}}"
      ]
     },
     "execution_count": 12,
     "metadata": {},
     "output_type": "execute_result"
    }
   ],
   "source": [
    "df.to_dict('index')"
   ]
  },
  {
   "cell_type": "markdown",
   "metadata": {},
   "source": [
    "### Specify mapping type"
   ]
  },
  {
   "cell_type": "code",
   "execution_count": 13,
   "metadata": {},
   "outputs": [],
   "source": [
    "from collections import OrderedDict, defaultdict"
   ]
  },
  {
   "cell_type": "code",
   "execution_count": 14,
   "metadata": {},
   "outputs": [
    {
     "data": {
      "text/plain": [
       "OrderedDict([('col-1',\n",
       "              OrderedDict([('row-1', 1),\n",
       "                           ('row-2', 2),\n",
       "                           ('row-3', 4),\n",
       "                           ('row-4', 6),\n",
       "                           ('row-5', 10)])),\n",
       "             ('col-2',\n",
       "              OrderedDict([('row-1', 0.5),\n",
       "                           ('row-2', 0.75),\n",
       "                           ('row-3', -1.25),\n",
       "                           ('row-4', -3.0),\n",
       "                           ('row-5', 2.75)]))])"
      ]
     },
     "execution_count": 14,
     "metadata": {},
     "output_type": "execute_result"
    }
   ],
   "source": [
    "df.to_dict(into=OrderedDict)"
   ]
  },
  {
   "cell_type": "markdown",
   "metadata": {},
   "source": [
    "## A more complex example"
   ]
  },
  {
   "cell_type": "markdown",
   "metadata": {},
   "source": [
    "### Load data from the File-input.csv file into a pandas dataframe"
   ]
  },
  {
   "cell_type": "code",
   "execution_count": 17,
   "metadata": {},
   "outputs": [
    {
     "name": "stdout",
     "output_type": "stream",
     "text": [
      "  First name Last name  Age           Phone   Temp Height  Weight      City\n",
      "0      Blair     Steel   67  (202) 323-5687   98.9  5'11'     168        DC\n",
      "1      Marie   Collins   54  (312) 564-2552  101.0   6'0\"     158   Chicago\n",
      "2    Michael    Jordan   55  (312) 532-9985   99.9   6'5\"     192   Chicago\n",
      "3        Jon   Clinton   85  (312) 321-9922  102.2   5'5\"     178  Oakbrook\n",
      "4       Andy      Bush   44   (773)777-8833   98.5   5'8\"     165   Chicago\n"
     ]
    }
   ],
   "source": [
    "import operator \n",
    "dataFrame = pd.read_csv(\"File-inputA.csv\")\n",
    "print(dataFrame)"
   ]
  },
  {
   "cell_type": "markdown",
   "metadata": {},
   "source": [
    "### Convert the data frame into a list of Dictionaries using the \".to_dict\" method"
   ]
  },
  {
   "cell_type": "code",
   "execution_count": 18,
   "metadata": {},
   "outputs": [
    {
     "name": "stdout",
     "output_type": "stream",
     "text": [
      "{'First name': 'Blair', 'Last name': 'Steel', 'Age': 67, 'Phone': '(202) 323-5687', 'Temp': 98.9, 'Height': \"5'11'\", 'Weight': 168, 'City': 'DC'}\n",
      "{'First name': 'Marie', 'Last name': 'Collins', 'Age': 54, 'Phone': '(312) 564-2552', 'Temp': 101.0, 'Height': '6\\'0\"', 'Weight': 158, 'City': 'Chicago'}\n",
      "{'First name': 'Michael', 'Last name': 'Jordan', 'Age': 55, 'Phone': '(312) 532-9985', 'Temp': 99.9, 'Height': '6\\'5\"', 'Weight': 192, 'City': 'Chicago'}\n",
      "{'First name': 'Jon', 'Last name': 'Clinton', 'Age': 85, 'Phone': '(312) 321-9922', 'Temp': 102.2, 'Height': '5\\'5\"', 'Weight': 178, 'City': 'Oakbrook'}\n",
      "{'First name': 'Andy', 'Last name': 'Bush', 'Age': 44, 'Phone': '(773)777-8833', 'Temp': 98.5, 'Height': '5\\'8\"', 'Weight': 165, 'City': 'Chicago'}\n"
     ]
    }
   ],
   "source": [
    "result = dataFrame.to_dict(orient='records')\n",
    "\n",
    "for row in result:\n",
    "    dict = row.copy()\n",
    "    print(dict)"
   ]
  },
  {
   "cell_type": "markdown",
   "metadata": {},
   "source": [
    "### Access a specific dictionary from the list"
   ]
  },
  {
   "cell_type": "code",
   "execution_count": 20,
   "metadata": {},
   "outputs": [
    {
     "name": "stdout",
     "output_type": "stream",
     "text": [
      "{'First name': 'Jon', 'Last name': 'Clinton', 'Age': 85, 'Phone': '(312) 321-9922', 'Temp': 102.2, 'Height': '5\\'5\"', 'Weight': 178, 'City': 'Oakbrook'}\n"
     ]
    }
   ],
   "source": [
    "n = 3\n",
    "print(result[n])"
   ]
  },
  {
   "cell_type": "markdown",
   "metadata": {},
   "source": [
    "### List all the keys of this dictionary and store them in a new list"
   ]
  },
  {
   "cell_type": "code",
   "execution_count": 21,
   "metadata": {},
   "outputs": [
    {
     "name": "stdout",
     "output_type": "stream",
     "text": [
      "First name\n",
      "Last name\n",
      "Age\n",
      "Phone\n",
      "Temp\n",
      "Height\n",
      "Weight\n",
      "City\n",
      "\n",
      "['First name', 'Last name', 'Age', 'Phone', 'Temp', 'Height', 'Weight', 'City']\n"
     ]
    }
   ],
   "source": [
    "dict = result[n]\n",
    "\n",
    "for key in dict.keys():\n",
    "   print(key)\n",
    "print()\n",
    "\n",
    "headers = list(dict.keys())\n",
    "print(headers)"
   ]
  },
  {
   "cell_type": "markdown",
   "metadata": {},
   "source": [
    "### List all the values of this dictionary and then print them again in ascending order"
   ]
  },
  {
   "cell_type": "code",
   "execution_count": 22,
   "metadata": {},
   "outputs": [
    {
     "name": "stdout",
     "output_type": "stream",
     "text": [
      "Jon\n",
      "Clinton\n",
      "85\n",
      "(312) 321-9922\n",
      "102.2\n",
      "5'5\"\n",
      "178\n",
      "Oakbrook\n",
      "\n",
      "Dictionary in ascending order by value :  [('Age', 85), ('City', 'Oakbrook'), ('First name', 'Jon'), ('Height', '5\\'5\"'), ('Last name', 'Clinton'), ('Phone', '(312) 321-9922'), ('Temp', 102.2), ('Weight', 178)]\n"
     ]
    }
   ],
   "source": [
    "for val in dict.values():\n",
    "    print(val)\n",
    "print()\n",
    "   \n",
    "sorted_d = sorted(dict.items(), key=operator.itemgetter(0))\n",
    "print('Dictionary in ascending order by value : ',sorted_d)"
   ]
  },
  {
   "cell_type": "markdown",
   "metadata": {},
   "source": [
    "### Create and print a list with all the keys from this dictionary"
   ]
  },
  {
   "cell_type": "code",
   "execution_count": 23,
   "metadata": {},
   "outputs": [
    {
     "name": "stdout",
     "output_type": "stream",
     "text": [
      "['First name', 'Last name', 'Age', 'Phone', 'Temp', 'Height', 'Weight', 'City']\n"
     ]
    }
   ],
   "source": [
    "myKeyList = list(dict.keys())\n",
    "print(myKeyList)"
   ]
  },
  {
   "cell_type": "markdown",
   "metadata": {},
   "source": [
    "### Create and print a list with all the values from this dictionary"
   ]
  },
  {
   "cell_type": "code",
   "execution_count": 24,
   "metadata": {},
   "outputs": [
    {
     "name": "stdout",
     "output_type": "stream",
     "text": [
      "['Jon', 'Clinton', 85, '(312) 321-9922', 102.2, '5\\'5\"', 178, 'Oakbrook']\n"
     ]
    }
   ],
   "source": [
    "myValueList = list(dict.values())\n",
    "print(myValueList)"
   ]
  },
  {
   "cell_type": "markdown",
   "metadata": {},
   "source": [
    "### Modify the values for some of the keys"
   ]
  },
  {
   "cell_type": "code",
   "execution_count": 25,
   "metadata": {},
   "outputs": [
    {
     "name": "stdout",
     "output_type": "stream",
     "text": [
      "['Jon', 'Clinton', 85, '(312) 321-9922', 98.6, '5\\'5\"', 172, 'Oakbrook']\n"
     ]
    }
   ],
   "source": [
    "dict[\"Temp\"] = 98.6\n",
    "dict[\"Weight\"] = 172\n",
    "print(list(dict.values()))"
   ]
  },
  {
   "cell_type": "markdown",
   "metadata": {},
   "source": [
    "### Find the \"Age\" that is associated the max value of \"Temp\" from the dataframe"
   ]
  },
  {
   "cell_type": "code",
   "execution_count": 26,
   "metadata": {},
   "outputs": [
    {
     "name": "stdout",
     "output_type": "stream",
     "text": [
      "(85.0, 102.2)\n"
     ]
    }
   ],
   "source": [
    "# Reduce size of dataframe to just 2 columns of interest\n",
    "df = dataFrame[['Age','Temp']]\n",
    "result = df.to_dict(orient='records')\n",
    "\n",
    "# Find the maxvalue and create a Tuple\n",
    "max = -1\n",
    "solution = ((),)\n",
    "for row in result:\n",
    "    temp = row['Temp']\n",
    "    age = row['Age']\n",
    "    if temp > max:\n",
    "        max = temp\n",
    "        solution = age, temp\n",
    "print(solution)"
   ]
  },
  {
   "cell_type": "code",
   "execution_count": null,
   "metadata": {},
   "outputs": [],
   "source": []
  }
 ],
 "metadata": {
  "kernelspec": {
   "display_name": "Python 3",
   "language": "python",
   "name": "python3"
  },
  "language_info": {
   "codemirror_mode": {
    "name": "ipython",
    "version": 3
   },
   "file_extension": ".py",
   "mimetype": "text/x-python",
   "name": "python",
   "nbconvert_exporter": "python",
   "pygments_lexer": "ipython3",
   "version": "3.6.5"
  }
 },
 "nbformat": 4,
 "nbformat_minor": 2
}

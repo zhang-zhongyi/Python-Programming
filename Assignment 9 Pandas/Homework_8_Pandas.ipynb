{
 "cells": [
  {
   "cell_type": "markdown",
   "metadata": {},
   "source": [
    "# Concepts in Computer Programming"
   ]
  },
  {
   "cell_type": "markdown",
   "metadata": {},
   "source": [
    "# Homework 8 Pandas"
   ]
  },
  {
   "cell_type": "markdown",
   "metadata": {},
   "source": [
    "Name: Troy Zhongyi Zhang  \n",
    "UCID: 12216279  \n",
    "Netid: zhongyiz@uchicago.edu"
   ]
  },
  {
   "cell_type": "code",
   "execution_count": 1,
   "metadata": {
    "collapsed": true
   },
   "outputs": [],
   "source": [
    "import pandas as pd\n",
    "import numpy as np\n",
    "import matplotlib.pyplot as plt"
   ]
  },
  {
   "cell_type": "markdown",
   "metadata": {},
   "source": [
    "1. Which of the following statements are correct (multiple answers possible)? Explain why!   \n",
    "pandas is a Py package well suited for:   \n",
    "a) Arbitrary matrix data   \n",
    "b) Tabular data   \n",
    "c) Statistical data   \n",
    "--------------------------------------------------------------------------------------  \n",
    "(i) a & b   \n",
    "(ii) b & c   \n",
    "(iii) all of the above  \n",
    "(iv) none of the above  "
   ]
  },
  {
   "cell_type": "markdown",
   "metadata": {},
   "source": [
    "The answer will be \"(iii) all of them\".   \n",
    "I will give some examples.  "
   ]
  },
  {
   "cell_type": "markdown",
   "metadata": {},
   "source": [
    "Arbitrary matrix data (homogeneously typed or heterogeneous) with row and column labels"
   ]
  },
  {
   "cell_type": "code",
   "execution_count": 2,
   "metadata": {},
   "outputs": [
    {
     "data": {
      "text/html": [
       "<div>\n",
       "<style>\n",
       "    .dataframe thead tr:only-child th {\n",
       "        text-align: right;\n",
       "    }\n",
       "\n",
       "    .dataframe thead th {\n",
       "        text-align: left;\n",
       "    }\n",
       "\n",
       "    .dataframe tbody tr th {\n",
       "        vertical-align: top;\n",
       "    }\n",
       "</style>\n",
       "<table border=\"1\" class=\"dataframe\">\n",
       "  <thead>\n",
       "    <tr style=\"text-align: right;\">\n",
       "      <th></th>\n",
       "      <th>A</th>\n",
       "      <th>B</th>\n",
       "      <th>C</th>\n",
       "      <th>D</th>\n",
       "    </tr>\n",
       "  </thead>\n",
       "  <tbody>\n",
       "    <tr>\n",
       "      <th>Mary</th>\n",
       "      <td>0.154529</td>\n",
       "      <td>-0.605512</td>\n",
       "      <td>-0.168494</td>\n",
       "      <td>0.556273</td>\n",
       "    </tr>\n",
       "    <tr>\n",
       "      <th>Tom</th>\n",
       "      <td>-1.094389</td>\n",
       "      <td>-0.916936</td>\n",
       "      <td>0.453673</td>\n",
       "      <td>-1.630263</td>\n",
       "    </tr>\n",
       "    <tr>\n",
       "      <th>Alice</th>\n",
       "      <td>0.685948</td>\n",
       "      <td>-0.102705</td>\n",
       "      <td>-1.251468</td>\n",
       "      <td>-0.692424</td>\n",
       "    </tr>\n",
       "  </tbody>\n",
       "</table>\n",
       "</div>"
      ],
      "text/plain": [
       "              A         B         C         D\n",
       "Mary   0.154529 -0.605512 -0.168494  0.556273\n",
       "Tom   -1.094389 -0.916936  0.453673 -1.630263\n",
       "Alice  0.685948 -0.102705 -1.251468 -0.692424"
      ]
     },
     "execution_count": 2,
     "metadata": {},
     "output_type": "execute_result"
    }
   ],
   "source": [
    "#Example of arbitrary matrix data\n",
    "df1 = pd.DataFrame(np.random.randn(3,4), index = ['Mary','Tom','Alice'], columns=list('ABCD'))\n",
    "df1"
   ]
  },
  {
   "cell_type": "markdown",
   "metadata": {},
   "source": [
    "Tabular data with heterogeneously-typed columns, as in an SQL table or Excel spreadsheet"
   ]
  },
  {
   "cell_type": "code",
   "execution_count": 3,
   "metadata": {},
   "outputs": [
    {
     "data": {
      "text/html": [
       "<div>\n",
       "<style>\n",
       "    .dataframe thead tr:only-child th {\n",
       "        text-align: right;\n",
       "    }\n",
       "\n",
       "    .dataframe thead th {\n",
       "        text-align: left;\n",
       "    }\n",
       "\n",
       "    .dataframe tbody tr th {\n",
       "        vertical-align: top;\n",
       "    }\n",
       "</style>\n",
       "<table border=\"1\" class=\"dataframe\">\n",
       "  <thead>\n",
       "    <tr style=\"text-align: right;\">\n",
       "      <th></th>\n",
       "      <th>A</th>\n",
       "      <th>B</th>\n",
       "      <th>C</th>\n",
       "      <th>D</th>\n",
       "      <th>E</th>\n",
       "      <th>F</th>\n",
       "    </tr>\n",
       "  </thead>\n",
       "  <tbody>\n",
       "    <tr>\n",
       "      <th>0</th>\n",
       "      <td>1.0</td>\n",
       "      <td>2018-05-11</td>\n",
       "      <td>1.0</td>\n",
       "      <td>3</td>\n",
       "      <td>test</td>\n",
       "      <td>foo</td>\n",
       "    </tr>\n",
       "    <tr>\n",
       "      <th>1</th>\n",
       "      <td>1.0</td>\n",
       "      <td>2018-05-11</td>\n",
       "      <td>1.0</td>\n",
       "      <td>3</td>\n",
       "      <td>train</td>\n",
       "      <td>foo</td>\n",
       "    </tr>\n",
       "    <tr>\n",
       "      <th>2</th>\n",
       "      <td>1.0</td>\n",
       "      <td>2018-05-11</td>\n",
       "      <td>1.0</td>\n",
       "      <td>3</td>\n",
       "      <td>test</td>\n",
       "      <td>foo</td>\n",
       "    </tr>\n",
       "    <tr>\n",
       "      <th>3</th>\n",
       "      <td>1.0</td>\n",
       "      <td>2018-05-11</td>\n",
       "      <td>1.0</td>\n",
       "      <td>3</td>\n",
       "      <td>train</td>\n",
       "      <td>foo</td>\n",
       "    </tr>\n",
       "  </tbody>\n",
       "</table>\n",
       "</div>"
      ],
      "text/plain": [
       "     A          B    C  D      E    F\n",
       "0  1.0 2018-05-11  1.0  3   test  foo\n",
       "1  1.0 2018-05-11  1.0  3  train  foo\n",
       "2  1.0 2018-05-11  1.0  3   test  foo\n",
       "3  1.0 2018-05-11  1.0  3  train  foo"
      ]
     },
     "execution_count": 3,
     "metadata": {},
     "output_type": "execute_result"
    }
   ],
   "source": [
    "# Tabular data example\n",
    "df2 = pd.DataFrame({ 'A' : 1.,\n",
    "                     'B' : pd.Timestamp('20180511'),\n",
    "                     'C' : pd.Series(1,index=list(range(4)),dtype='float32'),\n",
    "                     'D' : np.array([3] * 4,dtype='int32'),\n",
    "                     'E' : pd.Categorical([\"test\",\"train\",\"test\",\"train\"]),\n",
    "                     'F' : 'foo' })\n",
    "df2"
   ]
  },
  {
   "cell_type": "markdown",
   "metadata": {},
   "source": [
    "Any other form of observational / statistical data sets - the data actually need not be labeled at all to be placed into a pandas data structure"
   ]
  },
  {
   "cell_type": "code",
   "execution_count": 4,
   "metadata": {},
   "outputs": [
    {
     "data": {
      "text/html": [
       "<div>\n",
       "<style>\n",
       "    .dataframe thead tr:only-child th {\n",
       "        text-align: right;\n",
       "    }\n",
       "\n",
       "    .dataframe thead th {\n",
       "        text-align: left;\n",
       "    }\n",
       "\n",
       "    .dataframe tbody tr th {\n",
       "        vertical-align: top;\n",
       "    }\n",
       "</style>\n",
       "<table border=\"1\" class=\"dataframe\">\n",
       "  <thead>\n",
       "    <tr style=\"text-align: right;\">\n",
       "      <th></th>\n",
       "      <th>0</th>\n",
       "      <th>1</th>\n",
       "      <th>2</th>\n",
       "      <th>3</th>\n",
       "      <th>4</th>\n",
       "      <th>5</th>\n",
       "    </tr>\n",
       "  </thead>\n",
       "  <tbody>\n",
       "    <tr>\n",
       "      <th>0</th>\n",
       "      <td>1.712785</td>\n",
       "      <td>0.001173</td>\n",
       "      <td>0.957855</td>\n",
       "      <td>1.399927</td>\n",
       "      <td>-0.128835</td>\n",
       "      <td>1.671612</td>\n",
       "    </tr>\n",
       "    <tr>\n",
       "      <th>1</th>\n",
       "      <td>0.949723</td>\n",
       "      <td>-0.884777</td>\n",
       "      <td>2.161188</td>\n",
       "      <td>-0.729634</td>\n",
       "      <td>-0.463061</td>\n",
       "      <td>-0.913142</td>\n",
       "    </tr>\n",
       "    <tr>\n",
       "      <th>2</th>\n",
       "      <td>-0.650503</td>\n",
       "      <td>-1.619027</td>\n",
       "      <td>0.132448</td>\n",
       "      <td>-0.789743</td>\n",
       "      <td>-1.725733</td>\n",
       "      <td>1.644326</td>\n",
       "    </tr>\n",
       "    <tr>\n",
       "      <th>3</th>\n",
       "      <td>1.897747</td>\n",
       "      <td>0.301083</td>\n",
       "      <td>0.997759</td>\n",
       "      <td>0.880445</td>\n",
       "      <td>0.907878</td>\n",
       "      <td>-0.792865</td>\n",
       "    </tr>\n",
       "    <tr>\n",
       "      <th>4</th>\n",
       "      <td>-0.073919</td>\n",
       "      <td>-0.451862</td>\n",
       "      <td>0.721220</td>\n",
       "      <td>-0.268596</td>\n",
       "      <td>1.367890</td>\n",
       "      <td>0.030568</td>\n",
       "    </tr>\n",
       "  </tbody>\n",
       "</table>\n",
       "</div>"
      ],
      "text/plain": [
       "          0         1         2         3         4         5\n",
       "0  1.712785  0.001173  0.957855  1.399927 -0.128835  1.671612\n",
       "1  0.949723 -0.884777  2.161188 -0.729634 -0.463061 -0.913142\n",
       "2 -0.650503 -1.619027  0.132448 -0.789743 -1.725733  1.644326\n",
       "3  1.897747  0.301083  0.997759  0.880445  0.907878 -0.792865\n",
       "4 -0.073919 -0.451862  0.721220 -0.268596  1.367890  0.030568"
      ]
     },
     "execution_count": 4,
     "metadata": {},
     "output_type": "execute_result"
    }
   ],
   "source": [
    "# Statistical data example\n",
    "df3 = pd.DataFrame(np.random.randn(5,6))\n",
    "df3"
   ]
  },
  {
   "cell_type": "code",
   "execution_count": null,
   "metadata": {
    "collapsed": true
   },
   "outputs": [],
   "source": []
  },
  {
   "cell_type": "markdown",
   "metadata": {},
   "source": [
    "2.Which are the primary data structures of pandas (multiple answers possible)?   \n",
    "a) Dictionaries   \n",
    "b) Data Frame   \n",
    "c) Tuples & Lists   \n",
    "d) Series   \n",
    "\n",
    "-------------------------------------------------------------------------------------    \n",
    "(i) a & b   \n",
    "(ii) b & d   \n",
    "(iii) b & c   \n",
    "(iv) all of the above  "
   ]
  },
  {
   "cell_type": "markdown",
   "metadata": {},
   "source": [
    "The answer will be \"(ii) b & d\". The primary data structures of pandas are Data Frame (2-dimensional) and Series (1-dimensional)."
   ]
  },
  {
   "cell_type": "code",
   "execution_count": null,
   "metadata": {
    "collapsed": true
   },
   "outputs": [],
   "source": []
  },
  {
   "cell_type": "markdown",
   "metadata": {},
   "source": [
    "3.Which of the following statements are correct (multiple answers possible)? Explain why!   \n",
    "a) all pandas data structures are value-immutable   \n",
    "b) pandas data structures are always size-mutable   \n",
    "c) all pandas data structures are value-mutable   \n",
    "d) pandas data structures are not always size-mutable   \n",
    "\n",
    "--------------------------------------------------------------------------  \n",
    "\n",
    "(i) a & d   \n",
    "(ii) b & c   \n",
    "(iii) c & d   \n",
    "(iv) none of the above  "
   ]
  },
  {
   "cell_type": "markdown",
   "metadata": {},
   "source": [
    "The answer is \"(iii) c & d\". "
   ]
  },
  {
   "cell_type": "markdown",
   "metadata": {},
   "source": [
    "For a), all pandas data structures are value-mutable (the values they contain can be altered) but not always size-mutable.  \n",
    "\n",
    "For b), pandas data stuctures are not always size-mutable. The length of a Series cannot be changed. The Series (1-dimentional) is size-immutable, which means once a Series object is created operations such as appending/deleting which would change the size of the object are not allowed.  \n",
    "\n",
    "For c), all pandas data structures are value-mutable (the values they contain can be altered). Correct!  \n",
    "\n",
    "For d), pandas data stuctures are not always size-mutable. The Series (1-dimentional) is size-immutable. Correct!  "
   ]
  },
  {
   "cell_type": "code",
   "execution_count": null,
   "metadata": {
    "collapsed": true
   },
   "outputs": [],
   "source": []
  },
  {
   "cell_type": "markdown",
   "metadata": {},
   "source": [
    "4.Which of the following statement will import the pandas package? Explain why!   \n",
    "a) import pandas as pd   \n",
    "b) import panda as py    \n",
    "c) import pandaspy as pd   \n",
    "d) all of the above   "
   ]
  },
  {
   "cell_type": "markdown",
   "metadata": {},
   "source": [
    "The answer is \"a) import pandas as pd\"."
   ]
  },
  {
   "cell_type": "markdown",
   "metadata": {},
   "source": [
    "The word after \"import\" is the package name, which can only be \"pandas\".\n",
    "The word after \"as\" doesn't matter. It is just a shortcut abbreviation nickname for programmers to use during the following codes.  \n",
    "\n",
    "For b), there is no package called \"panda\" in python.  \n",
    "For c), there is no package called \"pandaspy\" in python.  "
   ]
  },
  {
   "cell_type": "code",
   "execution_count": null,
   "metadata": {
    "collapsed": true
   },
   "outputs": [],
   "source": []
  },
  {
   "cell_type": "markdown",
   "metadata": {},
   "source": [
    "5.Which of the following object you will get after reading a CSV file?   \n",
    "a) DataFrame   \n",
    "b) Character Vector   \n",
    "c) Panel   \n",
    "d) All of the above  "
   ]
  },
  {
   "cell_type": "markdown",
   "metadata": {},
   "source": [
    "The answer is \"a) DataFrame\"."
   ]
  },
  {
   "cell_type": "markdown",
   "metadata": {},
   "source": [
    "You get columns out of a DataFrame the same way you get elements out of a dictionary."
   ]
  },
  {
   "cell_type": "code",
   "execution_count": null,
   "metadata": {
    "collapsed": true
   },
   "outputs": [],
   "source": []
  },
  {
   "cell_type": "markdown",
   "metadata": {},
   "source": [
    "----------------------------------------------------------------------------"
   ]
  },
  {
   "cell_type": "code",
   "execution_count": null,
   "metadata": {
    "collapsed": true
   },
   "outputs": [],
   "source": []
  },
  {
   "cell_type": "code",
   "execution_count": null,
   "metadata": {
    "collapsed": true
   },
   "outputs": [],
   "source": []
  }
 ],
 "metadata": {
  "kernelspec": {
   "display_name": "Python 3",
   "language": "python",
   "name": "python3"
  },
  "language_info": {
   "codemirror_mode": {
    "name": "ipython",
    "version": 3
   },
   "file_extension": ".py",
   "mimetype": "text/x-python",
   "name": "python",
   "nbconvert_exporter": "python",
   "pygments_lexer": "ipython3",
   "version": "3.6.3"
  }
 },
 "nbformat": 4,
 "nbformat_minor": 2
}

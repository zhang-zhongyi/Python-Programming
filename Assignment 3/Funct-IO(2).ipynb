{
 "cells": [
  {
   "cell_type": "markdown",
   "metadata": {},
   "source": [
    "# Functions in Python (more advanced)"
   ]
  },
  {
   "cell_type": "code",
   "execution_count": 3,
   "metadata": {},
   "outputs": [
    {
     "name": "stdout",
     "output_type": "stream",
     "text": [
      "Enter a decimal: 334\n",
      "The decimal value of 334 is:\n",
      "0b101001110 in binary.\n",
      "0o516 in octal.\n",
      "0x14e in hexadecimal.\n"
     ]
    }
   ],
   "source": [
    "# Python program to convert decimal number into binary, octal and hexadecimal number system\n",
    "\n",
    "dec = int(input(\"Enter a decimal: \"))\n",
    "\n",
    "print(\"The decimal value of\",dec,\"is:\")\n",
    "print(bin(dec),\"in binary.\")\n",
    "print(oct(dec),\"in octal.\")\n",
    "print(hex(dec),\"in hexadecimal.\")"
   ]
  },
  {
   "cell_type": "code",
   "execution_count": 4,
   "metadata": {},
   "outputs": [
    {
     "name": "stdout",
     "output_type": "stream",
     "text": [
      "Enter a character: A\n",
      "The ASCII value of 'A' is 65\n"
     ]
    }
   ],
   "source": [
    "# Program to find the ASCII value of the given character\n",
    "\n",
    "c = input(\"Enter a character: \")\n",
    "\n",
    "print(\"The ASCII value of '\" + c + \"' is\",ord(c))"
   ]
  },
  {
   "cell_type": "code",
   "execution_count": 5,
   "metadata": {},
   "outputs": [],
   "source": [
    "# Python Program to find the factors of a number\n",
    "\n",
    "# define a function\n",
    "def print_factors(x):\n",
    "   \"\"\"This function takes a\n",
    "   number and prints the factors\"\"\"\n",
    "\n",
    "   print(\"The factors of\",x,\"are:\")\n",
    "   for i in range(1, x + 1):\n",
    "       if x % i == 0:\n",
    "           print(i)"
   ]
  },
  {
   "cell_type": "code",
   "execution_count": 6,
   "metadata": {},
   "outputs": [
    {
     "name": "stdout",
     "output_type": "stream",
     "text": [
      "Enter a number: 25\n",
      "The factors of 25 are:\n",
      "1\n",
      "5\n",
      "25\n"
     ]
    }
   ],
   "source": [
    "num = int(input(\"Enter a number: \"))\n",
    "print_factors(num)"
   ]
  },
  {
   "cell_type": "code",
   "execution_count": 1,
   "metadata": {},
   "outputs": [
    {
     "name": "stdout",
     "output_type": "stream",
     "text": [
      "Select operation.\n",
      "1.Add\n",
      "2.Subtract\n",
      "3.Multiply\n",
      "4.Divide\n",
      "Enter choice(1/2/3/4):1\n",
      "Enter first number: 5\n",
      "Enter second number: 6\n",
      "5 + 6 = 11\n"
     ]
    }
   ],
   "source": [
    "''' Program make a simple calculator that can add, subtract, multiply and divide using functions '''\n",
    "\n",
    "# define functions\n",
    "def add(x, y):\n",
    "   \"\"\"This function adds two numbers\"\"\"\n",
    "   return x + y\n",
    "\n",
    "def subtract(x, y):\n",
    "   \"\"\"This function subtracts two numbers\"\"\"\n",
    "   return x - y\n",
    "\n",
    "def multiply(x, y):\n",
    "   \"\"\"This function multiplies two numbers\"\"\"\n",
    "   return x * y\n",
    "\n",
    "def divide(x, y):\n",
    "   \"\"\"This function divides two numbers\"\"\"\n",
    "   return x / y\n",
    "\n",
    "# take input from the user\n",
    "print(\"Select operation.\")\n",
    "print(\"1.Add\")\n",
    "print(\"2.Subtract\")\n",
    "print(\"3.Multiply\")\n",
    "print(\"4.Divide\")\n",
    "\n",
    "choice = input(\"Enter choice(1/2/3/4):\")\n",
    "\n",
    "num1 = int(input(\"Enter first number: \"))\n",
    "num2 = int(input(\"Enter second number: \"))\n",
    "\n",
    "if choice == '1':\n",
    "   print(num1,\"+\",num2,\"=\", add(num1,num2))\n",
    "\n",
    "elif choice == '2':\n",
    "   print(num1,\"-\",num2,\"=\", subtract(num1,num2))\n",
    "\n",
    "elif choice == '3':\n",
    "   print(num1,\"*\",num2,\"=\", multiply(num1,num2))\n",
    "\n",
    "elif choice == '4':\n",
    "   print(num1,\"/\",num2,\"=\", divide(num1,num2))\n",
    "else:\n",
    "   print(\"Invalid input\")"
   ]
  },
  {
   "cell_type": "code",
   "execution_count": 2,
   "metadata": {},
   "outputs": [
    {
     "name": "stdout",
     "output_type": "stream",
     "text": [
      "Enter year: 18\n",
      "Enter month: 10\n",
      "     October 18\n",
      "Mo Tu We Th Fr Sa Su\n",
      " 1  2  3  4  5  6  7\n",
      " 8  9 10 11 12 13 14\n",
      "15 16 17 18 19 20 21\n",
      "22 23 24 25 26 27 28\n",
      "29 30 31\n",
      "\n"
     ]
    }
   ],
   "source": [
    "# Python program to display calendar of given month of the year\n",
    "\n",
    "# import module\n",
    "import calendar\n",
    "\n",
    "# To ask month and year from the user\n",
    "yy = int(input(\"Enter year: \"))\n",
    "mm = int(input(\"Enter month: \"))\n",
    "\n",
    "# display the calendar\n",
    "print(calendar.month(yy, mm))"
   ]
  },
  {
   "cell_type": "code",
   "execution_count": 3,
   "metadata": {},
   "outputs": [],
   "source": [
    "# Python program to find the sum of natural numbers up to n using recursive function\n",
    "\n",
    "def recur_sum(n):\n",
    "   \"\"\"Function to return the sum\n",
    "   of natural numbers using recursion\"\"\"\n",
    "   if n <= 1:\n",
    "       return n\n",
    "   else:\n",
    "       return n + recur_sum(n-1)"
   ]
  },
  {
   "cell_type": "code",
   "execution_count": 4,
   "metadata": {},
   "outputs": [
    {
     "name": "stdout",
     "output_type": "stream",
     "text": [
      "Enter a number: 27\n",
      "The sum is 378\n"
     ]
    }
   ],
   "source": [
    "num = int(input(\"Enter a number: \"))\n",
    "\n",
    "if num < 0:\n",
    "   print(\"Enter a positive number\")\n",
    "else:\n",
    "   print(\"The sum is\",recur_sum(num))"
   ]
  },
  {
   "cell_type": "code",
   "execution_count": 5,
   "metadata": {},
   "outputs": [],
   "source": [
    "# Python program to find the factorial of a number using recursion\n",
    "\n",
    "def recur_factorial(n):\n",
    "   \"\"\"Function to return the factorial\n",
    "   of a number using recursion\"\"\"\n",
    "   if n == 1:\n",
    "       return n\n",
    "   else:\n",
    "       return n*recur_factorial(n-1)"
   ]
  },
  {
   "cell_type": "code",
   "execution_count": 6,
   "metadata": {},
   "outputs": [
    {
     "name": "stdout",
     "output_type": "stream",
     "text": [
      "Enter a number: 25\n",
      "The factorial of 25 is 15511210043330985984000000\n"
     ]
    }
   ],
   "source": [
    "num = int(input(\"Enter a number: \"))\n",
    "\n",
    "# check is the number is negative\n",
    "if num < 0:\n",
    "   print(\"Sorry, factorial does not exist for negative numbers\")\n",
    "elif num == 0:\n",
    "   print(\"The factorial of 0 is 1\")\n",
    "else:\n",
    "   print(\"The factorial of\",num,\"is\",recur_factorial(num))"
   ]
  }
 ],
 "metadata": {
  "kernelspec": {
   "display_name": "Python 3",
   "language": "python",
   "name": "python3"
  },
  "language_info": {
   "codemirror_mode": {
    "name": "ipython",
    "version": 3
   },
   "file_extension": ".py",
   "mimetype": "text/x-python",
   "name": "python",
   "nbconvert_exporter": "python",
   "pygments_lexer": "ipython3",
   "version": "3.6.5"
  }
 },
 "nbformat": 4,
 "nbformat_minor": 1
}

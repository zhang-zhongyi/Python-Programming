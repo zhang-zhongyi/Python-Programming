{
 "cells": [
  {
   "cell_type": "markdown",
   "metadata": {},
   "source": [
    "# Concepts in Computer Programming - Homework 2"
   ]
  },
  {
   "cell_type": "markdown",
   "metadata": {},
   "source": [
    "Name: Zhongyi Zhang\n",
    "\n",
    "UCID: 12216279\n",
    "\n",
    "Netid: zhongyiz@uchicago.edu"
   ]
  },
  {
   "cell_type": "markdown",
   "metadata": {},
   "source": [
    "# Question 1"
   ]
  },
  {
   "cell_type": "markdown",
   "metadata": {},
   "source": [
    "Write a Python program to count the number of even and odd numbers from a series of numbers.\n",
    "Sample numbers: numbers = 1, 2, 3, 4, 5, 6, 7, 8, 9 "
   ]
  },
  {
   "cell_type": "code",
   "execution_count": 13,
   "metadata": {},
   "outputs": [
    {
     "name": "stdout",
     "output_type": "stream",
     "text": [
      "There are 5 odd numbers in the series.\n",
      "There are 4 even numbers in the series.\n"
     ]
    }
   ],
   "source": [
    "num = (1, 2, 3, 4, 5, 6, 7, 8, 9)\n",
    "OddNum = 0\n",
    "EvenNum = 0\n",
    "for n in num:\n",
    "    if n % 2 == 0:   # or I can use \"if not n % 2:\"\"\n",
    "        EvenNum += 1\n",
    "    else:\n",
    "        OddNum += 1\n",
    "        \n",
    "print(\"There are \" + str(OddNum) + \" odd numbers in the series.\")\n",
    "print(\"There are \" + str(EvenNum) + \" even numbers in the series.\")"
   ]
  },
  {
   "cell_type": "markdown",
   "metadata": {},
   "source": [
    "# Question 2"
   ]
  },
  {
   "cell_type": "markdown",
   "metadata": {},
   "source": [
    "Write a Python program that prints all the numbers from 0 to 6 except 3 and 6.\n",
    "Note: Use 'continue' statement."
   ]
  },
  {
   "cell_type": "code",
   "execution_count": 14,
   "metadata": {},
   "outputs": [
    {
     "name": "stdout",
     "output_type": "stream",
     "text": [
      "0 1 2 4 5 "
     ]
    }
   ],
   "source": [
    "for x in range(7):\n",
    "    if (x == 3 or x == 6):\n",
    "        continue\n",
    "    print(x,end=' ')"
   ]
  },
  {
   "cell_type": "markdown",
   "metadata": {},
   "source": [
    "# Question 3"
   ]
  },
  {
   "cell_type": "markdown",
   "metadata": {},
   "source": [
    "Write a Python function to sum all the numbers in a list of numbers.\n",
    "Sample List: 8, 2, 3, 0, 7"
   ]
  },
  {
   "cell_type": "code",
   "execution_count": 15,
   "metadata": {},
   "outputs": [
    {
     "name": "stdout",
     "output_type": "stream",
     "text": [
      "20\n"
     ]
    }
   ],
   "source": [
    "def sumfunction(num):\n",
    "    a = 0\n",
    "    for n in num:\n",
    "        a += n\n",
    "    return a\n",
    "\n",
    "print(sumfunction((8, 2, 3, 0, 7)))\n",
    "    "
   ]
  },
  {
   "cell_type": "markdown",
   "metadata": {},
   "source": [
    "# Question 4"
   ]
  },
  {
   "cell_type": "markdown",
   "metadata": {},
   "source": [
    "Write a Python function to multiply all the numbers in a list of numbers. \n",
    "Sample List: 8, 2, 3, -1, 7"
   ]
  },
  {
   "cell_type": "code",
   "execution_count": 16,
   "metadata": {},
   "outputs": [
    {
     "name": "stdout",
     "output_type": "stream",
     "text": [
      "-336\n"
     ]
    }
   ],
   "source": [
    "def multiplyfunc(numbers):\n",
    "    b = 1\n",
    "    for m in numbers:\n",
    "        b *= m\n",
    "    return b\n",
    "\n",
    "print(multiplyfunc((8, 2, 3, -1, 7)))"
   ]
  },
  {
   "cell_type": "markdown",
   "metadata": {},
   "source": [
    "# Question 5"
   ]
  },
  {
   "cell_type": "markdown",
   "metadata": {},
   "source": [
    "Write a Python function to check whether a number \"5\" is in a given range, for example (3, 9)."
   ]
  },
  {
   "cell_type": "code",
   "execution_count": 17,
   "metadata": {},
   "outputs": [
    {
     "name": "stdout",
     "output_type": "stream",
     "text": [
      "5 is in the given range.\n"
     ]
    }
   ],
   "source": [
    "def test_range(s):\n",
    "    if s in range(3,9):\n",
    "        print(str(s) + \" is in the given range.\")\n",
    "    else:\n",
    "        print(str(s) + \" isn't in the given range.\")\n",
    "        \n",
    "test_range(5)"
   ]
  },
  {
   "cell_type": "code",
   "execution_count": null,
   "metadata": {},
   "outputs": [],
   "source": []
  },
  {
   "cell_type": "code",
   "execution_count": 18,
   "metadata": {},
   "outputs": [
    {
     "name": "stdout",
     "output_type": "stream",
     "text": [
      "5 is in the given range.\n"
     ]
    }
   ],
   "source": [
    "## If Test range\n",
    "def test_range(x, y):\n",
    "    if 5 in range(x,y):\n",
    "        print(\"5 is in the given range.\")\n",
    "    else:\n",
    "        print(\"5 isn't in the given range.\")\n",
    "        \n",
    "test_range(3,9)"
   ]
  },
  {
   "cell_type": "code",
   "execution_count": null,
   "metadata": {},
   "outputs": [],
   "source": []
  }
 ],
 "metadata": {
  "kernelspec": {
   "display_name": "Python 3",
   "language": "python",
   "name": "python3"
  },
  "language_info": {
   "codemirror_mode": {
    "name": "ipython",
    "version": 3
   },
   "file_extension": ".py",
   "mimetype": "text/x-python",
   "name": "python",
   "nbconvert_exporter": "python",
   "pygments_lexer": "ipython3",
   "version": "3.6.5"
  }
 },
 "nbformat": 4,
 "nbformat_minor": 2
}

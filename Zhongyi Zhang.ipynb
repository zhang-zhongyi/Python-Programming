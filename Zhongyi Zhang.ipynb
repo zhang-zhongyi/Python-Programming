{
 "cells": [
  {
   "cell_type": "markdown",
   "metadata": {},
   "source": [
    "Questions"
   ]
  },
  {
   "cell_type": "code",
   "execution_count": null,
   "metadata": {},
   "outputs": [],
   "source": [
    "\n",
    "##Highest Precedence\tPresident\t()\tParentheses\n",
    "#Dr. Powers\t**\tExponentiation for example: 5**2= 25\n",
    "#Dr. Asterisk\t*\tMultiplication  example: 5*3= 15\n",
    "#Dr. Slash\t/\tDivision  example  6/3=2\n",
    "#Dr. Plus\t+\tAddition    example: 5+3=8\n",
    "#Lowest Precedence\tDr. Minus\t–\tSubtraction   example: 3+2 =5"
   ]
  },
  {
   "cell_type": "code",
   "execution_count": null,
   "metadata": {},
   "outputs": [],
   "source": [
    "#the core data types include:\n",
    "#    none, the example is none\n",
    "#    booleans, examples are true and false\n",
    "#    numbers, exmaples are 12,34,5.8,6/5, 1+2i...\n",
    "#    strings, are words like \"hello world\"\n",
    "#    lists, exmaples are list(range(5)): 0,1,2,3,4 exclude 5\n",
    "#    functions, def a function includes variables\n",
    "#    sets\n",
    "#    example:\n",
    "def function(x):\n",
    "    return 3*x\n",
    "a = function(5)\n",
    "print(a)\n",
    "# tuples examples like(55,'hello world',444,'universe'), tuple('helloworld')\n",
    "#files exmaples like open('titanic.text')\n",
    "#import"
   ]
  },
  {
   "cell_type": "code",
   "execution_count": null,
   "metadata": {},
   "outputs": [],
   "source": [
    "#for loop example:\n",
    "x = 0\n",
    "for i in range(5):\n",
    "    x = x + i\n",
    "    print (x)"
   ]
  },
  {
   "cell_type": "code",
   "execution_count": null,
   "metadata": {},
   "outputs": [],
   "source": [
    "#Everything in Python is an object. And what every newcomer to Python should quickly \n",
    "#learn is that all objects in Python can be either mutable or immutable"
   ]
  },
  {
   "cell_type": "code",
   "execution_count": null,
   "metadata": {},
   "outputs": [],
   "source": [
    "#The tuples are immutable, but lists are mutable.\n",
    "#tuples is unable to change, lists are for variable lengths"
   ]
  },
  {
   "cell_type": "code",
   "execution_count": null,
   "metadata": {},
   "outputs": [],
   "source": [
    "\n",
    "#a simple iteration is like: \n",
    "for i in range(1,6):\n",
    "    if i == 4:\n",
    "         break\n",
    "    print(i)\n",
    "\n",
    "#a more complicated iterative is like\n",
    "#for exmaple we can use it to find prime numbers from 2 to 50\n",
    "n = 2\n",
    "while n <= 50:\n",
    "    prime = True\n",
    "    t = 2\n",
    "    while t < n:\n",
    "        if(n % t) == 0:\n",
    "            prime = False\n",
    "        t += 1\n",
    "    if prime:\n",
    "        print (n)\n",
    "    n += 1"
   ]
  },
  {
   "cell_type": "markdown",
   "metadata": {},
   "source": [
    "Coding test"
   ]
  },
  {
   "cell_type": "code",
   "execution_count": null,
   "metadata": {},
   "outputs": [],
   "source": [
    "import numpy as np\n",
    "import pandas as pd"
   ]
  },
  {
   "cell_type": "code",
   "execution_count": null,
   "metadata": {},
   "outputs": [],
   "source": [
    "\n",
    "PersonalInfo = dict(7)\n",
    "WorkInfo = dict(4)\n",
    "\n",
    "PersonalinfoInfo['a,b,c,d']='four'\n",
    "WorkInfo['a,b,c']='three'\n",
    "print (PersonalInfo)\n",
    "print (WorkInfo)\n"
   ]
  },
  {
   "cell_type": "markdown",
   "metadata": {},
   "source": [
    "Question 3"
   ]
  },
  {
   "cell_type": "code",
   "execution_count": null,
   "metadata": {},
   "outputs": [],
   "source": [
    "dates = pd.date_range('20180927', periods = 12)\n",
    "print(dates)\n",
    "df = pd.DataFrame(np.random.randn(12,1),index = dates, columns = ['will'])\n",
    "print(df)"
   ]
  },
  {
   "cell_type": "markdown",
   "metadata": {},
   "source": [
    "Question 4"
   ]
  },
  {
   "cell_type": "code",
   "execution_count": null,
   "metadata": {},
   "outputs": [],
   "source": [
    " df = pd.DataFrame({\n",
    "    'col1' : ['A', 'B', 'C', np.nan, 'K', 'Z'],\n",
    "    'col2' : [200, 18, 1, 92, 3, 47],\n",
    "    'col3': [5, 4, 8, 3, 14, 260],\n",
    "    'col4': [3, 4, 5, 8, 14, 260],\n",
    "    'col5': [3, 4, 5, 8, 14, 260]\n",
    " })\n",
    "df.sort_values(by ='col5', ascending= True)\n",
    "df"
   ]
  },
  {
   "cell_type": "markdown",
   "metadata": {},
   "source": [
    "Question 5"
   ]
  },
  {
   "cell_type": "code",
   "execution_count": null,
   "metadata": {},
   "outputs": [],
   "source": [
    "a = np.array([2,23,4])\n",
    "print(a)\n",
    "b = np.array([2,23,4],dtype=np.int32)\n",
    "print(b.dtype)\n",
    "c = np.array([2,23,4],dtype=np.float16)\n",
    "print(c.dtype)\n",
    "d = np.array([[2,23,4],\n",
    "             [2,32,4]])\n",
    "print(d)\n",
    "e = np.zeros((3,4))\n",
    "print(e)\n",
    "f = np.ones((5,7),dtype=np.int16)\n",
    "print(f)"
   ]
  },
  {
   "cell_type": "code",
   "execution_count": null,
   "metadata": {},
   "outputs": [],
   "source": []
  },
  {
   "cell_type": "code",
   "execution_count": null,
   "metadata": {},
   "outputs": [],
   "source": []
  },
  {
   "cell_type": "markdown",
   "metadata": {},
   "source": [
    "Class"
   ]
  },
  {
   "cell_type": "code",
   "execution_count": 5,
   "metadata": {},
   "outputs": [],
   "source": []
  },
  {
   "cell_type": "code",
   "execution_count": null,
   "metadata": {},
   "outputs": [],
   "source": []
  },
  {
   "cell_type": "code",
   "execution_count": 23,
   "metadata": {},
   "outputs": [
    {
     "name": "stdout",
     "output_type": "stream",
     "text": [
      "this is my first python script\n",
      "It calulate the sums of two numbers\n"
     ]
    },
    {
     "ename": "AttributeError",
     "evalue": "type object 'int' has no attribute 'input'",
     "output_type": "error",
     "traceback": [
      "\u001b[0;31m---------------------------------------------------------------------------\u001b[0m",
      "\u001b[0;31mAttributeError\u001b[0m                            Traceback (most recent call last)",
      "\u001b[0;32m<ipython-input-23-b1adb29f60c8>\u001b[0m in \u001b[0;36m<module>\u001b[0;34m()\u001b[0m\n\u001b[1;32m      4\u001b[0m \u001b[0;32mimport\u001b[0m \u001b[0msys\u001b[0m\u001b[0;34m\u001b[0m\u001b[0m\n\u001b[1;32m      5\u001b[0m \u001b[0;34m\u001b[0m\u001b[0m\n\u001b[0;32m----> 6\u001b[0;31m \u001b[0ma\u001b[0m \u001b[0;34m=\u001b[0m \u001b[0mint\u001b[0m\u001b[0;34m.\u001b[0m\u001b[0minput\u001b[0m\u001b[0;34m(\u001b[0m\u001b[0;34m)\u001b[0m\u001b[0;34m\u001b[0m\u001b[0m\n\u001b[0m\u001b[1;32m      7\u001b[0m \u001b[0mb\u001b[0m \u001b[0;34m=\u001b[0m \u001b[0mint\u001b[0m\u001b[0;34m.\u001b[0m\u001b[0minput\u001b[0m\u001b[0;34m(\u001b[0m\u001b[0;34m)\u001b[0m\u001b[0;34m\u001b[0m\u001b[0m\n\u001b[1;32m      8\u001b[0m \u001b[0;34m\u001b[0m\u001b[0m\n",
      "\u001b[0;31mAttributeError\u001b[0m: type object 'int' has no attribute 'input'"
     ]
    }
   ],
   "source": [
    "print(\"this is my first python script\")\n",
    "print(\"It calulate the sums of two numbers\")\n",
    "\n",
    "import sys\n",
    "\n",
    "a = int(input())\n",
    "b = int.input()\n",
    "\n",
    "c = a + b \n",
    "print(c)\n",
    "\n",
    "\n",
    "#let's use different variables \n",
    "#Strings\n",
    "#integers\n",
    "#floats\n",
    "#multiple operators\n",
    "#remeber the last value\n"
   ]
  },
  {
   "cell_type": "code",
   "execution_count": 19,
   "metadata": {},
   "outputs": [
    {
     "name": "stdout",
     "output_type": "stream",
     "text": [
      "a+b =  2.2666666666666666\n"
     ]
    }
   ],
   "source": [
    "a = 5/3\n",
    "b= 3/5\n",
    "print(\"a+b = \", a+b)"
   ]
  },
  {
   "cell_type": "code",
   "execution_count": 20,
   "metadata": {},
   "outputs": [
    {
     "data": {
      "text/plain": [
       "2"
      ]
     },
     "execution_count": 20,
     "metadata": {},
     "output_type": "execute_result"
    }
   ],
   "source": [
    "7//3"
   ]
  },
  {
   "cell_type": "markdown",
   "metadata": {},
   "source": [
    "7/3"
   ]
  },
  {
   "cell_type": "code",
   "execution_count": 21,
   "metadata": {},
   "outputs": [
    {
     "data": {
      "text/plain": [
       "2.3333333333333335"
      ]
     },
     "execution_count": 21,
     "metadata": {},
     "output_type": "execute_result"
    }
   ],
   "source": [
    "7/3"
   ]
  },
  {
   "cell_type": "code",
   "execution_count": null,
   "metadata": {
    "collapsed": true
   },
   "outputs": [],
   "source": []
  },
  {
   "cell_type": "code",
   "execution_count": null,
   "metadata": {},
   "outputs": [],
   "source": []
  },
  {
   "cell_type": "code",
   "execution_count": null,
   "metadata": {},
   "outputs": [],
   "source": []
  },
  {
   "cell_type": "code",
   "execution_count": null,
   "metadata": {},
   "outputs": [],
   "source": []
  },
  {
   "cell_type": "code",
   "execution_count": null,
   "metadata": {},
   "outputs": [],
   "source": []
  },
  {
   "cell_type": "code",
   "execution_count": null,
   "metadata": {},
   "outputs": [],
   "source": []
  },
  {
   "cell_type": "code",
   "execution_count": null,
   "metadata": {},
   "outputs": [],
   "source": []
  },
  {
   "cell_type": "code",
   "execution_count": null,
   "metadata": {},
   "outputs": [],
   "source": []
  },
  {
   "cell_type": "code",
   "execution_count": null,
   "metadata": {},
   "outputs": [],
   "source": []
  },
  {
   "cell_type": "code",
   "execution_count": null,
   "metadata": {},
   "outputs": [],
   "source": []
  },
  {
   "cell_type": "code",
   "execution_count": null,
   "metadata": {},
   "outputs": [],
   "source": []
  }
 ],
 "metadata": {
  "kernelspec": {
   "display_name": "Python 3",
   "language": "python",
   "name": "python3"
  },
  "language_info": {
   "codemirror_mode": {
    "name": "ipython",
    "version": 3
   },
   "file_extension": ".py",
   "mimetype": "text/x-python",
   "name": "python",
   "nbconvert_exporter": "python",
   "pygments_lexer": "ipython3",
   "version": "3.6.5"
  }
 },
 "nbformat": 4,
 "nbformat_minor": 2
}

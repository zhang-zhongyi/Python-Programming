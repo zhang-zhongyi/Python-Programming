{
 "cells": [
  {
   "cell_type": "markdown",
   "metadata": {},
   "source": [
    "# MSBI 31300 1 (Autumn 2018)\n",
    "# Concepts in Computer Programming"
   ]
  },
  {
   "cell_type": "markdown",
   "metadata": {},
   "source": [
    "Name: Troy Zhongyi Zhang\n",
    "\n",
    "Net ID: zhongyiz@uchicago.edu\n",
    "\n",
    "UCID: 12216279"
   ]
  },
  {
   "cell_type": "markdown",
   "metadata": {},
   "source": [
    "# Question 1: C"
   ]
  },
  {
   "cell_type": "code",
   "execution_count": 84,
   "metadata": {},
   "outputs": [
    {
     "name": "stdout",
     "output_type": "stream",
     "text": [
      "12.333333333333334\n"
     ]
    },
    {
     "data": {
      "text/plain": [
       "float"
      ]
     },
     "execution_count": 84,
     "metadata": {},
     "output_type": "execute_result"
    }
   ],
   "source": [
    "a = 37/3\n",
    "print(a)\n",
    "type(a)"
   ]
  },
  {
   "cell_type": "markdown",
   "metadata": {},
   "source": [
    "# Question 2: B"
   ]
  },
  {
   "cell_type": "code",
   "execution_count": 85,
   "metadata": {},
   "outputs": [
    {
     "name": "stdout",
     "output_type": "stream",
     "text": [
      "11\n"
     ]
    }
   ],
   "source": [
    "c = int(4+6/2+2*2)\n",
    "print(c)"
   ]
  },
  {
   "cell_type": "markdown",
   "metadata": {},
   "source": [
    "# Question 3: B"
   ]
  },
  {
   "cell_type": "code",
   "execution_count": 86,
   "metadata": {
    "scrolled": true
   },
   "outputs": [
    {
     "name": "stdout",
     "output_type": "stream",
     "text": [
      "1234567\n",
      "1234567.0\n"
     ]
    },
    {
     "data": {
      "text/plain": [
       "(int, float)"
      ]
     },
     "execution_count": 86,
     "metadata": {},
     "output_type": "execute_result"
    }
   ],
   "source": [
    "val1 = 1234567\n",
    "val2 = 1.234567*10**6\n",
    "print(val1)\n",
    "print(val2)\n",
    "type(val1),type(val2)"
   ]
  },
  {
   "cell_type": "markdown",
   "metadata": {},
   "source": [
    "# Question 4: A"
   ]
  },
  {
   "cell_type": "code",
   "execution_count": 87,
   "metadata": {},
   "outputs": [
    {
     "name": "stdout",
     "output_type": "stream",
     "text": [
      "a will be 3,  b will be 2,  c will be 3,  d will be 6.\n"
     ]
    }
   ],
   "source": [
    "a=1\n",
    "b=2\n",
    "c=a+b\n",
    "a=b\n",
    "a=c\n",
    "d=a+c\n",
    "print(\"a will be \"+ str(a)+\", \", \"b will be \"+ str(b)+\", \", \n",
    "      \"c will be \"+ str(c)+\", \", \"d will be \"+ str(d)+\".\")"
   ]
  },
  {
   "cell_type": "markdown",
   "metadata": {},
   "source": [
    "# Question 5:"
   ]
  },
  {
   "cell_type": "code",
   "execution_count": 88,
   "metadata": {
    "scrolled": false
   },
   "outputs": [
    {
     "name": "stdout",
     "output_type": "stream",
     "text": [
      "['False', 'None', 'True', 'and', 'as', 'assert', 'break', 'class', 'continue', 'def', 'del', 'elif', 'else', 'except', 'finally', 'for', 'from', 'global', 'if', 'import', 'in', 'is', 'lambda', 'nonlocal', 'not', 'or', 'pass', 'raise', 'return', 'try', 'while', 'with', 'yield']\n",
      "\n",
      "\n",
      "There are 33 keywords in Python.\n"
     ]
    },
    {
     "data": {
      "text/plain": [
       "Counter({'F': 1,\n",
       "         'N': 1,\n",
       "         'T': 1,\n",
       "         'a': 3,\n",
       "         'b': 1,\n",
       "         'c': 2,\n",
       "         'd': 2,\n",
       "         'e': 3,\n",
       "         'f': 3,\n",
       "         'g': 1,\n",
       "         'i': 4,\n",
       "         'l': 1,\n",
       "         'n': 2,\n",
       "         'o': 1,\n",
       "         'p': 1,\n",
       "         'r': 2,\n",
       "         't': 1,\n",
       "         'w': 2,\n",
       "         'y': 1})"
      ]
     },
     "execution_count": 88,
     "metadata": {},
     "output_type": "execute_result"
    }
   ],
   "source": [
    "from collections import Counter\n",
    "import keyword\n",
    "\n",
    "keylist = keyword.kwlist\n",
    "print(keylist)\n",
    "print(\"\\n\")\n",
    "print(\"There are \" + str(len(keylist)) + \" keywords in Python.\")\n",
    "Counter(k[0] for k in keylist)\n"
   ]
  },
  {
   "cell_type": "markdown",
   "metadata": {},
   "source": [
    "There are 33 keywords in Python 3.3.\n",
    "\n",
    "There are 3 keywords starting with the lowercase letter \"f\". \n",
    "\n",
    "They are \"finally\", \"for\", and \"from\". \n",
    "\n",
    "Since Python is case sensitive, I need to mention that there is one keyword \"False\" starting with the capital letter \"F\".\n",
    "\n",
    "There is 0 keyword starting with the letter\"k\".\n",
    "\n",
    "The letter \"i\" is the most used first letter.\n",
    "\n",
    "\"if\", \"import\", \"in\", \"is\". \n",
    "\n",
    "The letter \"i\" appears for 4 times."
   ]
  },
  {
   "cell_type": "markdown",
   "metadata": {},
   "source": [
    "# Question 6: D"
   ]
  },
  {
   "cell_type": "code",
   "execution_count": 89,
   "metadata": {},
   "outputs": [],
   "source": [
    "x = 1\n",
    "y = -1\n",
    "z = 1\n",
    "if x > 0: \n",
    "    if y > 0: \n",
    "        print(\"x > 0 and y > 0\") \n",
    "elif z > 0: \n",
    "        print(\"x < 0 and z > 0\")"
   ]
  },
  {
   "cell_type": "markdown",
   "metadata": {},
   "source": [
    "# Question 7: C"
   ]
  },
  {
   "cell_type": "code",
   "execution_count": 90,
   "metadata": {},
   "outputs": [
    {
     "name": "stdout",
     "output_type": "stream",
     "text": [
      "just right\n"
     ]
    }
   ],
   "source": [
    "temperature = 50 \n",
    "if temperature >= 100: \n",
    "    print(\"too hot\") \n",
    "elif temperature <= 40: \n",
    "    print(\"too cold\") \n",
    "else: \n",
    "    print(\"just right\")"
   ]
  },
  {
   "cell_type": "markdown",
   "metadata": {},
   "source": [
    "# Question 8: A,B,D"
   ]
  },
  {
   "cell_type": "code",
   "execution_count": 91,
   "metadata": {},
   "outputs": [
    {
     "name": "stdout",
     "output_type": "stream",
     "text": [
      "True\n",
      "False\n"
     ]
    }
   ],
   "source": [
    "#print(True and 3 => 4) #Error. 3=>4 wrong. It should be3 >= 4\n",
    "#print(!(x > 0) and (x > 0))  #Error. !(x>0) wrong. It should be x <= 0\n",
    "print((x > 0) or (x < 0))\n",
    "#print((x != 0) or (x = 0))  #Error. (x=0)wrong. x == 0 correct\n",
    "print(-10 < x < 0)"
   ]
  },
  {
   "cell_type": "markdown",
   "metadata": {},
   "source": [
    "# Question 9: A"
   ]
  },
  {
   "cell_type": "code",
   "execution_count": 92,
   "metadata": {},
   "outputs": [
    {
     "name": "stdout",
     "output_type": "stream",
     "text": [
      "-10\n"
     ]
    }
   ],
   "source": [
    "x = 0 \n",
    "y = 10 if x > 0 else -10\n",
    "print(y)"
   ]
  },
  {
   "cell_type": "markdown",
   "metadata": {},
   "source": [
    "# Question 10: A, C"
   ]
  },
  {
   "cell_type": "code",
   "execution_count": 93,
   "metadata": {},
   "outputs": [
    {
     "name": "stdout",
     "output_type": "stream",
     "text": [
      "True False True False\n"
     ]
    }
   ],
   "source": [
    "x = 100\n",
    "y = 10\n",
    "#print(x)\n",
    "#print(y)\n",
    "A = bool(((x>0) and (x<10)) == ((x>0) and (x<10)))\n",
    "\n",
    "B = bool(((x > 0) or (x < 10)) == (0 < x < 10))\n",
    "\n",
    "C = bool(((x > 0) or (x < 10) and (y < 0)) == \n",
    "         ((x > 0) or ((x < 10) and (y < 0))))\n",
    "\n",
    "D = bool(((x > 0) or (x < 10) and (y < 0)) == \n",
    "         (((x > 0) or (x < 10)) and (y < 0)))\n",
    "#E = (x > 0 or x < 10 and y < 0) == ((x > 0 or x < 10) and (y < 0))\n",
    "\n",
    "print(A, B, C, D)"
   ]
  },
  {
   "cell_type": "code",
   "execution_count": null,
   "metadata": {},
   "outputs": [],
   "source": []
  },
  {
   "cell_type": "code",
   "execution_count": null,
   "metadata": {},
   "outputs": [],
   "source": []
  },
  {
   "cell_type": "code",
   "execution_count": null,
   "metadata": {},
   "outputs": [],
   "source": []
  },
  {
   "cell_type": "code",
   "execution_count": null,
   "metadata": {},
   "outputs": [],
   "source": []
  },
  {
   "cell_type": "code",
   "execution_count": null,
   "metadata": {},
   "outputs": [],
   "source": []
  },
  {
   "cell_type": "code",
   "execution_count": null,
   "metadata": {},
   "outputs": [],
   "source": []
  },
  {
   "cell_type": "code",
   "execution_count": null,
   "metadata": {
    "collapsed": true
   },
   "outputs": [],
   "source": []
  },
  {
   "cell_type": "code",
   "execution_count": null,
   "metadata": {
    "collapsed": true
   },
   "outputs": [],
   "source": []
  },
  {
   "cell_type": "code",
   "execution_count": null,
   "metadata": {
    "collapsed": true
   },
   "outputs": [],
   "source": []
  }
 ],
 "metadata": {
  "kernelspec": {
   "display_name": "Python 3",
   "language": "python",
   "name": "python3"
  },
  "language_info": {
   "codemirror_mode": {
    "name": "ipython",
    "version": 3
   },
   "file_extension": ".py",
   "mimetype": "text/x-python",
   "name": "python",
   "nbconvert_exporter": "python",
   "pygments_lexer": "ipython3",
   "version": "3.6.5"
  }
 },
 "nbformat": 4,
 "nbformat_minor": 2
}

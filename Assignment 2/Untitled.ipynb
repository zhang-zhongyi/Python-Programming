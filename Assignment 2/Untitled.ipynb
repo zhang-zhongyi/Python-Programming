{
 "cells": [
  {
   "cell_type": "code",
   "execution_count": 1,
   "metadata": {},
   "outputs": [
    {
     "name": "stdout",
     "output_type": "stream",
     "text": [
      "[0, 1, 2, 3, 4, None, 5, None, None, 6, None, None, 7, None, None, 8, None, None, 9, None, None]\n"
     ]
    }
   ],
   "source": [
    "class Node(object):\n",
    "    \"\"\"节点类\"\"\"\n",
    "    def __init__(self, elem=-1, lchild=None, rchild=None):\n",
    "        self.elem = elem\n",
    "        self.lchild = lchild\n",
    "        self.rchild = rchild\n",
    "\n",
    "\n",
    "class Tree(object):\n",
    "    \"\"\"树类\"\"\"\n",
    "    def __init__(self):\n",
    "        self.root = Node()\n",
    "        self.myQueue = []\n",
    "\n",
    "    def add(self, elem):\n",
    "        \"\"\"为树添加节点\"\"\"\n",
    "        node = Node(elem)\n",
    "        if self.root.elem == -1:  # 如果树是空的，则对根节点赋值\n",
    "            self.root = node\n",
    "            self.myQueue.append(self.root)\n",
    "        else:\n",
    "            treeNode = self.myQueue[0]  # 此结点的子树还没有齐。\n",
    "            if treeNode.lchild == None:\n",
    "                treeNode.lchild = node\n",
    "                self.myQueue.append(treeNode.lchild)\n",
    "            else:\n",
    "                treeNode.rchild = node\n",
    "                self.myQueue.append(treeNode.rchild)\n",
    "                self.myQueue.pop(0)  # 如果该结点存在右子树，将此结点丢弃。\n",
    "\n",
    "\n",
    "    def level_queue(self, root):\n",
    "        \"\"\"利用队列实现树的层次遍历\"\"\"\n",
    "        if root == None:\n",
    "            return\n",
    "        myQueue = []\n",
    "        node = root\n",
    "        myQueue.append(node)\n",
    "        nodelist=[]\n",
    "        while myQueue:\n",
    "            node = myQueue.pop(0)\n",
    "            nodelist.append(node.elem)\n",
    "            if node.lchild != None:\n",
    "                myQueue.append(node.lchild)\n",
    "            else:\n",
    "                nodelist.append(node.lchild)\n",
    "            if node.rchild != None:\n",
    "                myQueue.append(node.rchild)\n",
    "            else:\n",
    "                nodelist.append(node.rchild)\n",
    "        return nodelist\n",
    "\n",
    "\n",
    "elems = range(10)           #生成十个数据作为树节点\n",
    "tree = Tree()          #新建一个树对象\n",
    "for elem in elems:\n",
    "    tree.add(elem)           #逐个添加树的节点\n",
    "\n",
    "print(tree.level_queue(tree.root))"
   ]
  },
  {
   "cell_type": "code",
   "execution_count": null,
   "metadata": {},
   "outputs": [],
   "source": []
  }
 ],
 "metadata": {
  "kernelspec": {
   "display_name": "Python 3",
   "language": "python",
   "name": "python3"
  },
  "language_info": {
   "codemirror_mode": {
    "name": "ipython",
    "version": 3
   },
   "file_extension": ".py",
   "mimetype": "text/x-python",
   "name": "python",
   "nbconvert_exporter": "python",
   "pygments_lexer": "ipython3",
   "version": "3.6.5"
  }
 },
 "nbformat": 4,
 "nbformat_minor": 2
}

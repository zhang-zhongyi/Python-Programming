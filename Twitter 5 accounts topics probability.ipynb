{
 "cells": [
  {
   "cell_type": "code",
   "execution_count": 1,
   "metadata": {},
   "outputs": [
    {
     "name": "stdout",
     "output_type": "stream",
     "text": [
      "Requirement already satisfied: tweepy in /Users/zhongyizhang/anaconda3/lib/python3.6/site-packages (3.6.0)\n",
      "Requirement already satisfied: requests>=2.11.1 in /Users/zhongyizhang/anaconda3/lib/python3.6/site-packages (from tweepy) (2.18.4)\n",
      "Requirement already satisfied: six>=1.10.0 in /Users/zhongyizhang/anaconda3/lib/python3.6/site-packages (from tweepy) (1.11.0)\n",
      "Requirement already satisfied: PySocks>=1.5.7 in /Users/zhongyizhang/anaconda3/lib/python3.6/site-packages (from tweepy) (1.6.8)\n",
      "Requirement already satisfied: requests-oauthlib>=0.7.0 in /Users/zhongyizhang/anaconda3/lib/python3.6/site-packages (from tweepy) (1.0.0)\n",
      "Requirement already satisfied: chardet<3.1.0,>=3.0.2 in /Users/zhongyizhang/anaconda3/lib/python3.6/site-packages (from requests>=2.11.1->tweepy) (3.0.4)\n",
      "Requirement already satisfied: idna<2.7,>=2.5 in /Users/zhongyizhang/anaconda3/lib/python3.6/site-packages (from requests>=2.11.1->tweepy) (2.6)\n",
      "Requirement already satisfied: urllib3<1.23,>=1.21.1 in /Users/zhongyizhang/anaconda3/lib/python3.6/site-packages (from requests>=2.11.1->tweepy) (1.22)\n",
      "Requirement already satisfied: certifi>=2017.4.17 in /Users/zhongyizhang/anaconda3/lib/python3.6/site-packages (from requests>=2.11.1->tweepy) (2018.4.16)\n",
      "Requirement already satisfied: oauthlib>=0.6.2 in /Users/zhongyizhang/anaconda3/lib/python3.6/site-packages (from requests-oauthlib>=0.7.0->tweepy) (2.1.0)\n"
     ]
    }
   ],
   "source": [
    "!pip install tweepy"
   ]
  },
  {
   "cell_type": "code",
   "execution_count": 2,
   "metadata": {},
   "outputs": [
    {
     "name": "stdout",
     "output_type": "stream",
     "text": [
      "Requirement already satisfied: pyLDAvis in /Users/zhongyizhang/anaconda3/lib/python3.6/site-packages (2.1.2)\n",
      "Requirement already satisfied: scipy>=0.18.0 in /Users/zhongyizhang/anaconda3/lib/python3.6/site-packages (from pyLDAvis) (1.1.0)\n",
      "Requirement already satisfied: pandas>=0.17.0 in /Users/zhongyizhang/anaconda3/lib/python3.6/site-packages (from pyLDAvis) (0.23.0)\n",
      "Requirement already satisfied: numpy>=1.9.2 in /Users/zhongyizhang/anaconda3/lib/python3.6/site-packages (from pyLDAvis) (1.14.3)\n",
      "Requirement already satisfied: future in /Users/zhongyizhang/anaconda3/lib/python3.6/site-packages (from pyLDAvis) (0.17.0)\n",
      "Requirement already satisfied: jinja2>=2.7.2 in /Users/zhongyizhang/anaconda3/lib/python3.6/site-packages (from pyLDAvis) (2.10)\n",
      "Requirement already satisfied: joblib>=0.8.4 in /Users/zhongyizhang/anaconda3/lib/python3.6/site-packages (from pyLDAvis) (0.12.5)\n",
      "Requirement already satisfied: numexpr in /Users/zhongyizhang/anaconda3/lib/python3.6/site-packages (from pyLDAvis) (2.6.5)\n",
      "Requirement already satisfied: pytest in /Users/zhongyizhang/anaconda3/lib/python3.6/site-packages (from pyLDAvis) (3.5.1)\n",
      "Requirement already satisfied: funcy in /Users/zhongyizhang/anaconda3/lib/python3.6/site-packages (from pyLDAvis) (1.11)\n",
      "Requirement already satisfied: wheel>=0.23.0 in /Users/zhongyizhang/anaconda3/lib/python3.6/site-packages (from pyLDAvis) (0.31.1)\n",
      "Requirement already satisfied: python-dateutil>=2.5.0 in /Users/zhongyizhang/anaconda3/lib/python3.6/site-packages (from pandas>=0.17.0->pyLDAvis) (2.7.3)\n",
      "Requirement already satisfied: pytz>=2011k in /Users/zhongyizhang/anaconda3/lib/python3.6/site-packages (from pandas>=0.17.0->pyLDAvis) (2018.4)\n",
      "Requirement already satisfied: MarkupSafe>=0.23 in /Users/zhongyizhang/anaconda3/lib/python3.6/site-packages (from jinja2>=2.7.2->pyLDAvis) (1.0)\n",
      "Requirement already satisfied: py>=1.5.0 in /Users/zhongyizhang/anaconda3/lib/python3.6/site-packages (from pytest->pyLDAvis) (1.5.3)\n",
      "Requirement already satisfied: six>=1.10.0 in /Users/zhongyizhang/anaconda3/lib/python3.6/site-packages (from pytest->pyLDAvis) (1.11.0)\n",
      "Requirement already satisfied: setuptools in /Users/zhongyizhang/anaconda3/lib/python3.6/site-packages (from pytest->pyLDAvis) (39.1.0)\n",
      "Requirement already satisfied: attrs>=17.4.0 in /Users/zhongyizhang/anaconda3/lib/python3.6/site-packages (from pytest->pyLDAvis) (18.1.0)\n",
      "Requirement already satisfied: more-itertools>=4.0.0 in /Users/zhongyizhang/anaconda3/lib/python3.6/site-packages (from pytest->pyLDAvis) (4.1.0)\n",
      "Requirement already satisfied: pluggy<0.7,>=0.5 in /Users/zhongyizhang/anaconda3/lib/python3.6/site-packages (from pytest->pyLDAvis) (0.6.0)\n"
     ]
    }
   ],
   "source": [
    "!pip install pyLDAvis"
   ]
  },
  {
   "cell_type": "code",
   "execution_count": 3,
   "metadata": {},
   "outputs": [],
   "source": [
    "#Homework#3\n",
    "#Zhongyi Zhang\n",
    "#Five twitter accounts that I choose: AppleMusic(brands), Donald Trump(Politician), \n",
    "#                                     Justin Bieber(Celebrity), Lebron James(Athletic), McDonald's(Brand)\n",
    "\n",
    "\n",
    "\n",
    "import tweepy as tw\n",
    "import pandas as pd\n",
    "import numpy as np\n",
    "import re\n",
    "\n",
    "from IPython.display import display\n",
    "import matplotlib.pyplot as plt\n",
    "import seaborn as sns\n",
    "import pyLDAvis.sklearn\n",
    "%matplotlib inline\n",
    "\n",
    "from sklearn.decomposition import LatentDirichletAllocation, TruncatedSVD\n",
    "from sklearn.feature_extraction.text import CountVectorizer\n",
    "from sklearn.datasets import fetch_20newsgroups\n",
    "from sklearn.decomposition import NMF, LatentDirichletAllocation, TruncatedSVD\n",
    "from sklearn.feature_extraction.text import CountVectorizer\n",
    "from sklearn.metrics.pairwise import euclidean_distances"
   ]
  },
  {
   "cell_type": "code",
   "execution_count": 4,
   "metadata": {},
   "outputs": [],
   "source": [
    "consumer_key = '3wJh0MFBA7KRQkKSUACAverer'\n",
    "consumer_secret ='eySOy3rwOOClPjXb1JdIOXBLIf3g9fK0EwKcW8NClmza8cnNJY'\n",
    "access_token = '752573586-cJtVDx0yqOwYBvIArya5cwVQznM9hquV0v433DOM'\n",
    "access_token_secret = '9WAZTg3LuauiXpuPIWjVCJINIn1Sv8oKzyDOLTtraK0su'\n",
    "# Access and authorize our Twitter credentials from credentials.py\n",
    "auth = tw.OAuthHandler(consumer_key, consumer_secret)\n",
    "auth.set_access_token(access_token, access_token_secret)\n",
    "api = tw.API(auth)"
   ]
  },
  {
   "cell_type": "code",
   "execution_count": 5,
   "metadata": {},
   "outputs": [],
   "source": [
    "def extract_tweet_text(tweet_text):\n",
    "    return re.sub(r\"http\\S+|@\\S+|#\\S+|RT\\S+|&AMP\\S+\", \"\", tweet_text)"
   ]
  },
  {
   "cell_type": "code",
   "execution_count": 6,
   "metadata": {},
   "outputs": [],
   "source": [
    "def extract_topics(twitter_screen_name):\n",
    "    totaltweets = []\n",
    "    mostrecent_tweets = api.user_timeline(screen_name=twitter_screen_name, count=200)\n",
    "    totaltweets.extend(mostrecent_tweets)\n",
    "    earliest_tweet=totaltweets[-1].id - 1\n",
    "    while len(mostrecent_tweets) > 0:\n",
    "        mostrecent_tweets = api.user_timeline(screen_name=twitter_screen_name, count=200, max_id=earliest_tweet)\n",
    "        #save most recent tweets\n",
    "        totaltweets.extend(mostrecent_tweets)\n",
    "        #update teh id of the earliest tweet less one\n",
    "        earliest_tweet=totaltweets[-1].id - 1\n",
    "        totaltweets = [extract_tweet_text(tweet.text) for tweet in totaltweets]\n",
    "        return ''.join(totaltweets)"
   ]
  },
  {
   "cell_type": "code",
   "execution_count": 7,
   "metadata": {},
   "outputs": [],
   "source": [
    "AppMus = extract_topics('@AppMusic')"
   ]
  },
  {
   "cell_type": "code",
   "execution_count": 8,
   "metadata": {},
   "outputs": [
    {
     "name": "stdout",
     "output_type": "stream",
     "text": [
      "RT  We put an entire gym bag full of dry shampoos to the sweat test.  🐊🐊🐊🐊🐊🐊🐊  Ugh.  You guys caught a break.  Wouldn’t have been the same outcome if our starti…  Sending love from one beach to another ❤️. Be safe.RT  Our Pumpkin Spice-Heath Cake is topped with a spiced cream cheese frosting and bits of toffee and almond candy. Need w…RT  Trust us—you need these low-maitenance short haircuts in your life:  RT  “Since our bodies don’t make iron, we need to consume it as part of our diet every day.\"  Thank goodness.  Something needs to be done—A1A beachside looks like slum city.  No wonder families… RT  To run faster, longer, and stronger, you need much more than strong legs; you need a stable core as well.  I agree, but I question your use of “cool” right now! 😂🔥🔥🔥  Bahahaha!  Good one! 👊RT  Luckily, you can race 26.2 miles on just three running workouts a week—and you might even finish it faster than you think…RT  Protein is important, so it's good to have lots of tasty options.  Yay!!! Congrats Colleen!!! ❤️❤️❤️RT  11 years ago today, App State walked right into the Big House and stunned No. 5 Michigan. RT  We ❤️  and it’s super easy to find nutritious food and drinks that will benefit performance. What is happening?  Is this real life?! $500 in  gift cards showed up in my box today.  No name, no postm…    I hope he wasn’t headed to the Iron Horse or Cabbage Patch dressed like that! 😂     That’s awesome!  Good on them! 🖤💛RT  This hero was barely mentioned on the major news outlets, but you should know his name. This is Captain Brian Hughes of…RT  Man, it’s awesome to see how much my gloves are going for in the  &amp;  auction! If I can get 2K  on…RT  Space Force seems like a good idea since all our public schools are perfect now and everybody is getting a great education Wow, first time hearing of this.  Very interesting! RT  The secret to Jennifer Aniston's waves is sold at Walmart — and it's only $2:  RT  At some point you need to ask: What elements are missing from my training? What bad habits have I let sneak in? What have…RT  Sons Of The Beach is taking on Volusia County to allow beach driving behind the Hard Rock  Wow, new bridge is coming along nicely!  Headed to  for rooftop drinks shortly!  RT  Strong statement on  from  Posting cause I couldn’t have said it better.  Please support the MMA.  I can’t even pronounce it! 😂RT  Calling all curly girls! If you don't know about this hair product already, your life is about to be changed:  Way cool!!! RT  FLDEPNews: DYK: Plastic straws are among the top items collected at beach cleanups every year. Help us keep Florida's… Big fan!  🙋‍♀️. Do you have   Great Yacht Rock station. 👍     RT  RETWEET if you're excited for tonight's race! 🏁\n",
      "\n",
      "   Nice shirt!  By wearing that, you are legally bound to say “Go Gators” to other fe…  Awesome!!  Love this ❤️ Welcome to God’s country! 🐊🐊 😏. Don’t know how we got so lucky.  Right place, right time. I think I remember telling you to move here back in Feb.  Better hurry, home values are on the rise.…  Welcome back!!Current situation in Daytona 🙄    RT  The July 4 holiday is a great day for fun in the sun! But it’s not always a great day for trash in the can. Make sure to… Good job, Jeep Unit!!! ✋RT     Hi there, Sarah! We see you putting in those miles 😊. In honor of Celebrated  by getting in a gorgeous 4 miler     RT  Inspired to get your BQ? Consider these races to help you hit your age-grounp standard:  RT  Here's why you should finish your run with this simple core routine.  RT  This is the absolute best drugstore foundation on the market:  RT  Now's your chance to win some DAYTONA gear! \n",
      "\n",
      "RETWEET and we'll pick a winner on Tuesday at 9:00 am ET!         Of course they would!  They’re  Awww, sorry the weather is so crappy 🤨 Swap meet at the flea market?RT  Today we're celebrating  at  RETWEET for your chance to win some gear from our prize closet! \n",
      "\n",
      "We'll… Miss you too!  Definitely “con-cord”.  RT  This $6 generic grocery store brand just received a perfect score in Consumer Reports' 2018 Sunscreen Guide: RT  This is the absolute best drugstore foundation on the market:  RT  Classic Southern collard greens get a slow-cooker makeover in this flavorful recipe:  Our humble little  Love this place! ❤️❤️❤️             Seeing that you are on lock down tonight, will you be live-tweeting the race?RT  It's time for spring cleaning in our prize closet! \n",
      "\n",
      "RETWEET for your chance to win some throwback gear! We'll pick a winne…RT   Nation, I need your help. Fellow  resident  is competing on the  tonight.…RT  Ocean Deck in Daytona Beach just raised over $10,000 for local veterans with their Beach Bike Bar Crawl and it looked… Very funny 😏 Dang it, so jealous!  Went to  instead!   RT  Target's $7 beauty boxes are full of products you'll actually use:   RT  It's official: This is the best fried chicken in every state.   Very cool!  Hope to get up there for a running camp soon! Currently living in FL, but App grad!! 🖤💛RT  5 great HIIT moves all runners should know  RT  As the son of two hard-working, dedicated, long-serving public school educators, I proudly hit the RT button here.  Williams Ave, since that’s my street! ❤️RT  GIVEAWAY ALE It’s Friday which means we celebrate. Retweet this for a chance to win this  throwback Daytona USA… Sorry to inform you, but we are a pleasant 71 here in Daytona today 🍹RT  Heading up to the  next week, to race or to spectate? Here's your go-to guide to the city that hosts the m… Glad we have Williams Ave back! RT  This is the absolute best drugstore foundation on the market:  RT  This 30-minute circuit workout boosts metabolism and builds total-body fitness.  RT  It simply wouldn't be a Southern Easter without a delicious lineup of classic casseroles:  RT  This 20-minute core workout will strengthen your core to make you a better runner.  RT  Here's how to train your body to be a more efficient machine.   Great advice, until I had to turn around 😂🤦‍♀️ I just finished my run beachside and the sun was nice.  The wind, not so much 😬  Hey, I recognize that bridge!!  A little chilly out there today 😬RT  Since it’s  Friday and  is racing  I am giving away one of my signature  Jim Hunter hats. Re… Hi Pop-Pop!  Welcome back to Twitter 👋👋. We did get a lot of rain, even some hail!  We needed it b… RT  Get any morning off to a good start with Tupelo Honey biscuits.  RT  DEFEND YOURSELF LADIES. For the first time ever,  is offering a women's self-defense course taught by one of DBPD's fi…RT  Get ready to fall in love with this rustic, homey comfort food dish—and the touching story behind it:  Do it!!  Wouldn’t change a thing.  Super affordable to live just steps from the beach.  So much going…  We loved it so much, we moved here!   Is that 5 hours or 5 minutes left? 🤔.  Always makes me a little sad to see all the haulers and campers leaving 😢.  Congrats… RT  Say hello to the only salad dressing you'll need this season.   Thanks for the tip—just ordered a pair!   1/2 mile from my house! 🦀🦀🦀  Um, ok! 🍺🍺🍺    Totally agree!  I ran the NY marathon in 2016, but my rave runs are the…   Congrats to your sister!!  I see one of my former students up there too!! 🐝🐝🐝    Hey, I saw you guys parked by the Publix on A1A yesterday.  Welcome to the beach!  Safe travels!!  See ya when you get here!  Amen sister! RT  7 high-protein snacks that will help you build muscle 🍎\n",
      "    Was at it this am too—6 miler on A1A. Welcome to town!  I literally live right up A1A from there ❤️ Dang it, I teach Music at an elementary school—come see us!  P.S. we’re at the beach!RT  And what exercises you really need to be doing. 💪\n",
      "  30 here in Daytona tonight! 😡👎RT  CVS will no longer Photoshop ads of their beauty products: 'We have a responsibility.'      No need to, lucky enough to live here!  RT  When you're on the road, these fast food options are packed with nutrients and will fill you up. RT  Learn how to take care of this Southern kitchen staple in five easy steps.  RT  5 signs you're not eating enough fiber 😬  RT  From Jan to Feb of 1980, 980 cafeteria trays vanished from  dining halls. \n",
      "\n",
      " Great spot to run!  Nice big sidewalks and very little traffic.  I use that route all the time for my l… RT  Trust us when we say these Trader Joe's items will basically change your life:   Haha, good job!  Where’s your jacket?  It’s cold! Having dinner right across from the track ❤️ RT  Finish your run with this simple core routine:  RT  Trader Joe's just released their 15 favorite recipes:  RT  6 delicious add-ins that make your scrambled eggs even healthier   Truth 👊RT  With 10 options to choose from, there's something here for everyone! 👍\n",
      " RT  7 ways to have a breakthrough running year    Do it!  Best decision I ever made and most amazing experience.RT  Use these 3 core moves to strengthen your running form   Wow, beautiful!   Dang, hate I missed it!  Conducting my little musicians at our holiday show   Awesome!  The Cracked Egg on A1A for breakfast.  Hulls in Ormond Beach for best/freshest seafood…   Thank you.  It’s really scary sometimes to drive around here and I’m not even old! 😂 Good to hear—-something has to been done about these idiots! Nice!  I need you for tempo runs! 😂🏃‍♀️ Did you run the Turkey Trot yesterday in NSB?  If so, congrats on an awesome time!  If not, there’s a…  A gator and a black bear cub, with momma close behind!   Our local go-to spot now for drinks.  The rooftop bar is amazing!  Perfectly normal.  I still do it and it’s been a year! 😂 awe-inspiring!  I cried right along with you!  Congrats 👊  As a UF fan, I refuse to like this tweet. Holy cow!  That’s insane.RT  It’s time for another giveaway! RT for a chance to win 2 tickets to Cobb Daytona Luxury Theatres. RT  Who's up for a second breakfast and road trip? Here are 32 hearty mountain breakfasts worth the drive: RT  Amazing.  Same thing in UF game!RT  The 5 biggest mistakes you make when washing your running clothes  RT  Wonderful first weekend of Fall here across the Carolinas. The forecast for Boone is especially great... official fore…RT  . celebrating that  spirit.     Just got a boil water notice.  What's going on? Many still without power in Volusia Co.  No school till Monday.  Hot one here today.RT  Daytona Beach is still its beautiful self! Lifeguard towers will be out, and driving on the…  Pelican Bar on St. Charles has $3.00/dozen oysters with beer purchase for Happy Hour.RT  How to work all the muscles of your butt in just 2 simple moves  RT  Beginning at 3 pm anyone without out power, clean-up crews, and power workers can stop by a get free case(s) of...   I ran NY '16 in Nimbus 18's.  You'll do great.  Enjoy every minute of it! ❤️🏃‍♀️ Thanks from Daytona Beach! ❤️🌴 Doing great here in Daytona!  Thanks casm! ❤️🐊🌴RT  Need assistance to find my aunt in South Miami Senior High shelter.93 years old.  Margarita Crespo. If you have seen c…  My husband has shelter duty at OBMS at 2:00pm and we live beachside.  Can he get ov…  Right here on beautiful    RT  This track workout will make you FAST. RT  The 10 Best Italian Restaurants in NYC\n",
      "\n",
      " RT  8 great pairs of running shorts for women  RT  Whether you like a traditional spread or something a little fancier, here are 32 great mountain breakfast spots. Hey  DCI Finals tonight in Indy.   2017RT  6 cookie recipes with absolutely no added sugar   Too many to list on Twitter! 🤣RT  The CrossFit workout runners should actually try    How bout Daytona Beach?  Please!?!  No Bo down here 😥😥😥 How do you think of these things? 🤔 Look at you!!!!RT  5 treadmill hacks that will help burn more calories:   Love it!  is pure gold!  Love hearing his voice through the TV. Wait till  gets his hands on this! 😂 Enjoy ms!  I'll be teaching at Osceola this year.  Looking forward to being beachside and a short commute!RT  After building up your base, add these three workouts to your routine to work on speed.  Took your suggestion  and saw Dunkirk tonight.  Great flick.  Well,  did you make it to the  show? Ok, geeking out right now!  Never imagined you for a corp guy, very cool!  Big Carolina Crown fan here.RT  According to a new survey, national anthem protests were the top reason NFL fans watched fewer games last season. RT  Brownie the Town Dog of Daytona Beach - America Comes Alive RT  These are the best snacks for runners  RT  Jumpstart your day—and your run—with these easy tweaks to your usual morning meal.   Now that's funny! 😂RT  The ab move that's way better than a sit-up (and no, it's not a plank)  via  . Hell Yeah . Look for us, to the left!!! 😍😍😍😍 . Hey! 👋👋👋. Where you at? made it! . Headed to see you!!!  Why the rain?!?! From a fellow DB resident, runner AND NASCAR fan, congrats on the new gig!RT  It’s not really summer until the first peach cobbler of the season. Recipe:  Pretty disappointing to see   Duke Dawson on  wearing a Georgia colored tie!    RT  They only look easy, but these 9 moves will get you stronger, and keep you fit.           I'm in there somewhere! 😂 Here's the view from my house, looking back towards the track. 😬⚡️☔️ RT  Who's ready for the  RETWEET for your chance to win this hat signed by the  drivers! Winner pi…RT  1000  and I'll make this happen. 🤡  Well done, kudos!  Love Herschel's words  Nice feature on Click.  Can't believe it's been 9 years.  My Dad was a Gastonia HOG member for years. Awww, thanks Doug!  It was messing with my mind! 🤔😆  sound exactly the same. Love the throwback race, except mentally I'm putting 2017 drivers in 2004 numbers!   RT  So good to be back at  😍 RT  Retweet &amp; follow me 4 a chance to win this signed diecast from the 2004 July race at Daytona. 1 winner picked in 4 hours.…RT  It’s  Retweet &amp; follow me 4 a chance to win a pair of  glasses. 2 winners picked at random… Congrats!  Make that vacay to Daytona Beach 🙏🙏🙏 RT  Delicious news! Jimmy Buffett Daytona restaurant project to break ground July 12!   Had a dream last night that you, Amy and I were in a huge snowball fight at some winter lodge.  Thoughts?  Interpret please! Running in this humidity is brutal!  Hope to see you at The Daytona Beach Half next February! 😜👍🤞 Good time, congrats!  See you Saturday night!  Brooklyn was the best!!!  So much energy and love ❤ Bring it!  Been waiting on you 🎵👍 I agree! 💯25 day trips from New Orleans: From Abita to Wallace RT  Try one of these strategies to take your speed and strength to the next level.  RT  11 awesome places - some new! - to satisfy your hunger and sweet tooth!     Wait, what?RT  Want to win a  hat signed by  RETWEET and we'll pick a random winner at 9 am ET tomorrow!  This literally describes me every six months.  And I know that they know I know....RT  In a sea of restaurants touting down-home fare, a chef in Boone is serving up the real deal.  RT  DeLand has won the America's Main Streets contest and the $25K prize. Story at   Wow!! 😍RT  \"Annie kissed me like she meant it. I kissed her like a kid trying to hit a ball off a tee.” Oh, camp romance. RT  Transition into tougher speedwork with these workouts:  RT  20 easy egg recipes you can eat for any meal of the day  (via  RT  Pack these foods in your pantry for better running.  RT  One of my favorite artists to interview is  I think you'll see why in this story. RT  Downtown DeLand is in the top 10 semifinalists of America's Main Street contest and has a shot at winning a $25K... htt… Just for perspective, it was 94 here today!  Enjoy while you can 😂RT  The only 4 smoothie recipes you'll ever need  via  RT  Mom didn't technically use a recipe when making her biscuits, but we need some guidance. How to make her biscuits:    Congrats Whiz Kid!  Just finished up my 12th year of teaching elem mus… RT  If you want to get faster, you need to do more than just run:  RT  9 strength moves that will upgrade your running  RT  The 6 most effective core exercises for distance athletes  RT  5 core exercises that will help you finish strong  RT  Watch: 6 plyometric exercises that will help you pick up the pace   You know it!!RT  Tired of crunches and sit-ups? This 20-minute workout from  challenges your core.  Breaking in my new Nimbus 18's with a short run on   They match my pool! 😂🏃‍♀️  Poor thing!  RT  Think you know how you're supposed to train? Think again.  RT  This speedy HIIT workout from  lets you hit the gym without leaving your house.  RT  Forty years ago, Bojangles’ opened its first location in Charlotte. Now it has fans as far away as Honduras. Having a  party! RT  2 Weeks from today we have a fun filled night of Jeep Beach activities at the inaugural Jeep Beach luau on the...    Heaven on Ice!RT  12 foods that lower cholesterol naturally:  RT  Short on time? Try this 20-minute total body workout.  RT  Congratulations to Truman Roland:  4th Place, Senior Division, Microbiology category at the State Science Fair! RT  These 14 delicious meals couldn't get any easier to make.  RT  . 5 drills to make you a better runner are worth the time investment  RT  These high-intensity sessions will torch more calories than an everyday easy run.  RT  The ab move that's way better than a sit-up (and no, it's not a plank)  via   Taking your advice and supporting local track action at Volusia tonight. RT  5 great HIIT moves all runners should know  RT  Whenever there's a  we're reminded of this classic  commercial.  (🎥:    Seats just emptied around us. RT  😳👍 🚀🌘  in space! RT  Got 30 minutes and some floor space? Do this simple bodyweight workout  via  RT  The Air Titans will run 20 laps and then there will be a 5 minute break and points awarded.  Have you guys been to Down Under yet?  You guys must be working too hard!!  Found my house! 🏠⛱ Thank you getting the word out for these fine students!  RT  All-County Middle &amp; HS Band Showcase scheduled for this Saturday. Details at  RT  RT if you're  with Clemson.\n",
      "\n",
      " RT  This has been insane! You all are incredible!! What a comeback. We have 24 hrs to go so keep   RT  5 great HIIT moves all runners should know  RT  If you want to continue to run for the rest of your life, do this workout.  RT  31 healthy breakfast recipes that will promote weight loss all month long  via RT  Watch: 6 plyometric exercises that will help you pick up the pace  RT  The 6 most effective core exercises for distance athletes  RT  What racing in Daytona USED to look like...  RT  5 post-race standing stretches every runner should do  RT  From our family to yours, Merry Christmas and happy holidays to all of our fans!  as it should be! ❤️RT  Add these speed workouts to your training for a quicker 13.1 miles.   blessed!RT  If you ran the  on Sunday, you were part of the biggest marathon ever.   best fans ever!!!RT  The  wouldn’t be the same without the fans. Retweet if you’re grateful for support from the sidelines duri…  was just there! ❤️RT  The  spire is lit up for the  RT  14 New York City Marathon-themed shoes   RT  Happy Friday! Who's ready for a  \n",
      "\n",
      "RETWEET and we'll pick a random winner at 5 pm ET!  That's Me!!!  Just turned 40 on Sunday!  Can't wait to officially celebrate in NYC 🗽RT  6 fuel essentials you'll want to have with you on marathon day     😂😂RT  Do this simple drill to correct overstriding and develop a more efficient cadence.  RT  Did you see my pre-race tips for the  No? Check them out here:     just drove by there.  Still thinking it could have been a lot worse!RT  The sun rises in Key West on   cutters prepare to get underway for  in Caribbean RT  These 15 double-duty shoes bridge the gap between training and racing:  RT  Game day is the best day. Go App! RT  Run a faster 5K with these five fun workouts:  RT  Here are three workouts that will make you a tougher runner:  RT  9 years ago today, Appalachian State completed one of the biggest upsets in college football history. RT  How to breathe properly while running to run faster:     no question, just good luck!  Hope the fans show, looks like the racing is going to be good!RT  First kiss. (via Imgur) RT  Use these tips to know how fast (or slow) you are running.   What up Big Doug? what the heck is going on Beachside?  About four fire trucks and a dozen cops just went flying north on A1A.RT  Here's how to modify your race training to improve speed without wearing your body out.  RT  10 strength exercises runners can do to stay healthy and injury-free  RT  WATCH: Plyometric exercises will increase your speed and lessen your chance of injury.  RT  Want to run faster but use less energy? Here's how to train your body to be more efficient  RT  Why and how to set your speed work free.   As an elementary music teacher, I have to agree 💯% I second Running on Empty, Jackson Browne.  RT  The best foods to replenish electrolytes postrun:  RT  Proper nutrition and hydration are critical to better running. Here's how to stay balanced  RT  The 15 foods runners need every week for good health and top performance.  RT   I hope all is going to be okay Dale praying for a speedy recoveryRT  A supermarket rotisserie chicken provides the base for these runner-friendly meals.  RT  Use a foam roller to strengthen your arms, core, and legs while improving balance.  RT  This nine-move routine strengthens your body from your neck to your knees.  RT  Try these tasty little protein-boosters the next time you’re feeling peckish.  RT  Are you ready to take your run to a new level? New for 2017, register for the Speedway Challenge, which is the... RT  Jumpstart your day—and your run—with these easy tweaks to your usual morning meal.   thanks for coming to Daytona Beach!!  First live show for me in 20 years!  RT  Tune in to DCI Live! tonight from Daytona Beach! RT  RT this if you've ever been to a  race! RT  Shake up your core routine with this move.  RT  Summer Shrimp Run – Halifax River  RT  Transition into early summer speedwork with these workouts:  RT  The only 10 strength exercises you need:  RT  Do this simple drill to correct overstriding and develop a more efficient cadence.  RT  Here are the best foods to help replenish electrolytes after your run:  RT  Here are the most effective workouts for distance runners  RT  Altering the pace of your mile repeats works different systems. Here's how:  RT  Here's how to run your best marathon ever on just 3 days a week.  RT  The only 4 strength-training exercises you really need:  RT  Run your gut off with these three training tips:  RT  This 20-minute core workout will strengthen your core to make you a better runner.  RT  Retweet by tomorrow at 10am ET &amp; 1 lucky winner gets a  signed  hat.  RT  The Florida Boat show is less than a week away! Come soak up the sun and drink an ice cold   RT   for this May event!  and Dock Jam Seafood and Music Festival at RT  A strength, range-of-motion, balance and posture routine for runners in a hurry.   Welcome to Daytona Beach!  Congrats on the new gig 🎉🎈🌴☀️RT  Add these speed workouts to your training for a quicker 13.1 miles.   IYO, why the stands so empty?  Bristol used to be hardest ticket in town.RT  Here are the workouts veteran runners should do to race well on lower mileage:  RT  How to fuel correctly for a late-start marathon (like   RT  Incorporate running paces between easy and hard into your weekly routine.  RT  Found this VL hat from 2013. On the ✈️ 2 TX, if this gets 1,018 retweets b4 we land I'll give 2 a random winner. RT  The 3 safest ways to stretch tight hamstrings:  via    Wow, took you for a Dukes man. Black bear cub, with Momma close behind!  Bears in Daytona?! 😱   how many times has  used the '78 \"and there's fight\" footage?  RT  You're only three moves away from pain-free hips:  via    I live a block from the beach or there's always the pool!  RT  Marathon success means dialing in the details.  RT  Here's how to space out your carbohydrate needs for a strong race.  RT  Need more air? Deep breathing can help you run longer with less effort.  RT  Three workouts to make you a tougher runner:  RT  Run a faster 5K with these five fun workouts:  RT  Here are three workouts that will make you a tougher runner:  RT  These six travel-friendly moves will help your recovery:   I'm in!!!  Unbelievable   grammar people!!! 😔 Such a great song--never gets old!   wowza! 😍 hmmm, some kind of race? 😉RT  This workout will only take 20 minutes (so you have no excuse to skip it).   I see you! RT  Still need tickets to the DAYTONA 500?! RT for a chance to win these 6. Will pick winner at end of day.   RT  This 20-minute core workout will strengthen your core to make you a better runner.    This is awesome!  Great idea 😍👏👏  Very cool!  I recognize the tiki bar--great place--pizza is fantastic 🍕RT  Masters runners should use these simple strength moves to reduce muscle loss:   Wow!  Daytona AND St. Augustine!?!?  I must be dreaming ❤️RT  Retweet &amp; follow me to win 2 suite tickets to see me race in the  Winner picked in 4hrs  RT  Giving away 2 more XFINITY tickets for  Retweet &amp; follow me. Winner picked in 4hrs.  RT  Here's why you should finish your run with this simple core routine.  RT  One week until cars are on track at  Here's your complete  television schedule. RT  RT if you're picking the Panthers to win Super Bowl 50!\n",
      "Final results on the 6 ET SC.  RT  Carbo-loading can help you race without hitting the wall—as long as you do it right.  RT  Try this freakin' awesome core workout (your abs will thank you!)  RT  The 7 best weight-loss snacks that aren't fruits or veggies  via  RT   one mile from our house, of course we'll be there!! ❤️RT  Four workouts to break up your winter treadmill training  RT  If you want to run better, start by building a stronger core with this 20-minute workout:  RT   or  \n",
      "\n",
      "RT for  \n",
      "♥️ for  \n",
      "\n",
      "  RT  The 10 most essential strength exercises for runners:  RT  How to use tempo runs to increase speed and endurance:  RT  How to run long on the treadmill without losing your mind:  \n"
     ]
    }
   ],
   "source": [
    "#test to print it out\n",
    "print(AppMus)"
   ]
  },
  {
   "cell_type": "code",
   "execution_count": 9,
   "metadata": {},
   "outputs": [],
   "source": [
    "DJT = extract_topics('@realDonaldTrump')\n"
   ]
  },
  {
   "cell_type": "code",
   "execution_count": 10,
   "metadata": {},
   "outputs": [],
   "source": [
    "JustinBieber = extract_topics('@justinbieber')"
   ]
  },
  {
   "cell_type": "code",
   "execution_count": 11,
   "metadata": {},
   "outputs": [],
   "source": [
    "LBJ = extract_topics('@KingJames')"
   ]
  },
  {
   "cell_type": "code",
   "execution_count": 12,
   "metadata": {},
   "outputs": [],
   "source": [
    "MCD = extract_topics('@McDonalds')"
   ]
  },
  {
   "cell_type": "code",
   "execution_count": 20,
   "metadata": {},
   "outputs": [],
   "source": [
    "all = []\n",
    "all.append(AppMus)\n",
    "all.append(DJT)\n",
    "all.append(JustinBieber)\n",
    "all.append(LBJ)\n",
    "all.append(MCD)"
   ]
  },
  {
   "cell_type": "code",
   "execution_count": 21,
   "metadata": {},
   "outputs": [
    {
     "name": "stdout",
     "output_type": "stream",
     "text": [
      "LDA Model:\n"
     ]
    },
    {
     "ename": "NameError",
     "evalue": "name 'Lda_model' is not defined",
     "output_type": "error",
     "traceback": [
      "\u001b[0;31m---------------------------------------------------------------------------\u001b[0m",
      "\u001b[0;31mNameError\u001b[0m                                 Traceback (most recent call last)",
      "\u001b[0;32m<ipython-input-21-b3d868cb1e6c>\u001b[0m in \u001b[0;36m<module>\u001b[0;34m()\u001b[0m\n\u001b[1;32m      5\u001b[0m                        for i in topic.argsort()[:-top_n - 1:-1]])   #use this for homework3\n\u001b[1;32m      6\u001b[0m \u001b[0mprint\u001b[0m\u001b[0;34m(\u001b[0m\u001b[0;34m\"LDA Model:\"\u001b[0m\u001b[0;34m)\u001b[0m\u001b[0;34m\u001b[0m\u001b[0m\n\u001b[0;32m----> 7\u001b[0;31m \u001b[0mprint_topics\u001b[0m\u001b[0;34m(\u001b[0m\u001b[0mLda_model\u001b[0m\u001b[0;34m,\u001b[0m \u001b[0mvectorizer\u001b[0m\u001b[0;34m)\u001b[0m\u001b[0;34m\u001b[0m\u001b[0m\n\u001b[0m\u001b[1;32m      8\u001b[0m \u001b[0mprint\u001b[0m\u001b[0;34m(\u001b[0m\u001b[0;34m\"=\"\u001b[0m \u001b[0;34m*\u001b[0m \u001b[0;36m20\u001b[0m\u001b[0;34m)\u001b[0m  \u001b[0;31m#basedan previous line, there are 7 topics. so here shows the most common words used in each topic\u001b[0m\u001b[0;34m\u001b[0m\u001b[0m\n",
      "\u001b[0;31mNameError\u001b[0m: name 'Lda_model' is not defined"
     ]
    }
   ],
   "source": [
    "LDA_model = model.components()\n",
    "def print_topics(model, vectorizer, top_n=10):\n",
    "    for idx, topic in enumerate(model.components_):\n",
    "        print(\"Topic %d:\" % (idx))\n",
    "        print([(vectorizer.get_feature_names()[i],topic[i])\n",
    "                       for i in topic.argsort()[:-top_n - 1:-1]])   #use this for homework3\n",
    "print(\"LDA Model:\")\n",
    "print_topics(Lda_model, vectorizer)\n",
    "print(\"=\" * 20)  #basedan previous line, there are 7 topics. so here shows the most common words used in each topic"
   ]
  },
  {
   "cell_type": "code",
   "execution_count": 22,
   "metadata": {},
   "outputs": [],
   "source": [
    "#data_vectorized."
   ]
  },
  {
   "cell_type": "code",
   "execution_count": 16,
   "metadata": {},
   "outputs": [
    {
     "name": "stderr",
     "output_type": "stream",
     "text": [
      "<input>:6: DeprecationWarning: invalid escape sequence \\-\n",
      "<input>:6: DeprecationWarning: invalid escape sequence \\-\n",
      "<input>:6: DeprecationWarning: invalid escape sequence \\-\n",
      "<ipython-input-16-fcecd47f5f0d>:6: DeprecationWarning: invalid escape sequence \\-\n",
      "  token_pattern='[a-zA-Z\\-][a-zA-Z\\-]{2,}')   # use this for homework3\n",
      "/Users/zhongyizhang/anaconda3/lib/python3.6/site-packages/sklearn/decomposition/online_lda.py:294: DeprecationWarning: n_topics has been renamed to n_components in version 0.19 and will be removed in 0.21\n",
      "  DeprecationWarning)\n"
     ]
    }
   ],
   "source": [
    "#Parameter\n",
    "NUM_TOPICS = 10\n",
    "#Convert a collection of text documentsto a matrix of token counts\n",
    "vectorizer = CountVectorizer(\n",
    "                             stop_words='english', lowercase=True,\n",
    "                             token_pattern='[a-zA-Z\\-][a-zA-Z\\-]{2,}')   # use this for homework3\n",
    "data_vectorized = vectorizer.fit_transform(all)\n",
    "lda_model = LatentDirichletAllocation(n_topics=NUM_TOPICS, max_iter = 10, learning_method='online')\n",
    "lda_Z = lda_model.fit_transform(data_vectorized)"
   ]
  },
  {
   "cell_type": "code",
   "execution_count": 17,
   "metadata": {},
   "outputs": [
    {
     "name": "stderr",
     "output_type": "stream",
     "text": [
      "/Users/zhongyizhang/anaconda3/lib/python3.6/site-packages/pyLDAvis/_prepare.py:257: FutureWarning: Sorting because non-concatenation axis is not aligned. A future version\n",
      "of pandas will change to not sort by default.\n",
      "\n",
      "To accept the future behavior, pass 'sort=True'.\n",
      "\n",
      "To retain the current behavior and silence the warning, pass sort=False\n",
      "\n",
      "  return pd.concat([default_term_info] + list(topic_dfs))\n"
     ]
    },
    {
     "data": {
      "text/html": [
       "\n",
       "<link rel=\"stylesheet\" type=\"text/css\" href=\"https://cdn.rawgit.com/bmabey/pyLDAvis/files/ldavis.v1.0.0.css\">\n",
       "\n",
       "\n",
       "<div id=\"ldavis_el81244992017442991784580\"></div>\n",
       "<script type=\"text/javascript\">\n",
       "\n",
       "var ldavis_el81244992017442991784580_data = {\"mdsDat\": {\"x\": [-8.572813987731934, -58.81197738647461, 107.39286804199219, -0.8744479417800903, 9.379124641418457, 87.09202575683594, 80.4554443359375, 50.21772384643555, 32.59609603881836, -51.9237060546875], \"y\": [38.66185760498047, 73.9677505493164, 22.144683837890625, -58.28282165527344, 107.70001983642578, 101.271728515625, -45.20973205566406, 52.36704635620117, -5.431216716766357, -8.002388954162598], \"topics\": [1, 2, 3, 4, 5, 6, 7, 8, 9, 10], \"cluster\": [1, 1, 1, 1, 1, 1, 1, 1, 1, 1], \"Freq\": [59.80738960510968, 20.64116711039195, 19.51980663897476, 0.004519542245622488, 0.004519540756515335, 0.004519516127363483, 0.004519512610344731, 0.004519512349475846, 0.004519511070621724, 0.004519510363668365]}, \"tinfo\": {\"Category\": [\"Default\", \"Default\", \"Default\", \"Default\", \"Default\", \"Default\", \"Default\", \"Default\", \"Default\", \"Default\", \"Default\", \"Default\", \"Default\", \"Default\", \"Default\", \"Default\", \"Default\", \"Default\", \"Default\", \"Default\", \"Default\", \"Default\", \"Default\", \"Default\", \"Default\", \"Default\", \"Default\", \"Default\", \"Default\", \"Default\", \"Topic1\", \"Topic1\", \"Topic1\", \"Topic1\", \"Topic1\", \"Topic1\", \"Topic1\", \"Topic1\", \"Topic1\", \"Topic1\", \"Topic1\", \"Topic1\", \"Topic1\", \"Topic1\", \"Topic1\", \"Topic1\", \"Topic1\", \"Topic1\", \"Topic1\", \"Topic1\", \"Topic1\", \"Topic1\", \"Topic1\", \"Topic1\", \"Topic1\", \"Topic1\", \"Topic1\", \"Topic1\", \"Topic1\", \"Topic1\", \"Topic1\", \"Topic1\", \"Topic1\", \"Topic1\", \"Topic1\", \"Topic1\", \"Topic1\", \"Topic1\", \"Topic1\", \"Topic1\", \"Topic1\", \"Topic1\", \"Topic1\", \"Topic1\", \"Topic1\", \"Topic1\", \"Topic1\", \"Topic1\", \"Topic1\", \"Topic1\", \"Topic1\", \"Topic1\", \"Topic1\", \"Topic1\", \"Topic1\", \"Topic1\", \"Topic1\", \"Topic1\", \"Topic1\", \"Topic1\", \"Topic1\", \"Topic2\", \"Topic2\", \"Topic2\", \"Topic2\", \"Topic2\", \"Topic2\", \"Topic2\", \"Topic2\", \"Topic2\", \"Topic2\", \"Topic2\", \"Topic2\", \"Topic2\", \"Topic2\", \"Topic2\", \"Topic2\", \"Topic2\", \"Topic2\", \"Topic2\", \"Topic2\", \"Topic2\", \"Topic2\", \"Topic2\", \"Topic2\", \"Topic2\", \"Topic2\", \"Topic2\", \"Topic2\", \"Topic2\", \"Topic2\", \"Topic2\", \"Topic2\", \"Topic2\", \"Topic2\", \"Topic2\", \"Topic2\", \"Topic2\", \"Topic2\", \"Topic2\", \"Topic2\", \"Topic2\", \"Topic2\", \"Topic2\", \"Topic2\", \"Topic2\", \"Topic2\", \"Topic2\", \"Topic2\", \"Topic2\", \"Topic2\", \"Topic2\", \"Topic2\", \"Topic2\", \"Topic3\", \"Topic3\", \"Topic3\", \"Topic3\", \"Topic3\", \"Topic3\", \"Topic3\", \"Topic3\", \"Topic3\", \"Topic3\", \"Topic3\", \"Topic3\", \"Topic3\", \"Topic3\", \"Topic3\", \"Topic3\", \"Topic3\", \"Topic3\", \"Topic3\", \"Topic3\", \"Topic3\", \"Topic3\", \"Topic3\", \"Topic3\", \"Topic3\", \"Topic3\", \"Topic3\", \"Topic3\", \"Topic3\", \"Topic3\", \"Topic3\", \"Topic3\", \"Topic3\", \"Topic3\", \"Topic3\", \"Topic3\", \"Topic3\", \"Topic3\", \"Topic3\", \"Topic3\", \"Topic3\", \"Topic3\", \"Topic3\", \"Topic3\", \"Topic3\", \"Topic3\", \"Topic3\", \"Topic3\", \"Topic3\", \"Topic3\", \"Topic3\", \"Topic3\", \"Topic3\", \"Topic3\", \"Topic3\", \"Topic3\", \"Topic3\", \"Topic4\", \"Topic4\", \"Topic4\", \"Topic4\", \"Topic4\", \"Topic4\", \"Topic4\", \"Topic4\", \"Topic4\", \"Topic4\", \"Topic4\", \"Topic4\", \"Topic4\", \"Topic4\", \"Topic4\", \"Topic4\", \"Topic4\", \"Topic4\", \"Topic4\", \"Topic4\", \"Topic4\", \"Topic4\", \"Topic4\", \"Topic4\", \"Topic4\", \"Topic4\", \"Topic4\", \"Topic4\", \"Topic4\", \"Topic4\", \"Topic4\", \"Topic4\", \"Topic4\", \"Topic4\", \"Topic4\", \"Topic4\", \"Topic4\", \"Topic4\", \"Topic4\", \"Topic4\", \"Topic4\", \"Topic4\", \"Topic4\", \"Topic4\", \"Topic4\", \"Topic4\", \"Topic4\", \"Topic4\", \"Topic4\", \"Topic4\", \"Topic4\", \"Topic4\", \"Topic4\", \"Topic4\", \"Topic4\", \"Topic4\", \"Topic4\", \"Topic4\", \"Topic4\", \"Topic4\", \"Topic4\", \"Topic4\", \"Topic4\", \"Topic4\", \"Topic4\", \"Topic4\", \"Topic4\", \"Topic4\", \"Topic4\", \"Topic4\", \"Topic4\", \"Topic4\", \"Topic4\", \"Topic4\", \"Topic4\", \"Topic4\", \"Topic5\", \"Topic5\", \"Topic5\", \"Topic5\", \"Topic5\", \"Topic5\", \"Topic5\", \"Topic5\", \"Topic5\", \"Topic5\", \"Topic5\", \"Topic5\", \"Topic5\", \"Topic5\", \"Topic5\", \"Topic5\", \"Topic5\", \"Topic5\", \"Topic5\", \"Topic5\", \"Topic5\", \"Topic5\", \"Topic5\", \"Topic5\", \"Topic5\", \"Topic5\", \"Topic5\", \"Topic5\", \"Topic5\", \"Topic5\", \"Topic5\", \"Topic5\", \"Topic5\", \"Topic5\", \"Topic5\", \"Topic5\", \"Topic5\", \"Topic5\", \"Topic5\", \"Topic5\", \"Topic5\", \"Topic5\", \"Topic5\", \"Topic5\", \"Topic5\", \"Topic5\", \"Topic5\", \"Topic5\", \"Topic5\", \"Topic5\", \"Topic5\", \"Topic5\", \"Topic5\", \"Topic5\", \"Topic5\", \"Topic5\", \"Topic5\", \"Topic5\", \"Topic5\", \"Topic5\", \"Topic5\", \"Topic5\", \"Topic5\", \"Topic5\", \"Topic5\", \"Topic5\", \"Topic5\", \"Topic5\", \"Topic5\", \"Topic5\", \"Topic5\", \"Topic5\", \"Topic5\", \"Topic6\", \"Topic6\", \"Topic6\", \"Topic6\", \"Topic6\", \"Topic6\", \"Topic6\", \"Topic6\", \"Topic6\", \"Topic6\", \"Topic6\", \"Topic6\", \"Topic6\", \"Topic6\", \"Topic6\", \"Topic6\", \"Topic6\", \"Topic6\", \"Topic6\", \"Topic6\", \"Topic6\", \"Topic6\", \"Topic6\", \"Topic6\", \"Topic6\", \"Topic6\", \"Topic6\", \"Topic6\", \"Topic6\", \"Topic6\", \"Topic6\", \"Topic6\", \"Topic6\", \"Topic6\", \"Topic6\", \"Topic6\", \"Topic6\", \"Topic6\", \"Topic6\", \"Topic6\", \"Topic6\", \"Topic6\", \"Topic6\", \"Topic6\", \"Topic6\", \"Topic6\", \"Topic6\", \"Topic6\", \"Topic6\", \"Topic6\", \"Topic6\", \"Topic6\", \"Topic6\", \"Topic6\", \"Topic6\", \"Topic6\", \"Topic6\", \"Topic6\", \"Topic6\", \"Topic6\", \"Topic6\", \"Topic6\", \"Topic6\", \"Topic6\", \"Topic6\", \"Topic6\", \"Topic6\", \"Topic6\", \"Topic6\", \"Topic6\", \"Topic6\", \"Topic6\", \"Topic6\", \"Topic6\", \"Topic6\", \"Topic6\", \"Topic6\", \"Topic6\", \"Topic6\", \"Topic7\", \"Topic7\", \"Topic7\", \"Topic7\", \"Topic7\", \"Topic7\", \"Topic7\", \"Topic7\", \"Topic7\", \"Topic7\", \"Topic7\", \"Topic7\", \"Topic7\", \"Topic7\", \"Topic7\", \"Topic7\", \"Topic7\", \"Topic7\", \"Topic7\", \"Topic7\", \"Topic7\", \"Topic7\", \"Topic7\", \"Topic7\", \"Topic7\", \"Topic7\", \"Topic7\", \"Topic7\", \"Topic7\", \"Topic7\", \"Topic7\", \"Topic7\", \"Topic7\", \"Topic7\", \"Topic7\", \"Topic7\", \"Topic7\", \"Topic7\", \"Topic7\", \"Topic7\", \"Topic7\", \"Topic7\", \"Topic7\", \"Topic7\", \"Topic7\", \"Topic7\", \"Topic7\", \"Topic7\", \"Topic7\", \"Topic7\", \"Topic7\", \"Topic7\", \"Topic7\", \"Topic7\", \"Topic7\", \"Topic7\", \"Topic7\", \"Topic7\", \"Topic7\", \"Topic7\", \"Topic7\", \"Topic7\", \"Topic7\", \"Topic7\", \"Topic7\", \"Topic7\", \"Topic7\", \"Topic7\", \"Topic7\", \"Topic7\", \"Topic7\", \"Topic7\", \"Topic7\", \"Topic7\", \"Topic7\", \"Topic7\", \"Topic7\", \"Topic7\", \"Topic7\", \"Topic7\", \"Topic7\", \"Topic7\", \"Topic7\", \"Topic7\", \"Topic7\", \"Topic8\", \"Topic8\", \"Topic8\", \"Topic8\", \"Topic8\", \"Topic8\", \"Topic8\", \"Topic8\", \"Topic8\", \"Topic8\", \"Topic8\", \"Topic8\", \"Topic8\", \"Topic8\", \"Topic8\", \"Topic8\", \"Topic8\", \"Topic8\", \"Topic8\", \"Topic8\", \"Topic8\", \"Topic8\", \"Topic8\", \"Topic8\", \"Topic8\", \"Topic8\", \"Topic8\", \"Topic8\", \"Topic8\", \"Topic8\", \"Topic8\", \"Topic8\", \"Topic8\", \"Topic8\", \"Topic8\", \"Topic8\", \"Topic8\", \"Topic8\", \"Topic8\", \"Topic8\", \"Topic8\", \"Topic8\", \"Topic8\", \"Topic8\", \"Topic8\", \"Topic8\", \"Topic8\", \"Topic8\", \"Topic8\", \"Topic8\", \"Topic8\", \"Topic8\", \"Topic8\", \"Topic8\", \"Topic8\", \"Topic8\", \"Topic8\", \"Topic8\", \"Topic8\", \"Topic8\", \"Topic8\", \"Topic8\", \"Topic8\", \"Topic8\", \"Topic8\", \"Topic8\", \"Topic8\", \"Topic8\", \"Topic8\", \"Topic8\", \"Topic8\", \"Topic9\", \"Topic9\", \"Topic9\", \"Topic9\", \"Topic9\", \"Topic9\", \"Topic9\", \"Topic9\", \"Topic9\", \"Topic9\", \"Topic9\", \"Topic9\", \"Topic9\", \"Topic9\", \"Topic9\", \"Topic9\", \"Topic9\", \"Topic9\", \"Topic9\", \"Topic9\", \"Topic9\", \"Topic9\", \"Topic9\", \"Topic9\", \"Topic9\", \"Topic9\", \"Topic9\", \"Topic9\", \"Topic9\", \"Topic9\", \"Topic9\", \"Topic9\", \"Topic9\", \"Topic9\", \"Topic9\", \"Topic9\", \"Topic9\", \"Topic9\", \"Topic9\", \"Topic9\", \"Topic9\", \"Topic9\", \"Topic9\", \"Topic9\", \"Topic9\", \"Topic9\", \"Topic9\", \"Topic9\", \"Topic9\", \"Topic9\", \"Topic9\", \"Topic9\", \"Topic9\", \"Topic9\", \"Topic9\", \"Topic9\", \"Topic9\", \"Topic9\", \"Topic9\", \"Topic9\", \"Topic9\", \"Topic9\", \"Topic9\", \"Topic9\", \"Topic9\", \"Topic9\", \"Topic9\", \"Topic9\", \"Topic9\", \"Topic9\", \"Topic9\", \"Topic9\", \"Topic9\", \"Topic9\", \"Topic9\", \"Topic9\", \"Topic9\", \"Topic9\", \"Topic9\", \"Topic9\", \"Topic9\", \"Topic9\", \"Topic9\", \"Topic10\", \"Topic10\", \"Topic10\", \"Topic10\", \"Topic10\", \"Topic10\", \"Topic10\", \"Topic10\", \"Topic10\", \"Topic10\", \"Topic10\", \"Topic10\", \"Topic10\", \"Topic10\", \"Topic10\", \"Topic10\", \"Topic10\", \"Topic10\", \"Topic10\", \"Topic10\", \"Topic10\", \"Topic10\", \"Topic10\", \"Topic10\", \"Topic10\", \"Topic10\", \"Topic10\", \"Topic10\", \"Topic10\", \"Topic10\", \"Topic10\", \"Topic10\", \"Topic10\", \"Topic10\", \"Topic10\", \"Topic10\", \"Topic10\", \"Topic10\", \"Topic10\", \"Topic10\", \"Topic10\", \"Topic10\", \"Topic10\", \"Topic10\", \"Topic10\", \"Topic10\", \"Topic10\", \"Topic10\", \"Topic10\", \"Topic10\", \"Topic10\", \"Topic10\", \"Topic10\", \"Topic10\", \"Topic10\", \"Topic10\", \"Topic10\", \"Topic10\", \"Topic10\", \"Topic10\", \"Topic10\", \"Topic10\", \"Topic10\", \"Topic10\", \"Topic10\", \"Topic10\", \"Topic10\", \"Topic10\", \"Topic10\", \"Topic10\", \"Topic10\", \"Topic10\", \"Topic10\", \"Topic10\", \"Topic10\", \"Topic10\", \"Topic10\", \"Topic10\", \"Topic10\", \"Topic10\"], \"Freq\": [99.0, 76.0, 118.0, 67.0, 43.0, 42.0, 68.0, 48.0, 36.0, 43.0, 49.0, 58.0, 26.0, 53.0, 30.0, 38.0, 44.0, 31.0, 35.0, 30.0, 26.0, 42.0, 33.0, 49.0, 27.0, 25.0, 27.0, 21.0, 29.0, 18.0, 42.1558270743368, 25.970438937086087, 18.292949352589382, 18.139772160833818, 12.284841199011156, 18.103397883020858, 13.169150747953196, 12.21705985972744, 12.27188257123218, 12.187896631925026, 16.28275141842864, 12.124095909646456, 20.4534176277223, 11.44563525185539, 9.685844102653025, 25.120039416218876, 10.599223099446084, 10.508407183062173, 9.748547219018034, 9.702046877300768, 10.478588392032691, 10.441409928855233, 9.63584430936042, 8.840409413849157, 10.536747411884576, 10.461098365087075, 8.746135474478404, 10.346454434313566, 7.9659402971020725, 7.941882572288903, 10.435736880061297, 8.80181301346892, 61.74102588568818, 28.898909938844334, 23.246751370599497, 21.687553358023937, 34.64683492790832, 24.310638037841063, 40.50423950468442, 14.522521925531763, 88.26316526224458, 53.56397917942869, 19.796597266074752, 42.38091722605477, 24.802903193905536, 27.45076881438355, 25.47891007577987, 27.487083962389544, 32.646620343895286, 20.618951200004954, 18.906572158585547, 16.616353164187124, 17.98595820930777, 17.05171760807176, 16.275025523399943, 24.9349652385749, 22.54382149960909, 20.702862446492407, 24.299736996084228, 20.762400185519216, 23.672505649105094, 27.20712662468682, 95.80544709112723, 29.44479134484575, 13.357851743023401, 41.652422629421686, 10.282634633614613, 20.33367826689417, 7.1112548085425695, 27.82072023241958, 7.0542599149302525, 6.453864948878941, 5.827702210924637, 6.424054213178143, 33.308686396744946, 5.794448608670823, 5.8383301251676665, 21.7485487185651, 5.2434421160814475, 5.210682510379272, 4.599038080479687, 4.612000886149052, 3.9922667047777334, 4.022726595913421, 3.9547850575213337, 3.3288514634842254, 3.9744590836960594, 3.355949941135301, 3.3337962411467386, 3.355489735052597, 3.3035566126621436, 11.521149867066152, 57.784963344102444, 33.597296238627386, 7.153980232561463, 9.818534297959179, 19.395730715026176, 21.75010968486092, 20.44452775807656, 27.639279057639197, 22.47048446882214, 28.066839093262264, 27.68155128508907, 13.63829882059768, 10.347865327613649, 17.433911496050758, 19.232806859426738, 14.864089006197148, 7.759140231673923, 8.975328716553193, 11.758020979997942, 18.682738996725416, 9.184619229683621, 9.283804385495312, 14.074152906315703, 14.684928358616762, 12.237446462673365, 9.098435307953572, 7.858855089512243, 7.187372930660348, 6.545765331678463, 5.875597435175075, 5.215036465716203, 4.732266784248109, 4.626333759752364, 4.628216265628971, 3.938061781888916, 9.06689998432406, 3.381575534908412, 3.3914094920429543, 3.376430316843144, 3.3833659466901804, 3.379622174946617, 2.77339858854426, 2.7359168478317413, 2.758055439395753, 2.7493849224822244, 2.7729910830235807, 2.767586306035144, 2.767088449505134, 2.7429511261935366, 2.7543105627800215, 6.583266886478745, 2.725845021279776, 16.734562011971455, 8.994497756381522, 8.43721523666999, 5.316328048266514, 5.271607573846823, 9.044943996184402, 4.652379342024321, 6.559928576259334, 4.009361888904506, 4.620556083702588, 12.918798400575708, 7.830422144716136, 11.029555395644483, 7.886387200080774, 9.824095954040834, 12.486005780120523, 7.894064909943423, 8.556009186070082, 11.438546904656334, 7.328350957365901, 7.297545712670796, 7.479951746657975, 6.584292086883215, 6.669028731143927, 6.684850755802119, 6.769704995765593, 6.641573455783183, 0.00017239757768571518, 0.00016170505356657622, 0.00017284482185910306, 0.00016756525380293255, 0.00015946194377206298, 0.00016617876543798413, 0.00016756044046035293, 0.0001696388256572264, 0.00015566079143495708, 0.00016336482495202443, 0.00016430513512725474, 0.00016084320520750914, 0.00016061019008954666, 0.0001582846598718089, 0.00016198153985892653, 0.00016218444590185602, 0.00015671394944613093, 0.00016559471793383987, 0.00016151636141641153, 0.00015718648213693538, 0.00016075387712175362, 0.0001572005303722228, 0.00015673759968287232, 0.0001602322744903526, 0.0001611214835975032, 0.0001662420470078416, 0.00015719967493833028, 0.0001593334771446397, 0.000156335277754811, 0.00015752756774004917, 0.00016198037424702426, 0.00016471165059807756, 0.0001648407992610886, 0.00016532821191432272, 0.00016383891212461932, 0.0001646013648742626, 0.00017066104805152634, 0.0001763561718879043, 0.0011567791379105022, 0.00017054155393446933, 0.0006070549929381792, 0.0007300203673719735, 0.0005167377125921461, 0.0005577448085606723, 0.0004719730956720031, 0.0005123290032073237, 0.0004537311326956339, 0.0004149076668294949, 0.00042506203449638435, 0.0006117780657920914, 0.00044597012084953395, 0.0001702768857324091, 0.0003823016484663591, 0.00035619550788551344, 0.0004535027221450379, 0.00035955173905258524, 0.00029416505643676725, 0.00019067193567045388, 0.000341915796586358, 0.0003498199463307704, 0.0003519440701084691, 0.00029635146885199703, 0.0003437482511380771, 0.000331169668710951, 0.0002045330120606724, 0.000257034489773512, 0.000245135716708655, 0.0002612954066015639, 0.00022665321392339614, 0.0002043539686347346, 0.0002513457654563956, 0.00026012021312116814, 0.0002782322101096245, 0.000297011734508719, 0.00026365752520209475, 0.0002737819524742236, 0.0001751761316275615, 0.00016834342143445095, 0.00016947409897886587, 0.00017102309126967464, 0.000168107002192787, 0.00016849206244960182, 0.00016927357753217148, 0.00016829810300395201, 0.0001706776025041605, 0.00016379893171621622, 0.00016318049743636076, 0.00015752936198271046, 0.0001626590396980236, 0.00017172782026705707, 0.00016602383618769545, 0.00016619359448432963, 0.00016310390160627122, 0.00015906771422631003, 0.00016259543081007367, 0.00015868796613247732, 0.00016781252197725982, 0.00016596682714164354, 0.00017016406274628643, 0.0001607890631546756, 0.00015230082401006097, 0.00015676152408222532, 0.00015794066008512436, 0.000156121409132272, 0.00015944130995493945, 0.0001608184465308282, 0.00016331491827953286, 0.0001589090218549894, 0.0001679366365696719, 0.00016183240950042943, 0.00016289685544776018, 0.00016883033795726698, 0.0009978937115389455, 0.0008776593183551231, 0.00017230095674099327, 0.0004786920363099138, 0.0004925705526087791, 0.0005085478054423143, 0.00047349756668220005, 0.0004069321723423922, 0.0003578658565085194, 0.0004256026911969312, 0.0003606892455598474, 0.0004373180520224127, 0.000405112622170999, 0.00035174476026261905, 0.0002904040422881314, 0.0003646250375485971, 0.0003488429285909813, 0.00033569515452311685, 0.0003265487042339422, 0.00034941421135533735, 0.00034749600002434693, 0.0002397548166591422, 0.0003326937949618684, 0.0002747748818591991, 0.00023198161270552488, 0.00022953298409745073, 0.00022382695721265508, 0.0003727139834083772, 0.00025753503830993273, 0.00027152086883908935, 0.0003201924986603185, 0.0003039170048053804, 0.00029172742208243246, 0.00029331729505734214, 0.0002971934806607115, 0.00028382896269500864, 0.00027498269411192154, 0.00017919937349262062, 0.0001832350221415106, 0.00018044227383935758, 0.00017985955208200575, 0.00017693188218837483, 0.00016598770492343268, 0.00017255455573035006, 0.00017025457325881875, 0.00016735090976056143, 0.0001686095504539703, 0.00017044272667477166, 0.0001681188626754463, 0.00017498829581425875, 0.00016482212534948406, 0.00016710697696000696, 0.0001664124381160549, 0.00015865472521298826, 0.00016602244165293812, 0.00016746871623328415, 0.0001673613383471844, 0.00016034210092587657, 0.00016385482389415313, 0.00016359983341840555, 0.00015575652515369072, 0.00016801736604456113, 0.000157702606886739, 0.00015378288096187307, 0.0001624094077341964, 0.00016814081233124318, 0.00016477923202238204, 0.0001680329564865622, 0.00016319262415888893, 0.00016564967545308967, 0.00016546629954584127, 0.0001639934405872189, 0.00016473007010748807, 0.00017392467215782636, 0.00017037912126214482, 0.00017205221153697718, 0.0001906476350544339, 0.00017094590692034097, 0.0001703524179203909, 0.00017009778958168367, 0.00024533641083959924, 0.0003553710260511747, 0.00024455587848883775, 0.0003086843096414352, 0.00023694350112063017, 0.00024164857833759094, 0.00022640730839703214, 0.0002626943982626362, 0.00018075971743192995, 0.00026329850003875034, 0.00018355218915091994, 0.0001795270409004793, 0.0002578127001979058, 0.0002469435925432666, 0.00021086984271727376, 0.0002396118475083817, 0.00023616229795541232, 0.0002225702177554253, 0.00022031393460962217, 0.0002339343917394529, 0.00020692341221901342, 0.0002197247389249326, 0.00022631602129658963, 0.00022809228254061804, 0.00019377386630970288, 0.00021156446041782533, 0.00020618215166837018, 0.0002019669555750173, 0.00021028539537072276, 0.00020708684749971514, 0.00020558788287899118, 0.00021184074787021525, 0.00020218683987345508, 0.0002068503813256266, 0.00020409595435411128, 0.0002031872282547796, 0.00017181657766949244, 0.00017272317398335757, 0.00018226360749174736, 0.0001662741499119175, 0.00016984281219593777, 0.000169119219847527, 0.0001647404309634979, 0.0001609215074678163, 0.00015665710207102756, 0.00015797286768706896, 0.00015437353326774164, 0.00018021306124350523, 0.00016149348308862772, 0.000165144444679866, 0.00015771253621332514, 0.00015840009419271648, 0.00016324692303193734, 0.0001665458171609732, 0.00015934992818005537, 0.00015873044499935425, 0.00015729130442949037, 0.000159201271799027, 0.0001608172528840304, 0.00016514753460913884, 0.00016226301826350272, 0.00015887325592963357, 0.00015770409935871767, 0.00016118727972934608, 0.00016083848875398502, 0.0001625733592502927, 0.00016275621651188162, 0.00017577385727550408, 0.00017564141103506366, 0.0001633650831911017, 0.00016567743161144757, 0.0001703259943939682, 0.00017276627082709104, 0.00017205632273383878, 0.0001643041822766447, 0.0001688941889826186, 0.00017245252773485844, 0.00017024388835347416, 0.00016919089266147024, 0.0001692884943183211, 0.0001673883656844244, 0.00017012414256309714, 0.00016999356738393572, 0.0001677319837052818, 0.0001678855723816733, 0.00016885935766189402, 0.0001680002963016735, 0.00036011643652051077, 0.0002762916767736168, 0.00029343534004421944, 0.00024893407926422043, 0.00017739861492835598, 0.00027156975723335506, 0.00020309761740540698, 0.0001767662200793208, 0.0002331349719817186, 0.0002437330873686671, 0.00022588420446430932, 0.00023826754711560154, 0.0002291269245600163, 0.00021814741682125616, 0.00022262977179889274, 0.00018545801853591258, 0.00020979300663310924, 0.0002081107066955622, 0.0001949991428617874, 0.0002147753009727067, 0.00020991109729882936, 0.00020464120111951065, 0.000197136698890128, 0.00019512930676139043, 0.00019263471019583572, 0.00019415368598896634, 0.0001976120502238424, 0.00020615823998524895, 0.00019650591997171657, 0.00020057225457815005, 0.00020257073259786633, 0.00019401365622640513, 0.00019630000081775269, 0.00019530796165657575, 0.00017665470703207928, 0.00018260004149609082, 0.00017442052893257181, 0.00017572604913887165, 0.00016578322687743253, 0.00017046208028224854, 0.00016940732823160208, 0.00017045224504675567, 0.0001670280463917498, 0.00016840890389119382, 0.0001669039123700124, 0.0001713474597415037, 0.0001729119074998716, 0.00016496103308374376, 0.0001741834944707237, 0.00016443094175960741, 0.00016769795657728867, 0.00016729852259182504, 0.0001692223424274615, 0.00016486510446742545, 0.00016357489522995862, 0.00016192681410434994, 0.0001691582743953323, 0.00016603325556343438, 0.00016885619322968385, 0.00016611832425894132, 0.0001654833699093688, 0.0001690678473125106, 0.0001609275758791532, 0.0001620896693210219, 0.00016742990569491902, 0.000168196452735791, 0.0001767410276313148, 0.0001747887939920658, 0.00017204487589005788, 0.00018954153806161557, 0.00017254112044607945, 0.00018526098708052653, 0.0001706563400711602, 0.00017046030662007375, 0.0001824517092264086, 0.00027087010916878294, 0.0002592805255218401, 0.00030012137040457245, 0.00027240606036044456, 0.00026302903480251527, 0.00024131114053490332, 0.00024176128473821817, 0.00018286493246716162, 0.00021797543467620467, 0.0002302999988004718, 0.0002086737113664983, 0.00018684225115877571, 0.00022850217137484208, 0.00021617398866773986, 0.00022444384615312904, 0.00021497992453271372, 0.0002099208647392751, 0.0002054665678872918, 0.00019925258252611602, 0.0002034824813274879, 0.0002038023017509167, 0.00020131223314746752, 0.00019897391631651, 0.00018763900963459883, 0.00018982368382873912, 0.00019487994999185242, 0.00018812000651248457, 0.00019399615290699164, 0.00018905400089308763, 0.00018779729362575852, 0.00016938102488849133, 0.00016974266477766888, 0.00017395627992310486, 0.00017080671849768902, 0.00016800764077743138, 0.00016746065384769878, 0.00016815510117844227, 0.00016750844480515963, 0.00016295451928821184, 0.00016110582366804434, 0.00016211512781165522, 0.0001652866892433441, 0.00016575908958057402, 0.00015681189767607697, 0.00016209560848583958, 0.00015767694085836183, 0.0001599097894571783, 0.00016072568047351487, 0.00016075581491510602, 0.0001649614249653424, 0.00016485713361662238, 0.000165239033403387, 0.00016060534941223105, 0.0001633552063083418, 0.00015798146440476176, 0.00015774582642016512, 0.0001606397728096281, 0.00016057105091003753, 0.0001556141209260134, 0.0001547107522576178, 0.0001643548426851517, 0.00016607473202412501, 0.00017956140070266125, 0.00017362831003541422, 0.00018001128417143177, 0.0001637801621246648, 0.00017268453706273805, 0.00016947113806375328, 0.00016939122477876956, 0.00016926578551947714, 0.00016822170308275662, 0.00016894311901068625, 0.00016986016351437384, 0.00017087150656352435, 0.0001698197818755984, 0.0001697899825468906, 0.00016905414716376603, 0.00016832941963714659, 0.00016973144353469942, 0.0001701392281962146, 0.00018522841525870214, 0.00018345133912715204, 0.00022963218274814278, 0.00023616844872819363, 0.0002047034527158053, 0.0002317726373934889, 0.0002614390598604353, 0.0002465781822857174, 0.00021494464841248677, 0.0002200392788629386, 0.00023670382249289316, 0.00021448135792852843, 0.00021463448031955575, 0.00022128063409100257, 0.00022528926660281433, 0.00022302554292302697, 0.00023218305631907498, 0.00022021885406146876, 0.00021371148281526067, 0.00022087831986780703, 0.00020654889687542782, 0.00020572949569438594, 0.0002112379107853818, 0.00020809384285557945, 0.0001898163280788741, 0.00020465841416571762, 0.00019735999867575367, 0.00019862176593536096, 0.00019898548563611958, 0.0001990774800635517, 0.00019616121015757397, 0.00019446693453098593, 0.00019254304205240308, 0.00018498510978682823, 0.00018176479280351108, 0.000173777864899009, 0.0001717873993806964, 0.00016717050309063443, 0.00016964884995332671, 0.0001670407790440505, 0.0001678244822639658, 0.00016690301607633748, 0.00016707100940767565, 0.00018653461353758695, 0.00016237975563560746, 0.0001696878777004874, 0.0001611925674237812, 0.00016517123363064392, 0.00015992209960573474, 0.00016018242225947557, 0.0001667318429069666, 0.00016218346193175426, 0.00016625732514581135, 0.00016123986897646113, 0.0001642837543889293, 0.0001568949874272735, 0.00016001270743668458, 0.00016186929268646364, 0.0001638812379954375, 0.00016230405283887737, 0.0001620396445178249, 0.00016011684173421154, 0.00016102875792720637, 0.0001878865971601815, 0.00016230561898931522, 0.00016160555161604637, 0.00016835041795823275, 0.00017663110478619717, 0.00017394894071954102, 0.0001724449934498527, 0.0001708744126032707, 0.00017296734226643896, 0.00017077255887393012, 0.00017203704931841797, 0.00017053487708508259, 0.00016911937555760475, 0.00016953307277068925, 0.0004718806216417977, 0.00018614129555393502, 0.0001685702440603475, 0.000323131409111182, 0.0002865746204106396, 0.0002726910993948467, 0.000185732789785279, 0.00018322019692442343, 0.00022874710124384744, 0.0002122718767098295, 0.00021761334069190017, 0.00021609541962519947, 0.00017719675349688066, 0.00017732649685954057, 0.0002009011137784025, 0.00022442887462529172, 0.00021149561283226073, 0.00021325803118668566, 0.00021084704382000989, 0.00021810658785011074, 0.00020262735623019984, 0.00020853247277426637, 0.00019750536609813109, 0.0002046390269548694, 0.00020319992230504624, 0.00021020076662652345, 0.00019397343351176436, 0.0002003113587369871, 0.00020422839844215948, 0.00020084061128685543, 0.00019574652128755325, 0.00019804003011111805, 0.0001946280693679278, 0.00019087212296205997, 0.0001914947869963284, 0.00019196748337778656], \"Term\": [\"sorry\", \"thanks\", \"great\", \"thank\", \"stopping\", \"vote\", \"just\", \"congrats\", \"hear\", \"hope\", \"like\", \"time\", \"congressman\", \"amp\", \"experience\", \"people\", \"better\", \"man\", \"soon\", \"provide\", \"country\", \"new\", \"tonight\", \"love\", \"info\", \"florida\", \"state\", \"brother\", \"big\", \"border\", \"vote\", \"congressman\", \"president\", \"border\", \"jobs\", \"kids\", \"election\", \"trump\", \"governor\", \"senator\", \"bro\", \"democrats\", \"brother\", \"crime\", \"united\", \"country\", \"republican\", \"indiana\", \"illegal\", \"republicans\", \"young\", \"protect\", \"pelosi\", \"immigration\", \"states\", \"fake\", \"missouri\", \"watching\", \"virginia\", \"ohio\", \"world\", \"yes\", \"thank\", \"man\", \"florida\", \"job\", \"people\", \"state\", \"congrats\", \"incredible\", \"great\", \"just\", \"america\", \"amp\", \"big\", \"tonight\", \"let\", \"today\", \"new\", \"happy\", \"game\", \"doing\", \"don\", \"coming\", \"watch\", \"good\", \"need\", \"day\", \"love\", \"best\", \"time\", \"info\", \"sorry\", \"experience\", \"taste\", \"stopping\", \"menu\", \"disappointed\", \"mobile\", \"provide\", \"rockin\", \"enjoyed\", \"lunch\", \"experienced\", \"hear\", \"machines\", \"mcdonald\", \"sounds\", \"vary\", \"high-five\", \"fries\", \"franchisee\", \"feedback\", \"anytime\", \"focused\", \"sanitizing\", \"inconvenience\", \"scoop\", \"individual\", \"eric\", \"procedures\", \"meal\", \"thanks\", \"hope\", \"roll\", \"link\", \"friend\", \"chance\", \"work\", \"better\", \"soon\", \"like\", \"time\", \"enjoy\", \"appreciate\", \"make\", \"love\", \"right\", \"service\", \"morning\", \"know\", \"great\", \"way\", \"good\", \"beach\", \"daytona\", \"core\", \"workouts\", \"runners\", \"exercises\", \"moves\", \"runner\", \"routine\", \"faster\", \"strength\", \"training\", \"marathon\", \"retweet\", \"body\", \"strengthen\", \"beachside\", \"recipes\", \"foods\", \"signed\", \"picked\", \"efficient\", \"random\", \"follow\", \"tougher\", \"racing\", \"space\", \"hiit\", \"winner\", \"miles\", \"run\", \"workout\", \"race\", \"simple\", \"easy\", \"running\", \"-minute\", \"use\", \"fans\", \"pick\", \"need\", \"win\", \"make\", \"help\", \"best\", \"just\", \"know\", \"good\", \"great\", \"day\", \"better\", \"time\", \"chance\", \"right\", \"new\", \"congrats\", \"like\", \"madi\", \"lodge\", \"nikki\", \"halls\", \"creative\", \"driely\", \"melange\", \"lonnie\", \"nisa\", \"norma\", \"commute\", \"buffett\", \"alleah\", \"maverick\", \"naturally\", \"abigail\", \"spire\", \"invincible\", \"aniston\", \"beholder\", \"hair\", \"douglas\", \"kiara\", \"listening\", \"bei\", \"stevie\", \"hydration\", \"pete\", \"jillian\", \"leia\", \"casm\", \"almond\", \"annie\", \"rob\", \"mma\", \"enzo\", \"present\", \"theater\", \"sorry\", \"emotions\", \"stopping\", \"thanks\", \"experience\", \"better\", \"hear\", \"like\", \"soon\", \"info\", \"provide\", \"great\", \"hope\", \"stupidity\", \"work\", \"sounds\", \"time\", \"friend\", \"taste\", \"solution\", \"chance\", \"right\", \"make\", \"disappointed\", \"love\", \"good\", \"eric\", \"morning\", \"link\", \"really\", \"rockin\", \"deserve\", \"appreciate\", \"enjoy\", \"people\", \"thank\", \"know\", \"just\", \"haircuts\", \"gator\", \"autumn\", \"elem\", \"cyndi\", \"victor\", \"-something\", \"gold\", \"contin\", \"rocky\", \"frozen\", \"laurence\", \"kea\", \"crappy\", \"danie\", \"brain\", \"chase\", \"cache\", \"looked\", \"titans\", \"vanessa\", \"randall\", \"bodyweight\", \"captain\", \"nisa\", \"describes\", \"all-county\", \"obms\", \"photoshop\", \"messing\", \"gayle\", \"continu\", \"storage\", \"phoebe\", \"garrett\", \"asg\", \"sorry\", \"thanks\", \"multicolor\", \"experience\", \"hear\", \"hope\", \"like\", \"provide\", \"disappointed\", \"stopping\", \"info\", \"time\", \"love\", \"work\", \"meal\", \"soon\", \"chance\", \"friend\", \"sounds\", \"know\", \"better\", \"mobile\", \"make\", \"appreciate\", \"enjoyed\", \"experienced\", \"machines\", \"great\", \"morning\", \"enjoy\", \"just\", \"amp\", \"good\", \"congrats\", \"thank\", \"new\", \"right\", \"gator\", \"ormond\", \"vince\", \"technically\", \"place--pizza\", \"tip\", \"footage\", \"rebecca\", \"steph\", \"orleans\", \"messing\", \"traditional\", \"bar--great\", \"decision\", \"hashbrown\", \"elle\", \"ocean\", \"spirit\", \"speedway\", \"waves\", \"hog\", \"spiced\", \"assistance\", \"creative\", \"slow-cooker\", \"clean-up\", \"nisa\", \"freakin\", \"straws\", \"veterans\", \"bike\", \"pantry\", \"cutters\", \"floor\", \"gloves\", \"bound\", \"peoples\", \"chicago\", \"manager\", \"dinner\", \"kept\", \"worldwide\", \"meechee\", \"workout\", \"great\", \"beach\", \"just\", \"daytona\", \"run\", \"core\", \"new\", \"itunes\", \"congrats\", \"mind\", \"storm\", \"amp\", \"make\", \"race\", \"need\", \"tonight\", \"country\", \"live\", \"like\", \"running\", \"big\", \"better\", \"thank\", \"easy\", \"know\", \"help\", \"border\", \"hope\", \"day\", \"man\", \"thanks\", \"state\", \"time\", \"good\", \"sorry\", \"clean-up\", \"carbohydrate\", \"late-start\", \"exploring\", \"inspired\", \"live-tweeting\", \"leia\", \"sold\", \"lodge\", \"hog\", \"nisa\", \"boooooiiiiii\", \"schools\", \"barely\", \"festival\", \"lashun\", \"bei\", \"collard\", \"corp\", \"jackie\", \"jamel\", \"mcflurry\", \"pete\", \"imagined\", \"weekly\", \"based\", \"comeback\", \"butt\", \"clearly\", \"sad\", \"bristol\", \"peru\", \"continues\", \"high-intensity\", \"trays\", \"framed\", \"council\", \"fostered\", \"ale\", \"feels\", \"deepest\", \"fox\", \"trt\", \"signing\", \"mood\", \"shut\", \"spent\", \"advocate\", \"disas\", \"record-breaking\", \"stat\", \"great\", \"vote\", \"thank\", \"florida\", \"finally\", \"just\", \"arizona\", \"fairly\", \"day\", \"amp\", \"state\", \"congrats\", \"new\", \"congressman\", \"people\", \"wants\", \"game\", \"don\", \"honor\", \"good\", \"man\", \"tonight\", \"years\", \"come\", \"young\", \"week\", \"coming\", \"like\", \"border\", \"today\", \"love\", \"incredible\", \"job\", \"need\", \"casseroles\", \"knees\", \"comeback\", \"torch\", \"lodge\", \"breaking\", \"maverick\", \"recoveryrt\", \"sold\", \"kelly\", \"all-county\", \"barely\", \"randall\", \"hmmm\", \"easier\", \"frozen\", \"aren\", \"duke\", \"yaaaaaas\", \"lennon\", \"driely\", \"pain-free\", \"systems\", \"hips\", \"bristol\", \"tami\", \"sweat\", \"scheduled\", \"makeover\", \"skip\", \"normal\", \"post-race\", \"upcomin\", \"pol\", \"offer\", \"effort\", \"especial\", \"train\", \"indication\", \"original\", \"drugstore\", \"congrats\", \"right\", \"great\", \"just\", \"amp\", \"need\", \"new\", \"points\", \"game\", \"good\", \"years\", \"htt\", \"thank\", \"tonight\", \"time\", \"love\", \"today\", \"live\", \"beach\", \"brother\", \"man\", \"big\", \"help\", \"pick\", \"meal\", \"better\", \"core\", \"thanks\", \"soon\", \"day\", \"committed\", \"tron\", \"abs\", \"builds\", \"provides\", \"stunned\", \"nsb\", \"kalin\", \"con-cord\", \"altering\", \"tiffany\", \"masters\", \"sam\", \"carbo-loading\", \"scary\", \"spire\", \"kelly\", \"leia\", \"dawn\", \"sad\", \"double-duty\", \"survey\", \"peckish\", \"tami\", \"cars\", \"frozen\", \"finder\", \"johnna\", \"challenge\", \"casseroles\", \"tie\", \"sairi\", \"barclaycard\", \"ele\", \"industry\", \"floor\", \"hawley\", \"congressional\", \"lyric\", \"return\", \"hollywood\", \"tuned\", \"wore\", \"hometown\", \"learning\", \"cardmember\", \"annual\", \"died\", \"speaking\", \"innovating\", \"cleveland\", \"signature\", \"brother\", \"tonight\", \"salute\", \"man\", \"great\", \"just\", \"kids\", \"florida\", \"thanks\", \"happy\", \"way\", \"people\", \"congrats\", \"love\", \"sorry\", \"like\", \"know\", \"thank\", \"country\", \"state\", \"vote\", \"time\", \"illegal\", \"amp\", \"congressman\", \"best\", \"make\", \"new\", \"day\", \"stopping\", \"hope\", \"scary\", \"abigail\", \"girls\", \"dbpd\", \"bahahaha\", \"photoshop\", \"basically\", \"driely\", \"hashbrown\", \"long-serving\", \"present\", \"pain-free\", \"television\", \"patch\", \"barely\", \"altering\", \"jackie\", \"incorporate\", \"mcgriddle\", \"crawl\", \"lennon\", \"panthers\", \"comfort\", \"shorts\", \"brendan\", \"standing\", \"carbohydrate\", \"aunt\", \"crossfit\", \"yvonne\", \"calls\", \"pantry\", \"fare\", \"perfectly\", \"wear\", \"narrated\", \"finding\", \"hollywood\", \"hurt\", \"conservatives\", \"modern\", \"macron\", \"admitted\", \"credit\", \"great\", \"prison\", \"badly\", \"just\", \"vote\", \"thank\", \"extraordinary\", \"matthew\", \"congressman\", \"trump\", \"news\", \"years\", \"midterm\", \"braun\", \"pelosi\", \"new\", \"don\", \"big\", \"state\", \"amp\", \"doing\", \"man\", \"democrats\", \"job\", \"live\", \"congrats\", \"states\", \"america\", \"people\", \"country\", \"fantastic\", \"florida\", \"president\", \"senator\", \"border\", \"tonight\"], \"Total\": [99.0, 76.0, 118.0, 67.0, 43.0, 42.0, 68.0, 48.0, 36.0, 43.0, 49.0, 58.0, 26.0, 53.0, 30.0, 38.0, 44.0, 31.0, 35.0, 30.0, 26.0, 42.0, 33.0, 49.0, 27.0, 25.0, 27.0, 21.0, 29.0, 18.0, 42.97047388816554, 26.49799934899397, 18.828669962452185, 18.71369183698969, 12.7581487963997, 18.820787773717022, 13.694323038903647, 12.709452053853889, 12.780225423058829, 12.706992777315628, 16.98715098144465, 12.652285852835979, 21.351492531881682, 11.951431850532058, 10.14509877496326, 26.343617124083007, 11.123064170095509, 11.03538683328911, 10.254953657345663, 10.206679130870054, 11.026308036316433, 10.988161845710522, 10.143095463857218, 9.309262598399878, 11.106273097850835, 11.031558042356888, 9.230878872237646, 10.971494841653085, 8.452478242159037, 8.427614142312583, 11.095784904684477, 9.343495631767617, 67.24579245561691, 31.16485867301439, 25.105965839810363, 23.54526573768875, 38.43420650680445, 27.375545470289495, 48.18088442317782, 15.90233369138403, 118.38718458419001, 68.04092951767491, 22.474945061291372, 53.081957015090424, 29.320969630549783, 33.30823994776476, 30.90885620207814, 34.1034905790896, 42.76609174544577, 24.60722097858271, 22.153355518643856, 19.06142344170034, 21.29165988774551, 20.32426683633366, 19.034796686640593, 42.776415317841526, 37.20020082123049, 32.232009973536094, 49.5654492364906, 34.89206083666275, 58.83585510796407, 27.78213414435243, 99.17711711054835, 30.676097468253865, 13.968203379583189, 43.993611967057966, 10.87621192388096, 21.74985089803121, 7.638675128000663, 30.09770529014353, 7.644582510668191, 7.009676137732166, 6.336223324473759, 6.989705536966487, 36.25603951374605, 6.31335194433605, 6.3632008492331416, 23.746001812867622, 5.737380764342855, 5.715209664170695, 5.119891347089598, 5.201138720750444, 4.510771542592948, 4.603857867901444, 4.528562257414887, 3.819461108326832, 4.562457729280099, 3.861645490933512, 3.8376385847546417, 3.864016392246678, 3.8220674965375965, 13.937198960802979, 76.15221484367652, 43.10401799015035, 8.52583798297879, 11.929606946394818, 26.28550856684218, 30.196602470588346, 28.707436548884825, 44.03147781774757, 35.99554671460443, 49.05036915467054, 58.83585510796407, 21.957132229346172, 16.851457035421504, 41.53672624326432, 49.5654492364906, 36.0534574146634, 10.857745530369646, 15.71853842025909, 32.517342344129965, 118.38718458419001, 25.18612095423506, 42.776415317841526, 14.734259294451027, 15.441254259488655, 12.901837049235663, 9.739427588307308, 8.45569904237618, 7.763819868844125, 7.140027013324239, 6.499720309391538, 5.769418032678819, 5.308271317723115, 5.19351237708361, 5.19568203443048, 4.560238873321249, 10.545774841603059, 3.9464001442129537, 3.970415563812299, 3.964672736311294, 3.988068949938353, 3.9979378741483607, 3.310410025910881, 3.278056404475932, 3.3068963165215095, 3.296795034549793, 3.326947643049977, 3.3259456901653324, 3.340894135268228, 3.313986484348408, 3.327727402578057, 7.973535204867101, 3.3078175178919555, 20.846900218261517, 11.345633466517114, 10.84057724425516, 6.733933975822613, 6.712334717509527, 12.272258835482557, 6.08553999764991, 9.707986471674024, 5.436876386901523, 6.904384134906974, 37.20020082123049, 18.778601081988807, 41.53672624326432, 22.09658007638373, 34.89206083666275, 68.04092951767491, 32.517342344129965, 42.776415317841526, 118.38718458419001, 32.232009973536094, 44.03147781774757, 58.83585510796407, 30.196602470588346, 36.0534574146634, 42.76609174544577, 48.18088442317782, 49.05036915467054, 1.3916559424798927, 1.311416897460385, 1.407138710701499, 1.364972699178947, 1.3010437472854135, 1.3587448214330853, 1.38473428547427, 1.4122059615334206, 1.2958507552799994, 1.361945839658802, 1.3846955591585053, 1.3580568341452945, 1.3566762157591006, 1.340875508895158, 1.3733636939793759, 1.3798107039744074, 1.3356741819037268, 1.41497528755277, 1.3817136549781204, 1.3458365977608997, 1.3773931583276182, 1.3472185294496801, 1.3463961954915333, 1.3801834652855185, 1.3901488346531992, 1.4344152688016, 1.3624416983688645, 1.3818529461900029, 1.3571162881860785, 1.3680059141595782, 1.4085429652076742, 1.4343047593393639, 1.4370926287001393, 1.4519633210785847, 1.4359586732649035, 1.45011511846444, 1.5450410732533184, 1.6419310497007913, 99.17711711054835, 1.5937072091379538, 43.993611967057966, 76.15221484367652, 30.676097468253865, 44.03147781774757, 36.25603951374605, 49.05036915467054, 35.99554671460443, 27.78213414435243, 30.09770529014353, 118.38718458419001, 43.10401799015035, 1.628759823971286, 28.707436548884825, 23.746001812867622, 58.83585510796407, 26.28550856684218, 13.968203379583189, 2.5848039782148002, 30.196602470588346, 36.0534574146634, 41.53672624326432, 21.74985089803121, 49.5654492364906, 42.776415317841526, 3.864016392246678, 15.71853842025909, 11.929606946394818, 18.157866964802274, 7.644582510668191, 4.120801372230219, 16.851457035421504, 21.957132229346172, 38.43420650680445, 67.24579245561691, 32.517342344129965, 68.04092951767491, 1.3614715461703397, 1.318262841370868, 1.3649115387943154, 1.3776581522177032, 1.3637702448670581, 1.3681427404164086, 1.386433322365927, 1.3795241435134586, 1.4039044867554866, 1.353187465191572, 1.3490275199230084, 1.3107254227535168, 1.3561564262007122, 1.431859698026086, 1.3856362336648207, 1.3878665199348341, 1.3631936612205637, 1.3339314850675037, 1.3698198721707142, 1.337148121443819, 1.4152379199963747, 1.4015874091227678, 1.4450349280320356, 1.366315356862318, 1.2958507552799994, 1.3368552967526235, 1.347512413269641, 1.3368403974900778, 1.3662824248080117, 1.3801587184313824, 1.4062793823249151, 1.3646953909765638, 1.472206604400081, 1.401310391589325, 1.4345085940124522, 1.5496336938299269, 99.17711711054835, 76.15221484367652, 1.6685679560975333, 30.676097468253865, 36.25603951374605, 43.10401799015035, 49.05036915467054, 30.09770529014353, 21.74985089803121, 43.993611967057966, 27.78213414435243, 58.83585510796407, 49.5654492364906, 28.707436548884825, 13.937198960802979, 35.99554671460443, 30.196602470588346, 26.28550856684218, 23.746001812867622, 32.517342344129965, 44.03147781774757, 7.638675128000663, 41.53672624326432, 16.851457035421504, 7.009676137732166, 6.989705536966487, 6.31335194433605, 118.38718458419001, 15.71853842025909, 21.957132229346172, 68.04092951767491, 53.081957015090424, 42.776415317841526, 48.18088442317782, 67.24579245561691, 42.76609174544577, 36.0534574146634, 1.318262841370868, 1.4053478808151585, 1.4148898768530958, 1.4113053743056307, 1.4040264734372554, 1.3276336483291078, 1.3821025669666918, 1.3641444070075783, 1.3470849338138229, 1.3625051475697407, 1.3801587184313824, 1.3615371770959834, 1.4204722870732742, 1.344448898228445, 1.366741941465314, 1.3634162533531216, 1.3035380493309716, 1.3662071328199787, 1.3826445993335228, 1.3829229714331674, 1.3259122881636516, 1.36157385616819, 1.362270030327535, 1.3010437472854135, 1.4096214182295839, 1.3283677688997328, 1.2958507552799994, 1.3742270549599633, 1.4242513095286573, 1.398655221371495, 1.4364561211187206, 1.38854829415524, 1.418517904786402, 1.4209691250985128, 1.4014213138151195, 1.4202830479235986, 1.6281521445741913, 1.5541345518340726, 1.6051277211716652, 2.186510183835709, 1.624618730111967, 1.6278914921908065, 1.6358970283601362, 11.345633466517114, 118.38718458419001, 14.734259294451027, 68.04092951767491, 15.441254259488655, 20.846900218261517, 12.901837049235663, 42.76609174544577, 2.480260545617815, 48.18088442317782, 2.9224613626454206, 2.441827835456313, 53.081957015090424, 41.53672624326432, 10.84057724425516, 37.20020082123049, 33.30823994776476, 26.343617124083007, 23.878487754885775, 49.05036915467054, 12.272258835482557, 29.320969630549783, 44.03147781774757, 67.24579245561691, 6.712334717509527, 32.517342344129965, 22.09658007638373, 18.71369183698969, 43.10401799015035, 32.232009973536094, 31.16485867301439, 76.15221484367652, 27.375545470289495, 58.83585510796407, 42.776415317841526, 99.17711711054835, 1.3283677688997328, 1.381037613557701, 1.46201228955368, 1.338438801238666, 1.3880544445431726, 1.4027590319882621, 1.3680059141595782, 1.3414755970319214, 1.311416897460385, 1.3259122881636516, 1.2958507552799994, 1.5132960934153348, 1.3576755291517797, 1.3884415355933823, 1.3411408020464546, 1.3479500744399064, 1.3901488346531992, 1.4197949958977036, 1.3589197260365307, 1.354152630217979, 1.3451499633313786, 1.3619441345619234, 1.3818529461900029, 1.4202750793769143, 1.3957799194600014, 1.366971516518735, 1.3584604359908246, 1.3891812348587855, 1.3864887225704472, 1.4053770190174142, 1.4127832031751135, 1.5790095450827726, 1.6052964794361144, 1.4296704531960107, 1.473850321735761, 1.562397670090994, 1.6205969615501985, 1.6190302283805624, 1.4636760013968024, 1.5724541843801263, 1.6637615626032227, 1.6090592840142999, 1.5877837709790223, 1.598906876292193, 1.5570998647081806, 1.6502019759305735, 1.6524144072978155, 1.5768904445987957, 1.614212136894569, 1.6610898651108204, 1.6253204413362348, 118.38718458419001, 42.97047388816554, 67.24579245561691, 25.105965839810363, 2.445211980288612, 68.04092951767491, 8.424488053647186, 2.4586677604573097, 32.232009973536094, 53.081957015090424, 27.375545470289495, 48.18088442317782, 42.76609174544577, 26.49799934899397, 38.43420650680445, 4.539094038867057, 22.153355518643856, 21.29165988774551, 9.096586849584376, 42.776415317841526, 31.16485867301439, 33.30823994776476, 16.26796344876874, 13.72191638842359, 11.026308036316433, 13.100307066006645, 20.32426683633366, 49.05036915467054, 18.71369183698969, 34.1034905790896, 49.5654492364906, 15.90233369138403, 23.54526573768875, 37.20020082123049, 1.3318142723531634, 1.4218655302578802, 1.3584604359908246, 1.3864179171299047, 1.311416897460385, 1.3487351410002502, 1.340875508895158, 1.3607810536398663, 1.3414755970319214, 1.3572200745186997, 1.347512413269641, 1.3884415355933823, 1.4015874091227678, 1.3483214981295242, 1.4282776197867502, 1.3490275199230084, 1.3790420079825536, 1.377183534261578, 1.3954457017138664, 1.3656040858872347, 1.3587448214330853, 1.3480215496572978, 1.409530009378921, 1.3850510303326737, 1.4127832031751135, 1.3955809922682516, 1.3954536208371016, 1.4291842153704108, 1.3606459496577337, 1.3741089437012408, 1.4276226156549872, 1.453832773684078, 1.6279752366442295, 1.6089320128600513, 1.5534172306984309, 2.2187498466957583, 1.6314165090939072, 2.613652682174507, 1.6350869562220849, 1.635990249154989, 2.5967846156905217, 48.18088442317782, 36.0534574146634, 118.38718458419001, 68.04092951767491, 53.081957015090424, 37.20020082123049, 42.76609174544577, 3.1343219740758785, 22.153355518643856, 42.776415317841526, 16.26796344876874, 4.743917602961634, 67.24579245561691, 33.30823994776476, 58.83585510796407, 49.5654492364906, 34.1034905790896, 23.878487754885775, 14.734259294451027, 21.351492531881682, 31.16485867301439, 29.320969630549783, 22.09658007638373, 6.904384134906974, 13.937198960802979, 44.03147781774757, 12.901837049235663, 76.15221484367652, 35.99554671460443, 32.232009973536094, 1.3529885156302335, 1.3768483536386102, 1.4160182008965507, 1.3960963759137592, 1.3751518026270613, 1.3786616570444552, 1.3949744076919417, 1.3956179856982058, 1.3641218870610166, 1.3501665564873453, 1.3606191938018295, 1.3925768202593176, 1.4002301596134847, 1.3255267328511884, 1.3720975065334355, 1.3356741819037268, 1.3572200745186997, 1.3680059141595782, 1.3695097786463297, 1.4053770190174142, 1.40454574428803, 1.410430834232683, 1.3717186522939266, 1.3955809922682516, 1.3497394833757532, 1.3490275199230084, 1.3775819683670312, 1.379550235337494, 1.3393560994359257, 1.3318142723531634, 1.421281656264177, 1.443688984558326, 1.6060296074443947, 1.5391530937699693, 1.6327792087229187, 1.4209691250985128, 1.5935720379234641, 1.5563394197793836, 1.5765385522518756, 1.5899080661902445, 1.5672016187620972, 1.5985864657363624, 1.6265441372632239, 1.6651286386535509, 1.642745766504924, 1.6437689819218864, 1.6290526512004513, 1.6025755752173902, 1.672646371224421, 1.6977697266723013, 3.356620393173155, 3.128881823074133, 21.351492531881682, 33.30823994776476, 9.351953765801499, 31.16485867301439, 118.38718458419001, 68.04092951767491, 18.820787773717022, 25.105965839810363, 76.15221484367652, 24.60722097858271, 25.18612095423506, 38.43420650680445, 48.18088442317782, 49.5654492364906, 99.17711711054835, 49.05036915467054, 32.517342344129965, 67.24579245561691, 26.343617124083007, 27.375545470289495, 42.97047388816554, 58.83585510796407, 10.254953657345663, 53.081957015090424, 26.49799934899397, 34.89206083666275, 41.53672624326432, 42.76609174544577, 32.232009973536094, 43.993611967057966, 43.10401799015035, 1.3720975065334355, 1.3798107039744074, 1.374172821745935, 1.3670742570510452, 1.339508084636519, 1.3662824248080117, 1.3479687667156925, 1.3587448214330853, 1.366741941465314, 1.3819456551166467, 1.5450410732533184, 1.3480215496572978, 1.4136677597758869, 1.3475471021236978, 1.3884415355933823, 1.3501665564873453, 1.354152630217979, 1.4098904001383077, 1.3729331865522698, 1.4076131659109394, 1.3656040858872347, 1.3930196383886013, 1.3305347042635915, 1.3570246068173673, 1.3754996571489648, 1.3939636463149248, 1.381037613557701, 1.3789490997560316, 1.367263069821904, 1.3753888330483295, 1.6259562025736087, 1.38854829415524, 1.3823234615053428, 1.4654948920722195, 1.6279274609243748, 1.6212628691489264, 1.5988869548170275, 1.5672016187620972, 1.614265552975226, 1.5778639762673754, 1.6128954174265386, 1.6093139320408145, 1.615434628535132, 1.6340508087222592, 118.38718458419001, 2.445790803145864, 1.5973775766100489, 68.04092951767491, 42.97047388816554, 67.24579245561691, 3.3440518970096966, 3.1066326334260483, 26.49799934899397, 12.709452053853889, 16.647069095652608, 16.26796344876874, 2.4537054022217517, 2.478659929340907, 10.143095463857218, 42.76609174544577, 21.29165988774551, 29.320969630549783, 27.375545470289495, 53.081957015090424, 19.06142344170034, 31.16485867301439, 12.652285852835979, 23.54526573768875, 23.878487754885775, 48.18088442317782, 11.106273097850835, 22.474945061291372, 38.43420650680445, 26.343617124083007, 14.219139832313546, 25.105965839810363, 18.828669962452185, 12.706992777315628, 18.71369183698969, 33.30823994776476], \"loglift\": [30.0, 29.0, 28.0, 27.0, 26.0, 25.0, 24.0, 23.0, 22.0, 21.0, 20.0, 19.0, 18.0, 17.0, 16.0, 15.0, 14.0, 13.0, 12.0, 11.0, 10.0, 9.0, 8.0, 7.0, 6.0, 5.0, 4.0, 3.0, 2.0, 1.0, 0.4949, 0.4939, 0.4852, 0.4829, 0.4762, 0.4752, 0.4749, 0.4745, 0.4735, 0.4723, 0.4717, 0.4714, 0.4711, 0.4708, 0.4677, 0.4665, 0.4658, 0.4651, 0.4634, 0.4633, 0.4631, 0.463, 0.4627, 0.4624, 0.4614, 0.4609, 0.4601, 0.4554, 0.4548, 0.4547, 0.4527, 0.4543, 0.4286, 0.4386, 0.4371, 0.4319, 0.4103, 0.3953, 0.3405, 0.4233, 0.2204, 0.2748, 0.3871, 0.2889, 0.3467, 0.3206, 0.3208, 0.2984, 0.244, 0.3372, 0.3556, 0.3768, 0.3453, 0.3385, 0.3574, -0.0257, 0.0132, 0.0714, -0.1988, -0.0051, -0.3964, 1.557, 1.5433, 1.5369, 1.5332, 1.5232, 1.5218, 1.5106, 1.5063, 1.4992, 1.4975, 1.4953, 1.4942, 1.4935, 1.4931, 1.4921, 1.4918, 1.49, 1.4879, 1.4855, 1.4706, 1.4577, 1.4558, 1.4429, 1.4424, 1.4404, 1.4399, 1.4375, 1.4371, 1.4368, 1.4321, 1.3875, 1.3019, 1.3287, 1.4025, 1.3831, 1.2739, 1.2498, 1.2384, 1.1122, 1.1067, 1.0196, 0.8239, 1.1017, 1.0902, 0.7097, 0.6312, 0.6918, 1.2419, 1.0175, 0.5606, -0.2685, 0.5691, 0.0502, 1.5879, 1.5835, 1.5809, 1.5657, 1.5605, 1.5566, 1.5468, 1.5328, 1.5327, 1.5189, 1.5181, 1.5181, 1.4871, 1.4826, 1.4793, 1.4761, 1.4731, 1.4693, 1.4657, 1.4567, 1.453, 1.4523, 1.4522, 1.4516, 1.45, 1.4453, 1.4446, 1.4446, 1.4421, 1.4402, 1.414, 1.4015, 1.3831, 1.3974, 1.3921, 1.3286, 1.3652, 1.2418, 1.3292, 1.2321, 0.5761, 0.759, 0.3077, 0.6035, 0.3663, -0.0618, 0.2181, 0.0244, -0.7032, 0.1525, -0.1636, -0.4288, 0.1107, -0.0538, -0.2222, -0.3288, -0.3658, 1.0083, 1.0037, 0.9998, 0.9992, 0.9976, 0.9955, 0.9848, 0.9775, 0.9775, 0.9761, 0.9652, 0.9634, 0.9629, 0.9601, 0.9592, 0.9558, 0.954, 0.9514, 0.9503, 0.9494, 0.9487, 0.9485, 0.9461, 0.9434, 0.9418, 0.9417, 0.9372, 0.9366, 0.9356, 0.9353, 0.9339, 0.9325, 0.9314, 0.924, 0.9261, 0.9209, 0.8936, 0.8656, -1.3545, 0.8619, -1.1864, -1.5507, -0.9869, -1.272, -1.2447, -1.4649, -1.2769, -1.1073, -1.1632, -2.1686, -1.4744, 0.8386, -1.2219, -1.1029, -1.7687, -1.1952, -0.7636, 0.4899, -1.3842, -1.5386, -1.6741, -1.1991, -1.8744, -1.7644, 0.158, -1.0166, -0.7882, -1.1444, -0.4216, 0.0928, -1.1086, -1.3389, -1.8315, -2.3256, -1.7181, -2.4188, 1.0462, 1.0387, 1.0106, 1.0104, 1.0034, 1.0024, 0.9938, 0.993, 0.9895, 0.9852, 0.9845, 0.978, 0.976, 0.9759, 0.975, 0.9744, 0.9736, 0.9702, 0.9656, 0.9654, 0.9646, 0.9632, 0.9576, 0.957, 0.9557, 0.9534, 0.953, 0.9493, 0.9486, 0.9471, 0.9437, 0.9464, 0.9258, 0.9382, 0.9213, 0.8799, -1.5023, -1.3665, 0.8263, -1.0634, -1.202, -1.3431, -1.5437, -1.2068, -1.0104, -1.5415, -1.2474, -1.8051, -1.7101, -1.3052, -0.7743, -1.4955, -1.3641, -1.2638, -1.1898, -1.4365, -1.7451, -0.3646, -1.7304, -1.0195, -0.3116, -0.3194, -0.2428, -2.6641, -1.0147, -1.296, -2.2622, -2.0661, -1.8912, -2.0047, -2.325, -1.9184, -1.7793, 1.1012, 1.0595, 1.0374, 1.0367, 1.0254, 1.0175, 1.0161, 1.0158, 1.0112, 1.0073, 1.0052, 1.0051, 1.0027, 0.9979, 0.9952, 0.9935, 0.9907, 0.9891, 0.9858, 0.985, 0.9842, 0.9793, 0.9773, 0.9741, 0.9698, 0.9658, 0.9654, 0.9612, 0.9602, 0.9581, 0.951, 0.9557, 0.9493, 0.9464, 0.9513, 0.9425, 0.8602, 0.8861, 0.8636, 0.6571, 0.8451, 0.8396, 0.8332, -0.7372, -2.7118, -1.0017, -2.2988, -1.0802, -1.3607, -0.946, -1.9957, 0.4778, -2.1127, 0.3291, 0.4866, -2.2306, -2.0284, -0.843, -1.9483, -1.8523, -1.677, -1.5889, -2.2488, -0.986, -1.7969, -2.174, -2.5896, -0.4482, -1.9382, -1.5777, -1.4321, -2.2261, -1.9508, -1.9244, -2.7879, -1.8114, -2.5537, -2.2484, -3.0938, 1.0515, 1.0179, 1.0147, 1.0111, 0.996, 0.9812, 0.98, 0.9762, 0.972, 0.9693, 0.9692, 0.9689, 0.9677, 0.9676, 0.9563, 0.9555, 0.9549, 0.9538, 0.9534, 0.953, 0.9506, 0.9503, 0.9459, 0.945, 0.9448, 0.9445, 0.9434, 0.9429, 0.9426, 0.9398, 0.9357, 0.9014, 0.8841, 0.9276, 0.9112, 0.8805, 0.8582, 0.855, 0.9098, 0.8656, 0.8301, 0.8506, 0.8577, 0.8513, 0.8665, 0.8246, 0.8225, 0.8559, 0.8334, 0.8106, 0.8273, -2.6985, -1.95, -2.3377, -1.5169, 0.4733, -2.4269, -0.6284, 0.4642, -1.8323, -2.2868, -1.7006, -2.2126, -2.1325, -1.7029, -2.0544, -0.1009, -1.5629, -1.5312, -0.7459, -2.1974, -1.9036, -1.9955, -1.3163, -1.1563, -0.9505, -1.115, -1.5365, -2.3752, -1.4596, -2.0392, -2.4032, -1.3095, -1.6903, -2.1527, 1.0767, 1.0443, 1.0441, 1.0312, 1.0286, 1.0284, 1.028, 1.0194, 1.0134, 1.01, 1.0082, 1.0045, 1.0042, 0.9959, 0.9927, 0.9921, 0.9898, 0.9888, 0.987, 0.9825, 0.9797, 0.9775, 0.9766, 0.9755, 0.9725, 0.9684, 0.9647, 0.9622, 0.962, 0.9594, 0.9536, 0.9399, 0.8764, 0.877, 0.8963, 0.6367, 0.8502, 0.45, 0.837, 0.8353, 0.4412, -2.0843, -1.8381, -2.8808, -2.4238, -2.2106, -1.9412, -2.0788, 0.2553, -1.5246, -2.1276, -1.2594, -0.1376, -2.5878, -1.9407, -2.4721, -2.3437, -1.9937, -1.6587, -1.2066, -1.5565, -1.9331, -1.8844, -1.6132, -0.5086, -1.1995, -2.3235, -1.1313, -2.8759, -2.1524, -2.0486, 1.0188, 1.0035, 1.0, 0.9959, 0.9945, 0.9886, 0.981, 0.9767, 0.972, 0.9708, 0.9694, 0.9655, 0.9629, 0.9622, 0.9609, 0.9601, 0.9582, 0.9554, 0.9544, 0.9544, 0.9544, 0.9525, 0.9519, 0.9516, 0.9516, 0.9506, 0.9478, 0.946, 0.9442, 0.944, 0.9395, 0.9342, 0.9058, 0.9147, 0.8917, 0.9362, 0.8745, 0.8794, 0.866, 0.8568, 0.865, 0.8495, 0.8375, 0.82, 0.8274, 0.8266, 0.8312, 0.8433, 0.8088, 0.7963, 0.1997, 0.2603, -1.4356, -1.8522, -0.725, -1.8045, -3.0187, -2.5234, -1.3756, -1.6403, -2.6769, -1.6458, -1.6683, -2.0605, -2.2686, -2.307, -2.9604, -2.3092, -1.9281, -2.6217, -1.7517, -1.7941, -2.2185, -2.5478, -0.8927, -2.4615, -1.803, -2.0718, -2.2443, -2.273, -2.005, -2.3248, -2.3143, 1.0929, 1.0698, 1.0289, 1.0226, 1.0157, 1.0106, 1.0087, 1.0054, 0.994, 0.9839, 0.9826, 0.9803, 0.9768, 0.9733, 0.9678, 0.9635, 0.9621, 0.9619, 0.9608, 0.9607, 0.9603, 0.9591, 0.959, 0.959, 0.957, 0.956, 0.9556, 0.9555, 0.9521, 0.9519, 0.9388, 0.9502, 0.9504, 0.9329, 0.8758, 0.8646, 0.8698, 0.8806, 0.8632, 0.8733, 0.8587, 0.8521, 0.84, 0.831, -2.4282, 0.5211, 0.848, -2.253, -1.9135, -2.411, 0.2061, 0.2662, -1.6554, -0.9955, -1.2405, -1.2245, 0.4687, 0.4593, -0.825, -2.1532, -1.5151, -1.8268, -1.7695, -2.3978, -1.4473, -1.9102, -1.0631, -1.6487, -1.6698, -2.3379, -0.9508, -1.6235, -2.1407, -1.7797, -1.1888, -1.7456, -1.4753, -1.1015, -1.4854, -2.0595], \"logprob\": [30.0, 29.0, 28.0, 27.0, 26.0, 25.0, 24.0, 23.0, 22.0, 21.0, 20.0, 19.0, 18.0, 17.0, 16.0, 15.0, 14.0, 13.0, 12.0, 11.0, 10.0, 9.0, 8.0, 7.0, 6.0, 5.0, 4.0, 3.0, 2.0, 1.0, -5.0555, -5.5399, -5.8904, -5.8988, -6.2885, -5.9008, -6.219, -6.294, -6.2896, -6.2964, -6.0068, -6.3017, -5.7787, -6.3593, -6.5262, -5.5732, -6.4361, -6.4447, -6.5198, -6.5245, -6.4475, -6.4511, -6.5314, -6.6175, -6.442, -6.4492, -6.6283, -6.4602, -6.7217, -6.7247, -6.4516, -6.6219, -4.6739, -5.4331, -5.6507, -5.7201, -5.2517, -5.606, -5.0955, -6.1212, -4.3165, -4.816, -5.8114, -5.0502, -5.5859, -5.4845, -5.559, -5.4832, -5.3111, -5.7707, -5.8574, -5.9865, -5.9073, -5.9606, -6.0072, -5.5806, -5.6814, -5.7666, -5.6064, -5.7637, -5.6326, -4.4295, -3.1707, -4.3505, -5.1409, -4.0037, -5.4026, -4.7207, -5.7713, -4.4072, -5.7794, -5.8683, -5.9704, -5.873, -4.2272, -5.9761, -5.9686, -4.6535, -6.076, -6.0823, -6.2072, -6.2044, -6.3487, -6.3411, -6.3581, -6.5304, -6.3531, -6.5223, -6.5289, -6.5224, -6.538, -5.2888, -3.6763, -4.2186, -5.7654, -5.4488, -4.768, -4.6534, -4.7153, -4.4138, -4.6208, -4.3984, -4.4123, -5.1201, -5.3962, -4.8746, -4.7764, -5.0341, -5.6842, -5.5385, -5.2685, -4.8054, -5.5155, -5.5048, -5.0328, -4.9903, -5.1727, -5.4691, -5.6155, -5.7048, -5.7984, -5.9064, -6.0256, -6.1228, -6.1454, -6.145, -6.3065, -5.4725, -6.4588, -6.4559, -6.4603, -6.4583, -6.4594, -6.6571, -6.6707, -6.6626, -6.6658, -6.6572, -6.6592, -6.6594, -6.6681, -6.664, -5.7926, -6.6744, -4.8597, -5.4806, -5.5445, -6.0064, -6.0148, -5.475, -6.1398, -5.7962, -6.2885, -6.1467, -5.1185, -5.6192, -5.2766, -5.612, -5.3923, -5.1526, -5.6111, -5.5305, -5.2402, -5.6854, -5.6896, -5.6649, -5.7925, -5.7797, -5.7773, -5.7647, -5.7838, -7.9721, -8.0361, -7.9695, -8.0005, -8.0501, -8.0088, -8.0006, -7.9882, -8.0742, -8.0259, -8.0202, -8.0415, -8.0429, -8.0575, -8.0344, -8.0332, -8.0675, -8.0124, -8.0373, -8.0645, -8.042, -8.0644, -8.0673, -8.0453, -8.0397, -8.0085, -8.0644, -8.0509, -8.0699, -8.0623, -8.0344, -8.0177, -8.0169, -8.014, -8.023, -8.0184, -7.9822, -7.9494, -6.0685, -7.9829, -6.7133, -6.5288, -6.8744, -6.798, -6.965, -6.8829, -7.0044, -7.0938, -7.0697, -6.7055, -7.0217, -7.9845, -7.1757, -7.2464, -7.0049, -7.237, -7.4378, -7.8714, -7.2873, -7.2645, -7.2584, -7.4304, -7.282, -7.3193, -7.8012, -7.5727, -7.6201, -7.5563, -7.6985, -7.8021, -7.5951, -7.5608, -7.4934, -7.4281, -7.5473, -7.5096, -7.9561, -7.9959, -7.9892, -7.9801, -7.9973, -7.995, -7.9904, -7.9962, -7.9821, -8.0233, -8.027, -8.0623, -8.0302, -7.976, -8.0098, -8.0088, -8.0275, -8.0526, -8.0306, -8.055, -7.9991, -8.0101, -7.9851, -8.0418, -8.096, -8.0672, -8.0597, -8.0713, -8.0502, -8.0416, -8.0262, -8.0536, -7.9983, -8.0353, -8.0288, -7.993, -6.2163, -6.3446, -7.9727, -6.9508, -6.9223, -6.8903, -6.9618, -7.1133, -7.2417, -7.0684, -7.2339, -7.0412, -7.1177, -7.259, -7.4506, -7.223, -7.2673, -7.3057, -7.3333, -7.2656, -7.2712, -7.6423, -7.3147, -7.506, -7.6752, -7.6859, -7.711, -7.2011, -7.5707, -7.5179, -7.353, -7.4052, -7.4461, -7.4406, -7.4275, -7.4735, -7.5052, -7.9334, -7.9111, -7.9265, -7.9297, -7.9461, -8.01, -7.9712, -7.9846, -8.0018, -7.9943, -7.9835, -7.9972, -7.9572, -8.017, -8.0033, -8.0074, -8.0552, -8.0098, -8.0011, -8.0017, -8.0446, -8.0229, -8.0245, -8.0736, -7.9978, -8.0612, -8.0864, -8.0318, -7.9971, -8.0173, -7.9977, -8.027, -8.012, -8.0131, -8.0221, -8.0176, -7.9633, -7.9839, -7.9741, -7.8715, -7.9806, -7.984, -7.9855, -7.6193, -7.2487, -7.6225, -7.3896, -7.6541, -7.6344, -7.6996, -7.5509, -7.9247, -7.5486, -7.9094, -7.9316, -7.5697, -7.6127, -7.7707, -7.6429, -7.6574, -7.7167, -7.7268, -7.6669, -7.7896, -7.7295, -7.7, -7.6921, -7.8552, -7.7674, -7.7931, -7.8138, -7.7734, -7.7888, -7.796, -7.7661, -7.8127, -7.7899, -7.8033, -7.8078, -7.9755, -7.9702, -7.9164, -8.0083, -7.987, -7.9913, -8.0175, -8.041, -8.0678, -8.0595, -8.0825, -7.9278, -8.0374, -8.0151, -8.0611, -8.0568, -8.0266, -8.0066, -8.0508, -8.0547, -8.0638, -8.0517, -8.0416, -8.0151, -8.0327, -8.0538, -8.0612, -8.0393, -8.0415, -8.0308, -8.0296, -7.9527, -7.9535, -8.0259, -8.0119, -7.9842, -7.97, -7.9741, -8.0202, -7.9926, -7.9718, -7.9847, -7.9909, -7.9903, -8.0016, -7.9854, -7.9861, -7.9995, -7.9986, -7.9928, -7.9979, -7.2355, -7.5004, -7.4402, -7.6047, -7.9435, -7.5177, -7.8082, -7.9471, -7.6703, -7.6258, -7.7019, -7.6485, -7.6876, -7.7367, -7.7164, -7.8991, -7.7758, -7.7838, -7.8489, -7.7523, -7.7752, -7.8006, -7.838, -7.8482, -7.8611, -7.8532, -7.8356, -7.7933, -7.8412, -7.8207, -7.8108, -7.854, -7.8423, -7.8473, -7.9477, -7.9146, -7.9604, -7.953, -8.0112, -7.9834, -7.9896, -7.9834, -8.0037, -7.9955, -8.0045, -7.9782, -7.9691, -8.0162, -7.9618, -8.0194, -7.9997, -8.0021, -7.9907, -8.0168, -8.0246, -8.0348, -7.9911, -8.0097, -7.9929, -8.0092, -8.013, -7.9916, -8.0409, -8.0337, -8.0013, -7.9968, -7.9472, -7.9583, -7.9741, -7.8773, -7.9713, -7.9001, -7.9822, -7.9834, -7.9154, -7.5203, -7.564, -7.4177, -7.5146, -7.5496, -7.6358, -7.6339, -7.9132, -7.7375, -7.6825, -7.7811, -7.8916, -7.6904, -7.7458, -7.7083, -7.7514, -7.7752, -7.7966, -7.8273, -7.8063, -7.8047, -7.817, -7.8287, -7.8874, -7.8758, -7.8495, -7.8848, -7.8541, -7.8799, -7.8865, -7.9897, -7.9876, -7.9631, -7.9814, -7.9979, -8.0011, -7.997, -8.0009, -8.0284, -8.0398, -8.0336, -8.0142, -8.0114, -8.0669, -8.0337, -8.0614, -8.0473, -8.0422, -8.042, -8.0162, -8.0168, -8.0145, -8.0429, -8.026, -8.0594, -8.0609, -8.0427, -8.0432, -8.0745, -8.0803, -8.0199, -8.0095, -7.9314, -7.965, -7.9289, -8.0234, -7.9704, -7.9892, -7.9897, -7.9904, -7.9966, -7.9923, -7.9869, -7.981, -7.9872, -7.9873, -7.9917, -7.996, -7.9877, -7.9853, -7.9003, -7.9099, -7.6854, -7.6574, -7.8003, -7.6761, -7.5557, -7.6142, -7.7515, -7.7281, -7.6551, -7.7537, -7.753, -7.7225, -7.7045, -7.7146, -7.6744, -7.7273, -7.7573, -7.7243, -7.7914, -7.7953, -7.7689, -7.7839, -7.8758, -7.8006, -7.8369, -7.8305, -7.8287, -7.8282, -7.843, -7.8516, -7.8616, -7.9016, -7.9192, -7.9641, -7.9756, -8.0029, -7.9882, -8.0037, -7.999, -8.0045, -8.0035, -7.8933, -8.032, -7.9879, -8.0393, -8.0149, -8.0472, -8.0456, -8.0055, -8.0332, -8.0084, -8.039, -8.0203, -8.0663, -8.0466, -8.0351, -8.0228, -8.0324, -8.0341, -8.046, -8.0403, -7.8861, -8.0324, -8.0367, -7.9959, -7.9478, -7.9631, -7.9718, -7.981, -7.9688, -7.9816, -7.9742, -7.983, -7.9913, -7.9889, -6.9652, -7.8954, -7.9945, -7.3438, -7.4639, -7.5136, -7.8976, -7.9112, -7.6893, -7.764, -7.7392, -7.7462, -7.9446, -7.9439, -7.8191, -7.7083, -7.7677, -7.7594, -7.7708, -7.7369, -7.8105, -7.7818, -7.8361, -7.8007, -7.8077, -7.7738, -7.8542, -7.822, -7.8027, -7.8194, -7.8451, -7.8334, -7.8508, -7.8703, -7.867, -7.8646]}, \"token.table\": {\"Topic\": [1, 3, 3, 2, 3, 1, 1, 3, 3, 2, 3, 3, 1, 3, 1, 2, 3, 3, 3, 1, 2, 1, 2, 3, 1, 1, 3, 3, 2, 1, 3, 3, 1, 3, 2, 3, 3, 3, 2, 2, 1, 2, 3, 1, 2, 3, 1, 2, 3, 3, 3, 3, 1, 1, 3, 2, 1, 3, 2, 3, 1, 1, 2, 3, 3, 3, 2, 1, 3, 3, 3, 1, 3, 3, 3, 3, 1, 2, 3, 2, 1, 3, 2, 1, 3, 1, 2, 3, 3, 3, 1, 2, 3, 2, 3, 3, 1, 2, 3, 1, 1, 1, 2, 2, 1, 3, 3, 1, 1, 3, 3, 3, 2, 1, 1, 3, 3, 2, 2, 2, 1, 2, 3, 1, 3, 3, 3, 1, 1, 3, 1, 2, 1, 1, 3, 1, 2, 1, 1, 2, 3, 1, 2, 3, 3, 2, 2, 3, 3, 3, 1, 3, 3, 1, 3, 1, 1, 3, 2, 1, 1, 2, 3, 2, 2, 2, 1, 3, 2, 3, 2, 2, 1, 1, 1, 1, 3, 1, 3, 3, 3, 2, 1, 3, 1, 2, 1, 3, 1, 3, 2, 3, 3, 3, 1, 1, 1, 2, 3, 1, 2, 2, 2, 1, 2, 3, 2, 3, 2, 3, 3, 3, 1, 2, 3, 1, 1, 2, 3, 3, 3, 3, 1, 2, 3, 2, 1, 1, 2, 3, 1, 2, 3, 2, 3, 3, 3, 3, 3, 1, 1, 1, 3, 1, 2, 3, 1, 3, 1, 3, 1, 3, 1, 2, 3, 1, 3, 1, 1, 2, 1, 2, 1, 3, 2, 1, 2, 2, 2, 1, 3, 1, 2, 1, 2, 3, 2, 2, 2, 1, 2, 1, 3, 1, 2, 3, 2, 3, 2, 1, 2, 2, 1, 2, 3, 1, 2, 3, 1, 2, 2, 1, 2, 3, 3, 3, 3, 2, 3, 1, 2, 3, 2, 1, 2, 1, 2, 1, 2, 3, 3, 1, 2, 3, 1, 3, 3, 1, 2, 2, 2, 2, 2, 2, 3, 1, 2, 2, 3, 1, 3, 1, 3, 1, 3, 2, 1, 1, 1, 2, 3, 3, 1, 1, 3, 1, 2, 3, 1, 2, 3, 1, 3, 2, 2, 2, 3, 3, 3, 3, 1, 1, 1, 3, 3, 3, 3, 3, 3, 3, 1, 1, 2, 3, 1, 3, 1, 2, 2, 3, 1, 3, 3, 3, 1, 3, 1, 3, 1, 1, 1, 2, 1, 1, 2, 3, 1, 3, 3, 2, 3, 1, 2, 3, 2, 3, 1, 3, 1, 1, 1, 1, 3, 1, 2, 3, 2, 2, 2, 1, 2, 3, 1, 3, 3, 3, 1, 3, 3, 2, 1, 2, 2, 3, 3, 3, 2, 1, 1, 2, 3, 1, 1, 3, 3, 1, 1, 3, 3, 3, 3, 2, 1, 2, 3, 1, 2, 3, 1, 2, 3, 1, 3, 1, 3, 3, 3, 3, 1, 1, 3, 1, 2, 2, 1, 2, 2, 1, 3, 3, 3, 3, 1, 3, 3, 3, 2, 2, 3, 3, 1, 2, 3, 1, 2, 3, 1, 3, 2, 1, 2, 3, 3, 3, 1, 2, 3, 1, 3, 3, 3, 3, 3, 3, 3, 2, 1, 1, 1, 1, 1, 1, 3, 2, 2, 3, 2, 2, 1, 1, 1, 2, 1, 2, 3, 1, 3, 1, 2, 3, 1, 1, 3, 3, 1, 3, 1, 3, 1, 1, 2, 3, 1, 3, 3, 1, 1, 2, 1, 3, 1, 1, 2], \"Freq\": [0.16432395488094337, 0.8216197744047168, 0.7212752202850372, 0.7247370940952984, 0.7062056118818606, 0.6190284536037184, 0.634159464549503, 0.6832113111410508, 0.7421081914737785, 0.7370955489482584, 0.6972018976361738, 0.7406493629953667, 0.889879817078887, 0.0889879817078887, 0.791229305808375, 0.113032757972625, 0.0941939649771875, 0.723738957342674, 0.6958493697824525, 0.6138537015750218, 0.8688365529023819, 0.3560522978747827, 0.5934204964579711, 0.7251410719989112, 0.9496125994904326, 0.6453137951127633, 0.7340688539992081, 0.7251899291836975, 0.7326482131459909, 0.6260260658736664, 0.746542713306097, 0.7039912070797165, 0.6226535272853759, 0.7202319826687028, 0.7315441382031858, 0.7418569515052535, 0.9501665282402386, 0.7566828839424413, 0.7430322534427461, 0.7193474360962726, 0.6018561098556351, 0.11463925902012097, 0.28659814755030244, 0.2043992263274073, 0.6359087041297116, 0.1589771760324279, 0.8526321030649776, 0.034105284122599104, 0.13642113649039642, 0.6961577073591318, 0.7601864713083477, 0.6920247951112712, 0.6608092126525718, 0.9618625847210438, 0.7040850071835774, 0.7205303864862695, 0.8068876154914136, 0.7414354157469191, 0.7270085418070746, 0.7078226848624635, 0.941888373010699, 0.9367026670447671, 0.04683513335223836, 0.7363462079474451, 0.7162829280646831, 0.7198484797425679, 0.7496636905226021, 0.6150227161206262, 0.7318954551579184, 0.7544170745232839, 0.7240932398820715, 0.6083579937314579, 0.7408837129806408, 0.7099534942851822, 0.7508554464077896, 0.7466274282255132, 0.06623261679680721, 0.7285587847648795, 0.23181415878882528, 0.7335714861706658, 0.6434449313412891, 0.7528035709781524, 0.7212464001481917, 0.8937561143647743, 0.7043270351630752, 0.6558850633715269, 0.2915044726095675, 0.14575223630478376, 0.7361274377274204, 0.7515775400638408, 0.836438536105476, 0.09840453365946776, 0.09840453365946776, 0.7391045736513081, 0.7221804052059725, 0.7330723225579845, 0.8509598877408029, 0.020755119213190315, 0.1452858344923322, 0.6425333621259516, 0.981206152870825, 0.633768192341661, 0.7122991695190491, 0.732764253922195, 0.6229378889258299, 0.9301001054505575, 0.7358786400993916, 0.6170565684903172, 0.948996482990383, 0.03795985931961532, 0.6983924482116276, 0.7104224542776624, 0.7686136627507478, 0.6119760748332831, 0.9203918105854654, 0.7313881447337398, 0.704961140515585, 0.7332613420506774, 0.7216901346142884, 0.7301882875114877, 0.6515262317566273, 0.12410023462030996, 0.21717541058554243, 0.06476157850878594, 0.9714236776317893, 0.7314891600381156, 0.7437991888852609, 0.601047663605919, 0.9484452169020691, 0.7480241148231345, 0.24267124514637547, 0.7280137354391264, 0.6239955328561334, 0.457349802160875, 0.457349802160875, 0.045977326680916225, 0.9195465336183245, 0.6194972625616643, 0.8918536462921965, 0.05246197919365862, 0.10492395838731725, 0.8454014433303982, 0.04696674685168879, 0.09393349370337759, 0.7119739631598144, 0.7422700758194634, 0.7359733661728237, 0.7701832442765654, 0.7261196312052792, 0.7001439959195788, 0.14897945976851246, 0.7448972988425623, 0.9071950593103776, 0.45070425649346446, 0.45070425649346446, 0.6497079491622376, 0.9492984766803607, 0.7258694752324711, 0.7334517228620733, 0.6274678273814839, 0.2732597288812094, 0.6376060340561552, 0.09108657629373647, 0.8559596594916544, 0.6896004236263137, 0.7763942218308479, 0.6129642518791246, 0.901618033165697, 0.9453614505564657, 0.03259867070884365, 0.8584052601740907, 0.7471391288675613, 0.8971152638757331, 0.813448661981073, 0.9064902674312997, 0.18392914034411223, 0.7357165613764489, 0.914260648204401, 0.0703277421695693, 0.7234196827644127, 0.9419262318612338, 0.8867662576634641, 0.6359485763931544, 0.7456338651945374, 0.8179249963285133, 0.7259096176943923, 0.6254350859435447, 0.7037450584513384, 0.9161169160649878, 0.07966234052739024, 0.8832825459008673, 0.9017274456563892, 0.7503868480295129, 0.723535303313057, 0.6176536932236599, 0.6214811411455197, 0.640041917075926, 0.9613279453693513, 0.7276817876570869, 0.2663064320098467, 0.7228317440267268, 0.9765832243378074, 0.7412747221473079, 0.8576578832046436, 0.09027977717943617, 0.09027977717943617, 0.6971028296197991, 0.7585740632422705, 0.7110962533965062, 0.7277105064044744, 0.713561289629368, 0.7248876394820734, 0.5844341984769538, 0.21039631145170337, 0.21039631145170337, 0.9389505742480019, 0.7433236993436529, 0.1604903441764705, 0.09291546241795662, 0.7260091237959715, 0.7344993751892084, 0.7326153853491106, 0.853408030849062, 0.08127695531895829, 0.08127695531895829, 0.7316670174970106, 0.6275210509485784, 0.05516322319876454, 0.9101931827796148, 0.02758161159938227, 0.4978145922117841, 0.1357676160577593, 0.3620469761540248, 0.8748585430462111, 0.699461891909784, 0.9015161511354085, 0.7219950587378801, 0.7416628759440997, 0.7541977014067572, 0.6380799943212674, 0.6005542015111912, 0.8794507360049578, 0.10993134200061973, 0.13919816016620662, 0.7887895742751708, 0.06959908008310331, 0.8431849654182009, 0.21079624135455022, 0.6194767633843866, 0.7339763611149122, 0.9751384876163689, 0.704088957498788, 0.9667790445128237, 0.8767204514201937, 0.70927499038358, 0.943257781600136, 0.06288385210667573, 0.9967933309612345, 0.6115882682536521, 0.7817307267854157, 0.6124526786338441, 0.9718475859237969, 0.5890080287625585, 0.7204328359966553, 0.7067261236268807, 0.8063668970317046, 0.7384691929734902, 0.7434115357096801, 0.7368565307963402, 0.9343704269510429, 0.08494276608645844, 0.9405753288742292, 0.7248739294769933, 0.7936399514643974, 0.02939407227645916, 0.17636443365875498, 0.7165284556717114, 0.737378063975637, 0.7368001835329632, 0.6155290354993513, 0.74272342966249, 0.9563892976433621, 0.7033013873109594, 0.39978666959991466, 0.3690338488614597, 0.24602256590763977, 0.7418672389743478, 0.6839887784426749, 0.7629362966800797, 0.6087369210681831, 0.7309909918147838, 0.7322766608085379, 0.8088296712292815, 0.12941274739668504, 0.03235318684917126, 0.2854208896135684, 0.5708417792271367, 0.1427104448067842, 0.16765011697258048, 0.8382505848629025, 0.7245413563863627, 0.7538165810486479, 0.04187869894714711, 0.20939349473573554, 0.7128808135939114, 0.7625340209787923, 0.7236174565168356, 0.7081120086153485, 0.7300229908442843, 0.484208261393724, 0.3833315402700315, 0.121052065348431, 0.9469363203826653, 0.6343010125389151, 0.9503667865978594, 0.6213828017581834, 0.7185684115414529, 0.31297603773258625, 0.4092763570349205, 0.26482587808141916, 0.7349450459552296, 0.9305352642305117, 0.0320874229045004, 0.0641748458090008, 0.6230033827277299, 0.8771470335471212, 0.7180932394191265, 0.6437838766260449, 0.32189193831302243, 0.7457813893729557, 0.9429216745096278, 0.7342445072621538, 0.7283675635456193, 0.8610051441289485, 0.14350085735482473, 0.6112854187420493, 0.722160208272377, 0.9194377665667716, 0.7245543477322295, 0.8150937753933557, 0.906942412564486, 0.34217732106979754, 0.34217732106979754, 0.9749884192574526, 0.6963988717908747, 0.9163892799080423, 0.6200030015557697, 0.6422195664292939, 0.31809573296940064, 0.5725723193449211, 0.12723829318776025, 0.9803884476819302, 0.5993163157338895, 0.6168031224479623, 0.7281392426375131, 0.618276232177588, 0.053763150624138084, 0.34946047905689753, 0.7716393678530192, 0.07014903344118358, 0.16368107802942833, 0.9010595146695979, 0.12014126862261305, 0.7106619925916695, 0.7716938049582155, 0.734243588020007, 0.7004652273186386, 0.7168590294459612, 0.748032451650551, 0.7671429311275113, 0.6437420547668257, 0.9492603558858185, 0.6112505869252666, 0.7339421812707789, 0.7115675866817828, 0.7418279034591294, 0.717864969338671, 0.7201766076190935, 0.7420890879613982, 0.7290124679194957, 0.9858923280011405, 0.9106471339223186, 0.07805546862191302, 0.026018489540637672, 0.6141932148862714, 0.6823633472962798, 0.6333083945655182, 0.7236660042279935, 0.7136177723379539, 0.7319130963281759, 0.2896710207487531, 0.7241775518718828, 0.915176442938484, 0.7122372825007057, 0.6380965377973584, 0.3190482688986792, 0.6215303020929961, 0.6878370181915454, 0.6472319845156921, 0.9559889273058212, 0.8177314255281065, 0.7849154947466768, 0.9100703229907127, 0.06645024863921985, 0.9303034809490778, 0.727192443837561, 0.184492020575738, 0.737968082302952, 0.8979632034222302, 0.7134767289511289, 0.9099746780010778, 0.49565293200164184, 0.38550783600127697, 0.16521764400054728, 0.7330602206504114, 0.7522437645032124, 0.6020143888682895, 0.7348720775654275, 0.9889361269328673, 0.9797505997572753, 0.6289671844965296, 0.09482470610457205, 0.8534223549411485, 0.41604886398216306, 0.41604886398216306, 0.19415613652500943, 0.6887226319581918, 0.9156811363120666, 0.738995908344768, 0.11729052346484026, 0.8210336642538818, 0.8666385364484384, 0.1918750489579295, 0.8154689580712005, 0.9231166441624442, 0.9461074666810608, 0.2444537749909703, 0.7333613249729108, 0.7115528334874592, 0.692669966104877, 0.9623657500223607, 0.7141683052135064, 0.7854511186040566, 0.7288111779508083, 0.6996998632124016, 0.7365530117676639, 0.7768708979225283, 0.9443619123969486, 0.27630045220795174, 0.7368012058878712, 0.7369063132505034, 0.6059864274711495, 0.6392059889417606, 0.3196029944708803, 0.9062321514612167, 0.625427293376187, 0.14850160449900174, 0.7425080224950087, 0.7277443353992319, 0.7094103332056003, 0.7454477757273763, 0.7737530647802948, 0.36115578693865275, 0.61118671635772, 0.027781214379896366, 0.020165942086930077, 0.9679652201726436, 0.020165942086930077, 0.08422470510030149, 0.9264717561033163, 0.9052541445683827, 0.5978550022309699, 0.723251658800845, 0.605175067212888, 0.7344441841842135, 0.7486855803222214, 0.7319534322265665, 0.717378823073037, 0.6152632887443806, 0.8766948598721822, 0.10958685748402278, 0.9904312547589524, 0.7423436896208413, 0.6971481841764431, 0.04546114562035922, 0.9546840580275435, 0.6792524887547944, 0.8190585638181379, 0.7021232793045075, 0.9627395945107431, 0.7555884143068065, 0.7253411269475487, 0.613964063505553, 0.7090032178316849, 0.7166128526723248, 0.70945633888322, 0.7165474490840479, 0.9306851888340646, 0.7085638715802418, 0.707379787849539, 0.9219907705143159, 0.029741637758526316, 0.044612456637789476, 0.1969739163961501, 0.7616324767317805, 0.05252637770564003, 0.609038972849822, 0.7035903092061913, 0.734959498260354, 0.40791452688092805, 0.47590028136108276, 0.11897507034027069, 0.7532198368567633, 0.7478603035542727, 0.7917078146996168, 0.029322511655541367, 0.1759350699332482, 0.8106102286504006, 0.15011300530562974, 0.7212832347623952, 0.9019990942338179, 0.7344639697117162, 0.7652126136117059, 0.9623375654757653, 0.6784949497600916, 0.7262963981162417, 0.6298086794169733, 0.9441791785477673, 0.6255526500653604, 0.9856976478808324, 0.6142599577013932, 0.30902391641700405, 0.7210558049730095, 0.7065949730929776, 0.8714778058786704, 0.7149724855132052, 0.7309178863132655, 0.7067687855850193, 0.9464679790712529, 0.9774153319627964, 0.6609248396952777, 0.22030827989842588, 0.8405658470326327, 0.052535365439539544, 0.10507073087907909, 0.9114528279259794, 0.7231060736258275, 0.5558616996018949, 0.35733966402978956, 0.07940881422884213, 0.6142779847402887, 0.687006797218797, 0.3053363543194653, 0.7164453264142671, 0.5857731335775844, 0.4260168244200614, 0.12541488490445155, 0.8779041943311608, 0.6148004084798898, 0.2090050774747102, 0.6966835915823674, 0.06966835915823673, 0.17627927130753332, 0.7932567208838999, 0.9240789480076808, 0.9012431374528671, 0.6142915573901097, 0.7166169194342813, 0.6761756033348199, 0.3073525469703727, 0.9632369248828306, 0.9069218787525102, 0.7270671216543615], \"Term\": [\"-minute\", \"-minute\", \"-something\", \"abigail\", \"abs\", \"admitted\", \"advocate\", \"ale\", \"all-county\", \"alleah\", \"almond\", \"altering\", \"america\", \"america\", \"amp\", \"amp\", \"amp\", \"aniston\", \"annie\", \"annual\", \"anytime\", \"appreciate\", \"appreciate\", \"aren\", \"arizona\", \"asg\", \"assistance\", \"aunt\", \"autumn\", \"badly\", \"bahahaha\", \"bar--great\", \"barclaycard\", \"barely\", \"based\", \"basically\", \"beach\", \"beachside\", \"beholder\", \"bei\", \"best\", \"best\", \"best\", \"better\", \"better\", \"better\", \"big\", \"big\", \"big\", \"bike\", \"body\", \"bodyweight\", \"boooooiiiiii\", \"border\", \"bound\", \"brain\", \"braun\", \"breaking\", \"brendan\", \"bristol\", \"bro\", \"brother\", \"brother\", \"buffett\", \"builds\", \"butt\", \"cache\", \"calls\", \"captain\", \"carbo-loading\", \"carbohydrate\", \"cardmember\", \"cars\", \"casm\", \"casseroles\", \"challenge\", \"chance\", \"chance\", \"chance\", \"chase\", \"chicago\", \"clean-up\", \"clearly\", \"cleveland\", \"collard\", \"come\", \"come\", \"come\", \"comeback\", \"comfort\", \"coming\", \"coming\", \"coming\", \"committed\", \"commute\", \"con-cord\", \"congrats\", \"congrats\", \"congrats\", \"congressional\", \"congressman\", \"conservatives\", \"contin\", \"continu\", \"continues\", \"core\", \"corp\", \"council\", \"country\", \"country\", \"crappy\", \"crawl\", \"creative\", \"credit\", \"crime\", \"crossfit\", \"cutters\", \"cyndi\", \"danie\", \"dawn\", \"day\", \"day\", \"day\", \"daytona\", \"daytona\", \"dbpd\", \"decision\", \"deepest\", \"democrats\", \"describes\", \"deserve\", \"deserve\", \"died\", \"dinner\", \"dinner\", \"disappointed\", \"disappointed\", \"disas\", \"doing\", \"doing\", \"doing\", \"don\", \"don\", \"don\", \"double-duty\", \"douglas\", \"driely\", \"drugstore\", \"duke\", \"easier\", \"easy\", \"easy\", \"efficient\", \"effort\", \"effort\", \"ele\", \"election\", \"elem\", \"elle\", \"emotions\", \"enjoy\", \"enjoy\", \"enjoy\", \"enjoyed\", \"enzo\", \"eric\", \"especial\", \"exercises\", \"experience\", \"experience\", \"experienced\", \"exploring\", \"extraordinary\", \"fairly\", \"fake\", \"fans\", \"fans\", \"fantastic\", \"fantastic\", \"fare\", \"faster\", \"feedback\", \"feels\", \"festival\", \"finally\", \"finder\", \"finding\", \"floor\", \"florida\", \"florida\", \"focused\", \"follow\", \"foods\", \"footage\", \"fostered\", \"fox\", \"framed\", \"franchisee\", \"freakin\", \"friend\", \"friend\", \"fries\", \"frozen\", \"game\", \"game\", \"game\", \"garrett\", \"gator\", \"gayle\", \"girls\", \"gloves\", \"gold\", \"good\", \"good\", \"good\", \"governor\", \"great\", \"great\", \"great\", \"hair\", \"haircuts\", \"halls\", \"happy\", \"happy\", \"happy\", \"hashbrown\", \"hawley\", \"hear\", \"hear\", \"hear\", \"help\", \"help\", \"help\", \"high-five\", \"high-intensity\", \"hiit\", \"hips\", \"hmmm\", \"hog\", \"hollywood\", \"hometown\", \"honor\", \"honor\", \"hope\", \"hope\", \"hope\", \"htt\", \"htt\", \"hurt\", \"hydration\", \"illegal\", \"imagined\", \"immigration\", \"inconvenience\", \"incorporate\", \"incredible\", \"incredible\", \"indiana\", \"indication\", \"individual\", \"industry\", \"info\", \"innovating\", \"inspired\", \"invincible\", \"itunes\", \"jackie\", \"jamel\", \"jillian\", \"job\", \"job\", \"jobs\", \"johnna\", \"just\", \"just\", \"just\", \"kalin\", \"kea\", \"kelly\", \"kept\", \"kiara\", \"kids\", \"knees\", \"know\", \"know\", \"know\", \"lashun\", \"late-start\", \"laurence\", \"learning\", \"leia\", \"lennon\", \"let\", \"let\", \"let\", \"like\", \"like\", \"like\", \"link\", \"link\", \"listening\", \"live\", \"live\", \"live\", \"live-tweeting\", \"lodge\", \"long-serving\", \"lonnie\", \"looked\", \"love\", \"love\", \"love\", \"lunch\", \"lyric\", \"machines\", \"macron\", \"madi\", \"make\", \"make\", \"make\", \"makeover\", \"man\", \"man\", \"man\", \"manager\", \"marathon\", \"masters\", \"matthew\", \"matthew\", \"maverick\", \"mcdonald\", \"mcflurry\", \"mcgriddle\", \"meal\", \"meal\", \"meechee\", \"melange\", \"menu\", \"messing\", \"midterm\", \"miles\", \"mind\", \"mind\", \"missouri\", \"mma\", \"mobile\", \"modern\", \"mood\", \"morning\", \"morning\", \"morning\", \"moves\", \"multicolor\", \"narrated\", \"naturally\", \"need\", \"need\", \"need\", \"new\", \"new\", \"new\", \"news\", \"news\", \"nikki\", \"nisa\", \"norma\", \"normal\", \"nsb\", \"obms\", \"ocean\", \"offer\", \"ohio\", \"original\", \"orleans\", \"ormond\", \"pain-free\", \"panthers\", \"pantry\", \"patch\", \"peckish\", \"pelosi\", \"people\", \"people\", \"people\", \"peoples\", \"perfectly\", \"peru\", \"pete\", \"phoebe\", \"photoshop\", \"pick\", \"pick\", \"picked\", \"place--pizza\", \"points\", \"points\", \"pol\", \"post-race\", \"present\", \"president\", \"prison\", \"procedures\", \"protect\", \"provide\", \"provide\", \"provides\", \"race\", \"race\", \"racing\", \"randall\", \"random\", \"really\", \"really\", \"really\", \"rebecca\", \"recipes\", \"record-breaking\", \"recoveryrt\", \"republican\", \"republicans\", \"return\", \"retweet\", \"retweet\", \"right\", \"right\", \"right\", \"rob\", \"rockin\", \"rocky\", \"roll\", \"roll\", \"routine\", \"run\", \"run\", \"runner\", \"runners\", \"running\", \"running\", \"sad\", \"sairi\", \"salute\", \"sam\", \"sanitizing\", \"scary\", \"scheduled\", \"schools\", \"scoop\", \"senator\", \"service\", \"service\", \"shorts\", \"shut\", \"signature\", \"signature\", \"signed\", \"signing\", \"simple\", \"simple\", \"skip\", \"slow-cooker\", \"sold\", \"solution\", \"soon\", \"soon\", \"soon\", \"sorry\", \"sorry\", \"sorry\", \"sounds\", \"sounds\", \"space\", \"speaking\", \"speedway\", \"spent\", \"spiced\", \"spire\", \"spirit\", \"standing\", \"stat\", \"state\", \"state\", \"states\", \"steph\", \"stevie\", \"stopping\", \"stopping\", \"storage\", \"storm\", \"straws\", \"strength\", \"strengthen\", \"stunned\", \"stupidity\", \"survey\", \"sweat\", \"systems\", \"tami\", \"taste\", \"technically\", \"television\", \"thank\", \"thank\", \"thank\", \"thanks\", \"thanks\", \"thanks\", \"theater\", \"tie\", \"tiffany\", \"time\", \"time\", \"time\", \"tip\", \"titans\", \"today\", \"today\", \"today\", \"tonight\", \"tonight\", \"torch\", \"tougher\", \"traditional\", \"train\", \"training\", \"trays\", \"tron\", \"trt\", \"trump\", \"tuned\", \"united\", \"upcomin\", \"use\", \"use\", \"vanessa\", \"vary\", \"veterans\", \"victor\", \"vince\", \"virginia\", \"vote\", \"wants\", \"wants\", \"watch\", \"watch\", \"watch\", \"watching\", \"waves\", \"way\", \"way\", \"way\", \"wear\", \"week\", \"week\", \"weekly\", \"win\", \"win\", \"winner\", \"winner\", \"wore\", \"work\", \"work\", \"work\", \"workout\", \"workout\", \"workouts\", \"world\", \"worldwide\", \"yaaaaaas\", \"years\", \"years\", \"yes\", \"young\", \"yvonne\"]}, \"R\": 30, \"lambda.step\": 0.01, \"plot.opts\": {\"xlab\": \"PC1\", \"ylab\": \"PC2\"}, \"topic.order\": [9, 5, 1, 10, 4, 2, 6, 8, 7, 3]};\n",
       "\n",
       "function LDAvis_load_lib(url, callback){\n",
       "  var s = document.createElement('script');\n",
       "  s.src = url;\n",
       "  s.async = true;\n",
       "  s.onreadystatechange = s.onload = callback;\n",
       "  s.onerror = function(){console.warn(\"failed to load library \" + url);};\n",
       "  document.getElementsByTagName(\"head\")[0].appendChild(s);\n",
       "}\n",
       "\n",
       "if(typeof(LDAvis) !== \"undefined\"){\n",
       "   // already loaded: just create the visualization\n",
       "   !function(LDAvis){\n",
       "       new LDAvis(\"#\" + \"ldavis_el81244992017442991784580\", ldavis_el81244992017442991784580_data);\n",
       "   }(LDAvis);\n",
       "}else if(typeof define === \"function\" && define.amd){\n",
       "   // require.js is available: use it to load d3/LDAvis\n",
       "   require.config({paths: {d3: \"https://cdnjs.cloudflare.com/ajax/libs/d3/3.5.5/d3.min\"}});\n",
       "   require([\"d3\"], function(d3){\n",
       "      window.d3 = d3;\n",
       "      LDAvis_load_lib(\"https://cdn.rawgit.com/bmabey/pyLDAvis/files/ldavis.v1.0.0.js\", function(){\n",
       "        new LDAvis(\"#\" + \"ldavis_el81244992017442991784580\", ldavis_el81244992017442991784580_data);\n",
       "      });\n",
       "    });\n",
       "}else{\n",
       "    // require.js not available: dynamically load d3 & LDAvis\n",
       "    LDAvis_load_lib(\"https://cdnjs.cloudflare.com/ajax/libs/d3/3.5.5/d3.min.js\", function(){\n",
       "         LDAvis_load_lib(\"https://cdn.rawgit.com/bmabey/pyLDAvis/files/ldavis.v1.0.0.js\", function(){\n",
       "                 new LDAvis(\"#\" + \"ldavis_el81244992017442991784580\", ldavis_el81244992017442991784580_data);\n",
       "            })\n",
       "         });\n",
       "}\n",
       "</script>"
      ],
      "text/plain": [
       "PreparedData(topic_coordinates=                x           y  topics  cluster       Freq\n",
       "topic                                                    \n",
       "8       -8.572814   38.661858       1        1  59.807390\n",
       "4      -58.811977   73.967751       2        1  20.641167\n",
       "0      107.392868   22.144684       3        1  19.519807\n",
       "9       -0.874448  -58.282822       4        1   0.004520\n",
       "3        9.379125  107.700020       5        1   0.004520\n",
       "1       87.092026  101.271729       6        1   0.004520\n",
       "5       80.455444  -45.209732       7        1   0.004520\n",
       "7       50.217724   52.367046       8        1   0.004520\n",
       "6       32.596096   -5.431217       9        1   0.004520\n",
       "2      -51.923706   -8.002389      10        1   0.004520, topic_info=     Category        Freq           Term       Total  loglift  logprob\n",
       "term                                                                  \n",
       "2792  Default   99.000000          sorry   99.000000  30.0000  30.0000\n",
       "3030  Default   76.000000         thanks   76.000000  29.0000  29.0000\n",
       "1275  Default  118.000000          great  118.000000  28.0000  28.0000\n",
       "3029  Default   67.000000          thank   67.000000  27.0000  27.0000\n",
       "2886  Default   43.000000       stopping   43.000000  26.0000  26.0000\n",
       "3263  Default   42.000000           vote   42.000000  25.0000  25.0000\n",
       "1609  Default   68.000000           just   68.000000  24.0000  24.0000\n",
       "615   Default   48.000000       congrats   48.000000  23.0000  23.0000\n",
       "1347  Default   36.000000           hear   36.000000  22.0000  22.0000\n",
       "1411  Default   43.000000           hope   43.000000  21.0000  21.0000\n",
       "1747  Default   49.000000           like   49.000000  20.0000  20.0000\n",
       "3067  Default   58.000000           time   58.000000  19.0000  19.0000\n",
       "619   Default   26.000000    congressman   26.000000  18.0000  18.0000\n",
       "103   Default   53.000000            amp   53.000000  17.0000  17.0000\n",
       "1023  Default   30.000000     experience   30.000000  16.0000  16.0000\n",
       "2231  Default   38.000000         people   38.000000  15.0000  15.0000\n",
       "260   Default   44.000000         better   44.000000  14.0000  14.0000\n",
       "1849  Default   31.000000            man   31.000000  13.0000  13.0000\n",
       "2789  Default   35.000000           soon   35.000000  12.0000  12.0000\n",
       "2382  Default   30.000000        provide   30.000000  11.0000  11.0000\n",
       "664   Default   26.000000        country   26.000000  10.0000  10.0000\n",
       "2058  Default   42.000000            new   42.000000   9.0000   9.0000\n",
       "3085  Default   33.000000        tonight   33.000000   8.0000   8.0000\n",
       "1801  Default   49.000000           love   49.000000   7.0000   7.0000\n",
       "1499  Default   27.000000           info   27.000000   6.0000   6.0000\n",
       "1130  Default   25.000000        florida   25.000000   5.0000   5.0000\n",
       "2859  Default   27.000000          state   27.000000   4.0000   4.0000\n",
       "370   Default   21.000000        brother   21.000000   3.0000   3.0000\n",
       "265   Default   29.000000            big   29.000000   2.0000   2.0000\n",
       "320   Default   18.000000         border   18.000000   1.0000   1.0000\n",
       "...       ...         ...            ...         ...      ...      ...\n",
       "1031  Topic10    0.000186  extraordinary    3.344052   0.2061  -7.8976\n",
       "1883  Topic10    0.000183        matthew    3.106633   0.2662  -7.9112\n",
       "619   Topic10    0.000229    congressman   26.497999  -1.6554  -7.6893\n",
       "3155  Topic10    0.000212          trump   12.709452  -0.9955  -7.7640\n",
       "2061  Topic10    0.000218           news   16.647069  -1.2405  -7.7392\n",
       "3398  Topic10    0.000216          years   16.267963  -1.2245  -7.7462\n",
       "1947  Topic10    0.000177        midterm    2.453705   0.4687  -7.9446\n",
       "338   Topic10    0.000177          braun    2.478660   0.4593  -7.9439\n",
       "2228  Topic10    0.000201         pelosi   10.143095  -0.8250  -7.8191\n",
       "2058  Topic10    0.000224            new   42.766092  -2.1532  -7.7083\n",
       "858   Topic10    0.000211            don   21.291660  -1.5151  -7.7677\n",
       "265   Topic10    0.000213            big   29.320970  -1.8268  -7.7594\n",
       "2859  Topic10    0.000211          state   27.375545  -1.7695  -7.7708\n",
       "103   Topic10    0.000218            amp   53.081957  -2.3978  -7.7369\n",
       "853   Topic10    0.000203          doing   19.061423  -1.4473  -7.8105\n",
       "1849  Topic10    0.000209            man   31.164859  -1.9102  -7.7818\n",
       "778   Topic10    0.000198      democrats   12.652286  -1.0631  -7.8361\n",
       "1580  Topic10    0.000205            job   23.545266  -1.6487  -7.8007\n",
       "1766  Topic10    0.000203           live   23.878488  -1.6698  -7.8077\n",
       "615   Topic10    0.000210       congrats   48.180884  -2.3379  -7.7738\n",
       "2863  Topic10    0.000194         states   11.106273  -0.9508  -7.8542\n",
       "99    Topic10    0.000200        america   22.474945  -1.6235  -7.8220\n",
       "2231  Topic10    0.000204         people   38.434207  -2.1407  -7.8027\n",
       "664   Topic10    0.000201        country   26.343617  -1.7797  -7.8194\n",
       "1052  Topic10    0.000196      fantastic   14.219140  -1.1888  -7.8451\n",
       "1130  Topic10    0.000198        florida   25.105966  -1.7456  -7.8334\n",
       "2330  Topic10    0.000195      president   18.828670  -1.4753  -7.8508\n",
       "2673  Topic10    0.000191        senator   12.706993  -1.1015  -7.8703\n",
       "320   Topic10    0.000191         border   18.713692  -1.4854  -7.8670\n",
       "3085  Topic10    0.000192        tonight   33.308240  -2.0595  -7.8646\n",
       "\n",
       "[748 rows x 6 columns], token_table=      Topic      Freq        Term\n",
       "term                             \n",
       "2         1  0.164324     -minute\n",
       "2         3  0.821620     -minute\n",
       "5         3  0.721275  -something\n",
       "8         2  0.724737     abigail\n",
       "12        3  0.706206         abs\n",
       "37        1  0.619028    admitted\n",
       "42        1  0.634159    advocate\n",
       "69        3  0.683211         ale\n",
       "75        3  0.742108  all-county\n",
       "78        2  0.737096      alleah\n",
       "83        3  0.697202      almond\n",
       "86        3  0.740649    altering\n",
       "99        1  0.889880     america\n",
       "99        3  0.088988     america\n",
       "103       1  0.791229         amp\n",
       "103       2  0.113033         amp\n",
       "103       3  0.094194         amp\n",
       "116       3  0.723739     aniston\n",
       "118       3  0.695849       annie\n",
       "123       1  0.613854      annual\n",
       "132       2  0.868837     anytime\n",
       "141       1  0.356052  appreciate\n",
       "141       2  0.593420  appreciate\n",
       "150       3  0.725141        aren\n",
       "152       1  0.949613     arizona\n",
       "160       1  0.645314         asg\n",
       "166       3  0.734069  assistance\n",
       "180       3  0.725190        aunt\n",
       "183       2  0.732648      autumn\n",
       "203       1  0.626026       badly\n",
       "...     ...       ...         ...\n",
       "3300      2  0.052535       watch\n",
       "3300      3  0.105071       watch\n",
       "3302      1  0.911453    watching\n",
       "3306      3  0.723106       waves\n",
       "3308      1  0.555862         way\n",
       "3308      2  0.357340         way\n",
       "3308      3  0.079409         way\n",
       "3312      1  0.614278        wear\n",
       "3317      1  0.687007        week\n",
       "3317      3  0.305336        week\n",
       "3320      3  0.716445      weekly\n",
       "3343      1  0.585773         win\n",
       "3343      3  0.426017         win\n",
       "3347      1  0.125415      winner\n",
       "3347      3  0.877904      winner\n",
       "3366      1  0.614800        wore\n",
       "3367      1  0.209005        work\n",
       "3367      2  0.696684        work\n",
       "3367      3  0.069668        work\n",
       "3371      1  0.176279     workout\n",
       "3371      3  0.793257     workout\n",
       "3372      3  0.924079    workouts\n",
       "3374      1  0.901243       world\n",
       "3375      1  0.614292   worldwide\n",
       "3387      2  0.716617    yaaaaaas\n",
       "3398      1  0.676176       years\n",
       "3398      3  0.307353       years\n",
       "3401      1  0.963237         yes\n",
       "3407      1  0.906922       young\n",
       "3412      2  0.727067      yvonne\n",
       "\n",
       "[573 rows x 3 columns], R=30, lambda_step=0.01, plot_opts={'xlab': 'PC1', 'ylab': 'PC2'}, topic_order=[9, 5, 1, 10, 4, 2, 6, 8, 7, 3])"
      ]
     },
     "execution_count": 17,
     "metadata": {},
     "output_type": "execute_result"
    }
   ],
   "source": [
    "pyLDAvis.enable_notebook()\n",
    "pyLDAvis.sklearn.prepare(lda_model, data_vectorized, vectorizer, mds = 'tsne')"
   ]
  },
  {
   "cell_type": "code",
   "execution_count": 17,
   "metadata": {},
   "outputs": [],
   "source": [
    "def print_top_words(model, feature_names, n_top_words):\n",
    "    for topic_idx, topic in enumerate(model.components_):\n",
    "        message = \"Topic #%d: \" % (topic_idx + 1)\n",
    "        message += \" \".join([feature_names[i] for i in topic.argsort()[:-n_top_words - 1:-1]])\n",
    "        print(message)"
   ]
  },
  {
   "cell_type": "code",
   "execution_count": 18,
   "metadata": {},
   "outputs": [
    {
     "name": "stdout",
     "output_type": "stream",
     "text": [
      "Topic #1: great time thank don trump love thanks fantastic just president\n",
      "Topic #2: thank great time like amp thanks sorry congrats new just\n",
      "Topic #3: run daytona beach need just core great make best running\n",
      "Topic #4: thank amp congrats new great time game just thanks tickets\n",
      "Topic #5: sorry thanks time like hope love congrats amp stopping better\n",
      "Topic #6: great thank trump president people vote new just today country\n",
      "Topic #7: sorry great thanks like hope time stopping work hear love\n",
      "Topic #8: amp thanks great just new tickets congrats thank sorry like\n",
      "Topic #9: thanks like hope great love time better good hear experience\n",
      "Topic #10: great thank amp just love congrats time new thanks man\n"
     ]
    }
   ],
   "source": [
    "print_top_words(lda_model, vectorizer.get_feature_names(), 10)"
   ]
  },
  {
   "cell_type": "code",
   "execution_count": 19,
   "metadata": {},
   "outputs": [
    {
     "name": "stdout",
     "output_type": "stream",
     "text": [
      "[4.62970461e-05 4.62970860e-05 9.99583314e-01 4.62971298e-05\n",
      " 4.63044489e-05 4.63020521e-05 4.62972700e-05 4.62971850e-05\n",
      " 4.62970674e-05 4.62972059e-05]\n"
     ]
    }
   ],
   "source": [
    "#print(lda_Z.shape) # (NO_DOCUMENTS, NO_TOPICS)\n",
    "#Different topic distribution in the first document\n",
    "print(lda_Z[0]) #Apple Music"
   ]
  },
  {
   "cell_type": "code",
   "execution_count": 20,
   "metadata": {},
   "outputs": [
    {
     "name": "stdout",
     "output_type": "stream",
     "text": [
      "[3.29386945e-05 3.29387261e-05 3.29414933e-05 3.29387188e-05\n",
      " 3.29432823e-05 9.99703544e-01 3.29388614e-05 3.29387505e-05\n",
      " 3.29386657e-05 3.29387633e-05]\n"
     ]
    }
   ],
   "source": [
    "print(lda_Z[1]) #Donald Trump"
   ]
  },
  {
   "cell_type": "code",
   "execution_count": 21,
   "metadata": {},
   "outputs": [
    {
     "name": "stdout",
     "output_type": "stream",
     "text": [
      "[6.96395499e-05 6.96396504e-05 6.96470793e-05 6.96398755e-05\n",
      " 9.99373223e-01 6.96512830e-05 6.96396834e-05 6.96401760e-05\n",
      " 6.96394865e-05 6.96398205e-05]\n"
     ]
    }
   ],
   "source": [
    "print(lda_Z[2]) #Justin Bieber"
   ]
  },
  {
   "cell_type": "code",
   "execution_count": 22,
   "metadata": {},
   "outputs": [
    {
     "name": "stdout",
     "output_type": "stream",
     "text": [
      "[5.29955121e-05 5.29955975e-05 5.30030435e-05 5.29956658e-05\n",
      " 9.99523025e-01 5.30024280e-05 5.29957180e-05 5.29956695e-05\n",
      " 5.29955119e-05 5.29957719e-05]\n"
     ]
    }
   ],
   "source": [
    "print(lda_Z[3]) #Lebron James"
   ]
  },
  {
   "cell_type": "code",
   "execution_count": 23,
   "metadata": {},
   "outputs": [
    {
     "name": "stdout",
     "output_type": "stream",
     "text": [
      "[4.07669645e-05 4.07669869e-05 4.07708086e-05 4.07669790e-05\n",
      " 9.99633091e-01 4.07687594e-05 4.07673838e-05 4.07670420e-05\n",
      " 4.07670195e-05 4.07670367e-05]\n"
     ]
    }
   ],
   "source": [
    "print(lda_Z[4]) #McDonald's"
   ]
  },
  {
   "cell_type": "code",
   "execution_count": null,
   "metadata": {},
   "outputs": [],
   "source": []
  },
  {
   "cell_type": "code",
   "execution_count": null,
   "metadata": {},
   "outputs": [],
   "source": []
  },
  {
   "cell_type": "code",
   "execution_count": null,
   "metadata": {
    "collapsed": true
   },
   "outputs": [],
   "source": []
  }
 ],
 "metadata": {
  "kernelspec": {
   "display_name": "Python 3",
   "language": "python",
   "name": "python3"
  },
  "language_info": {
   "codemirror_mode": {
    "name": "ipython",
    "version": 3
   },
   "file_extension": ".py",
   "mimetype": "text/x-python",
   "name": "python",
   "nbconvert_exporter": "python",
   "pygments_lexer": "ipython3",
   "version": "3.6.5"
  }
 },
 "nbformat": 4,
 "nbformat_minor": 2
}

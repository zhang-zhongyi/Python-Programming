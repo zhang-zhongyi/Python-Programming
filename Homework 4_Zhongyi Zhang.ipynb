{
 "cells": [
  {
   "cell_type": "markdown",
   "metadata": {},
   "source": [
    "# Concepts in Computer Programming    "
   ]
  },
  {
   "cell_type": "markdown",
   "metadata": {},
   "source": [
    "# Homework 4"
   ]
  },
  {
   "cell_type": "markdown",
   "metadata": {},
   "source": [
    "Name: Troy Zhongyi Zhang  \n",
    "UCID: 12216279   \n",
    "Netid: zhongyiz@uchicago.edu  \n",
    "11/06/2018"
   ]
  },
  {
   "cell_type": "markdown",
   "metadata": {},
   "source": [
    "# Questions:"
   ]
  },
  {
   "cell_type": "markdown",
   "metadata": {},
   "source": [
    "1. Which of the following commands will create a list (multiple answers allowed)  \n",
    "a) l = list()  \n",
    "b) l = []  \n",
    "c) l = list([1, 2, 3])  \n",
    "d) l = [1, 2, 3]  "
   ]
  },
  {
   "cell_type": "markdown",
   "metadata": {},
   "source": [
    "The answer will be a), b), c), and d).   \n",
    "All of them can create a list."
   ]
  },
  {
   "cell_type": "code",
   "execution_count": 1,
   "metadata": {},
   "outputs": [
    {
     "name": "stdout",
     "output_type": "stream",
     "text": [
      "<class 'list'>\n",
      "<class 'list'>\n",
      "<class 'list'>\n",
      "<class 'list'>\n"
     ]
    }
   ],
   "source": [
    "l1 = list()   \n",
    "l2 = []\n",
    "l3 = list([1, 2, 3])  \n",
    "l4 = [1, 2, 3]\n",
    "print(type(l1))\n",
    "print(type(l2))\n",
    "print(type(l3))\n",
    "print(type(l4))"
   ]
  },
  {
   "cell_type": "markdown",
   "metadata": {},
   "source": [
    "2. What function do we use to shuffle a list?  \n",
    "a) list.shuffle()  \n",
    "b) shuffle(list)  \n",
    "c) random.shuffle(list)  \n",
    "d) random.shuffleList(list)  "
   ]
  },
  {
   "cell_type": "markdown",
   "metadata": {},
   "source": [
    "The answer will be b)."
   ]
  },
  {
   "cell_type": "code",
   "execution_count": 2,
   "metadata": {},
   "outputs": [
    {
     "name": "stdout",
     "output_type": "stream",
     "text": [
      "['-59', 'cat', '1957', 'fox', 'WOW', 'dog', 'superman']\n"
     ]
    }
   ],
   "source": [
    "from random import shuffle\n",
    "\n",
    "list1 = ['-59', 'fox', 'cat', 'superman', 'WOW', 'dog', '1957']\n",
    "shuffle_list1 = list1[:]\n",
    "shuffle(shuffle_list1)\n",
    "\n",
    "print(shuffle_list1)"
   ]
  },
  {
   "cell_type": "markdown",
   "metadata": {},
   "source": [
    "3. Suppose list = [4, 2, 2, 4, 5, 2, 1, 0], which of the following result is correct (multiple answers allowed)? Explain Why!   \n",
    "a) print(list[0])  \n",
    "b) print(list[:2])  \n",
    "c) print(list[:-2])  \n",
    "d) print(list[4:6])  "
   ]
  },
  {
   "cell_type": "markdown",
   "metadata": {},
   "source": [
    "The answers will be a), b), c), and d).  \n",
    "The index values for the components in this list are:  \n",
    "4 -- \"0\" -- \"-8\"  \n",
    "2 -- \"1\" -- \"-7\"  \n",
    "2 -- \"2\" -- \"-6\"  \n",
    "4 -- \"3\" -- \"-5\"  \n",
    "5 -- \"4\" -- \"-4\"  \n",
    "2 -- \"5\" -- \"-3\"  \n",
    "1 -- \"6\" -- \"-2\"  \n",
    "0 -- \"7\" -- \"-1\"  \n",
    "print(list[0]) means to print the component with index value 0, which is 4. Correct!  \n",
    "print(list[:2]) means to print the components from the left end side to index value 2 (excluded index value 2), which are  [4, 2]. Correct!     \n",
    "print(list[:-2]) means to print all the components from the left end side to index value -2 (excluded index value -2), which will be [4, 2, 2, 4, 5, 2]. Correct!  \n",
    "print(list[4:6]) means to print all the components from index value 4 to 6 (excluded index value 6), which are [5, 2]. Correct!  "
   ]
  },
  {
   "cell_type": "code",
   "execution_count": 3,
   "metadata": {},
   "outputs": [
    {
     "name": "stdout",
     "output_type": "stream",
     "text": [
      "4\n",
      "[4, 2]\n",
      "[4, 2, 2, 4, 5, 2]\n",
      "[5, 2]\n"
     ]
    }
   ],
   "source": [
    "list2 = [4, 2, 2, 4, 5, 2, 1, 0]\n",
    "print(list2[0])\n",
    "print(list2[:2])\n",
    "print(list2[:-2])\n",
    "print(list2[4:6])"
   ]
  },
  {
   "cell_type": "markdown",
   "metadata": {},
   "source": [
    "4. Suppose list = [2, 33, 222, 14, 25], What is the value of list[-1]? Explain!  \n",
    "a) Error  \n",
    "b) None  \n",
    "c) 25  \n",
    "d) 2  "
   ]
  },
  {
   "cell_type": "markdown",
   "metadata": {},
   "source": [
    "The answer will be c).   \n",
    "The index values for the components in this list:  \n",
    "25 --> -1  \n",
    "14 --> -2   \n",
    "222 --> -3   \n",
    "33 -->  -4  \n",
    "2 --> -5  \n",
    "So list[-1] will print out the number with index value -1, which is 25.  \n",
    "The answer is c)."
   ]
  },
  {
   "cell_type": "code",
   "execution_count": 4,
   "metadata": {},
   "outputs": [
    {
     "data": {
      "text/plain": [
       "25"
      ]
     },
     "execution_count": 4,
     "metadata": {},
     "output_type": "execute_result"
    }
   ],
   "source": [
    "list3 = [2, 33, 222, 14, 25]\n",
    "list3[-1]"
   ]
  },
  {
   "cell_type": "markdown",
   "metadata": {},
   "source": [
    "5. If t1 = (1, 2, 4, 3) and t2 = (1, 2, 3, 4) what it will be the logical value of the expression: t1 < t2? Explain why!  \n",
    "a) True  \n",
    "b) False  \n",
    "c) Error  \n",
    "d) None  "
   ]
  },
  {
   "cell_type": "markdown",
   "metadata": {},
   "source": [
    "The answer will be b).  \n",
    "t1<t2 means whether t1 is a subset of t2 or not. t1 and t2 are equivalent sets(equal sets) to each other. They have same number of elements and same components in each set. Mathematically speaking, t1 is a subset of t2. However, in Python, t1 < t2 will return a False. t1 = t2 will return to a True. So it is b) False."
   ]
  },
  {
   "cell_type": "code",
   "execution_count": 13,
   "metadata": {},
   "outputs": [
    {
     "data": {
      "text/plain": [
       "False"
      ]
     },
     "execution_count": 13,
     "metadata": {},
     "output_type": "execute_result"
    }
   ],
   "source": [
    "t1 = (1, 2, 4, 3)\n",
    "t2 = (1, 2, 3, 4)\n",
    "t1 < t2\n"
   ]
  },
  {
   "cell_type": "code",
   "execution_count": null,
   "metadata": {},
   "outputs": [],
   "source": []
  },
  {
   "cell_type": "code",
   "execution_count": null,
   "metadata": {},
   "outputs": [],
   "source": []
  },
  {
   "cell_type": "markdown",
   "metadata": {},
   "source": [
    "# Problems"
   ]
  },
  {
   "cell_type": "markdown",
   "metadata": {},
   "source": [
    "1. Write a Py function that takes a list as an input and returns another list from where the largest and smallest elements were removed. Test your function with data input from the console!"
   ]
  },
  {
   "cell_type": "code",
   "execution_count": 9,
   "metadata": {},
   "outputs": [
    {
     "name": "stdout",
     "output_type": "stream",
     "text": [
      "Please input a list with numbers: -3,9.8,68,109,-9.57,86,99,-66,10.902,-1,78\n",
      "Result list: [-3.0, 9.8, 68.0, -9.57, 86.0, 99.0, 10.902, -1.0, 78.0]\n"
     ]
    }
   ],
   "source": [
    "def max_num_in_list(list5):  \n",
    "    max = list5[0]  \n",
    "    for a in list5:  \n",
    "        if a > max:  \n",
    "            max = a  \n",
    "    return max\n",
    "\n",
    "def smallest_num_in_list(list5):  \n",
    "    min = list5[0]  \n",
    "    for a in list5:  \n",
    "        if a < min:  \n",
    "            min = a  \n",
    "    return min\n",
    "\n",
    "s = input(\"Please input a list with numbers: \")\n",
    "mylist = list(map(float, s.split(',')))\n",
    "\n",
    "Max = max_num_in_list(mylist)\n",
    "Min = smallest_num_in_list(mylist)\n",
    "m = mylist.index(Max)\n",
    "n = mylist.index(Min)\n",
    "#print(m,n)\n",
    "\n",
    "if m < n:\n",
    "    del mylist[m:n+1:n-m]\n",
    "else:\n",
    "    del mylist[n:m+1:m-n]\n",
    "print(\"Result list:\",mylist)\n",
    "\n",
    "#Example list: -3,9.8,68,109,-9.57,86,99,-66,10.902,-1,78\n",
    "#The largest number 109 and the least number -66 should be removed."
   ]
  },
  {
   "cell_type": "markdown",
   "metadata": {},
   "source": [
    "2. Write a Py function that takes a list as an input and after removing all duplicates returns another list from where the elements are sorted in decreasing order. Test your function with data input from the console!"
   ]
  },
  {
   "cell_type": "code",
   "execution_count": 10,
   "metadata": {},
   "outputs": [
    {
     "name": "stdout",
     "output_type": "stream",
     "text": [
      "Please input a list with numbers: 10,27.38,39,27.38,10,59.8,86,27.38,41,90.9,90.9,59.8,27.38,10,15\n",
      "Sorted list in Descending order will be: [90.9, 86.0, 59.8, 41.0, 39.0, 27.38, 15.0, 10.0]\n"
     ]
    }
   ],
   "source": [
    "t1 = input(\"Please input a list with numbers: \")\n",
    "mylist = list(map(float, t1.split(',')))\n",
    "def RemoveDup(duplicate): \n",
    "    final_list = [] \n",
    "    for num in duplicate: \n",
    "        if num not in final_list: \n",
    "            final_list.append(num) \n",
    "    return final_list\n",
    "\n",
    "t2 = sorted(RemoveDup(mylist),reverse=True)\n",
    "print('Sorted list in Descending order will be:', list(t2))\n",
    "\n",
    "#Or we can write step by step:\n",
    "#    t2 = sorted(RemoveDup(mylist))\n",
    "#    print('Sorted list in Descending order will be:', list(reversed(t2)))\n",
    "\n",
    "#Example list: 10,27.38,39,27.38,10,59.8,86,27.38,41,90.9,90.9,59.8,27.38,10,15"
   ]
  },
  {
   "cell_type": "markdown",
   "metadata": {},
   "source": [
    "3. Is it possible to sort the elements in a tuple that is an immutable object? Explain your answer, find a solution and implement it. Test your function with data input from the console!"
   ]
  },
  {
   "cell_type": "markdown",
   "metadata": {},
   "source": [
    "Tuples cannot be sorted by definition because they are immutable. However, we can convert a tuple to a list, and then we convert it back to a tupple.  \n",
    "Here is my function"
   ]
  },
  {
   "cell_type": "code",
   "execution_count": 11,
   "metadata": {},
   "outputs": [
    {
     "name": "stdout",
     "output_type": "stream",
     "text": [
      "Please input a tuple: mary,48,bob,annie,-9,54.7,tiffany,zack,1.7,jack,0,tom,sarah,david\n",
      "('-9', '0', '1.7', '48', '54.7', 'annie', 'bob', 'david', 'jack', 'mary', 'sarah', 'tiffany', 'tom', 'zack')\n"
     ]
    }
   ],
   "source": [
    "x = input(\"Please input a tuple: \")\n",
    "mytuple = tuple(x.split(','))\n",
    "y = list(mytuple)\n",
    "\n",
    "def TupSort(mymytuple):\n",
    "    return sorted(mymytuple)\n",
    "\n",
    "print(tuple(TupSort(y)))\n",
    "\n",
    "#Example Tuple: mary,48,bob,annie,-9,54.7,tiffany,zack,1.7,jack,0,tom,sarah,david"
   ]
  },
  {
   "cell_type": "code",
   "execution_count": 12,
   "metadata": {},
   "outputs": [],
   "source": [
    "#Hardcoded example without function:\n",
    "#tup = (3,4,8,19,30,210,32,4,87,71)\n",
    "#(sorted(tup))"
   ]
  },
  {
   "cell_type": "code",
   "execution_count": null,
   "metadata": {},
   "outputs": [],
   "source": []
  },
  {
   "cell_type": "markdown",
   "metadata": {},
   "source": [
    "-----------------------------------------------------------------------------------------------------------------------"
   ]
  },
  {
   "cell_type": "code",
   "execution_count": null,
   "metadata": {},
   "outputs": [],
   "source": []
  },
  {
   "cell_type": "code",
   "execution_count": null,
   "metadata": {},
   "outputs": [],
   "source": []
  }
 ],
 "metadata": {
  "kernelspec": {
   "display_name": "Python 3",
   "language": "python",
   "name": "python3"
  },
  "language_info": {
   "codemirror_mode": {
    "name": "ipython",
    "version": 3
   },
   "file_extension": ".py",
   "mimetype": "text/x-python",
   "name": "python",
   "nbconvert_exporter": "python",
   "pygments_lexer": "ipython3",
   "version": "3.6.5"
  }
 },
 "nbformat": 4,
 "nbformat_minor": 2
}

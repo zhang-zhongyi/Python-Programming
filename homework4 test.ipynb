{
 "cells": [
  {
   "cell_type": "code",
   "execution_count": null,
   "metadata": {},
   "outputs": [],
   "source": [
    "#s = input(\"Please input a list with numbers: \")\n",
    "#mylist = list(map(float, s.split(',')))\n",
    "a = [10,20,30,20,10,50,60,40,80,50,40]  \n",
    "  \n",
    "dup_items = set()  \n",
    "uniq_items = []  \n",
    "for x in a:  \n",
    "    if x not in dup_items:  \n",
    "        uniq_items.append(x)  \n",
    "        dup_items.add(x)  \n",
    "print(uniq_items)\n",
    "#dup_items(reverse=True)\n",
    "#print('Sorted list in Descending orders will be:',dup_items) "
   ]
  },
  {
   "cell_type": "code",
   "execution_count": null,
   "metadata": {},
   "outputs": [],
   "source": []
  },
  {
   "cell_type": "code",
   "execution_count": null,
   "metadata": {},
   "outputs": [],
   "source": [
    "x = input(\"Please input a tuple with numbers:\")\n",
    "mytuple = tuple(x.split(','))\n",
    "\n",
    "def TupSort(mymytuple):\n",
    "    return sorted(mymytuple)\n",
    "\n",
    "print(tuple(TupSort(mytuple)))"
   ]
  },
  {
   "cell_type": "code",
   "execution_count": null,
   "metadata": {},
   "outputs": [],
   "source": []
  },
  {
   "cell_type": "code",
   "execution_count": null,
   "metadata": {},
   "outputs": [],
   "source": []
  },
  {
   "cell_type": "code",
   "execution_count": null,
   "metadata": {},
   "outputs": [],
   "source": []
  }
 ],
 "metadata": {
  "kernelspec": {
   "display_name": "Python 3",
   "language": "python",
   "name": "python3"
  },
  "language_info": {
   "codemirror_mode": {
    "name": "ipython",
    "version": 3
   },
   "file_extension": ".py",
   "mimetype": "text/x-python",
   "name": "python",
   "nbconvert_exporter": "python",
   "pygments_lexer": "ipython3",
   "version": "3.6.5"
  }
 },
 "nbformat": 4,
 "nbformat_minor": 2
}

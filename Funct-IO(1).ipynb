{
 "cells": [
  {
   "cell_type": "markdown",
   "metadata": {},
   "source": [
    "# Functions in Python -  examples"
   ]
  },
  {
   "cell_type": "code",
   "execution_count": 1,
   "metadata": {},
   "outputs": [],
   "source": [
    "def sum(numbers):  \n",
    "    total = 0  \n",
    "    for x in numbers:  \n",
    "        total += x  \n",
    "    return total  "
   ]
  },
  {
   "cell_type": "code",
   "execution_count": 2,
   "metadata": {},
   "outputs": [
    {
     "name": "stdout",
     "output_type": "stream",
     "text": [
      "20\n"
     ]
    }
   ],
   "source": [
    "print(sum((8, 2, 3, 0, 7)))  "
   ]
  },
  {
   "cell_type": "code",
   "execution_count": 3,
   "metadata": {},
   "outputs": [],
   "source": [
    "def multiply(numbers):    \n",
    "    total = 1  \n",
    "    for x in numbers:  \n",
    "        total *= x    \n",
    "    return total    \n"
   ]
  },
  {
   "cell_type": "code",
   "execution_count": 4,
   "metadata": {},
   "outputs": [
    {
     "name": "stdout",
     "output_type": "stream",
     "text": [
      "-336\n"
     ]
    }
   ],
   "source": [
    "print(multiply((8, 2, 3, -1, 7)))  "
   ]
  },
  {
   "cell_type": "code",
   "execution_count": 5,
   "metadata": {},
   "outputs": [],
   "source": [
    "def max_of_two( x, y ):  \n",
    "    if x > y:  \n",
    "        return x  \n",
    "    return y"
   ]
  },
  {
   "cell_type": "code",
   "execution_count": 6,
   "metadata": {},
   "outputs": [
    {
     "name": "stdout",
     "output_type": "stream",
     "text": [
      "6\n"
     ]
    }
   ],
   "source": [
    "print(max_of_two(3, 6)) "
   ]
  },
  {
   "cell_type": "code",
   "execution_count": 7,
   "metadata": {},
   "outputs": [],
   "source": [
    "def max_of_three( x, y, z ):  \n",
    "    return max_of_two( x, max_of_two( y, z ) )  "
   ]
  },
  {
   "cell_type": "code",
   "execution_count": 8,
   "metadata": {},
   "outputs": [
    {
     "name": "stdout",
     "output_type": "stream",
     "text": [
      "16\n"
     ]
    }
   ],
   "source": [
    "print(max_of_three(3, 16, -5)) "
   ]
  },
  {
   "cell_type": "code",
   "execution_count": 9,
   "metadata": {},
   "outputs": [],
   "source": [
    "def test_range(n):  \n",
    "    if n in range(3,9):  \n",
    "        print( \" %s is in the range\"%str(n))  \n",
    "    else :  \n",
    "        print(\"The number is outside the given range.\")  "
   ]
  },
  {
   "cell_type": "code",
   "execution_count": 10,
   "metadata": {},
   "outputs": [
    {
     "name": "stdout",
     "output_type": "stream",
     "text": [
      " 5 is in the range\n"
     ]
    }
   ],
   "source": [
    "test_range(5) "
   ]
  },
  {
   "cell_type": "code",
   "execution_count": 11,
   "metadata": {},
   "outputs": [],
   "source": [
    "def is_even_num(l):  \n",
    "    enum = []  \n",
    "    for n in l:  \n",
    "        if n % 2 == 0:  \n",
    "            enum.append(n)  \n",
    "    return enum   "
   ]
  },
  {
   "cell_type": "code",
   "execution_count": 12,
   "metadata": {},
   "outputs": [
    {
     "name": "stdout",
     "output_type": "stream",
     "text": [
      "[2, 4, 6, 8]\n"
     ]
    }
   ],
   "source": [
    "print(is_even_num([1, 2, 3, 4, 5, 6, 7, 8, 9]))  "
   ]
  },
  {
   "cell_type": "code",
   "execution_count": 13,
   "metadata": {},
   "outputs": [],
   "source": [
    "def test_prime(n):  \n",
    "    if (n==1):  \n",
    "        return False  \n",
    "    elif (n==2):  \n",
    "        return True;  \n",
    "    else:  \n",
    "        for x in range(2,n):  \n",
    "            if(n % x==0):  \n",
    "                return False  \n",
    "        return True               \n",
    " "
   ]
  },
  {
   "cell_type": "code",
   "execution_count": 14,
   "metadata": {},
   "outputs": [
    {
     "name": "stdout",
     "output_type": "stream",
     "text": [
      "False\n"
     ]
    }
   ],
   "source": [
    "print(test_prime(9)) "
   ]
  },
  {
   "cell_type": "markdown",
   "metadata": {},
   "source": [
    "# Input/Output in Python - examples"
   ]
  },
  {
   "cell_type": "code",
   "execution_count": 15,
   "metadata": {},
   "outputs": [],
   "source": [
    "def file_read(fname):  \n",
    "        txt = open(fname)  \n",
    "        print(txt.read())  "
   ]
  },
  {
   "cell_type": "code",
   "execution_count": 16,
   "metadata": {},
   "outputs": [
    {
     "name": "stdout",
     "output_type": "stream",
     "text": [
      "What is Python language?\n",
      "Python is a widely used high-level, general-purpose, interpreted, dynamic programming language.                                                 \n",
      "Its design philosophy emphasizes code readability, and its syntax allows programmers to express concepts in fewer lines of code than possible in \n",
      "languages such as C++ or Java.                                         \n",
      "Python supports multiple programming paradigms, including object-oriented, imperative and functional programming or procedural styles.          \n",
      "It features a dynamic type system and automatic memory management and has a large and comprehensive standard library.                           \n",
      "The best way we learn anything is by practice and exercise questions. We  have started this section for those (beginner to intermediate) who are \n",
      "familiar with Python.\n"
     ]
    }
   ],
   "source": [
    "file_read('MyText.txt')"
   ]
  },
  {
   "cell_type": "code",
   "execution_count": 17,
   "metadata": {},
   "outputs": [],
   "source": [
    "def file_read_from_head(fname, nlines):  \n",
    "        from itertools import islice  \n",
    "        with open(fname) as f:  \n",
    "                for line in islice(f, nlines):  \n",
    "                        print(line)  "
   ]
  },
  {
   "cell_type": "code",
   "execution_count": 18,
   "metadata": {},
   "outputs": [
    {
     "name": "stdout",
     "output_type": "stream",
     "text": [
      "What is Python language?\n",
      "\n",
      "Python is a widely used high-level, general-purpose, interpreted, dynamic programming language.                                                 \n",
      "\n",
      "Its design philosophy emphasizes code readability, and its syntax allows programmers to express concepts in fewer lines of code than possible in \n",
      "\n"
     ]
    }
   ],
   "source": [
    "file_read_from_head('MyText.txt',3) "
   ]
  },
  {
   "cell_type": "code",
   "execution_count": 1,
   "metadata": {},
   "outputs": [],
   "source": [
    "import sys  \n",
    "import os  \n",
    "def file_read_from_tail(fname,lines):  \n",
    "        bufsize = 8192  \n",
    "        fsize = os.stat(fname).st_size  \n",
    "        iter = 0  \n",
    "        with open(fname) as f:  \n",
    "                if bufsize > fsize:  \n",
    "                        bufsize = fsize-1  \n",
    "                        data = []  \n",
    "                        while True:  \n",
    "                                iter +=1  \n",
    "                                f.seek(fsize-bufsize*iter)  \n",
    "                                data.extend(f.readlines())  \n",
    "                                if len(data) >= lines or f.tell() == 0:  \n",
    "                                        print(''.join(data[-lines:]))  \n",
    "                                        break  "
   ]
  },
  {
   "cell_type": "code",
   "execution_count": 2,
   "metadata": {},
   "outputs": [
    {
     "name": "stdout",
     "output_type": "stream",
     "text": [
      "The best way we learn anything is by practice and exercise questions. We  have started this section for those (beginner to intermediate) who are \n",
      "familiar with Python.\n"
     ]
    }
   ],
   "source": [
    "file_read_from_tail('MyText.txt',2)"
   ]
  },
  {
   "cell_type": "code",
   "execution_count": 21,
   "metadata": {},
   "outputs": [],
   "source": [
    "def file_read(fname):  \n",
    "        with open (fname, \"r\") as myfile:  \n",
    "                data=myfile.readlines()  \n",
    "                print(data)"
   ]
  },
  {
   "cell_type": "code",
   "execution_count": 22,
   "metadata": {},
   "outputs": [
    {
     "name": "stdout",
     "output_type": "stream",
     "text": [
      "['What is Python language?\\n', 'Python is a widely used high-level, general-purpose, interpreted, dynamic programming language.                                                 \\n', 'Its design philosophy emphasizes code readability, and its syntax allows programmers to express concepts in fewer lines of code than possible in \\n', 'languages such as C++ or Java.                                         \\n', 'Python supports multiple programming paradigms, including object-oriented, imperative and functional programming or procedural styles.          \\n', 'It features a dynamic type system and automatic memory management and has a large and comprehensive standard library.                           \\n', 'The best way we learn anything is by practice and exercise questions. We  have started this section for those (beginner to intermediate) who are \\n', 'familiar with Python.']\n"
     ]
    }
   ],
   "source": [
    "file_read('MyText.txt') "
   ]
  },
  {
   "cell_type": "code",
   "execution_count": 23,
   "metadata": {},
   "outputs": [],
   "source": [
    "def file_lengthy(fname):  \n",
    "        with open(fname) as f:  \n",
    "                for i, l in enumerate(f):  \n",
    "                        pass  \n",
    "        return i + 1   "
   ]
  },
  {
   "cell_type": "code",
   "execution_count": 24,
   "metadata": {},
   "outputs": [
    {
     "name": "stdout",
     "output_type": "stream",
     "text": [
      "Number of lines in the file:  8\n"
     ]
    }
   ],
   "source": [
    "print(\"Number of lines in the file: \",file_lengthy(\"MyText.txt\"))"
   ]
  },
  {
   "cell_type": "code",
   "execution_count": null,
   "metadata": {},
   "outputs": [],
   "source": []
  },
  {
   "cell_type": "code",
   "execution_count": 12,
   "metadata": {},
   "outputs": [
    {
     "ename": "TypeError",
     "evalue": "function() takes 6 positional arguments but 8 were given",
     "output_type": "error",
     "traceback": [
      "\u001b[0;31m---------------------------------------------------------------------------\u001b[0m",
      "\u001b[0;31mTypeError\u001b[0m                                 Traceback (most recent call last)",
      "\u001b[0;32m<ipython-input-12-9bcf28fb5c69>\u001b[0m in \u001b[0;36m<module>\u001b[0;34m()\u001b[0m\n\u001b[1;32m      7\u001b[0m     \u001b[0mprint\u001b[0m\u001b[0;34m(\u001b[0m\u001b[0;34m\"And all the rest... \"\u001b[0m\u001b[0;34m,\u001b[0m \u001b[0mtherest\u001b[0m\u001b[0;34m)\u001b[0m\u001b[0;34m\u001b[0m\u001b[0m\n\u001b[1;32m      8\u001b[0m     \u001b[0;32mreturn\u001b[0m\u001b[0;34m\u001b[0m\u001b[0m\n\u001b[0;32m----> 9\u001b[0;31m \u001b[0mfunction\u001b[0m\u001b[0;34m(\u001b[0m\u001b[0;36m19\u001b[0m\u001b[0;34m,\u001b[0m\u001b[0;36m27\u001b[0m\u001b[0;34m,\u001b[0m\u001b[0;34m-\u001b[0m\u001b[0;36m8\u001b[0m\u001b[0;34m,\u001b[0m\u001b[0;36m5\u001b[0m\u001b[0;34m,\u001b[0m\u001b[0;36m5\u001b[0m\u001b[0;34m,\u001b[0m\u001b[0;36m98\u001b[0m\u001b[0;34m,\u001b[0m\u001b[0;36m1\u001b[0m\u001b[0;34m,\u001b[0m\u001b[0;36m27\u001b[0m\u001b[0;34m)\u001b[0m\u001b[0;34m\u001b[0m\u001b[0m\n\u001b[0m",
      "\u001b[0;31mTypeError\u001b[0m: function() takes 6 positional arguments but 8 were given"
     ]
    }
   ],
   "source": [
    "def function(first, second, third, fourth, fifth, therest):\n",
    "    print(\"First: %s\" %first)\n",
    "    print(\"Second: %s\" %second)\n",
    "    print(\"third: %s\" %third)\n",
    "    print(\"The fourth is: %s\" %fourth)\n",
    "    print(\"The fifth is: %s\" %fifth)\n",
    "    print(\"And all the rest... \", therest)\n",
    "    return\n",
    "function(19,27,-8,5,5,98,1,27)"
   ]
  },
  {
   "cell_type": "code",
   "execution_count": null,
   "metadata": {},
   "outputs": [],
   "source": []
  },
  {
   "cell_type": "code",
   "execution_count": null,
   "metadata": {},
   "outputs": [],
   "source": []
  }
 ],
 "metadata": {
  "kernelspec": {
   "display_name": "Python 3",
   "language": "python",
   "name": "python3"
  },
  "language_info": {
   "codemirror_mode": {
    "name": "ipython",
    "version": 3
   },
   "file_extension": ".py",
   "mimetype": "text/x-python",
   "name": "python",
   "nbconvert_exporter": "python",
   "pygments_lexer": "ipython3",
   "version": "3.6.5"
  }
 },
 "nbformat": 4,
 "nbformat_minor": 1
}

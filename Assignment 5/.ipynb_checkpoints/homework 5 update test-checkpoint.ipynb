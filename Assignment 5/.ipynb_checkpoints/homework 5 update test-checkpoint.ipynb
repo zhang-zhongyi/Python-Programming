{
 "cells": [
  {
   "cell_type": "code",
   "execution_count": 1,
   "metadata": {},
   "outputs": [
    {
     "name": "stdout",
     "output_type": "stream",
     "text": [
      "{'Name': 'John', 'Phone': '123-456-7890', 'Address': '1001 Abbot Rd', 'EyeColor': 'Brown', 'Height': \"5'10\", 'Weight': '160 lbs', 'Gender': 'Male'}\n",
      "{'WorkID': 3456987, 'Email': 'johnson@workwork.com', 'Position': 'Engineer', 'Experiences': '3 years'}\n",
      "{'Name': 'John', 'Phone': '123-456-7890', 'Address': '1001 Abbot Rd', 'EyeColor': 'Brown', 'Height': \"5'10\", 'Weight': '160 lbs', 'Gender': 'Male', 'WorkID': 3456987, 'Email': 'johnson@workwork.com', 'Position': 'Engineer', 'Experiences': '3 years'}\n"
     ]
    }
   ],
   "source": [
    "PersonalInfo = {\"Name\":\"John\",\"Phone\": \"123-456-7890\",\"Address\":\"1001 Abbot Rd\",\"EyeColor\":\"Brown\",\n",
    "                \"Height\":\"5'10\",\"Weight\":\"160 lbs\",\"Gender\":\"Male\"}\n",
    "WorkInfo = {\"WorkID\": 3456987,\"Email\":\"johnson@workwork.com\",\"Position\":\"Engineer\",\"Experiences\":\"3 years\"}\n",
    "#print(len(PersonalInfo))\n",
    "#print(len(WorkInfo))\n",
    "print(PersonalInfo)\n",
    "print(WorkInfo)\n",
    "\n",
    "PersonalInfo.update(WorkInfo)\n",
    "print(PersonalInfo)"
   ]
  },
  {
   "cell_type": "code",
   "execution_count": null,
   "metadata": {},
   "outputs": [],
   "source": []
  }
 ],
 "metadata": {
  "kernelspec": {
   "display_name": "Python 3",
   "language": "python",
   "name": "python3"
  },
  "language_info": {
   "codemirror_mode": {
    "name": "ipython",
    "version": 3
   },
   "file_extension": ".py",
   "mimetype": "text/x-python",
   "name": "python",
   "nbconvert_exporter": "python",
   "pygments_lexer": "ipython3",
   "version": "3.6.5"
  }
 },
 "nbformat": 4,
 "nbformat_minor": 2
}

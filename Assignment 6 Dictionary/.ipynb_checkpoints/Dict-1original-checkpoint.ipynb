{
 "cells": [
  {
   "cell_type": "markdown",
   "metadata": {},
   "source": [
    "# Py Dictionaries"
   ]
  },
  {
   "cell_type": "markdown",
   "metadata": {},
   "source": [
    "## Dictionary examples"
   ]
  },
  {
   "cell_type": "code",
   "execution_count": 1,
   "metadata": {},
   "outputs": [
    {
     "data": {
      "text/plain": [
       "{}"
      ]
     },
     "execution_count": 1,
     "metadata": {},
     "output_type": "execute_result"
    }
   ],
   "source": [
    "food = {}\n",
    "food"
   ]
  },
  {
   "cell_type": "code",
   "execution_count": 2,
   "metadata": {},
   "outputs": [
    {
     "data": {
      "text/plain": [
       "{'ham': 'yes', 'egg': 'yes', 'spam': 'no'}"
      ]
     },
     "execution_count": 2,
     "metadata": {},
     "output_type": "execute_result"
    }
   ],
   "source": [
    "food = {\"ham\" : \"yes\", \"egg\" : \"yes\", \"spam\" : \"no\" }\n",
    "food"
   ]
  },
  {
   "cell_type": "markdown",
   "metadata": {},
   "source": [
    "## Example - English - French dictionary"
   ]
  },
  {
   "cell_type": "code",
   "execution_count": 3,
   "metadata": {},
   "outputs": [],
   "source": [
    "words = {}\n",
    "words[\"Hello\"] = \"Bonjour\"\n",
    "words[\"Yes\"] = \"Oui\"\n",
    "words[\"No\"] = \"Non\"\n",
    "words[\"Bye\"] = \"Au Revoir\""
   ]
  },
  {
   "cell_type": "code",
   "execution_count": 4,
   "metadata": {},
   "outputs": [
    {
     "data": {
      "text/plain": [
       "{'Hello': 'Bonjour', 'Yes': 'Oui', 'No': 'Non', 'Bye': 'Au Revoir'}"
      ]
     },
     "execution_count": 4,
     "metadata": {},
     "output_type": "execute_result"
    }
   ],
   "source": [
    "words"
   ]
  },
  {
   "cell_type": "code",
   "execution_count": 5,
   "metadata": {},
   "outputs": [
    {
     "name": "stdout",
     "output_type": "stream",
     "text": [
      "Bonjour\n",
      "Non\n",
      "Au Revoir\n"
     ]
    }
   ],
   "source": [
    "print(words[\"Hello\"])\n",
    "print(words[\"No\"])\n",
    "print(words[\"Bye\"])"
   ]
  },
  {
   "cell_type": "code",
   "execution_count": 6,
   "metadata": {},
   "outputs": [],
   "source": [
    "dict = {}\n",
    "dict['Ford'] = \"Car\"\n",
    "dict['Python'] = \"The Python Programming Language\"\n",
    "dict[2] = \"This sentence is stored here\""
   ]
  },
  {
   "cell_type": "code",
   "execution_count": 7,
   "metadata": {},
   "outputs": [
    {
     "name": "stdout",
     "output_type": "stream",
     "text": [
      "Car\n",
      "The Python Programming Language\n",
      "This sentence is stored here\n"
     ]
    }
   ],
   "source": [
    "print(dict['Ford'])\n",
    "print(dict['Python'])\n",
    "print(dict[2])"
   ]
  },
  {
   "cell_type": "code",
   "execution_count": 8,
   "metadata": {},
   "outputs": [
    {
     "name": "stdout",
     "output_type": "stream",
     "text": [
      "{'Ford': 'Car', 'Python': 'The Python Programming Language', 2: 'This sentence is stored here'}\n"
     ]
    }
   ],
   "source": [
    "print(dict)"
   ]
  },
  {
   "cell_type": "markdown",
   "metadata": {},
   "source": [
    "## Tuples could be keys in a Dictionary"
   ]
  },
  {
   "cell_type": "code",
   "execution_count": 9,
   "metadata": {},
   "outputs": [
    {
     "data": {
      "text/plain": [
       "{(1, 2, 3): 'abc', 3.1415: 'abc'}"
      ]
     },
     "execution_count": 9,
     "metadata": {},
     "output_type": "execute_result"
    }
   ],
   "source": [
    "dict = { (1,2,3):\"abc\", 3.1415:\"abc\"}\n",
    "dict"
   ]
  },
  {
   "cell_type": "markdown",
   "metadata": {},
   "source": [
    "# Manipulating Dictionaries"
   ]
  },
  {
   "cell_type": "code",
   "execution_count": 10,
   "metadata": {},
   "outputs": [
    {
     "name": "stdout",
     "output_type": "stream",
     "text": [
      "{'Hello': 'Bonjour', 'Yes': 'Oui', 'No': 'Non', 'Bye': 'Au Revoir'}\n"
     ]
    }
   ],
   "source": [
    "words = {}\n",
    "words[\"Hello\"] = \"Bonjour\"\n",
    "words[\"Yes\"] = \"Oui\"\n",
    "words[\"No\"] = \"Non\"\n",
    "words[\"Bye\"] = \"Au Revoir\"\n",
    " \n",
    "print(words)           # print key-pairs"
   ]
  },
  {
   "cell_type": "code",
   "execution_count": 11,
   "metadata": {},
   "outputs": [
    {
     "name": "stdout",
     "output_type": "stream",
     "text": [
      "{'Hello': 'Bonjour', 'No': 'Non', 'Bye': 'Au Revoir'}\n"
     ]
    }
   ],
   "source": [
    "del words[\"Yes\"]       # delete a key-pair\n",
    "print(words)           # print key-pairs"
   ]
  },
  {
   "cell_type": "code",
   "execution_count": 12,
   "metadata": {},
   "outputs": [
    {
     "name": "stdout",
     "output_type": "stream",
     "text": [
      "{'Hello': 'Bonjour', 'No': 'Non', 'Bye': 'Au Revoir', 'Yes': 'Oui!'}\n"
     ]
    }
   ],
   "source": [
    "words[\"Yes\"] = \"Oui!\"  # add new key-pair\n",
    "print(words)           # print key-pairs"
   ]
  },
  {
   "cell_type": "markdown",
   "metadata": {},
   "source": [
    "## Accessing non-existent keys"
   ]
  },
  {
   "cell_type": "code",
   "execution_count": 13,
   "metadata": {},
   "outputs": [
    {
     "ename": "KeyError",
     "evalue": "'car'",
     "output_type": "error",
     "traceback": [
      "\u001b[1;31m---------------------------------------------------------------------------\u001b[0m",
      "\u001b[1;31mKeyError\u001b[0m                                  Traceback (most recent call last)",
      "\u001b[1;32m<ipython-input-13-1f381c887e29>\u001b[0m in \u001b[0;36m<module>\u001b[1;34m()\u001b[0m\n\u001b[0;32m      1\u001b[0m \u001b[0mwords\u001b[0m \u001b[1;33m=\u001b[0m \u001b[1;33m{\u001b[0m\u001b[1;34m\"house\"\u001b[0m \u001b[1;33m:\u001b[0m \u001b[1;34m\"Haus\"\u001b[0m\u001b[1;33m,\u001b[0m \u001b[1;34m\"cat\"\u001b[0m\u001b[1;33m:\u001b[0m\u001b[1;34m\"Katze\"\u001b[0m\u001b[1;33m}\u001b[0m\u001b[1;33m\u001b[0m\u001b[0m\n\u001b[1;32m----> 2\u001b[1;33m \u001b[0mwords\u001b[0m\u001b[1;33m[\u001b[0m\u001b[1;34m\"car\"\u001b[0m\u001b[1;33m]\u001b[0m\u001b[1;33m\u001b[0m\u001b[0m\n\u001b[0m",
      "\u001b[1;31mKeyError\u001b[0m: 'car'"
     ]
    }
   ],
   "source": [
    "words = {\"house\" : \"Haus\", \"cat\":\"Katze\"}\n",
    "words[\"car\"]"
   ]
  },
  {
   "cell_type": "code",
   "execution_count": 14,
   "metadata": {},
   "outputs": [],
   "source": [
    "if \"car\" in words: print(words[\"car\"])"
   ]
  },
  {
   "cell_type": "code",
   "execution_count": 15,
   "metadata": {},
   "outputs": [
    {
     "name": "stdout",
     "output_type": "stream",
     "text": [
      "Katze\n"
     ]
    }
   ],
   "source": [
    "if \"cat\" in words: print(words[\"cat\"])"
   ]
  },
  {
   "cell_type": "markdown",
   "metadata": {},
   "source": [
    "## Metods on Dictionaries"
   ]
  },
  {
   "cell_type": "code",
   "execution_count": 16,
   "metadata": {},
   "outputs": [
    {
     "name": "stdout",
     "output_type": "stream",
     "text": [
      "{'house': 'Haus', 'cat': 'Katze'}\n",
      "{'house': 'Haus', 'cat': 'chat'}\n"
     ]
    }
   ],
   "source": [
    "w = words.copy()\n",
    "words[\"cat\"]=\"chat\"\n",
    "print(w)\n",
    "print(words)"
   ]
  },
  {
   "cell_type": "code",
   "execution_count": 17,
   "metadata": {},
   "outputs": [
    {
     "name": "stdout",
     "output_type": "stream",
     "text": [
      "{}\n"
     ]
    }
   ],
   "source": [
    "w.clear()\n",
    "print(w)"
   ]
  },
  {
   "cell_type": "markdown",
   "metadata": {},
   "source": [
    "## Merging dictionaries"
   ]
  },
  {
   "cell_type": "code",
   "execution_count": 18,
   "metadata": {},
   "outputs": [],
   "source": [
    "w={\"house\":\"Haus\",\"cat\":\"Katze\",\"red\":\"rot\"}\n",
    "w1 = {\"red\":\"rouge\",\"blau\":\"bleu\"}\n",
    "w.update(w1)"
   ]
  },
  {
   "cell_type": "code",
   "execution_count": 19,
   "metadata": {},
   "outputs": [
    {
     "name": "stdout",
     "output_type": "stream",
     "text": [
      "{'house': 'Haus', 'cat': 'Katze', 'red': 'rouge', 'blau': 'bleu'}\n"
     ]
    }
   ],
   "source": [
    "print(w)"
   ]
  },
  {
   "cell_type": "markdown",
   "metadata": {},
   "source": [
    "## Iterating over Dictionaries"
   ]
  },
  {
   "cell_type": "markdown",
   "metadata": {},
   "source": [
    "### --> over a key"
   ]
  },
  {
   "cell_type": "code",
   "execution_count": 20,
   "metadata": {},
   "outputs": [
    {
     "name": "stdout",
     "output_type": "stream",
     "text": [
      "house\n",
      "cat\n",
      "red\n",
      "blau\n"
     ]
    }
   ],
   "source": [
    "for key in w:\n",
    "   print(key)"
   ]
  },
  {
   "cell_type": "code",
   "execution_count": 21,
   "metadata": {},
   "outputs": [
    {
     "name": "stdout",
     "output_type": "stream",
     "text": [
      "house\n",
      "cat\n",
      "red\n",
      "blau\n"
     ]
    }
   ],
   "source": [
    "for key in w.keys():\n",
    "    print(key)"
   ]
  },
  {
   "cell_type": "markdown",
   "metadata": {},
   "source": [
    "### --> over values"
   ]
  },
  {
   "cell_type": "code",
   "execution_count": 22,
   "metadata": {},
   "outputs": [
    {
     "name": "stdout",
     "output_type": "stream",
     "text": [
      "Haus\n",
      "Katze\n",
      "rouge\n",
      "bleu\n"
     ]
    }
   ],
   "source": [
    "for val in w.values():\n",
    "    print(val)"
   ]
  },
  {
   "cell_type": "code",
   "execution_count": 23,
   "metadata": {},
   "outputs": [
    {
     "name": "stdout",
     "output_type": "stream",
     "text": [
      "<built-in method keys of dict object at 0x00000139D38FB4C8>\n",
      "<built-in method keys of dict object at 0x00000139D38FB4C8>\n",
      "<built-in method keys of dict object at 0x00000139D38FB4C8>\n",
      "<built-in method keys of dict object at 0x00000139D38FB4C8>\n"
     ]
    }
   ],
   "source": [
    "for key in w:\n",
    "    print(w.keys)"
   ]
  },
  {
   "cell_type": "markdown",
   "metadata": {},
   "source": [
    "## Create Lists from Dictionaries"
   ]
  },
  {
   "cell_type": "code",
   "execution_count": 24,
   "metadata": {},
   "outputs": [
    {
     "data": {
      "text/plain": [
       "dict_items([('house', 'Haus'), ('cat', 'Katze'), ('red', 'rot')])"
      ]
     },
     "execution_count": 24,
     "metadata": {},
     "output_type": "execute_result"
    }
   ],
   "source": [
    "w={\"house\":\"Haus\",\"cat\":\"Katze\",\"red\":\"rot\"}\n",
    "w.items()"
   ]
  },
  {
   "cell_type": "code",
   "execution_count": 25,
   "metadata": {},
   "outputs": [
    {
     "data": {
      "text/plain": [
       "dict_keys(['house', 'cat', 'red'])"
      ]
     },
     "execution_count": 25,
     "metadata": {},
     "output_type": "execute_result"
    }
   ],
   "source": [
    "w.keys()"
   ]
  },
  {
   "cell_type": "code",
   "execution_count": 26,
   "metadata": {},
   "outputs": [
    {
     "data": {
      "text/plain": [
       "dict_values(['Haus', 'Katze', 'rot'])"
      ]
     },
     "execution_count": 26,
     "metadata": {},
     "output_type": "execute_result"
    }
   ],
   "source": [
    "w.values()"
   ]
  },
  {
   "cell_type": "markdown",
   "metadata": {},
   "source": [
    "## Create Dictionaries from Lists"
   ]
  },
  {
   "cell_type": "code",
   "execution_count": 27,
   "metadata": {},
   "outputs": [],
   "source": [
    "dishes = [\"pizza\", \"sauerkraut\", \"paella\", \"Hamburger\"]\n",
    "countries = [\"Italy\", \"Germany\", \"Spain\", \"USA\"]"
   ]
  },
  {
   "cell_type": "code",
   "execution_count": 28,
   "metadata": {},
   "outputs": [
    {
     "name": "stdout",
     "output_type": "stream",
     "text": [
      "{'pizza': 'Italy', 'sauerkraut': 'Germany', 'paella': 'Spain', 'Hamburger': 'USA'}\n"
     ]
    }
   ],
   "source": [
    "# create a dictionary\n",
    "country_specialities_dict = {dishes[n]: countries[n] for n in range(len(dishes))} \n",
    "print(country_specialities_dict)"
   ]
  },
  {
   "cell_type": "code",
   "execution_count": 29,
   "metadata": {},
   "outputs": [
    {
     "name": "stdout",
     "output_type": "stream",
     "text": [
      "{'This': 'Put', 'is': 'this', 'a': 'into', 'list': 'dictionary'}\n"
     ]
    }
   ],
   "source": [
    "List1 = ['This', 'is', 'a', 'list']\n",
    "List2 = ['Put', 'this', 'into', 'dictionary']\n",
    "d = {List1[n]: List2[n] for n in range(len(List1))}\n",
    "print(d)"
   ]
  },
  {
   "cell_type": "code",
   "execution_count": null,
   "metadata": {
    "collapsed": true
   },
   "outputs": [],
   "source": []
  }
 ],
 "metadata": {
  "kernelspec": {
   "display_name": "Python 3",
   "language": "python",
   "name": "python3"
  },
  "language_info": {
   "codemirror_mode": {
    "name": "ipython",
    "version": 3
   },
   "file_extension": ".py",
   "mimetype": "text/x-python",
   "name": "python",
   "nbconvert_exporter": "python",
   "pygments_lexer": "ipython3",
   "version": "3.6.5"
  }
 },
 "nbformat": 4,
 "nbformat_minor": 1
}

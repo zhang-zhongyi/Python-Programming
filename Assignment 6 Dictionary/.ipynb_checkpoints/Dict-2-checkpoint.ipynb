{
 "cells": [
  {
   "cell_type": "markdown",
   "metadata": {},
   "source": [
    "# Py Dictionaries Examples"
   ]
  },
  {
   "cell_type": "code",
   "execution_count": 13,
   "metadata": {},
   "outputs": [],
   "source": [
    "from operator import itemgetter "
   ]
  },
  {
   "cell_type": "code",
   "execution_count": 14,
   "metadata": {},
   "outputs": [
    {
     "name": "stdout",
     "output_type": "stream",
     "text": [
      "Original list :  [{'name': 'John', 'age': 20}, {'name': 'Anna', 'age': 20}, {'name': 'Joe', 'age': 19}, {'name': 'Kelly', 'age': 19}]\n"
     ]
    }
   ],
   "source": [
    "# Sort a dictionary by key\n",
    "nameList = [{ \"name\" : \"John\", \"age\" : 20}, { \"name\" : \"Anna\", \"age\" : 20 }, { \"name\" : \"Joe\" , \"age\" : 19 }, { \"name\" : \"Kelly\" , \"age\" : 19 }]\n",
    "print('Original list : ',nameList)"
   ]
  },
  {
   "cell_type": "code",
   "execution_count": 15,
   "metadata": {},
   "outputs": [
    {
     "name": "stdout",
     "output_type": "stream",
     "text": [
      "The list printed sorting by age: \n",
      "[{'name': 'Joe', 'age': 19}, {'name': 'Kelly', 'age': 19}, {'name': 'John', 'age': 20}, {'name': 'Anna', 'age': 20}]\n"
     ]
    }
   ],
   "source": [
    "# using sorted and itemgetter to print list sorted by age  \n",
    "print(\"The list printed sorting by age: \")\n",
    "print(sorted(nameList, key=itemgetter('age')))"
   ]
  },
  {
   "cell_type": "code",
   "execution_count": 17,
   "metadata": {},
   "outputs": [
    {
     "name": "stdout",
     "output_type": "stream",
     "text": [
      "The list printed sorting by age: \n",
      "[{'name': 'John', 'age': 20}, {'name': 'Anna', 'age': 20}, {'name': 'Joe', 'age': 19}, {'name': 'Kelly', 'age': 19}]\n"
     ]
    }
   ],
   "source": [
    "# using sorted and itemgetter to print list sorted by age in REVERSE order \n",
    "print(\"The list printed sorting by age: \")\n",
    "print(sorted(nameList, key=itemgetter('age'), reverse=True))"
   ]
  },
  {
   "cell_type": "code",
   "execution_count": 18,
   "metadata": {},
   "outputs": [
    {
     "name": "stdout",
     "output_type": "stream",
     "text": [
      "The list printed sorting by age: \n",
      "[{'name': 'Anna', 'age': 20}, {'name': 'Joe', 'age': 19}, {'name': 'John', 'age': 20}, {'name': 'Kelly', 'age': 19}]\n"
     ]
    }
   ],
   "source": [
    "# using sorted and itemgetter to print list sorted by name  \n",
    "print(\"The list printed sorting by age: \")\n",
    "print(sorted(nameList, key=itemgetter('name')))"
   ]
  },
  {
   "cell_type": "code",
   "execution_count": 19,
   "metadata": {},
   "outputs": [
    {
     "name": "stdout",
     "output_type": "stream",
     "text": [
      "The list printed sorting by age: \n",
      "[{'name': 'Kelly', 'age': 19}, {'name': 'John', 'age': 20}, {'name': 'Joe', 'age': 19}, {'name': 'Anna', 'age': 20}]\n"
     ]
    }
   ],
   "source": [
    "# using sorted and itemgetter to print list sorted by age in REVERSE order \n",
    "print(\"The list printed sorting by age: \")\n",
    "print(sorted(nameList, key=itemgetter('name'), reverse=True))"
   ]
  },
  {
   "cell_type": "code",
   "execution_count": 21,
   "metadata": {},
   "outputs": [
    {
     "name": "stdout",
     "output_type": "stream",
     "text": [
      "[{'name': 'Joe', 'age': 19}, {'name': 'Kelly', 'age': 19}, {'name': 'Anna', 'age': 20}, {'name': 'John', 'age': 20}]\n"
     ]
    }
   ],
   "source": [
    "# sorting by 2 keys\n",
    "print(sorted(nameList, key=itemgetter('age', 'name')))"
   ]
  },
  {
   "cell_type": "code",
   "execution_count": 4,
   "metadata": {},
   "outputs": [
    {
     "name": "stdout",
     "output_type": "stream",
     "text": [
      "{0: 10, 1: 20}\n",
      "{0: 10, 1: 20, 2: 30}\n"
     ]
    }
   ],
   "source": [
    "# Add key to a dictionary\n",
    "d = {0:10, 1:20}\n",
    "print(d)\n",
    "d.update({2:30})\n",
    "print(d)"
   ]
  },
  {
   "cell_type": "code",
   "execution_count": 5,
   "metadata": {},
   "outputs": [
    {
     "name": "stdout",
     "output_type": "stream",
     "text": [
      "{1: 10, 2: 20, 3: 30, 4: 40, 5: 50, 6: 60, 7: 65}\n"
     ]
    }
   ],
   "source": [
    "# Concatenate following dictionaries to create a new one\n",
    "dic1={1:10, 2:20}\n",
    "dic2={3:30, 4:40}\n",
    "dic3={5:50, 6:60, 7:65}\n",
    "dic4 = {}\n",
    "for d in (dic1, dic2, dic3): \n",
    "    dic4.update(d)\n",
    "print(dic4)"
   ]
  },
  {
   "cell_type": "code",
   "execution_count": 6,
   "metadata": {},
   "outputs": [
    {
     "name": "stdout",
     "output_type": "stream",
     "text": [
      "Key 5 is present in the dictionary\n",
      "Key 9 is not present in the dictionary\n"
     ]
    }
   ],
   "source": [
    "# Check if a given key already exists in a dictionary\n",
    "d = {1: 10, 2: 20, 3: 30, 4: 40, 5: 50, 6: 60}\n",
    "def is_key_present(x):\n",
    "  if x in d:\n",
    "      print('Key {0} is present in the dictionary'.format(x))\n",
    "  else:\n",
    "      print('Key {0} is not present in the dictionary'.format(x))\n",
    "is_key_present(5)\n",
    "is_key_present(9)"
   ]
  },
  {
   "cell_type": "code",
   "execution_count": 7,
   "metadata": {},
   "outputs": [
    {
     "name": "stdout",
     "output_type": "stream",
     "text": [
      "x -> 10\n",
      "y -> 20\n",
      "z -> 30\n"
     ]
    }
   ],
   "source": [
    "#  Iterate over dictionaries using for loops\n",
    "d = {'x': 10, 'y': 20, 'z': 30} \n",
    "for dict_key, dict_value in d.items():\n",
    "    print(dict_key,'->',dict_value)"
   ]
  },
  {
   "cell_type": "code",
   "execution_count": 8,
   "metadata": {},
   "outputs": [
    {
     "name": "stdout",
     "output_type": "stream",
     "text": [
      "293\n"
     ]
    }
   ],
   "source": [
    "# Sum all the items in a dictionary\n",
    "my_dict = {'data1':100,'data2':-54,'data3':247}\n",
    "print(sum(my_dict.values()))"
   ]
  },
  {
   "cell_type": "code",
   "execution_count": 9,
   "metadata": {},
   "outputs": [
    {
     "name": "stdout",
     "output_type": "stream",
     "text": [
      "{'a': 1, 'b': 2, 'c': 3, 'd': 4}\n",
      "{'b': 2, 'c': 3, 'd': 4}\n"
     ]
    }
   ],
   "source": [
    "# Remove a key from a dictionary\n",
    "myDict = {'a':1,'b':2,'c':3,'d':4}\n",
    "print(myDict)\n",
    "if 'a' in myDict: \n",
    "    del myDict['a']\n",
    "print(myDict)"
   ]
  },
  {
   "cell_type": "code",
   "execution_count": 10,
   "metadata": {},
   "outputs": [
    {
     "name": "stdout",
     "output_type": "stream",
     "text": [
      "{'red': '#FF0000', 'green': '#008000', 'blue': '#0000FF'}\n"
     ]
    }
   ],
   "source": [
    "# Map two lists into a dictionary\n",
    "keys = ['red', 'green', 'blue']\n",
    "values = ['#FF0000','#008000', '#0000FF']\n",
    "color_dictionary = dict(zip(keys, values))\n",
    "print(color_dictionary)"
   ]
  },
  {
   "cell_type": "code",
   "execution_count": 11,
   "metadata": {},
   "outputs": [
    {
     "name": "stdout",
     "output_type": "stream",
     "text": [
      "black: #000000\n",
      "green: #008000\n",
      "red: #FF0000\n",
      "white: #FFFFFF\n"
     ]
    }
   ],
   "source": [
    "# Sort a dictionary by key\n",
    "color_dict = {'red':'#FF0000',\n",
    "          'green':'#008000',\n",
    "          'black':'#000000',\n",
    "          'white':'#FFFFFF'}\n",
    "\n",
    "for key in sorted(color_dict):\n",
    "    print(\"%s: %s\" % (key, color_dict[key]))"
   ]
  },
  {
   "cell_type": "code",
   "execution_count": 12,
   "metadata": {},
   "outputs": [
    {
     "name": "stdout",
     "output_type": "stream",
     "text": [
      "Maximum Value:  5874\n",
      "Minimum Value:  500\n"
     ]
    }
   ],
   "source": [
    "# Get the maximum and minimum value in a dictionary\n",
    "my_dict = {'x':500, 'y':5874, 'z': 560}\n",
    "\n",
    "key_max = max(my_dict.keys(), key=(lambda k: my_dict[k]))\n",
    "key_min = min(my_dict.keys(), key=(lambda k: my_dict[k]))\n",
    "\n",
    "print('Maximum Value: ',my_dict[key_max])\n",
    "print('Minimum Value: ',my_dict[key_min])"
   ]
  },
  {
   "cell_type": "code",
   "execution_count": 13,
   "metadata": {},
   "outputs": [
    {
     "name": "stdout",
     "output_type": "stream",
     "text": [
      "{'id1': {'name': ['Sara'], 'class': ['V'], 'subject_integration': ['english, math, science']}, 'id2': {'name': ['David'], 'class': ['V'], 'subject_integration': ['english, math, science']}, 'id4': {'name': ['Surya'], 'class': ['V'], 'subject_integration': ['english, math, science']}}\n"
     ]
    }
   ],
   "source": [
    "# Remove duplicates from Dictionary\n",
    "student_data = {'id1': \n",
    "   {'name': ['Sara'], \n",
    "    'class': ['V'], \n",
    "    'subject_integration': ['english, math, science']\n",
    "   },\n",
    " 'id2': \n",
    "  {'name': ['David'], \n",
    "    'class': ['V'], \n",
    "    'subject_integration': ['english, math, science']\n",
    "   },\n",
    " 'id3': \n",
    "    {'name': ['Sara'], \n",
    "    'class': ['V'], \n",
    "    'subject_integration': ['english, math, science']\n",
    "   },\n",
    " 'id4': \n",
    "   {'name': ['Surya'], \n",
    "    'class': ['V'], \n",
    "    'subject_integration': ['english, math, science']\n",
    "   },\n",
    "}\n",
    "\n",
    "result = {}\n",
    "\n",
    "for key,value in student_data.items():\n",
    "    if value not in result.values():\n",
    "        result[key] = value\n",
    "\n",
    "print(result)"
   ]
  },
  {
   "cell_type": "code",
   "execution_count": null,
   "metadata": {
    "collapsed": true
   },
   "outputs": [],
   "source": []
  }
 ],
 "metadata": {
  "kernelspec": {
   "display_name": "Python 3",
   "language": "python",
   "name": "python3"
  },
  "language_info": {
   "codemirror_mode": {
    "name": "ipython",
    "version": 3
   },
   "file_extension": ".py",
   "mimetype": "text/x-python",
   "name": "python",
   "nbconvert_exporter": "python",
   "pygments_lexer": "ipython3",
   "version": "3.6.5"
  }
 },
 "nbformat": 4,
 "nbformat_minor": 1
}

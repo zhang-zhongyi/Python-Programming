{
 "cells": [
  {
   "cell_type": "markdown",
   "metadata": {},
   "source": [
    "# Concepts in Computer Programming"
   ]
  },
  {
   "cell_type": "markdown",
   "metadata": {},
   "source": [
    "# Homework 5 - Dictionary"
   ]
  },
  {
   "cell_type": "markdown",
   "metadata": {},
   "source": [
    "Name: Zhongyi Zhang  \n",
    "UCID: 12216279  \n",
    "NETID: zhongyiz@uchicago.edu  \n",
    "11/12/2018  "
   ]
  },
  {
   "cell_type": "markdown",
   "metadata": {},
   "source": [
    "Questions – 50 pts (5 points each)"
   ]
  },
  {
   "cell_type": "markdown",
   "metadata": {},
   "source": [
    "1. Which of these statements about a dictionary is false?   \n",
    "a) The values of a dictionary can be accessed using keys   \n",
    "b) The keys of a dictionary can be accessed using values   \n",
    "c) Dictionaries aren’t ordered   \n",
    "d) Dictionaries are mutable  "
   ]
  },
  {
   "cell_type": "markdown",
   "metadata": {},
   "source": [
    "The answer is b).  \n",
    "The values of a dictionary can be accessed using keys, but the keys of a dictionary can’t be accessed using values."
   ]
  },
  {
   "cell_type": "markdown",
   "metadata": {},
   "source": [
    "2.Which of the following is not a declaration for a dictionary?   \n",
    "a) {1: ‘A’, 2: ‘B’}   \n",
    "b) dict([[1,”A”],[2,”B”]])   \n",
    "c) {1,”A”,2”B”}   \n",
    "d) { }  "
   ]
  },
  {
   "cell_type": "markdown",
   "metadata": {},
   "source": [
    "The answer is c).  \n",
    "{1,”A”,2”B”} is a set instead of a dictionary."
   ]
  },
  {
   "cell_type": "markdown",
   "metadata": {},
   "source": [
    "3.Suppose d = {“john”:40, “peter”:45}, to delete the entry for “john” what command do we use   \n",
    "a) d.delete(“john”:40)   \n",
    "b) d.delete(“john”)   \n",
    "c) del d[“john”].   \n",
    "d) del d(“john”:40)  "
   ]
  },
  {
   "cell_type": "markdown",
   "metadata": {},
   "source": [
    "The answer is c).  \n",
    "There is no attribute 'delete' for 'dict'."
   ]
  },
  {
   "cell_type": "code",
   "execution_count": 1,
   "metadata": {},
   "outputs": [
    {
     "data": {
      "text/plain": [
       "{'peter': 45}"
      ]
     },
     "execution_count": 1,
     "metadata": {},
     "output_type": "execute_result"
    }
   ],
   "source": [
    "d = {\"john\":40, \"peter\":45}\n",
    "del d[\"john\"]\n",
    "d"
   ]
  },
  {
   "cell_type": "markdown",
   "metadata": {},
   "source": [
    "4.Suppose d = {“john”:40, “peter”:45}. To obtain the number of entries in dictionary which command do we use?     \n",
    "a) d.size()   \n",
    "b) len(d)   \n",
    "c) size(d)   \n",
    "d) d.len()"
   ]
  },
  {
   "cell_type": "markdown",
   "metadata": {},
   "source": [
    "The answer is b).    \n",
    "'dict' object has no attribute 'size', 'dict' object has no attribute 'len'."
   ]
  },
  {
   "cell_type": "code",
   "execution_count": 2,
   "metadata": {},
   "outputs": [
    {
     "data": {
      "text/plain": [
       "2"
      ]
     },
     "execution_count": 2,
     "metadata": {},
     "output_type": "execute_result"
    }
   ],
   "source": [
    "d = {\"john\":40, \"peter\":45}\n",
    "#d.size()\n",
    "len(d)\n",
    "#d.len()"
   ]
  },
  {
   "cell_type": "markdown",
   "metadata": {},
   "source": [
    "5.Suppose d = {“john”:40, “peter”:45}, what happens when we try to retrieve a value using the expression d[“susan”]?   \n",
    "a) Since “susan” is not a value in the set, Python raises a KeyError exception   \n",
    "b) It is executed fine and no exception is raised, and it returns None    \n",
    "c) Since “susan” is not a key in the set, Python raises a KeyError exception   \n",
    "d) Since “susan” is not a key in the set, Python raises a syntax error  "
   ]
  },
  {
   "cell_type": "markdown",
   "metadata": {},
   "source": [
    "The answer is c).  \n",
    "Since “susan” is not a key in the set, Python raises a KeyError exception."
   ]
  },
  {
   "cell_type": "code",
   "execution_count": 3,
   "metadata": {
    "collapsed": true
   },
   "outputs": [],
   "source": [
    "d = {\"john\":40, \"peter\":45}\n",
    "#d[\"susan\"]\n",
    "# KeyError: 'susan'"
   ]
  },
  {
   "cell_type": "markdown",
   "metadata": {},
   "source": [
    "6.What is the output of the following code? Explain the results!  \n",
    "a) {1: ‘A’, 2: ‘B’, 3: ‘C’}   \n",
    "b) C   \n",
    "c) {1: 3, 2: 3, 3: 3}   \n",
    "d) No method called setdefault() exists for dictionary  "
   ]
  },
  {
   "cell_type": "markdown",
   "metadata": {},
   "source": [
    "The answer is b).  \n",
    "setdefault() is similar to get() but will set dict[key]=default if key is not already in the dictionary.  \n",
    "Since in this dictionary, 3: 'C'. So when the code ask to find key 3, the key value will be C."
   ]
  },
  {
   "cell_type": "code",
   "execution_count": 4,
   "metadata": {},
   "outputs": [
    {
     "name": "stdout",
     "output_type": "stream",
     "text": [
      "C\n"
     ]
    }
   ],
   "source": [
    "a={1:\"A\",2:\"B\",3:\"C\"} \n",
    "print(a.setdefault(3))"
   ]
  },
  {
   "cell_type": "markdown",
   "metadata": {},
   "source": [
    "7.What is the output of the following code? Explain the results!  \n",
    "a) {1: ‘A’, 2: ‘B’, 3: ‘C’, 4: ‘D’}.  \n",
    "b) None.  \n",
    "c) Error.  \n",
    "d) [1,3,6,10].  "
   ]
  },
  {
   "cell_type": "markdown",
   "metadata": {},
   "source": [
    "The answer is a).   \n",
    "setdefault() will set dict[key]=default if key is not already in the dictionary."
   ]
  },
  {
   "cell_type": "code",
   "execution_count": 5,
   "metadata": {},
   "outputs": [
    {
     "name": "stdout",
     "output_type": "stream",
     "text": [
      "{1: 'A', 2: 'B', 3: 'C', 4: 'D'}\n"
     ]
    }
   ],
   "source": [
    "a={1:\"A\",2:\"B\",3:\"C\"}\n",
    "a.setdefault(4,\"D\")\n",
    "print(a)"
   ]
  },
  {
   "cell_type": "markdown",
   "metadata": {},
   "source": [
    "8.What is the output of the following code? Explain the results!  \n",
    "a) {1: ‘A’, 2: ‘B’, 3: ‘C’}  \n",
    "b) Method update() doesn’t exist for dictionaries  \n",
    "c) {1: ‘A’, 2: ‘B’, 3: ‘C’, 4: ‘D’, 5: ‘E’}  \n",
    "d) {4: ‘D’, 5: ‘E’}  "
   ]
  },
  {
   "cell_type": "markdown",
   "metadata": {},
   "source": [
    "The answer is c).  \n",
    "update() method adds dictionary b’s key-value pairs to dictionary a."
   ]
  },
  {
   "cell_type": "code",
   "execution_count": 6,
   "metadata": {},
   "outputs": [
    {
     "name": "stdout",
     "output_type": "stream",
     "text": [
      "{1: 'A', 2: 'B', 3: 'C', 4: 'D', 5: 'E'}\n"
     ]
    }
   ],
   "source": [
    "a={1:\"A\",2:\"B\",3:\"C\"}\n",
    "b={4:\"D\",5:\"E\"}\n",
    "a.update(b)\n",
    "print(a)"
   ]
  },
  {
   "cell_type": "markdown",
   "metadata": {},
   "source": [
    "9.What is the output of the following code? Explain the results!    \n",
    "a) Error, copy() method doesn’t exist for dictionaries  \n",
    "b) {1: ‘A’, 2: ‘B’, 3: ‘C’}   \n",
    "c) {1: ‘A’, 2: ‘D’, 3: ‘C’}  \n",
    "d) “None” is printed  "
   ]
  },
  {
   "cell_type": "markdown",
   "metadata": {},
   "source": [
    "The answer is b).  \n",
    "We copy the original dictionray to a new dictionary.  \n",
    "Changes made in the new copied dictionary won't be reflected in the original dictionary."
   ]
  },
  {
   "cell_type": "code",
   "execution_count": 7,
   "metadata": {},
   "outputs": [
    {
     "name": "stdout",
     "output_type": "stream",
     "text": [
      "{1: 'A', 2: 'B', 3: 'C'}\n"
     ]
    }
   ],
   "source": [
    "a={1:\"A\",2:\"B\",3:\"C\"}\n",
    "b=a.copy()\n",
    "b[2]=\"D\"\n",
    "print(a)"
   ]
  },
  {
   "cell_type": "markdown",
   "metadata": {},
   "source": [
    "10.What is the output of the following code? Explain the results!  \n",
    "a) {1: 5}  \n",
    "b) {1: 5, 2: 3}  \n",
    "c) Error, syntax error for pop() method  \n",
    "d) {1: 5, 3: 4}  "
   ]
  },
  {
   "cell_type": "markdown",
   "metadata": {},
   "source": [
    "The answer is b).  \n",
    "pop() method removes the key-value pair for the key mentioned in the pop() method.  "
   ]
  },
  {
   "cell_type": "code",
   "execution_count": 8,
   "metadata": {},
   "outputs": [
    {
     "name": "stdout",
     "output_type": "stream",
     "text": [
      "{1: 5, 2: 3}\n"
     ]
    }
   ],
   "source": [
    "a={1:5,2:3,3:4}\n",
    "a.pop(3)\n",
    "print(a)"
   ]
  },
  {
   "cell_type": "code",
   "execution_count": null,
   "metadata": {
    "collapsed": true
   },
   "outputs": [],
   "source": []
  },
  {
   "cell_type": "code",
   "execution_count": null,
   "metadata": {
    "collapsed": true
   },
   "outputs": [],
   "source": []
  },
  {
   "cell_type": "markdown",
   "metadata": {
    "collapsed": true
   },
   "source": [
    "---------------------------------------------------"
   ]
  },
  {
   "cell_type": "markdown",
   "metadata": {},
   "source": [
    "Coding – 50 pts (25 points each)"
   ]
  },
  {
   "cell_type": "markdown",
   "metadata": {},
   "source": [
    "A. Create two dictionaries: PersonalInfo with 7 key-value pairs and WorkInfo with 4 key-values. Concatenate the two dictionaries and then print all of the 3 dictionaries to the console."
   ]
  },
  {
   "cell_type": "code",
   "execution_count": 9,
   "metadata": {},
   "outputs": [
    {
     "name": "stdout",
     "output_type": "stream",
     "text": [
      "{'Name': 'John', 'Phone': '123-456-7890', 'Address': '1001 Abbot Rd', 'EyeColor': 'Brown', 'Height': \"5'10\", 'Weight': '160 lbs', 'Gender': 'Male'}\n",
      "{'WorkID': '3456987', 'Email': 'johnson@workwork.com', 'Position': 'Engineer', 'Experiences': '3 years'}\n",
      "{'Name': 'John', 'Phone': '123-456-7890', 'Address': '1001 Abbot Rd', 'EyeColor': 'Brown', 'Height': \"5'10\", 'Weight': '160 lbs', 'Gender': 'Male', 'WorkID': '3456987', 'Email': 'johnson@workwork.com', 'Position': 'Engineer', 'Experiences': '3 years'}\n"
     ]
    }
   ],
   "source": [
    "PersonalInfo = {\"Name\":\"John\",\"Phone\": \"123-456-7890\",\"Address\":\"1001 Abbot Rd\",\"EyeColor\":\"Brown\",\n",
    "                \"Height\":\"5'10\",\"Weight\":\"160 lbs\",\"Gender\":\"Male\"}\n",
    "WorkInfo = {\"WorkID\": \"3456987\",\"Email\":\"johnson@workwork.com\",\"Position\":\"Engineer\",\"Experiences\":\"3 years\"}\n",
    "NewInfo = {}\n",
    "for d in (PersonalInfo,WorkInfo): \n",
    "    NewInfo.update(d)\n",
    "print(PersonalInfo)\n",
    "print(WorkInfo)\n",
    "print(NewInfo)"
   ]
  },
  {
   "cell_type": "code",
   "execution_count": 10,
   "metadata": {
    "collapsed": true
   },
   "outputs": [],
   "source": [
    "#Test\n",
    "#print(len(PersonalInfo))\n",
    "#print(len(WorkInfo))\n",
    "#print(len(NewInfo))\n",
    "#bool(len(PersonalInfo)+len(WorkInfo)==len(NewInfo))"
   ]
  },
  {
   "cell_type": "code",
   "execution_count": null,
   "metadata": {
    "collapsed": true
   },
   "outputs": [],
   "source": []
  },
  {
   "cell_type": "markdown",
   "metadata": {},
   "source": [
    "B. Add two new key-value pairs to the dictionary PersonalInfo, remove a key-value pair from WorkInfo and add a new one. Print the results after the two operations mentioned above."
   ]
  },
  {
   "cell_type": "code",
   "execution_count": 11,
   "metadata": {},
   "outputs": [
    {
     "name": "stdout",
     "output_type": "stream",
     "text": [
      "{'Name': 'John', 'Phone': '123-456-7890', 'Address': '1001 Abbot Rd', 'EyeColor': 'Brown', 'Height': \"5'10\", 'Weight': '160 lbs', 'Gender': 'Male', 'Marital Status': 'Yes', 'Hobby': 'Running'}\n",
      "{'WorkID': '3456987', 'Email': 'johnson@workwork.com', 'Position': 'Engineer', 'Technical Skills': 'Python, R'}\n"
     ]
    }
   ],
   "source": [
    "PersonalInfo[\"Marital Status\"] = \"Yes\"\n",
    "PersonalInfo[\"Hobby\"] = \"Running\"\n",
    "del WorkInfo[\"Experiences\"]\n",
    "WorkInfo[\"Technical Skills\"] = \"Python, R\"\n",
    "print(PersonalInfo)\n",
    "print(WorkInfo)"
   ]
  },
  {
   "cell_type": "code",
   "execution_count": null,
   "metadata": {
    "collapsed": true
   },
   "outputs": [],
   "source": []
  },
  {
   "cell_type": "code",
   "execution_count": null,
   "metadata": {},
   "outputs": [],
   "source": []
  },
  {
   "cell_type": "code",
   "execution_count": null,
   "metadata": {},
   "outputs": [],
   "source": []
  },
  {
   "cell_type": "markdown",
   "metadata": {},
   "source": [
    "--------------------------------------------------------------------------------------------------------------------------"
   ]
  },
  {
   "cell_type": "code",
   "execution_count": null,
   "metadata": {
    "collapsed": true
   },
   "outputs": [],
   "source": []
  },
  {
   "cell_type": "code",
   "execution_count": null,
   "metadata": {
    "collapsed": true
   },
   "outputs": [],
   "source": []
  }
 ],
 "metadata": {
  "kernelspec": {
   "display_name": "Python 3",
   "language": "python",
   "name": "python3"
  },
  "language_info": {
   "codemirror_mode": {
    "name": "ipython",
    "version": 3
   },
   "file_extension": ".py",
   "mimetype": "text/x-python",
   "name": "python",
   "nbconvert_exporter": "python",
   "pygments_lexer": "ipython3",
   "version": "3.6.5"
  }
 },
 "nbformat": 4,
 "nbformat_minor": 2
}

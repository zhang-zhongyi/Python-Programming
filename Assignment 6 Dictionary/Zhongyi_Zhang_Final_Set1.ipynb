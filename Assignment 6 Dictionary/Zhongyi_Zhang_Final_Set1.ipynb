{
 "cells": [
  {
   "cell_type": "markdown",
   "metadata": {},
   "source": [
    "# Final Exam - December 6, 2018"
   ]
  },
  {
   "cell_type": "markdown",
   "metadata": {},
   "source": [
    "# Set 1"
   ]
  },
  {
   "cell_type": "markdown",
   "metadata": {},
   "source": [
    "Name: Zhongyi Zhang  \n",
    "Netid: zhongyiz@uchicago.edu  "
   ]
  },
  {
   "cell_type": "markdown",
   "metadata": {},
   "source": [
    "## A. Dictionaries"
   ]
  },
  {
   "cell_type": "markdown",
   "metadata": {},
   "source": [
    "#### 1. Create two dictionaries: PersonalInfo with 7 key-value pairs & WorkInfo with 4 key-value pairs\n",
    "Ex: First name - John, Last name - Doe, Age - 25, Address - 111 North Street, Phone - (312) 235-5584, etc... and \n",
    "\n",
    "Work address - 123 South street, Phone - (630) 787-4453, etc..."
   ]
  },
  {
   "cell_type": "code",
   "execution_count": 127,
   "metadata": {},
   "outputs": [
    {
     "name": "stdout",
     "output_type": "stream",
     "text": [
      "{'Name': 'John', 'Phone': '123-456-7890', 'Address': '1001 Abbot Rd', 'EyeColor': 'Brown', 'Height': \"5'10\", 'Weight': '160 lbs', 'Gender': 'Male'}\n",
      "{'WorkID': '3456987', 'Email': 'johnson@workwork.com', 'Position': 'Engineer', 'Experiences': '3 years'}\n"
     ]
    }
   ],
   "source": [
    "PersonalInfo = {\"Name\":\"John\",\"Phone\": \"123-456-7890\",\"Address\":\"1001 Abbot Rd\",\"EyeColor\":\"Brown\",\n",
    "                \"Height\":\"5'10\",\"Weight\":\"160 lbs\",\"Gender\":\"Male\"}\n",
    "WorkInfo = {\"WorkID\": \"3456987\",\"Email\":\"johnson@workwork.com\",\"Position\":\"Engineer\",\"Experiences\":\"3 years\"}\n",
    "print(PersonalInfo)\n",
    "print(WorkInfo)"
   ]
  },
  {
   "cell_type": "markdown",
   "metadata": {},
   "source": [
    "#### 2. Add a new pair key-value to the dictionary PersonalInfo and remove a key-value pair from WorkInfo. Print results after the 2 operations"
   ]
  },
  {
   "cell_type": "code",
   "execution_count": 128,
   "metadata": {},
   "outputs": [
    {
     "name": "stdout",
     "output_type": "stream",
     "text": [
      "{'Name': 'John', 'Phone': '123-456-7890', 'Address': '1001 Abbot Rd', 'EyeColor': 'Brown', 'Height': \"5'10\", 'Weight': '160 lbs', 'Gender': 'Male', 'Marital Status': 'Yes'}\n",
      "{'WorkID': '3456987', 'Email': 'johnson@workwork.com', 'Position': 'Engineer'}\n"
     ]
    }
   ],
   "source": [
    "PersonalInfo[\"Marital Status\"] = \"Yes\"\n",
    "del WorkInfo[\"Experiences\"]\n",
    "print(PersonalInfo)\n",
    "print(WorkInfo)"
   ]
  },
  {
   "cell_type": "markdown",
   "metadata": {},
   "source": [
    "#### 3. Concatenate the 2 dictionaries and print all 3 dictionaries. Iterate through the compound dictionary by printing every key-value pair, each on one line"
   ]
  },
  {
   "cell_type": "code",
   "execution_count": 129,
   "metadata": {},
   "outputs": [
    {
     "name": "stdout",
     "output_type": "stream",
     "text": [
      "Name : John\n",
      "Phone : 123-456-7890\n",
      "Address : 1001 Abbot Rd\n",
      "EyeColor : Brown\n",
      "Height : 5'10\n",
      "Weight : 160 lbs\n",
      "Gender : Male\n",
      "Marital Status : Yes\n",
      "WorkID : 3456987\n",
      "Email : johnson@workwork.com\n",
      "Position : Engineer\n",
      "Name : John\n",
      "Phone : 123-456-7890\n",
      "Address : 1001 Abbot Rd\n",
      "EyeColor : Brown\n",
      "Height : 5'10\n",
      "Weight : 160 lbs\n",
      "Gender : Male\n",
      "Marital Status : Yes\n",
      "WorkID : 3456987\n",
      "Email : johnson@workwork.com\n",
      "Position : Engineer\n"
     ]
    }
   ],
   "source": [
    "NewInfo = {}\n",
    "for d in (PersonalInfo,WorkInfo): \n",
    "    NewInfo.update(d)\n",
    "#print(PersonalInfo)\n",
    "for key1,value1 in PersonalInfo.items():\n",
    "    print(key1,\":\",value1)\n",
    "#print(WorkInfo)\n",
    "for key2,value2 in WorkInfo.items():\n",
    "    print(key2,\":\",value2)\n",
    "#print(NewInfo)\n",
    "for key3,value3 in NewInfo.items():\n",
    "    print(key3,\":\",value3)"
   ]
  },
  {
   "cell_type": "markdown",
   "metadata": {},
   "source": [
    "#### 4. Sort the compound dictionary by keys in descending order and print on record per line"
   ]
  },
  {
   "cell_type": "code",
   "execution_count": 130,
   "metadata": {},
   "outputs": [
    {
     "name": "stdout",
     "output_type": "stream",
     "text": [
      "Weight\n",
      "WorkID\n",
      "Phone\n",
      "Position\n",
      "Name\n",
      "Marital Status\n",
      "Height\n",
      "Gender\n",
      "EyeColor\n",
      "Email\n",
      "Address\n"
     ]
    }
   ],
   "source": [
    "#The compound dictionary is the NewInfo, which I named in the previous cell.\n",
    "from operator import itemgetter \n",
    "v = sorted(NewInfo, key=itemgetter(0), reverse=True)\n",
    "#It is in descending order, and the first letter of each key start from ZYX...CBA. This should be the descending order.\n",
    "#ABCDEF... ascending order\n",
    "#ZYXWVU... descending order\n",
    "for key in v:\n",
    "    print(key)\n",
    "# one on each line with descending (reversed) alphabetic order"
   ]
  },
  {
   "cell_type": "markdown",
   "metadata": {},
   "source": [
    "## B. numpy"
   ]
  },
  {
   "cell_type": "markdown",
   "metadata": {},
   "source": [
    "#### 5. Create and print a numpy 1-d array containing 25 decimal numbers that starts at 1 and end at 7. Calculate and print the min, max and avarage value of this 1-d array"
   ]
  },
  {
   "cell_type": "code",
   "execution_count": 131,
   "metadata": {},
   "outputs": [
    {
     "name": "stdout",
     "output_type": "stream",
     "text": [
      "[1.   1.25 1.5  1.75 2.   2.25 2.5  2.75 3.   3.25 3.5  3.75 4.   4.25\n",
      " 4.5  4.75 5.   5.25 5.5  5.75 6.   6.25 6.5  6.75 7.  ]\n",
      "1.0\n",
      "7.0\n",
      "4.0\n"
     ]
    }
   ],
   "source": [
    "import numpy as np\n",
    "from numpy  import *\n",
    "np1 = np.linspace(1., 7., 25)\n",
    "np1\n",
    "print(np1)\n",
    "\n",
    "print(np1.min())\n",
    "print(np1.max())\n",
    "print(np1.mean())"
   ]
  },
  {
   "cell_type": "markdown",
   "metadata": {},
   "source": [
    "#### 6. Create and print a 2 dimensional array A that has 16 rows and 4 columns composed of consecutive integers. Change the shape of the array A to a new array B that has 8 rows and 8 columns and print it out"
   ]
  },
  {
   "cell_type": "code",
   "execution_count": 132,
   "metadata": {},
   "outputs": [
    {
     "name": "stdout",
     "output_type": "stream",
     "text": [
      "[[ 0  1  2  3]\n",
      " [ 4  5  6  7]\n",
      " [ 8  9 10 11]\n",
      " [12 13 14 15]\n",
      " [16 17 18 19]\n",
      " [20 21 22 23]\n",
      " [24 25 26 27]\n",
      " [28 29 30 31]\n",
      " [32 33 34 35]\n",
      " [36 37 38 39]\n",
      " [40 41 42 43]\n",
      " [44 45 46 47]\n",
      " [48 49 50 51]\n",
      " [52 53 54 55]\n",
      " [56 57 58 59]\n",
      " [60 61 62 63]]\n",
      "[[ 0  1  2  3  4  5  6  7]\n",
      " [ 8  9 10 11 12 13 14 15]\n",
      " [16 17 18 19 20 21 22 23]\n",
      " [24 25 26 27 28 29 30 31]\n",
      " [32 33 34 35 36 37 38 39]\n",
      " [40 41 42 43 44 45 46 47]\n",
      " [48 49 50 51 52 53 54 55]\n",
      " [56 57 58 59 60 61 62 63]]\n"
     ]
    }
   ],
   "source": [
    "A = np.arange(64).reshape(16, 4)\n",
    "print(A)\n",
    "B = A.reshape(8, 8)\n",
    "print(B)"
   ]
  },
  {
   "cell_type": "markdown",
   "metadata": {},
   "source": [
    "#### 7. Add \"elementwise\" the numpy array obtained above (B) with the appropriate size identity array. Print the results"
   ]
  },
  {
   "cell_type": "code",
   "execution_count": 133,
   "metadata": {},
   "outputs": [
    {
     "data": {
      "text/plain": [
       "array([[ 1,  1,  2,  3,  4,  5,  6,  7],\n",
       "       [ 8, 10, 10, 11, 12, 13, 14, 15],\n",
       "       [16, 17, 19, 19, 20, 21, 22, 23],\n",
       "       [24, 25, 26, 28, 28, 29, 30, 31],\n",
       "       [32, 33, 34, 35, 37, 37, 38, 39],\n",
       "       [40, 41, 42, 43, 44, 46, 46, 47],\n",
       "       [48, 49, 50, 51, 52, 53, 55, 55],\n",
       "       [56, 57, 58, 59, 60, 61, 62, 64]])"
      ]
     },
     "execution_count": 133,
     "metadata": {},
     "output_type": "execute_result"
    }
   ],
   "source": [
    "#elementwise Add\n",
    "C = np.eye(8, 8, k=0, dtype=int)\n",
    "C\n",
    "C + B"
   ]
  },
  {
   "cell_type": "code",
   "execution_count": 134,
   "metadata": {},
   "outputs": [
    {
     "data": {
      "text/plain": [
       "array([[  1,  -1,  -2,  -3,  -4,  -5,  -6,  -7],\n",
       "       [ -8,  -8, -10, -11, -12, -13, -14, -15],\n",
       "       [-16, -17, -17, -19, -20, -21, -22, -23],\n",
       "       [-24, -25, -26, -26, -28, -29, -30, -31],\n",
       "       [-32, -33, -34, -35, -35, -37, -38, -39],\n",
       "       [-40, -41, -42, -43, -44, -44, -46, -47],\n",
       "       [-48, -49, -50, -51, -52, -53, -53, -55],\n",
       "       [-56, -57, -58, -59, -60, -61, -62, -62]])"
      ]
     },
     "execution_count": 134,
     "metadata": {},
     "output_type": "execute_result"
    }
   ],
   "source": [
    "#BTW, FYI:\n",
    "#element minus\n",
    "C - B"
   ]
  },
  {
   "cell_type": "code",
   "execution_count": 135,
   "metadata": {},
   "outputs": [
    {
     "data": {
      "text/plain": [
       "array([[ 0,  0,  0,  0,  0,  0,  0,  0],\n",
       "       [ 0,  9,  0,  0,  0,  0,  0,  0],\n",
       "       [ 0,  0, 18,  0,  0,  0,  0,  0],\n",
       "       [ 0,  0,  0, 27,  0,  0,  0,  0],\n",
       "       [ 0,  0,  0,  0, 36,  0,  0,  0],\n",
       "       [ 0,  0,  0,  0,  0, 45,  0,  0],\n",
       "       [ 0,  0,  0,  0,  0,  0, 54,  0],\n",
       "       [ 0,  0,  0,  0,  0,  0,  0, 63]])"
      ]
     },
     "execution_count": 135,
     "metadata": {},
     "output_type": "execute_result"
    }
   ],
   "source": [
    "#element multiply\n",
    "C * B"
   ]
  },
  {
   "cell_type": "code",
   "execution_count": 136,
   "metadata": {},
   "outputs": [
    {
     "name": "stderr",
     "output_type": "stream",
     "text": [
      "/Users/zhongyizhang/anaconda3/lib/python3.6/site-packages/ipykernel_launcher.py:2: RuntimeWarning: divide by zero encountered in true_divide\n",
      "  \n"
     ]
    },
    {
     "data": {
      "text/plain": [
       "array([[       inf, 0.        , 0.        , 0.        , 0.        ,\n",
       "        0.        , 0.        , 0.        ],\n",
       "       [0.        , 0.11111111, 0.        , 0.        , 0.        ,\n",
       "        0.        , 0.        , 0.        ],\n",
       "       [0.        , 0.        , 0.05555556, 0.        , 0.        ,\n",
       "        0.        , 0.        , 0.        ],\n",
       "       [0.        , 0.        , 0.        , 0.03703704, 0.        ,\n",
       "        0.        , 0.        , 0.        ],\n",
       "       [0.        , 0.        , 0.        , 0.        , 0.02777778,\n",
       "        0.        , 0.        , 0.        ],\n",
       "       [0.        , 0.        , 0.        , 0.        , 0.        ,\n",
       "        0.02222222, 0.        , 0.        ],\n",
       "       [0.        , 0.        , 0.        , 0.        , 0.        ,\n",
       "        0.        , 0.01851852, 0.        ],\n",
       "       [0.        , 0.        , 0.        , 0.        , 0.        ,\n",
       "        0.        , 0.        , 0.01587302]])"
      ]
     },
     "execution_count": 136,
     "metadata": {},
     "output_type": "execute_result"
    }
   ],
   "source": [
    "#element divide\n",
    "C / B"
   ]
  },
  {
   "cell_type": "code",
   "execution_count": null,
   "metadata": {},
   "outputs": [],
   "source": []
  },
  {
   "cell_type": "markdown",
   "metadata": {},
   "source": [
    "#### 8. Multiply \"dot-style\" the numpy array obtained from summation with the array B and print the results"
   ]
  },
  {
   "cell_type": "code",
   "execution_count": 137,
   "metadata": {},
   "outputs": [
    {
     "data": {
      "text/plain": [
       "array([[ 1120,  1149,  1178,  1207,  1236,  1265,  1294,  1323],\n",
       "       [ 2920,  3013,  3106,  3199,  3292,  3385,  3478,  3571],\n",
       "       [ 4720,  4877,  5034,  5191,  5348,  5505,  5662,  5819],\n",
       "       [ 6520,  6741,  6962,  7183,  7404,  7625,  7846,  8067],\n",
       "       [ 8320,  8605,  8890,  9175,  9460,  9745, 10030, 10315],\n",
       "       [10120, 10469, 10818, 11167, 11516, 11865, 12214, 12563],\n",
       "       [11920, 12333, 12746, 13159, 13572, 13985, 14398, 14811],\n",
       "       [13720, 14197, 14674, 15151, 15628, 16105, 16582, 17059]])"
      ]
     },
     "execution_count": 137,
     "metadata": {},
     "output_type": "execute_result"
    }
   ],
   "source": [
    "D = C+B\n",
    "D\n",
    "dot(D,B)"
   ]
  },
  {
   "cell_type": "markdown",
   "metadata": {},
   "source": [
    "## C. pandas"
   ]
  },
  {
   "cell_type": "markdown",
   "metadata": {},
   "source": [
    "#### 9. Load data from the File-input.csv file into a pandas dataframe and print it to the Jupyter console"
   ]
  },
  {
   "cell_type": "code",
   "execution_count": 138,
   "metadata": {},
   "outputs": [
    {
     "data": {
      "text/html": [
       "<div>\n",
       "<style scoped>\n",
       "    .dataframe tbody tr th:only-of-type {\n",
       "        vertical-align: middle;\n",
       "    }\n",
       "\n",
       "    .dataframe tbody tr th {\n",
       "        vertical-align: top;\n",
       "    }\n",
       "\n",
       "    .dataframe thead th {\n",
       "        text-align: right;\n",
       "    }\n",
       "</style>\n",
       "<table border=\"1\" class=\"dataframe\">\n",
       "  <thead>\n",
       "    <tr style=\"text-align: right;\">\n",
       "      <th></th>\n",
       "      <th>First name</th>\n",
       "      <th>Last name</th>\n",
       "      <th>Age</th>\n",
       "      <th>Phone</th>\n",
       "      <th>Temp</th>\n",
       "      <th>Height</th>\n",
       "      <th>Weight</th>\n",
       "      <th>City</th>\n",
       "    </tr>\n",
       "  </thead>\n",
       "  <tbody>\n",
       "    <tr>\n",
       "      <th>0</th>\n",
       "      <td>David</td>\n",
       "      <td>Kain</td>\n",
       "      <td>78</td>\n",
       "      <td>(312) 524-6685</td>\n",
       "      <td>99.9</td>\n",
       "      <td>5'11\"</td>\n",
       "      <td>178</td>\n",
       "      <td>Chicago</td>\n",
       "    </tr>\n",
       "    <tr>\n",
       "      <th>1</th>\n",
       "      <td>Kevin</td>\n",
       "      <td>O'Hara</td>\n",
       "      <td>56</td>\n",
       "      <td>(312) 897-3358</td>\n",
       "      <td>102.5</td>\n",
       "      <td>6'2\"</td>\n",
       "      <td>185</td>\n",
       "      <td>Winnetka</td>\n",
       "    </tr>\n",
       "    <tr>\n",
       "      <th>2</th>\n",
       "      <td>Kara</td>\n",
       "      <td>Smith</td>\n",
       "      <td>37</td>\n",
       "      <td>(312) 895-2258</td>\n",
       "      <td>97.2</td>\n",
       "      <td>6'3\"</td>\n",
       "      <td>215</td>\n",
       "      <td>Oakbrook</td>\n",
       "    </tr>\n",
       "    <tr>\n",
       "      <th>3</th>\n",
       "      <td>Blair</td>\n",
       "      <td>Steel</td>\n",
       "      <td>67</td>\n",
       "      <td>(202) 323-5687</td>\n",
       "      <td>98.9</td>\n",
       "      <td>5'11'</td>\n",
       "      <td>168</td>\n",
       "      <td>DC</td>\n",
       "    </tr>\n",
       "    <tr>\n",
       "      <th>4</th>\n",
       "      <td>Marie</td>\n",
       "      <td>Collins</td>\n",
       "      <td>54</td>\n",
       "      <td>(312) 564-2552</td>\n",
       "      <td>101.0</td>\n",
       "      <td>6'0\"</td>\n",
       "      <td>158</td>\n",
       "      <td>Chicago</td>\n",
       "    </tr>\n",
       "    <tr>\n",
       "      <th>5</th>\n",
       "      <td>Michael</td>\n",
       "      <td>Jordan</td>\n",
       "      <td>55</td>\n",
       "      <td>(312) 532-9985</td>\n",
       "      <td>99.9</td>\n",
       "      <td>6'5\"</td>\n",
       "      <td>192</td>\n",
       "      <td>Chicago</td>\n",
       "    </tr>\n",
       "    <tr>\n",
       "      <th>6</th>\n",
       "      <td>Peter</td>\n",
       "      <td>Arnold</td>\n",
       "      <td>23</td>\n",
       "      <td>(773) 528-8854</td>\n",
       "      <td>97.2</td>\n",
       "      <td>5'8\"</td>\n",
       "      <td>165</td>\n",
       "      <td>Oakbrook</td>\n",
       "    </tr>\n",
       "    <tr>\n",
       "      <th>7</th>\n",
       "      <td>John</td>\n",
       "      <td>McKenzie</td>\n",
       "      <td>43</td>\n",
       "      <td>(312) 326-5541</td>\n",
       "      <td>98.2</td>\n",
       "      <td>6'2\"</td>\n",
       "      <td>195</td>\n",
       "      <td>Chicago</td>\n",
       "    </tr>\n",
       "    <tr>\n",
       "      <th>8</th>\n",
       "      <td>Joanna</td>\n",
       "      <td>Jones</td>\n",
       "      <td>25</td>\n",
       "      <td>(773) 954-8854</td>\n",
       "      <td>101.2</td>\n",
       "      <td>5'9\"</td>\n",
       "      <td>145</td>\n",
       "      <td>Downers Grove</td>\n",
       "    </tr>\n",
       "    <tr>\n",
       "      <th>9</th>\n",
       "      <td>MaryLou</td>\n",
       "      <td>Andrews</td>\n",
       "      <td>34</td>\n",
       "      <td>(312) 253-2672</td>\n",
       "      <td>98.0</td>\n",
       "      <td>5'6\"</td>\n",
       "      <td>154</td>\n",
       "      <td>Winnetka</td>\n",
       "    </tr>\n",
       "    <tr>\n",
       "      <th>10</th>\n",
       "      <td>Jon</td>\n",
       "      <td>Clinton</td>\n",
       "      <td>85</td>\n",
       "      <td>(312) 321-9922</td>\n",
       "      <td>102.2</td>\n",
       "      <td>5'5\"</td>\n",
       "      <td>178</td>\n",
       "      <td>Oakbrook</td>\n",
       "    </tr>\n",
       "    <tr>\n",
       "      <th>11</th>\n",
       "      <td>Andy</td>\n",
       "      <td>Bush</td>\n",
       "      <td>44</td>\n",
       "      <td>(773)777-8833</td>\n",
       "      <td>98.5</td>\n",
       "      <td>5'8\"</td>\n",
       "      <td>165</td>\n",
       "      <td>Chicago</td>\n",
       "    </tr>\n",
       "  </tbody>\n",
       "</table>\n",
       "</div>"
      ],
      "text/plain": [
       "   First name Last name  Age           Phone   Temp Height  Weight  \\\n",
       "0       David      Kain   78  (312) 524-6685   99.9  5'11\"     178   \n",
       "1       Kevin    O'Hara   56  (312) 897-3358  102.5   6'2\"     185   \n",
       "2        Kara     Smith   37  (312) 895-2258   97.2   6'3\"     215   \n",
       "3       Blair     Steel   67  (202) 323-5687   98.9  5'11'     168   \n",
       "4       Marie   Collins   54  (312) 564-2552  101.0   6'0\"     158   \n",
       "5     Michael    Jordan   55  (312) 532-9985   99.9   6'5\"     192   \n",
       "6       Peter    Arnold   23  (773) 528-8854   97.2   5'8\"     165   \n",
       "7        John  McKenzie   43  (312) 326-5541   98.2   6'2\"     195   \n",
       "8      Joanna     Jones   25  (773) 954-8854  101.2   5'9\"     145   \n",
       "9     MaryLou   Andrews   34  (312) 253-2672   98.0   5'6\"     154   \n",
       "10        Jon   Clinton   85  (312) 321-9922  102.2   5'5\"     178   \n",
       "11       Andy      Bush   44   (773)777-8833   98.5   5'8\"     165   \n",
       "\n",
       "             City  \n",
       "0         Chicago  \n",
       "1        Winnetka  \n",
       "2        Oakbrook  \n",
       "3              DC  \n",
       "4         Chicago  \n",
       "5         Chicago  \n",
       "6        Oakbrook  \n",
       "7         Chicago  \n",
       "8   Downers Grove  \n",
       "9        Winnetka  \n",
       "10       Oakbrook  \n",
       "11        Chicago  "
      ]
     },
     "execution_count": 138,
     "metadata": {},
     "output_type": "execute_result"
    }
   ],
   "source": [
    "import pandas as pd\n",
    "df1 = pd.read_csv(\"File-input.csv\")\n",
    "df1"
   ]
  },
  {
   "cell_type": "markdown",
   "metadata": {},
   "source": [
    "#### 10. Convert the dataframe into a list of Dictionaries using the .to_dict method and then save all the records from the pandas dataframe as different dictionaries. Orient them as 'records' and print them on different lines"
   ]
  },
  {
   "cell_type": "code",
   "execution_count": 139,
   "metadata": {},
   "outputs": [
    {
     "data": {
      "text/plain": [
       "[{'First name': 'David',\n",
       "  'Last name': 'Kain',\n",
       "  'Age': 78,\n",
       "  'Phone': '(312) 524-6685',\n",
       "  'Temp': 99.9,\n",
       "  'Height': '5\\'11\"',\n",
       "  'Weight': 178,\n",
       "  'City': 'Chicago'},\n",
       " {'First name': 'Kevin',\n",
       "  'Last name': \"O'Hara\",\n",
       "  'Age': 56,\n",
       "  'Phone': '(312) 897-3358',\n",
       "  'Temp': 102.5,\n",
       "  'Height': '6\\'2\"',\n",
       "  'Weight': 185,\n",
       "  'City': 'Winnetka'},\n",
       " {'First name': 'Kara',\n",
       "  'Last name': 'Smith',\n",
       "  'Age': 37,\n",
       "  'Phone': '(312) 895-2258',\n",
       "  'Temp': 97.2,\n",
       "  'Height': '6\\'3\"',\n",
       "  'Weight': 215,\n",
       "  'City': 'Oakbrook'},\n",
       " {'First name': 'Blair',\n",
       "  'Last name': 'Steel',\n",
       "  'Age': 67,\n",
       "  'Phone': '(202) 323-5687',\n",
       "  'Temp': 98.9,\n",
       "  'Height': \"5'11'\",\n",
       "  'Weight': 168,\n",
       "  'City': 'DC'},\n",
       " {'First name': 'Marie',\n",
       "  'Last name': 'Collins',\n",
       "  'Age': 54,\n",
       "  'Phone': '(312) 564-2552',\n",
       "  'Temp': 101.0,\n",
       "  'Height': '6\\'0\"',\n",
       "  'Weight': 158,\n",
       "  'City': 'Chicago'},\n",
       " {'First name': 'Michael',\n",
       "  'Last name': 'Jordan',\n",
       "  'Age': 55,\n",
       "  'Phone': '(312) 532-9985',\n",
       "  'Temp': 99.9,\n",
       "  'Height': '6\\'5\"',\n",
       "  'Weight': 192,\n",
       "  'City': 'Chicago'},\n",
       " {'First name': 'Peter',\n",
       "  'Last name': 'Arnold',\n",
       "  'Age': 23,\n",
       "  'Phone': '(773) 528-8854',\n",
       "  'Temp': 97.2,\n",
       "  'Height': '5\\'8\"',\n",
       "  'Weight': 165,\n",
       "  'City': 'Oakbrook'},\n",
       " {'First name': 'John',\n",
       "  'Last name': 'McKenzie',\n",
       "  'Age': 43,\n",
       "  'Phone': '(312) 326-5541',\n",
       "  'Temp': 98.2,\n",
       "  'Height': '6\\'2\"',\n",
       "  'Weight': 195,\n",
       "  'City': 'Chicago'},\n",
       " {'First name': 'Joanna',\n",
       "  'Last name': 'Jones',\n",
       "  'Age': 25,\n",
       "  'Phone': '(773) 954-8854',\n",
       "  'Temp': 101.2,\n",
       "  'Height': '5\\'9\"',\n",
       "  'Weight': 145,\n",
       "  'City': 'Downers Grove'},\n",
       " {'First name': 'MaryLou',\n",
       "  'Last name': 'Andrews',\n",
       "  'Age': 34,\n",
       "  'Phone': '(312) 253-2672',\n",
       "  'Temp': 98.0,\n",
       "  'Height': '5\\'6\"',\n",
       "  'Weight': 154,\n",
       "  'City': 'Winnetka'},\n",
       " {'First name': 'Jon',\n",
       "  'Last name': 'Clinton',\n",
       "  'Age': 85,\n",
       "  'Phone': '(312) 321-9922',\n",
       "  'Temp': 102.2,\n",
       "  'Height': '5\\'5\"',\n",
       "  'Weight': 178,\n",
       "  'City': 'Oakbrook'},\n",
       " {'First name': 'Andy',\n",
       "  'Last name': 'Bush',\n",
       "  'Age': 44,\n",
       "  'Phone': '(773)777-8833',\n",
       "  'Temp': 98.5,\n",
       "  'Height': '5\\'8\"',\n",
       "  'Weight': 165,\n",
       "  'City': 'Chicago'}]"
      ]
     },
     "execution_count": 139,
     "metadata": {},
     "output_type": "execute_result"
    }
   ],
   "source": [
    "result = df1.to_dict(orient='records')\n",
    "result"
   ]
  },
  {
   "cell_type": "markdown",
   "metadata": {},
   "source": [
    "#### 11. Access and print the 2nd dictionary as 2nd record of the pandas dataframe"
   ]
  },
  {
   "cell_type": "code",
   "execution_count": 140,
   "metadata": {},
   "outputs": [
    {
     "data": {
      "text/plain": [
       "{'First name': 'Kevin',\n",
       " 'Last name': \"O'Hara\",\n",
       " 'Age': 56,\n",
       " 'Phone': '(312) 897-3358',\n",
       " 'Temp': 102.5,\n",
       " 'Height': '6\\'2\"',\n",
       " 'Weight': 185,\n",
       " 'City': 'Winnetka'}"
      ]
     },
     "execution_count": 140,
     "metadata": {},
     "output_type": "execute_result"
    }
   ],
   "source": [
    "#The first is [0], so the second dictionary is [1]\n",
    "result[1]\n"
   ]
  },
  {
   "cell_type": "markdown",
   "metadata": {},
   "source": [
    "#### 12. List all the keys of this dictionary, one per line, and then create a list with the them called “headers”"
   ]
  },
  {
   "cell_type": "code",
   "execution_count": 141,
   "metadata": {},
   "outputs": [
    {
     "name": "stdout",
     "output_type": "stream",
     "text": [
      "First name\n",
      "Last name\n",
      "Age\n",
      "Phone\n",
      "Temp\n",
      "Height\n",
      "Weight\n",
      "City\n",
      "\n",
      "['First name', 'Last name', 'Age', 'Phone', 'Temp', 'Height', 'Weight', 'City']\n"
     ]
    }
   ],
   "source": [
    "for row in result:\n",
    "    dict = row.copy()\n",
    "    \n",
    "n = 3\n",
    "dict = result[n]\n",
    "for key in dict.keys():\n",
    "   print(key)\n",
    "print()\n",
    "\n",
    "#create a list called headers\n",
    "headers = list(dict.keys())\n",
    "print(headers)"
   ]
  },
  {
   "cell_type": "markdown",
   "metadata": {},
   "source": [
    "#### 13. Select and print the 4th element in the list"
   ]
  },
  {
   "cell_type": "code",
   "execution_count": 142,
   "metadata": {},
   "outputs": [
    {
     "name": "stdout",
     "output_type": "stream",
     "text": [
      "Phone\n"
     ]
    }
   ],
   "source": [
    "#[0]- the first, [1]- the second, [2] - the third, [3]- the fourth\n",
    "headers[3]\n",
    "print(headers[3])"
   ]
  },
  {
   "cell_type": "markdown",
   "metadata": {},
   "source": [
    "#### 14. Modify the values for \"Temp\" and \"Weight\" keys for this specific record"
   ]
  },
  {
   "cell_type": "code",
   "execution_count": 143,
   "metadata": {},
   "outputs": [
    {
     "name": "stdout",
     "output_type": "stream",
     "text": [
      "['Blair', 'Steel', 67, '(202) 323-5687', 98.3, \"5'11'\", 174.1, 'DC']\n"
     ]
    }
   ],
   "source": [
    "dict[\"Temp\"] = 98.3\n",
    "dict[\"Weight\"] = 174.1\n",
    "print(list(dict.values()))"
   ]
  },
  {
   "cell_type": "markdown",
   "metadata": {},
   "source": [
    "#### 15. Find the \"First name\" that has the Min value of \"Weight\" from the dataframe"
   ]
  },
  {
   "cell_type": "code",
   "execution_count": 145,
   "metadata": {},
   "outputs": [
    {
     "name": "stdout",
     "output_type": "stream",
     "text": [
      "('Joanna', 145)\n"
     ]
    }
   ],
   "source": [
    "# Reduce size of dataframe to just 2 columns of interest\n",
    "df2 = df1[['First name','Weight']]\n",
    "result = df2.to_dict(orient='records')\n",
    "\n",
    "# Find the maxvalue and create a Tuple\n",
    "min = 250\n",
    "solution = ((),)\n",
    "for row in result:\n",
    "    weight = row['Weight']\n",
    "    firstname = row['First name']\n",
    "    if weight < min:\n",
    "        min = weight\n",
    "        solution = firstname, weight\n",
    "print(solution)"
   ]
  },
  {
   "cell_type": "code",
   "execution_count": null,
   "metadata": {},
   "outputs": [],
   "source": []
  },
  {
   "cell_type": "code",
   "execution_count": null,
   "metadata": {},
   "outputs": [],
   "source": []
  },
  {
   "cell_type": "code",
   "execution_count": null,
   "metadata": {},
   "outputs": [],
   "source": []
  },
  {
   "cell_type": "code",
   "execution_count": null,
   "metadata": {},
   "outputs": [],
   "source": []
  },
  {
   "cell_type": "code",
   "execution_count": null,
   "metadata": {},
   "outputs": [],
   "source": []
  }
 ],
 "metadata": {
  "kernelspec": {
   "display_name": "Python 3",
   "language": "python",
   "name": "python3"
  },
  "language_info": {
   "codemirror_mode": {
    "name": "ipython",
    "version": 3
   },
   "file_extension": ".py",
   "mimetype": "text/x-python",
   "name": "python",
   "nbconvert_exporter": "python",
   "pygments_lexer": "ipython3",
   "version": "3.6.5"
  }
 },
 "nbformat": 4,
 "nbformat_minor": 2
}
